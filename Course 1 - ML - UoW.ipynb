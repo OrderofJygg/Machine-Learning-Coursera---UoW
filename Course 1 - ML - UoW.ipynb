{
 "cells": [
  {
   "cell_type": "code",
   "execution_count": 1,
   "metadata": {},
   "outputs": [],
   "source": [
    "import zipfile\n",
    "local_zip = 'home_data.sframe.zip'\n",
    "zip_ref = zipfile.ZipFile(local_zip, 'r')\n",
    "zip_ref.extractall()\n",
    "zip_ref.close()\n",
    "\n",
    "import turicreate\n",
    "from turicreate import SFrame\n",
    "\n",
    "sFrame = turicreate.SFrame('home_data.sframe')"
   ]
  },
  {
   "cell_type": "code",
   "execution_count": 24,
   "metadata": {},
   "outputs": [
    {
     "name": "stderr",
     "output_type": "stream",
     "text": [
      "/home/avashisth/.local/lib/python3.6/site-packages/turicreate/visualization/_plot.py:461: UserWarning: Displaying only the first 100 rows.\n",
      "  warnings.warn(\"Displaying only the first {} rows.\".format(maximum_rows))\n"
     ]
    },
    {
     "data": {
      "text/html": [
       "<html lang=\"en\">                                                     <head>                                                               <style>                                                              .sframe {                                                            font-size: 12px;                                                   font-family: HelveticaNeue;                                        border: 1px solid silver;                                        }                                                                  .sframe thead th {                                                   background: #F7F7F7;                                               font-family: HelveticaNeue-Medium;                                 font-size: 14px;                                                   line-height: 16.8px;                                               padding-top: 16px;                                                 padding-bottom: 16px;                                              padding-left: 10px;                                                padding-right: 38px;                                               border-top: 1px solid #E9E9E9;                                     border-bottom: 1px solid #E9E9E9;                                  white-space: nowrap;                                               overflow: hidden;                                                  text-overflow:ellipsis;                                            text-align:center;                                                 font-weight:normal;                                              }                                                                  .sframe tbody th {                                                   background: #FFFFFF;                                               text-align:left;                                                   font-weight:normal;                                                border-right: 1px solid #E9E9E9;                                 }                                                                  .sframe td {                                                         background: #FFFFFF;                                               padding-left: 10px;                                                padding-right: 38px;                                               padding-top: 14px;                                                 padding-bottom: 14px;                                              border-bottom: 1px solid #E9E9E9;                                  max-height: 0px;                                                   transition: max-height 5s ease-out;                                vertical-align: middle;                                            font-family: HelveticaNeue;                                        font-size: 12px;                                                   line-height: 16.8px;                                               background: #FFFFFF;                                             }                                                                  .sframe tr {                                                         padding-left: 10px;                                                padding-right: 38px;                                               padding-top: 14px;                                                 padding-bottom: 14px;                                              border-bottom: 1px solid #E9E9E9;                                  max-height: 0px;                                                   transition: max-height 5s ease-out;                                vertical-align: middle;                                            font-family: HelveticaNeue;                                        font-size: 12px;                                                   line-height: 16.8px;                                               background: #FFFFFF;                                             }                                                                  .sframe tr:hover {                                                   background: silver;                                              },                                                               </style>                                                         </head>                                                            <body>                                                               <h1>  </h1>                                             <table border=\"1\" class=\"dataframe sframe\">\n",
       "  <thead>\n",
       "    <tr style=\"text-align: right;\">\n",
       "      <th></th>\n",
       "      <th>URI</th>\n",
       "      <th>name</th>\n",
       "      <th>text</th>\n",
       "    </tr>\n",
       "  </thead>\n",
       "  <tbody>\n",
       "    <tr>\n",
       "      <th>0</th>\n",
       "      <td><http://dbpedia.org/resource/Digby_Morrell></td>\n",
       "      <td>Digby Morrell</td>\n",
       "      <td>digby morrell born 10 october 1979 is a former australian rules footballer who played with the kangaroos and carlton in the australian football league aflfrom western australia morrell played his early senior football for west perth his 44game senior career for the falcons spanned 19982000 and he was the clubs leading goalkicker in 2000 at the age of 21 morrell was recruited to the australian football league by the kangaroos football club with its third round selection in the 2001 afl rookie draft as a forward he twice kicked five goals during his time with the kangaroos the first was in a losing cause against sydney in 2002 and the other the following season in a drawn game against brisbaneafter the 2003 season morrell was traded along with david teague to the carlton football club in exchange for corey mckernan he played 32 games for the blues before being delisted at the end of 2005 he continued to play victorian football league vfl football with the northern bullants carltons vflaffiliate in 2006 and acted as playing assistant coach in 2007 in 2008 he shifted to the box hill hawks before retiring from playing at the end of the season from 2009 until 2013 morrell was the senior coach of the strathmore football club in the essendon district football league leading the club to the 2011 premier division premiership since 2014 he has coached the west coburg football club also in the edflhe currently teaches physical education at parade college in melbourne</td>\n",
       "    </tr>\n",
       "    <tr>\n",
       "      <th>1</th>\n",
       "      <td><http://dbpedia.org/resource/Alfred_J._Lewy></td>\n",
       "      <td>Alfred J. Lewy</td>\n",
       "      <td>alfred j lewy aka sandy lewy graduated from university of chicago in 1973 after studying psychiatry pharmacology and ophthalmology he is a full professor and vicechair of the department of psychiatry at ohsu oregon health science university and holds an md and phd prior to moving to oregon in 1981 lewy was at the national institute of mental health nimh in bethesda maryland working with senior colleague thomas wehr in oregon he has worked closely with robert l sack as of december 2005 he had 94 publications available on pubmed he describes his research as follows my laboratory studies chronobiologic sleep and mood disorders these disorders include winter depression jet lag maladaptation to shift work and certain types of sleep disturbances relying on a very precise assay for plasma melatonin a hormone that has a clearly defined 24hour pattern of secretion biological rhythm disorders can be assessed and their treatment can be monitored current research is focused on developing bright light exposure and melatonin administration as treatment modalities for these disorders treatment must be precisely scheduled morning light exposure and evening melatonin administration cause circadian phaseadvance shifts evening light exposure and morning melatonin administration cause circadian phasedelay shifts totally blind individuals have 25hour circadian rhythms drifting an hour later each day unless they take a melatonin capsule at a certain time every day</td>\n",
       "    </tr>\n",
       "    <tr>\n",
       "      <th>2</th>\n",
       "      <td><http://dbpedia.org/resource/Harpdog_Brown></td>\n",
       "      <td>Harpdog Brown</td>\n",
       "      <td>harpdog brown is a singer and harmonica player who has been active in canadas blues scene since 1982 hailing from vancouver he crossed tens of thousands of miles playing club dates and festivals in canada the northwestern united states and germanyover the years he has issued seven cds in 1995 his home is where the harp is won the muddy award for the best nw blues release from the cascade blues association in portland oregon as well that year it was nominated for a canadian juno for the best bluesgospel recording teamed up with graham guest on piano his cd naturally was voted 1 canadian blues album of 2010 by the blind lemon surveybrown tours extensively with his guitarist j arthur edmonds performing their electric mid1950s chicago blues either as a duo or with the full band while he is home he juggles a few combos working many venues big and small he also leads the harpdog brown band which is a gutsy traditional chicago blues band in 2014 they released what it is comprising mainly original songs and a few classic covers influential blues promoter and broadcaster holger petersen called what it is browns best albumhe was just awarded the maple blues award in toronto for best harmonica player in canada 2014 and was honored with a life time membership to the hamilton blues society</td>\n",
       "    </tr>\n",
       "    <tr>\n",
       "      <th>3</th>\n",
       "      <td><http://dbpedia.org/resource/Franz_Rottensteiner></td>\n",
       "      <td>Franz Rottensteiner</td>\n",
       "      <td>franz rottensteiner born in waidmannsfeld lower austria austria on 18 january 1942 is an austrian publisher and critic in the fields of science fiction and the fantasticrottensteiner studied journalism english and history at the university of vienna receiving his doctorate in 1969 he served about fifteen years as librarian and editor at the sterreichisches institut fr bauforschung in vienna in addition he produced a number of translations into german of leading sf authors including herbert w franke stanislaw lem philip k dick kobo abe cordwainer smith brian w aldiss and the strugatski brothersin 1973 his new york anthology view from another shore of european science fiction introduced a number of continental authors to the englishreading public some of the authors in the work are stanislaw lem josef nesvadba gerard klein and jeanpierre andrevonthe year 1975 saw the start of his series die phantastischen romane for seven years it republished works of both lesser and betterknown writers as well as new ones ending with a total of 28 volumes in the years 19791985 he brought out trnaslations of h g wellss works in an eighteen volumes seriesrottensteiner provoked some controversy with his negative assessment of american science fiction what matters is the highest achievements and there the us has yet to produce a figure comparable to hg wells olaf stapledon karel apek or stanisaw lem rottensteiner describedroger zelazny barry n malzberg and robert silverberg as producing travesties of fiction and stated asimov is a typical nonwriter and heinlein and andersonare just banal however rottensteiner praised philip k dick listing him as one of the greatest sf writers from 1980 through 1998 he was advisor for suhrkamp verlags phantastische bibliothek which brought out some three hundred books in all he has edited about fifty anthologies produced two illustrated books the science fiction book 1975 und the fantasy book 1978 as well as working on numerous reference works on science fiction his close association with and promotion of lem until 1995 was a factor in the recognition of the latter in the united statesrottensteiner has been the editor of quarber merkur the leading german language critical journal of science fiction since 1963 in 2004 on the occasion of the hundredth number of this journal he was awarded a special kurdlawitzpreis</td>\n",
       "    </tr>\n",
       "    <tr>\n",
       "      <th>4</th>\n",
       "      <td><http://dbpedia.org/resource/G-Enka></td>\n",
       "      <td>G-Enka</td>\n",
       "      <td>henry krvits born 30 december 1974 in tallinn better known by his stagename genka is an estonian rapper and record producergenka started rapping in 1996 along with revo and dj paul oja who was genkas schoolmate together they started a band called toe tag their first album the real kuhnja homophobes was released next year in 1998 genka and revo joined another estonian rap group arhm and toe tag went on vacation also genka started making his own solo songs the most famous hit was tallinn which was rapped along with droopy in 2001 during the same year toe tag came back together and started a big estonian tour in 2004 toe tag released their second studio album legendaarne legendary which consisted of 18 songs the most famous songs from the album were legendaarne and pankrot bankruptcy in 2006 genka and arhm released their new album leegion which had 23 songs the most famous songs from this album were palmisaar palm island and tugitooli gangster armchair gangstergenka and dj paul oja started their own record company legendaarne records also genka and arhm were the warmup performers for 50 cent on his 2007 europe promo tour for the curtis album in tallinn</td>\n",
       "    </tr>\n",
       "    <tr>\n",
       "      <th>5</th>\n",
       "      <td><http://dbpedia.org/resource/Sam_Henderson></td>\n",
       "      <td>Sam Henderson</td>\n",
       "      <td>sam henderson born october 18 1969 is an american cartoonist writer and expert on american comedy historyhenderson was born in woodstock new york he attended boiceville new yorks onteora high school graduating in 1987 and the school of visual arts in new york city where he graduated in 1991henderson has been selfpublishing xeroxed minicomics since 1980 in the midtolate 1980s he drew and published a comic called captain spaz with his friend bobby weiss the series ended in 1988 as he was busy in college in college he drew a series of minicomics featuring a character known as monroe simmons in 1993 he began selfpublishing his bestknown title the magic whistle now published by alternative comics also in 1993 he began the wordless comic strip scene but not heard starring a pink man and a red bear in nickelodeon magazine it was the magazines longestrunning comic strip a collection is due out in 2010in their review of magic whistle bigger larger and bigger the san antonio expressnews wrote that hendersons crude blobby little scratchings are some of the funniest junk being turned out henderson was nominated for the harvey awards special award for humor every year from 19992004in 2003 hendersons writing and storyboard directing work on spongebob squarepants earned him a nomination for best animated program for programming less than one hour in the 55th emmy awardshis earliest comic which was reprinted in magic whistle number 4 contained 5009 toilets 5009 penises sic and 5009 asses henderson currently lives in his hometown of woodstock new yorksince march 2010 hendersons comic magic whistle has been published weekly in niblit comics journal</td>\n",
       "    </tr>\n",
       "    <tr>\n",
       "      <th>6</th>\n",
       "      <td><http://dbpedia.org/resource/Aaron_LaCrate></td>\n",
       "      <td>Aaron LaCrate</td>\n",
       "      <td>aaron lacrate is an american music producer recording artist dj fashion designer of milkcrate records and milkcrate clothing and a film director he was born in baltimore maryland and grew up in highlandtown east baltimoreaaron lacrate is credited for popularizing baltimore music and culture on a world wide level via his music and clothing in 2009 aaron lacrate produced the first ever baltimore club platinum record for pop star dizzee rascals song road ragehbo commissioned milkcrate athletics and aaron lacrate to create the official fashion range for the baltimore based cable television series the wire this was first time that hbo collaborated with a streetwear fashion designer milkcrate athletics is baltimores first original streetwear brandaaron lacrate productions is credited for the early success of lily allen amanda blank spank rock mndr eliza doolittleat the age of 10 lacrate began experimenting with diy culture lacrate began djing at baltimore nightclubs house parties writing graffiti and even started making custom tshirts his first studio was in his basement where he created mixtapes and tshirts sold throughout baltimore lacrate was the youngest working dj in baltimore prior to attending syracuse university where he took over the campus music scene he spent his summers in new york city interning for def jam recordings payday and rocafella records helping launch jayzs classic reasonable doubt lacrate also played a vital role in the hard knock life tour and later produced the exclusive jay z x milkcrate fade to black collaboration tshirtin 1999 aaron lacrate and milkcrate athletics sponsored a highly successful series of live shows at nyc nightclub tramps featuring eminems first nyc show tribe called quest rakim slick ricks first show upon being released from prison outkast wutang clan epmd ultramagnetic mcs and many other historical performanceslacrate has produced and remixed official major label commissioned music for madonna gorillaz soulja boy tell em dizzee rascal young mc lily allen and the cool kids tracks from lacrates album bmore gutter music released in 2005 was used by marc jacobs in a fashion showlacrate has toured with lily allen mark ronson dizzee rascal rakim and most recently kanye west aaron has developed exclusive specialedition fashion collaborations with vans colette paris rakim hbo the wire jayz and cashmere king lucien pellatfinet lacrate has also collaborated with cocacola hbo delicious vinyl dazed confused and ferrariwhich ferrari his music has been featured on hbo the wire entourage life support dj hero videogame and on the soundtrack to observe and report starring seth rogenrecently lacrate released the first bmore major label record bmore club crack which features mr vegas eliza doolittle and local baltimore gutter artists including mz streamz and verb</td>\n",
       "    </tr>\n",
       "    <tr>\n",
       "      <th>7</th>\n",
       "      <td><http://dbpedia.org/resource/Trevor_Ferguson></td>\n",
       "      <td>Trevor Ferguson</td>\n",
       "      <td>trevor ferguson aka john farrow born 11 november 1947 is a canadian novelist who lives in hudson quebec he is the author of nine novels and four plays he has been called canadas best novelist both in books in canada and the toronto starborn in seaforth huron county ontario in 1947 he was raised in montreal from the age of three in his midteens he gravitated towards canadas northwest where he worked on railway gangs and also began to write working at night in the bunkhousesin his early twenties he travelled and worked throughout europe and the united states before returning to montreal to write he settled into driving a taxi by night and writing by day until the publication of his first novel high water chants in 1977 which dennis lee called one of the best in the language his second novel onyx john in 1985 received arguably the highest critical acclaim in the history of canadian literature leon rooke called it one of the five best novels of the twentieth century sixteen years later the novel would become a bestseller in france indeed his work is highly regarded in france where hes often cited as being one of the worlds preeminent writersextraordinary praise also awaited the publication of his third novel the kinkajou the timekeeper won the hugh maclennan prize for fiction and was developed into a film 1 a ninth novel river city was published in 2011 and the paperback at 1000 pages in 2012 the option for it to be a miniseries has been agreed upon as of november 2013 trevor fergusons next novel will be the river burns published by simon and schuster in april 2014city of ice written under the penname john farrow has been published in 17 countries the vancouver sun called the book the best ever produced in canada in genre fiction the second in the series ice lake caused the new york library journal booklist to claim that the series is among the very best in crime fiction today die ziet a major cultural newspaper in germany declared the series the best of all time river city was the third of the three and was equally well received a new trilogy of john farrow crime novels the storm murders has been sold to thomas dunne booksst martins press in new york the first will appear in 2015in 2002 trevor fergusons first play long long short long was produced by infinitheatre dir guy sprung in montreal and has become the first english play in history to be nominated by lacadmie qubcoise du theatre for a masque award for best text it returned to the stage in french in the fall of 2005 at place des arts in montreal and was seen by more than 20000 people his second play beach house burnt sienna was chosen to commemorate the tenth anniversary of village theatre west in hudson in 2002 coproduced with infinitheatre dir guy sprung it enjoyed a highly successful run a third play barnacle wood was produced in montreal also by infinitheatre in march 2004 his fourth play zarathustra said some things no opens with the bridge theatre company at studio 54 in new york city in april 2006 ferguson is a past chair of the writers union of canada he has been a writerinresidence at the university of alberta an invit dhonneur at the salon des livres in montreal and he was among the quebec authors invited as special guests of the paris book fair in 1999 in 2002 he was one of the few canadian writers invited to the festival of the americas in paris also in 2002 he served on the faculty of the may writers studio at the banff centre for the arts he frequently teaches creative writing at concordia university</td>\n",
       "    </tr>\n",
       "    <tr>\n",
       "      <th>8</th>\n",
       "      <td><http://dbpedia.org/resource/Grant_Nelson></td>\n",
       "      <td>Grant Nelson</td>\n",
       "      <td>grant nelson born 27 april 1971 in london also known as wishdokta bump flex and nng is an english dj remixer and record producernelson is heralded as one of the godfathers of uk garage due to his numerous club hits on his nice n ripe record label in the early 1990s it was his sound along with a few others that gave birth to the then known as sunday scene which evolved into uk garagehe also produced under the name wishdokta from 19901993 when he was producing breakbeat hardcoredrum and bass for the legendary london label kickin records in 1993 wishdokta teamed up with dj vibes and together they delivered some of happy hardcores biggest anthems on vibes asylum music inc and other labels including happy traxin 1997 nelson started using the alterego bump flex and began to produce uk 2step he delivered some of the scenes biggest records including funk on ah roll by james brown nelson has always remained a house head since his early nice n ripe days and continues to do so to the present with his swing city records label that consistently delivers top drawer house musicsome of the artists nelson has remixed and worked with include kelis jodeci misteeq aaliyah james brown the artful dodger jamiroquai lutricia mcneal thelma houston another level goldie roy ayers guy rosie gaines juliet roberts liberty x towa tei evelyn champagne king bebel gilberto negrocan beverley knight brand new heavies faithless simply red frankie knuckles and agnes</td>\n",
       "    </tr>\n",
       "    <tr>\n",
       "      <th>9</th>\n",
       "      <td><http://dbpedia.org/resource/Cathy_Caruth></td>\n",
       "      <td>Cathy Caruth</td>\n",
       "      <td>cathy caruth born 1955 is frank h t rhodes professor of humane letters at cornell university and is appointed in the departments of english and comparative literature she taught previously at yale and at emory university where she helped build the department of comparative literature she received her phd from yale university in 1988 and is the author of empirical truths and critical fictions locke wordsworth kant freud johns hopkins up 1991 unclaimed experience trauma narrative and history johns hopkins up 1996 literature in the ashes of history johns hopkins up 2013 and listening to trauma conversations with leaders in the theory and treatment of catastrophic experience johns hopkins up forthcoming 2014 she is also editor of trauma explorations in memory johns hopkins up 1995 and coeditor with deborash esch of critical encounters reference and responsibility in deconstructive writing rutgers university press 1995 robert jay lifton md describes her as one of the most innovative scholars on what we call trauma and on our ways of perceiving and conceptualizing that still mysterious phenomenon for a good discussion of both caruths work on trauma theory see roger luckhurst the trauma question and shoshana felman the juridical unconscious trials and traumas in the twentieth century harvard university press 2002 pp 173182 n3</td>\n",
       "    </tr>\n",
       "    <tr>\n",
       "      <th>10</th>\n",
       "      <td><http://dbpedia.org/resource/Sophie_Crumb></td>\n",
       "      <td>Sophie Crumb</td>\n",
       "      <td>sophia violet sophie crumb born september 27 1981 is an americanfrench comics artist she is the daughter of underground comix artists robert crumb and aline kominskycrumbcrumb was born in woodland california and lived in the nearby farming town of winters with her parents until she was nine years old in 1991 she relocated with her family to sauve a village in southern france her parents reported that they wanted to remove her from the political conservatives and christian fundamentalists of the united states in a 2010 interview sophie told the philadelphia inquirer that her mother was afraid sophie would turn into a valley girlit was after this relocation that terry zwigoff released crumb 1994 a critically acclaimed documentary film about sophies father and their family zwigoff later commissioned sophie to prepare some original drawings for inclusion in his 2001 comedydrama ghost world an adaptation of daniel clowes comics serial of the same nameafter completing her secondary education in france crumb studied acrobatics and clowning at a french circus school while living in brooklyn in the mid2000s she sold her comics on the street and apprenticed herself to a tattoo artist at another stage she earned a living by teaching english as a foreign languageshe lives in southern france with her husband a construction worker and their son eli who was born in 2009</td>\n",
       "    </tr>\n",
       "    <tr>\n",
       "      <th>11</th>\n",
       "      <td><http://dbpedia.org/resource/Jenn_Ashworth></td>\n",
       "      <td>Jenn Ashworth</td>\n",
       "      <td>jenn ashworth is an english writer she was born in 1982 in preston lancashire she has graduated from cambridge university and the manchester centre for new writing she previously worked as a librarian in a mens prisonshe founded the preston writers network later renamed as the central lancs writing hub and worked as its coordinator until it closed in january 2010 she has also taught creative writing at the centre for new writing at the university of manchester and at the university of central lancashireshe currently runs a literature consultancy called the writing smithy with the poet sarah hymas and works as an editor and mentor there she is also a lecturer in creative writing at the department of english and creative writing at the university of lancasterin march 2011 she was featured as one of the bbc culture shows best 12 new novelistsshe has written short stories and her first novel a kind of intimacy was published in february 2009 it is the story of a lonely woman failing to come to grips with reality unable to relate to others and full of selfdeception it contains strong elements of both comedy and tragedy and eventually violence this novel won a betty trask award in 2010two earlier novels are both unpublished one of them was lost as a result of a computer theft in 2004 however an extract from this lost novel was the winner of the 2003 quillercouch prize for creative writing at cambridge universityashworths 2011 novel cold light aims according to her own account to be dark and funny and odd this novel tells the story of three teenage girls one of whom dies with her boyfriend in suspicious circumstances the novel is set on the tenth anniversary of the death when a memorial summerhouse is built and another body is found a third novel the friday gospels published in january 2013 imagines a lancastrian family welcoming their son home from a twoyear mission for the church of jesus christ of latterday saints lds church jenn ashworth was herself brought up as member of the lds church but left the church in her teens</td>\n",
       "    </tr>\n",
       "    <tr>\n",
       "      <th>12</th>\n",
       "      <td><http://dbpedia.org/resource/Jonathan_Hoefler></td>\n",
       "      <td>Jonathan Hoefler</td>\n",
       "      <td>jonathan hoefler born august 22 1970 is an american typeface designer hoefler pronounced heffler founded the hoefler type foundry in 1989 a type foundry in new york in 1999 hoefler began working with type designer tobias frerejones and from 20052014 the company operated under the name hoefler frerejones until their public splithoefler has designed original typefaces for rolling stone magazine harpers bazaar the new york times magazine sports illustrated and esquire and several institutional clients including the solomon r guggenheim museum and alternative band they might be giants perhaps his bestknown work is the hoefler text family of typefaces designed for apple computer and now appearing as part of the macintosh operating system he also designed the current wordmark of the church of the latterday saintsin 1995 hoefler was named one of the forty most influential designers in america by id magazine and in 2002 the association typographique internationale atypi presented him with its most prestigious award the prix charles peignot for outstanding contributions to type design hoefler and frerejones have been profiled in the new york times time magazine and esquire magazine and appearances on national public radio and cbs sunday morninghoeflers work is part of the cooperhewitt national design museums permanent collection</td>\n",
       "    </tr>\n",
       "    <tr>\n",
       "      <th>13</th>\n",
       "      <td><http://dbpedia.org/resource/Anthony_Gueterbock,_18th_Baron_Berkeley></td>\n",
       "      <td>Anthony Gueterbock, 18th Baron Berkeley</td>\n",
       "      <td>anthony fitzhardinge gueterbock 18th baron berkeley and baron gueterbock obe ceng mice hon fimeche hon dsc frsa fcit born 20 september 1939 also known as tony berkeley is a british labour politician he is both an english hereditary peer and a life peerafter being educated at eton college gueterbock went up to trinity college cambridge where he graduated ma he then embarked upon a career in civil engineering joining george wimpey plc where he worked as an engineer until 1985 for the next ten years he worked as an engineer for eurotunnel 8595gueterbock inherited his ancestors ancient title of baron berkeley in 1992 succeeding his aunt mary foleyberkeley 17th baroness berkeley berkeley was created a life peer too in 2000 as baron gueterbock of cranford in the london borough of hillingdon so as to remain sitting as a labour peer in the house of lords following the removal of hereditary peers automatic right to seats in parliamentsince lord berkeley first entered the house of lords in 1992 he has held the positions of opposition spokesperson for transport 199697 and opposition whip 199697lord berkeley is the secretary of the all party parliamentary cycling group and has asked many questions in the house of lords on transport matters including about bicycles on trains berkeley has also tabled questions about police conduct with regards to civil liberties he has also questioned restrictions on peers being entitled to bring guests into the house of lordshe is chairman of the rail freight group the industry representative body of the rail freight sector and a board member of the european rail freight association he is also a trustee of plymouth marine laboratory he lives in polruan cornwalllord berkeley is president of the uk maritime pilots association and a harbour commissioner of the port of fowey</td>\n",
       "    </tr>\n",
       "    <tr>\n",
       "      <th>14</th>\n",
       "      <td><http://dbpedia.org/resource/David_Chernushenko></td>\n",
       "      <td>David Chernushenko</td>\n",
       "      <td>david chernushenko born june 1963 in calgary alberta is a politician professional speaker sustainability consultant and documentary filmmaker in ontario canada he was elected to ottawa city council in the 2010 municipal election and is running for reelection in 2014 he is the former senior deputy to the leader of the green party of canada and a former leadership contestant for that partya graduate of queens university political science and alumnus of cambridge university international relations chernushenko has worked for the canadian international development agency cida the canadian department of foreign affairs and international trade dfait and the united nations environment programme he has served on committees and boards of local housing and environment groups schools and health advisory bodieschernushenko is a green building professional accredited by the leed leadership in energy and environmental design certification program as owner of the consulting firm green gold inc since 1998 he has advised public private and nonprofit organizations on adopting more sustainable and socially responsible practicesfrom 1998 to 2004 chernushenko served on the international olympic committees commission on sport and the environment he has written several books on sustainable management practices including sustainable sport management unep 2001 and greening our games running sports events facilities that wont cost the earth centurion 1994 and the electronic publication greening campuses and their communities iisdacccunep 1996 in 2001 he cofounded clean air champions a national charity that engages athletes in raising awareness about air pollution climate change and the benefits of physical activity in canada he is a director of the sustainable ottawa energy cooperativehe was the green party candidate for ottawa centre in the 2004 federal election he finished fourth with 4730 votes 8 receiving more votes than any other green candidate in ottawa he ran again in ottawa centre in the 2006 federal election and again came fourth losing to paul dewar from the new democratic party ndp chernushenko received 6766 votes 102 the highest vote count of any green party candidate in canada the 2006 election he passed the 10 threshold thus becoming eligible for partial government reimbursement of campaign expenditures chernushenko was endorsed by the ottawa citizen newspaper in both the 2004 and 2006 elections he also ran as the green party candidate in ottawa south in the 2003 ontario general electionon november 10 2006 prime minister stephen harper appointed chernushenko to canadas national round table on the environment and the economy a nonpartisan panel that advises the federal government on environmental policy and works to promote the integrated pursuit of excellence in environmental social and economic practices in canadas public private and civil society sectors chernushenko served as a member on the nrtee from 2006 to 2009 and served as vicechair in 20082009chernushenko resigned as deputy leader of the green party in july 2007 in order to devote more time to his international consulting business and the nrtee and to make documentary films since then he has launched the living lightly multimedia project and produced three documentaries titled be the change 2008 powerful energy for everyone 2010 and bike city great city 2013chernushenko ran as city councillor for capital ward in the 2010 ottawa municipal election he won with 4134 of the vote he is running for reelection in 2014</td>\n",
       "    </tr>\n",
       "    <tr>\n",
       "      <th>15</th>\n",
       "      <td><http://dbpedia.org/resource/Joerg_Steineck></td>\n",
       "      <td>Joerg Steineck</td>\n",
       "      <td>joerg steineck is a german filmmaker editor and graphic designerartist who is based in berlinduring his study of film and design he produced a few short documentaries and fictional films in his films he often explores subcultures such as underground music genres and people who exist parallel to or on the edge of societyhe seeks to tell common but nevertheless extraordinary stories and generate unique audiovisual atmospheres steineck also works as a graphic artist and illustrator in his 84minute feature documentary truckfighters he combines creative elements to tell the story about a common swedish rock band in a most unconventional way truckfighters fuzzomentary attracted media attention due to guest appearances of well known musicians and bands including josh homme and fu manchu the release of his music documentary lo sound desert is set for 2012 trailers for this film are available on the internet since 2006 and have attracted attention of fans of the musical genre desert or stoner rock which is also a main topic in truckfighters steineck started his creative development with drawing painting and photographing during his childhood he shot his first film in the age of thirteen with a friends vhs camera steineck also contributes musical content from time to time to his electronic music project the gap influence</td>\n",
       "    </tr>\n",
       "    <tr>\n",
       "      <th>16</th>\n",
       "      <td><http://dbpedia.org/resource/Andrew_Pinsent></td>\n",
       "      <td>Andrew Pinsent</td>\n",
       "      <td>fr andrew pinsent born 19 august 1966 is research director of the ian ramsey centre for science and religion at oxford university a member of the theology faculty a research fellow of harris manchester college and a catholic priest of the diocese of arundel and brighton in england a focus of his present research is the application of insights from autism and social cognition to secondperson accounts of moral perception and character formation his previous scientific research contributed to the delphi experiment at cern and he is a coauthor of thirtyone publications of the collaborationfr pinsent has a first class degree in physics and a dphil in high energy physics from merton college oxford three degrees in philosophy and theology from the pontifical gregorian university in rome and a further phd in philosophy from saint louis university he is also a member of the united kingdom institute of physics and a tutor of the maryvale institute in birmingham he has been interviewed for various media including the bbc and ewtn on issues of science and faith he has also written for the catholic herald who identified him as a prominent young catholic his most recent book is the secondperson perspective in aquinass ethics virtues and gifts routledge 2012 besides academic publications he is a coauthor of the evangelium catechetical course and the credo apologia and lumen pocket books</td>\n",
       "    </tr>\n",
       "    <tr>\n",
       "      <th>17</th>\n",
       "      <td><http://dbpedia.org/resource/Paddy_Dunne_(Gaelic_footballer)></td>\n",
       "      <td>Paddy Dunne (Gaelic footballer)</td>\n",
       "      <td>paddy dunne was a gaelic football player from park in county laoishe played for many years on the laois senior football team in the centre half back position and was widely regarded as one of the outstanding players in ireland of the 1950swith his club park he was captain as they won two laois senior football championship titles in 1952 and 1953called up the laois team in 1949 following outstanding performances for his club park paddy was centre back on the laois team who were narrowly beaten by meath in the 1951 leinster football final he would still be there in his famous no 6 jersey when laois suffered another agonising defeat in the 1959 leinster football finalhe also played for his province leinster winning three consecutive railway cup medals in 1952 1953 and 1954 all on the field of play only one other laois player colm browne has managed to emulate this featdunne played for the rest of ireland xv in 1953 and 1954 he retired from all football following the 59 leinster final due to a recurring back problema lasting tribute to dunnes greatness in the famous blue white jersey was his selection at centre half back on the laois team of the millennium which was selected a few years backin 2008 dunne was selected to be inducted into the laois gaa hall of fame</td>\n",
       "    </tr>\n",
       "    <tr>\n",
       "      <th>18</th>\n",
       "      <td><http://dbpedia.org/resource/Alexandros_Mouzas></td>\n",
       "      <td>Alexandros Mouzas</td>\n",
       "      <td>alexandros mouzas born 1962 is a greek composer he studied composition with theodore antoniou advanced theory with haris xanthoudakis and electronic music with dimitris kamarotos he has composed for various ensembles and has received commissions from organizations and orchestrashe has collaborated with the choreographer konstantinos michos and the lathos kinissi dance group in many productions among them trisha never left home days of vironas papageno and calamity till the dawn and with airesis dance companyhis professional activities include imagerelated music he has written original music for short films television series documentaries and commercials for most of the greek television channelshe was the artistic director of the greek section of the european programme new media edge project 2003in 2004 he composed under commission by the athens 2004 organizing committee original music for the athens olympic games corporate videos his recent professional activities include production management of various important cd releases of greek orchestral music he is the manager and founding member of the ergon ensemblehe runs his own production company anax cultural projects he teaches music technology and film music at top schools in athenssince 1998 he has been a member of the board of directors of the greek composers unionnaxos music label released the cd with orchestral works titled music for an imaginary film performed by the sofia philharmonic orchestra</td>\n",
       "    </tr>\n",
       "    <tr>\n",
       "      <th>19</th>\n",
       "      <td><http://dbpedia.org/resource/John_Angus_Campbell></td>\n",
       "      <td>John Angus Campbell</td>\n",
       "      <td>john angus campbell born march 10 1942 in portland oregon usa is a retired american professor of rhetoric and is a fellow of the center for science and culture a branch of the discovery institute a conservative christian think tank and of the international society for complexity information and design a professional society dedicated to the promotion of intelligent designcampbell served as an assistant and associate professor of communications at the university of washington from 19681995 and as a professor of communications at the university of memphis from 1995 until his retirement in 2005 together with stephen c meyer who is also a fellow of the center for science and culture he edited darwinism design and public education a collection of articles from the journal rhetoric and public affairscampbell was slated to appear as a witness for the defense in the kitzmiller v dover area school district trial but withdrew on june 2 2005 the day of his scheduled depositionin 2007 campbell ran for a seat on the school board in north mason county washington he offered his services to restore trust and establish transparency but did not disclose his links to intelligent design in a telephone interview he stated that he would not be dealing with curricula and that he is a darwinist who considers that debating darwin can engage the interest of students and improve their skills in critical thinking he was quoted as saying rather than demonizing people that believe in id i think there are ways people could use their ideas to study darwinism more closely the election was held on november 6 2007 and the unofficial results showed john campbell defeating the incumbent glenn landram by 2996 votes 6806 to 1406 3194 he currently serves on the schoolboard</td>\n",
       "    </tr>\n",
       "    <tr>\n",
       "      <th>20</th>\n",
       "      <td><http://dbpedia.org/resource/Chris_Batstone></td>\n",
       "      <td>Chris Batstone</td>\n",
       "      <td>chris batstone was the 20002002 lead singer of the thirdwave ska band suburban legends he joined the band in 2000 as the replacement for tim maurer who had left the band after the recording of origin edition chris first and only official recording with the band was on their first ep suburban legends released in 2001 chris has credits for cowriting the song i want more and desperate found on the ephe left the band in early 2002 reportedly he became increasingly dissatisfied with the direction the band was taking and decided to pursue other musical directions and an acting careerhe was replaced by tim maurer who rejoined the band in 2002 as the lead singer the band then rerecorded the vocal tracks on their selftitled ep with tim to create suburban legends tim remixchris batstone also recorded songs with the band on various compilations he can be found singing all the nights on supporting the scene compilation gummi bears on because we care a benefit for the childrens hospital of orange county compilation he produced and performed on suburban legends cover of rose tint my world singing along with aaron bertram dallas cook and vince walker on an unreleased tribute albumchris can also be seen in the video for i want more</td>\n",
       "    </tr>\n",
       "    <tr>\n",
       "      <th>21</th>\n",
       "      <td><http://dbpedia.org/resource/Ceiron_Thomas></td>\n",
       "      <td>Ceiron Thomas</td>\n",
       "      <td>ceiron thomas born 23 october 1983 is a welsh rugby union footballer currently playing for st ives rfc after signing from the cornish pirates in june 2012 his previous clubs are leeds carnegie and the scarlets his regular position is at flyhalf though he is often played at fullbackthomas began his rugby career with the llanellibased scarlets and made his debut for the region in 2003 when he played in a friendly against the slovenia national team llanelli won the game 950 scoring 14 tries with thomas converting eleven of them he also scored one penalty bringing his points total for the game to 25 in the 200304 season thomas made five appearances for llanelli including three in the 200304 celtic leaguehowever thomas did not play for the regional side again until april 2005 almost 18 months after his last appearance he made three more appearances in the 200405 season before falling out of favour and not making another appearance until april 2006 again he only made two more appearances in the 200506 season but managed to hold down a place in the side for the 200607 magners league sharing duties at fullback with barry davies and morgan stoddart he made 25 appearances that season and scored 110 pointsthomas began the 200708 magners league as the scarlets starting flyhalf while regular number 10 stephen jones was on wales duty at the 2007 rugby world cup in france but lost the berth to rival flyhalf rhys priestland before jones return in the 200809 magners league thomas spent much of his time on the bench playing secondfiddle to jones and priestland at flyhalf and the majority of his playing time was spent in other positions including two starts on the wing in december 2008 thomas only made six appearances for the scarlets in 2009 resulting in a transfer to leeds carnegie in june 2009</td>\n",
       "    </tr>\n",
       "    <tr>\n",
       "      <th>22</th>\n",
       "      <td><http://dbpedia.org/resource/Adel_Sellimi></td>\n",
       "      <td>Adel Sellimi</td>\n",
       "      <td>adel sellimi arabic was born on 16 november 1972 in the bab jedid district of tunis as a child he drew inspiration from the 1978 world cup team who became the first african nation to win a world cup match at the age of 10 he joined his first club club africain of tunis and he stayed there for the next 14 years picking up two tunisian league titles and one tunisia cup along the wayhis quick pace strength on the ball and creativity earned him a callup to the national team and he earned his first cap in september 1993 during a match against germany following a promising performance he carved out a virtually permanent place for himself in the countrys national team for the next eleven yearstunisians grew to appreciate his discretion in life outside football as a modest and determined professional on the pitch he singularly distinguished himself at international level during the 1996 african cup of nations finals in south africa as one of the best players of the tournament sellimi became a household name throughout the country a skillful and talented bright spark who carried the team to the final of the tournament for the second time in their history sellimi struck twice in the semifinal against zambia and was widely considered one of the best players in the tournamentthis movement into the limelight earned the player a transfer to french ligue 1 side fc nantes atlantique following another impressive showing at the 1996 olympic games in atlanta but his move to france marked the start of a long barren period although the nantes fans dubbed him the lung on account of the distance he clocked up during matches he never really settled in at his new club he hit just two goals in 30 appearances in his first season and failed to achieve the kind of success he had enjoyed back home in tunisia after another disappointing season in 199798 sellimi left nantes for spanish second division side real jan it was here that he got some firstclass matches under his belt and finally found form this surge in form earned him a callup to the 1998 world cup squad where he put in steady performances against england and romaniabundesliga side freiburg took a gamble on sellimi and partnered the player with other tunisian internationals anchorman zoubeir baya and fellow striker mehdi benslimane but here too he took a long time finding his true form and many at freiburg considered him a mistaken purchase during his first year however he proved his detractors wrong in the best possible way in the 19992000 season sellimi just could not stop scoring goals and even headed the bundesligas goalscoring list going into the winter breaka disappointing 2001 lead to sellimi missing out on the 2002 african cup of nations in mali and a number of international friendlies after a fallout with former national coach henri michel but the frenchmans replacement with ammar souayah coupled with the national teams goal drought brought about his recall the 2002 world cup in korea and japan turned out to be adel sellimis swansong in premier football competitions and he retired from international football shortly after the tournament at the age of 31 he returned to club africain shortly afterwards and is now head coach of jendouba sport in tunisia recently gaining promotion to ligue 1</td>\n",
       "    </tr>\n",
       "    <tr>\n",
       "      <th>23</th>\n",
       "      <td><http://dbpedia.org/resource/Faith_Soloway></td>\n",
       "      <td>Faith Soloway</td>\n",
       "      <td>faith soloway born march 28 1964 is an american folkrock musician comedic performer and creator of several folkrock musicals based in the boston area she studied theater at indiana university and performed improv comedy regularly along with leaving school to tour with second city she spent three years as music director for second city which led to the creation of soloways first original musical the real life brady bunch the show which premiered in 1990 was a collaboration with her sister jill soloway and it toured across the country both soloway sisters moved to hollywood briefly to produce television shows but faith soloway decided she was not interested in television work and in 1994 moved to cambridge massachusetts to pursue a songwriting careerafter performing at open mike nights as a solo musician soloway began producing a series of rock operas that were performed at club passim she started with the minimalist the principal and the potter which was followed by miss folk america which featured what became one of soloways signature songs queer in revere and debbie does falcon ridge both of which parodied the folk scene in 2000 soloway produced miss folk america at the somerville theater a larger venue this was followed by jesus has two mommies the title refers to the controversial childrens book heather has two mommies which featured such notable boston folk musicians as catie curtis and jennifer kimballsoloway also works at charles river creative arts program in dover massachusetts in the summer in the theater and music departments for the camp she has written the musicals harrie norbert beany is action man and hamletta with tom evans soloways lone solo album training wheels features her song lesbo song which is at once a statement of her sexuality and a tweaking of the earnest humorless stereotype of womens music her song sisters boyfriend was featured on the respond compilation a benefit for domestic violence causes she continues to perform with her band the faith soloway crisissoloways expartner writer harlyn aizley wrote a book entitled buying dad about the couples efforts to conceive a child via artificial insemination their daughter betsy was born in 2002 soloway wrote an essay betsy loves bobbies that will appear in a forthcoming anthology edited by aizley the other mother tales from the lesbian homefront or nonbiological mothers tell all after the couple separated soloway started work on a new show journey to the self one womans self journey her new partner carol rosenthal is very active in hollywood</td>\n",
       "    </tr>\n",
       "    <tr>\n",
       "      <th>24</th>\n",
       "      <td><http://dbpedia.org/resource/Tom_Jennings></td>\n",
       "      <td>Tom Jennings</td>\n",
       "      <td>tom jennings born 1955 as thomas daniel jennings in boston massachusetts is a los angelesbased artist and technician he is the creator of fidonet the first message and file networking system for bbses originally the fidonet protocols were implemented in a program named fido authored by jennings but they were ultimately implemented by other authors in other software to create a network using a multiplicity of platformsaside from creating the most influential protocol for networking computer bulletin boards jennings built wired magazines first internet presence wrote the portable bios that led to phoenix technologies bios ran an early regional internet service provider the little garden later incorporated as tlgnet inc and maintains an informal archive of cold war science and technologywhile he lived in san francisco from 1988 until 1991 jennings was the publisher and coeditor with deke nihilson of homocore one of the earliest queercore zines the name came from the pages of jds zine and featured musicians and writers such as the apostles steve abbott donna dresch larry livermore daniel nicoletta and gb jones the editors other activities such as organizing homocore shows where bands such as fugazi and beat happening appeared and writing for and creating other publications were instrumental in popularizing the queercore movement particularly on the west coast deke also performed in films such as the yoyo gang and had his own queercore band comrade in arms internationally homocore zine throughout its eight including the rarely seen issue 512 issues along with jds was influential in the rise of queercore as the zines found their way into the hands of queer punk kids across north america south america and europejennings currently resides in los angeles california with his partner josh stehlik he is faculty at calarts arttechnology program and also works as a technician at the university of california irvines arts computation engineering graduate program</td>\n",
       "    </tr>\n",
       "    <tr>\n",
       "      <th>25</th>\n",
       "      <td><http://dbpedia.org/resource/Vic_Stasiuk></td>\n",
       "      <td>Vic Stasiuk</td>\n",
       "      <td>victor john stasiuk born may 23 1929 is a retired canadian professional ice hockey left winger and a former nhl head coach stasiuk played junior hockey in his native lethbridge alberta before signing with the chicago black hawks he played sparingly in chicago and he was traded to the detroit red wings in 1951 for much of the early portion of his career stasiuk was viewed as a physical defensiveoriented forward on the offensiverich red wings stasiuk was often the odd man out and he spent significant time toiling in the minors with the indianapolis capitals and the edmonton flyers he won the stanley cup in 1952 and 1953 however in 1954 although stasiuk played 42 regular season games for detroit because he spent the playoffs in the minors his name was left off the stanley cup after the wings captured the league crown1in 1955 stasiuk was traded to the boston bruins and found instant chemistry with johnny bucyk and bronco horvath a grouping dubbed the uke line because of the ukrainian ancestry of the three players in 195758 this line became the first in nhl history to have all three participants reach the 20 goal mark now a formidable twoway presence stasiuk scored a career high 68 points in 1960 in 1961 he was traded back to detroit playing with this club until 1963 before finishing his career in the minors he played for the chicago black hawks detroit red wings and boston bruins he recorded 183 goals and 254 assists in 745 nhl games2 after retiring stasiuk moved to coaching he took over the pittsburgh hornets of the american hockey league for two seasons and later led the same leagues quebec aces to backtoback difficult losses in the calder cup finals stasiuk then earned a job with the philadelphia flyers his team finished out of the playoffs by a single point in 196970 then were eliminated in the first round of the postseason the next year stasiuk was fired after the 197071 season the flyers offered him a scouting position but he took a head coaching job three games into the nhl season with the california golden seals 3 stasiuk was fired after the season due to a stylistic conflict with management and he then spent one year behind the bench of the vancouver canucks before settling into a career in junior hockey coaching4</td>\n",
       "    </tr>\n",
       "    <tr>\n",
       "      <th>26</th>\n",
       "      <td><http://dbpedia.org/resource/Anthony_Caruana></td>\n",
       "      <td>Anthony Caruana</td>\n",
       "      <td>anthony caruana born 2 january 1968 is a melbourne australia based technology journalist who writes for australian macworld the australian broadcasting commission several titles from next media it wire and many other publications he was the chief editor of the anz section of techtarget from april 2011 to january 2012 where he regularly wrote articles for searchcio au he was also a regular contributor to the age for several yearshe was the founding editor of technology decisions a new technology magazine that launched in october 2012 and focuses on the needs of senior it executives and influencershe made his start as one of the original review team members for pocket pc thoughts before being given an opportunity to write product reviews for apc magazine under editor david flynnin addition to writing about technology caruana has appeared on the australian broadcasting corporations the business as a technology commentator as well as other nationally broadcast news and current affairs shows in australia he is also a regular on raf epsteins drive program on 774 local radio melbourne as part of the geek club segment that is on air every wednesday from 330pmsince early 2011 caruana has been blogging about how to run a successful freelance business at journo advice he regularly speaks at events about this topic and spoke at the melbourne freelance convention in march 2012</td>\n",
       "    </tr>\n",
       "    <tr>\n",
       "      <th>27</th>\n",
       "      <td><http://dbpedia.org/resource/Ian_Mitchell_(author)></td>\n",
       "      <td>Ian Mitchell (author)</td>\n",
       "      <td>ian mitchell is a scottish author who grew up mainly in south africa he is the author of isles of the west a hebridean voyage and isles of the north a voyage to the realms of the norse both books are concerned with apparentlyvirtuous environmental ngos which operate in rural scotland but which in the point of view of the author actually do damage to it mitchell is a critic of bodies like the royal society for the protection of birds and scottish natural heritage and has compared aspects of their behavior to that of the nazismitchell was founder and director of an organisation called people too described by him as an organisation founded to defend rural communities from the imposts of centralized bureaucracymitchell has also written a book called the cost of a reputation about the aldingtontolstoy libel trial which took place in london in 1989 and concerned the claims that a controversial british army operation in may 1945 handed back tens of thousands of cossack and yugoslav refugees from stalin and tito for the most part illegally to the dictators the book mainly concerned the london trial at which mitchell claims lord aldington who had issued the illegal orders in 1945 as staff brigadier perjured himself in this as an exdeputy chairman of the conservative party he was assisted by both the foreign office and the ministry of defensemitchell lived for fifteen years on the hebridean island of islay where he has three children he now lives in moscow where he works as a journalist and has broadcast about books on the voice of russia on april 6 2007 he delivered a lecture seeing scotland historical places and themes at the ele public forum in moscow</td>\n",
       "    </tr>\n",
       "    <tr>\n",
       "      <th>28</th>\n",
       "      <td><http://dbpedia.org/resource/Leon_Hapgood></td>\n",
       "      <td>Leon Hapgood</td>\n",
       "      <td>leon duane hapgood born 7 august 1979is an english amateur footballer he has represented england schoolboyshapgood was born in torquay and began his career as an apprentice with torquay united scoring on his league debut in september 1997 while still an apprentice coming on as a 38th minute substitute for the injured steve mccall in the 30 win at plainmoor against brighton hove albion he turned professional in may 1998 but played only a peripheral role in wes saunders side the following season in june 1999 he was offered a threemonth contract by torquay but was released in august almost immediately teaming up with his former manager kevin hodges on trial at plymouth argyle he signed noncontract terms with the pilgrims but was allowed to join former torquay player sean william joyces bideford on loan in november 1999 on 7 february 2000 he joined conference side yeovil town after failing to break into the plymouth first teamin june 2000 he moved to taunton town managed by former torquay player russell musker playing as a substitute in tauntons 21 fa vase final win over berkhamsted town on 6 may 2001 at villa parkhe subsequently moved to merthyr tydfil in december 2001 at the of that season he moved to the united states to work as a coach returning to the uk to play for taunton in october 2002 he moved to bideford in february 2003 initially on loan as he recovered from injury and left bideford to join clevedon town in june 2004on 10 january 2007 he rejoined torquay united on an initial onemonth contract which was later extended for a second month however he was released by torquay on 11 march 2007 when his contract expired after starting the 20072008 season with liskeard athletic he subsequently rejoined bidefordhe is the great nephew of former arsenal and england left back eddie hapgoodleon hapgood resumed his north american coaching career in august 2008 with calgary foothills soccer club where he serves as academy manager</td>\n",
       "    </tr>\n",
       "    <tr>\n",
       "      <th>29</th>\n",
       "      <td><http://dbpedia.org/resource/Emily_Osment></td>\n",
       "      <td>Emily Osment</td>\n",
       "      <td>emily jordan osment born march 10 1992 is an american actress singer and songwriter born in los angeles california after working in several television films in her childhood she gained fame for costarring as the character gerti giggles in spy kids 2 island of lost dreams and spy kids 3d game over she went on to costar in the emmy awardnominated disney channel sitcom hannah montana as lilly truscott as well as the series movie hannah montana the movie she also starred as cassie in r l stines the haunting hour volume one dont think about it and the disney channel original movie dadnapped as melissa morris she most recently starred in the 2011 abc family original movie cyberbully the 2013 tv series cleaners produced for the online service crackle and the 2014 lifetime movie a daughters nightmare she currently stars in the abc family television series young hungry 2014 as gabi diamondosment expanded her repertoire into pop music and more recently alternativeindie rock where she has recorded teen pop hits like i dont think about it if i didnt have you alongside her hannah montana costar mitchel musso and most recently once upon a dreamosments debut album fight or flight was released on october 5 2010 via windup records and it features lead single lets be friends which was released june 8 2010 the second single off the album was entitled lovesick and was released on october 19 2010</td>\n",
       "    </tr>\n",
       "    <tr>\n",
       "      <th>30</th>\n",
       "      <td><http://dbpedia.org/resource/Dom_Flora></td>\n",
       "      <td>Dom Flora</td>\n",
       "      <td>dominick a dom flora born june 12 1935 is an american former college basketball standout at washington and lee university wl located in lexington virginia flora played for the wl generals from 195455 to 195758 dom flora was a native of jersey city new jersey and played high school basketball for william l dickinson high schoola point guard flora was an explosive scorer whose accurate jump shot and crisp ballhandling ability helped him average 21 points per game for his career he was able to score despite being double and tripleteamed by opposing defenses and his aggressive style of play led him to become one of the most prolific free throw shooters in ncaa division i history as of the conclusion of the 201112 season floras 696 free throws made are still in the top 25 alltime in division i history he shot 696for954 730 in 109 career games played as a senior in 195758 flora was named the southern conference player of the year the virginia big six player of the year and a first team allamerica selection by the helms foundation he also earned his second straight first team allsouthern conference selection when his career ended flora finished with 2310 points which at the time was the fifthhighest total in ncaa history he also played baseball all four years while at wlbill brill a sports writer for the roanoke times world news once wrote about floraflora left the fans gasping with one bit of razzledazzle on which he dribbled with his left hand jumped into the air switched the ball behind his back to his right hand and made a jump shot it was worth the price of admission</td>\n",
       "    </tr>\n",
       "    <tr>\n",
       "      <th>31</th>\n",
       "      <td><http://dbpedia.org/resource/Ted_Hill_(mathematician)></td>\n",
       "      <td>Ted Hill (mathematician)</td>\n",
       "      <td>theodore preston hill born december 28 1943 is an american mathematician known for his research on mathematical probability theory in particular for his work on benfords law and for his work in the theories of optimal stopping secretary problems and fair divisionborn in flatbush new york he studied at the united states military academy at west point distinguished graduate of the class of 1966 and stanford university ms in operations research after surviving the us army ranger school and serving as an army captain in the combat engineers of the 25th infantry division in vietnam he returned to study mathematics at the university of gttingen fulbright scholar the university of california at berkeley ma phd under advisor lester dubins and as natonsf postdoctoral fellow at leiden universityhe spent most of his career as a professor in the school of mathematics at the georgia institute of technology with temporary appointments at washington university tel aviv university the university of hawaii the university of gttingen fulbright professor the university of costa rica the free university of amsterdam the mexican centre for mathematical research cimat and as gauss professor in the gttingen academy of sciences he is currently professor emeritus of mathematics at georgia institute of technology adjunct professor of electrical and computer engineering at the university of new mexico and research scholar in residence at california polytechnic state university san luis obispo</td>\n",
       "    </tr>\n",
       "    <tr>\n",
       "      <th>32</th>\n",
       "      <td><http://dbpedia.org/resource/Mindaugas_Murza></td>\n",
       "      <td>Mindaugas Murza</td>\n",
       "      <td>mindaugas gervaldas until 2012 year mindaugas murza born december 16 1973 is an antisemitic lithuanian politician a radical nationalist former member of the national democratic party lithuania former member of the lithuanian national defence volunteer forces a lithuanian government sponsored paramilitary organization a one time leader of the neonazi national socialist party and member of iauliai city municipality council he is known for his antisemitic statementsin 1998 gervaldas and other members of his party lithuanian alliance of nationalistsocialist unity in their publications voice of the nation attacked lithuanias minorities of jews poles and russians and demanded that conditions for these minorities be made so unbearable so that they would leave lithuania in 2001 he attempted to revive moribund logic of life party gyvenimo logikos partija when registration for the national socialist alliance was refusedin april 2005 gervaldas passed plans to establish a new political party called the unified lithuanian national workers movement its aims would be to encompass up to 3 of the population eventually and win in the next municipal elections to iauliai city council at the creation of new party mindaugas murza compared globalism to zionism which led to investigation against him being carried out by lithuanian prosecutors on basis of preaching hatred antisemitism on april 12 2005 police seized hard drives from gervaldass personal computer and computers of his colleagues for legal reasons prosecution pending the court did not allow mindaugas murza to change his name to mindaugas gervaldason november 19 2011 he married russian citizen zlata rapova the marriage was conducted using neopagan rituals</td>\n",
       "    </tr>\n",
       "    <tr>\n",
       "      <th>33</th>\n",
       "      <td><http://dbpedia.org/resource/Bob_Reece></td>\n",
       "      <td>Bob Reece</td>\n",
       "      <td>robert scott reece born january 5 1951 is an american former professional baseball player a catcher he was a graduate of stanford university and spent nine seasons in the minor league system of the montreal expos playing in nine games in the major leagues for montreal at the beginning and the end of the 1978 season he threw and batted righthanded stood 6 feet 1 inch 185 m tall and weighed 190 pounds 86 kgreece was signed by the expos as a nondrafted free agent in 1973 he reached the triplea level in 1975 as a member of the memphis blues of the international league then the expos top farm system affiliate the following season montreal signed a player development contract with the denver bears of the american association and reece would spend all or parts of six years as a member of the bearsin 1978 reece batted a careerhigh 296 in 47 games for denver in between his major league trial with the expos he played rarely for montreal appearing in a total of seven games between april and early june on may 7 his third big league game reece collected his first mlb hit run scored and run batted in when he doubled off relief pitcher dave tomlin during a 195 rout of the cincinnati reds at riverfront stadiumhe started his first mlb game at catcher two days later during the second game of a doubleheader against the atlanta braves he was held hitless in two at bats by future hall of famer phil niekro then was pinch hit for by the expos regular catcher another future hall of famer gary carter during his lateseason stint with the expos reece got into two september gamesin the second of those on september 16 he singled off don robinson of the pittsburgh pirates for his second and final mlb hit in his final bigleague appearancereece started three of the mlb games in which he played he collected two hits in 11 atbats with no bases on balls striking out four times his minor league career ended after the 1981 season and 672 games played</td>\n",
       "    </tr>\n",
       "    <tr>\n",
       "      <th>34</th>\n",
       "      <td><http://dbpedia.org/resource/Douglas_Davies></td>\n",
       "      <td>Douglas Davies</td>\n",
       "      <td>douglas james davies born 1947 is professor in the study of religion in the department of theology and religion at the university of durham he is an authority in the history theology and sociology of death his fields of expertise also include anthropology the study of religion the rituals and beliefs surrounding funerary rites and cremation around the globe and mormonism his research interests cover identity and belief and anglican leadershipborn in wales he read two bachelor of arts degrees at st johns college university of durham before doing his phd at the university of nottingham he then achieved both master and doctor of letters at oxford university and has recently been awarded an honorary doctorate of theology from uppsala university sweden one book reusing old graves a report on popular british attitudes which he cowrote with alastair shaw won the 1995 booksellerdiagram prize for oddest title of the yearhis current projects include writings on the encyclopedia of cremation the clergy and british society 19402000 a brief history of death innerspeech and prayer and ritual purityhe has also published a large number of articles on death and contemporary christianityprofessor davies has been involved with various editorial boards and conferences including the editorial board of mortality and the british sociological association religion group chairman 20002003 he was also guest speaker at both the scandinavian sociological society conference in 2004 and the international cremation federation conference in barcelona 2003within the university of durham he teaches three undergraduate modules study of religion death ritual and belief and theology and anthropology he also teaches ritual symbolism and belief to those studying a taught masters degree in theologyhe is a member of the senior common room of st chads college durham</td>\n",
       "    </tr>\n",
       "    <tr>\n",
       "      <th>35</th>\n",
       "      <td><http://dbpedia.org/resource/Freimut_B%C3%B6rngen></td>\n",
       "      <td>Freimut B%C3%B6rngen</td>\n",
       "      <td>freimut brngen born october 17 1930 is a german astronomer a few sources give his first name wrongly as freimuthhe has studied galaxies with the schmidt telescope at the karl schwarzschild observatory in tautenburg germany in 1995 he retired but continues to work as a freelancer for the observatory as a byproduct of his work he has discovered numerous asteroids 519 as of july 2006 the research on asteroids had to be done in his spare time as the search for small objects was not considered prestigious enough by the gdr research managers during the gdr regime brngen restricted himself to politically neutral names for his asteroids such as topics related to thuringia or famous scientists and composers examples include 2424 tautenburg 3181 ahnert 3245 jensch or 3941 haydn after the german reunification he chose systematically historical cultural scientific and geographical namings and at times honoured amateur astronomers other names include references to resistance fighters against the nazi suppression or document a religious interestfreimut brngen has achieved great reputation in the international scientific community for his human qualities and the wellsubstantiated choice of names the iau honoured him with asteroid 3859 brngen which was discovered by e bowell at the anderson mesa station of the lowell observatory arizonain the year 2006 he was also awarded the bundesverdienstkreuz am bande cross of merit on ribbon by german federal president horst khler</td>\n",
       "    </tr>\n",
       "    <tr>\n",
       "      <th>36</th>\n",
       "      <td><http://dbpedia.org/resource/Th%C3%BCring_Br%C3%A4m></td>\n",
       "      <td>Th%C3%BCring Br%C3%A4m</td>\n",
       "      <td>thring brm born 10 april 1944 is a swiss composer and conductorbrm graduated from a high school in basel he then studied piano conducting and composition in basel and musicology at the university of basel and the university of heidelberg he worked as a conductor and rptiteur at the curtis institute of music the aspen music festival and school and holds a master of arts in composition from the university of california berkeleyfrom 1973 to 1987 he was a member of the board of the city of basel music academy and from 1987 to 1999 director of the conservatory of lucerne from 1999 to 2001 he was founding rector of the lucerne college of music from 2000 to 2006 he was a board member of the association europenne des conservatoire he is a member of the research council of the swiss national science foundationfrom 1984 to 1990 he was president of the jeunesses musicales de suissebrm was from 1987 to 2006 chief conductor of the junge philharmonie zentralschweiz he is head of the regio choir binningenbasel and a regular guest conductor of the chamber philharmonic pardubice he gave master classes in the czech republic slovakia and argentinahe is a jury member of the concours de musique du festival de fribourg and the sacred johannes brahms chamber music competition of the music academy in gdanskbrm was influenced by composers such as anton webern pierre boulez and john cagehe composed more than 100 works among his most famous compositions include the angelus silesius cantata the requiem for cs and litteri un schatt luci e ombre as a guest composer he worked variously at the hokuto international music festival and with the swiss groupe lacroix and the german ensemble sortisatio on a cd called 8 pieces on paul klee in honor to the painter paul klee</td>\n",
       "    </tr>\n",
       "    <tr>\n",
       "      <th>37</th>\n",
       "      <td><http://dbpedia.org/resource/Aharon_Solomons></td>\n",
       "      <td>Aharon Solomons</td>\n",
       "      <td>aharon solomons b september 27 1939 is a freediver and national record holderborn ernest henry child simpson solomons is the son and only child of ernest aldrich simpson and his third wife the former mary raffray ne mary huntemuller kirk his father was a partner with the shipping brokerage firm simpson spence young and best known as the second husband of wallis simpson who later married the former edward viii of the united kingdom solomons was born and baptised as ernest henry child simpson at guards chapel wellington barracks london england his mother died in 1941 and his father died in 1958 the same year ernest hc simpson changed his name to aharon solomons solomons spent the early years of his childhood in the uk india and with friends of his father in pennsylvania us he returned to the uk in 1946 and attended westbourne house school in sussex england then harrow school and finally institut le rosey in switzerlandin 1957 he was inducted into his fathers regiment the coldstream guards and was commissioned as an officer in the intelligence corps and served in the middle east in 1962 solomons moved to israel and joined the israeli defense forces where he saw action in 196768 and on the golan heights in 1973 he married joy corisande jackson april 25 1932 september 22 2010 in 1960 they had two sons uri b 1964 and nadav b 1965the solomons lived for ten years on communal agricultural settlements and then in rosh pinna from 1975 he traveled in the sinai greece micronesia and mexico where he settled for a time he taught scuba for many years in eilat in 1992 he met francisco ferreras pipin and trained with him in cuba in the no limits and constant weight disciplines of freedivingsolomons married mariateresa mt solomons in 1997 and had another son zeev in 1998 the solomons are currently separated but work and train together in the freedivers association solomons and his wife were members of the israeli freediving team in ibiza in 2001 and mt was on the uk team in egypt in 2008 both are aida instructor trainers and teach in israel the turks and caicos greece and mexicomarcus greatwood aharons student quotes aharons ideology as a foundation of his system of freediving</td>\n",
       "    </tr>\n",
       "    <tr>\n",
       "      <th>38</th>\n",
       "      <td><http://dbpedia.org/resource/Steven_Weil></td>\n",
       "      <td>Steven Weil</td>\n",
       "      <td>steven weil is an american rabbi who grew up on a cattle farm in upstate new york he attended ohr torah high school and yeshivat kerem byavneh in israel and yeshiva university in new york he was ordained at the rabbi isaac elchanan theological seminary and earned a masters in business administration from new york university stern school of businessweil became rabbi of the young israel of oak park michigan and then at beth jacob congregation in beverly hills california in both synagogues he substantially increased membership and expanded programming he has delivered invocations for president george h w bush vice president dick cheney governor arnold schwarzenegger and beverly hills mayors stephen h webb and jimmy delshad he has served internationally as scholar in residence while visiting congregations across the country and strongly advocating for israel and jewish education he has worked closely with leaders in the american israel public affairs committee and has worked with the beth medrash govoha of lakewood township new jerseyin his term as rabbi of beth jacob congregation weil increased membership by over 250 families to 750 families he increased the congregations endowment fund and was considered the most successful fundraiser in southern californiaweil currently resides in teaneck new jersey with his wife yael their three boys and four girls</td>\n",
       "    </tr>\n",
       "    <tr>\n",
       "      <th>39</th>\n",
       "      <td><http://dbpedia.org/resource/Gary_Emineth></td>\n",
       "      <td>Gary Emineth</td>\n",
       "      <td>gary emineth born october 24 1958 is a political figure in the us state of north dakota serving as the chairman of the north dakota republican party since july 2007s retirement of ken karls he was chosen at the partys committee meeting in fargo north dakota in july 2007in the 2010 election he led the north dakota republican party as every single republican candidate for statewide office won election including us representative and us senator during both of his terms as state party chairman republicans significantly increased their majorities in both houses of the state legislature republicans currently lead the house by a 6925 margin and the senate by a 3512 marginin a letter to the members of the republican national committee he wrote as a former finance director executive director finance chairman and finally party chairman i learned one thingit wasnt about me it was all about getting all the pieces in place and setting the wheels in motion so that the victory train would come rolling into the station exactly on time with republican candidates on board to be a successful chairman is first and foremost to know your job description and not become distracted by the siren songs heard inside the beltway 1</td>\n",
       "    </tr>\n",
       "    <tr>\n",
       "      <th>40</th>\n",
       "      <td><http://dbpedia.org/resource/Timothy_Grucza></td>\n",
       "      <td>Timothy Grucza</td>\n",
       "      <td>timothy grucza born 1 july 1976 melbourne australia is a cameraman and documentary film maker he is best known for his work in conflict zones such as iraq and afghanistan he is currently based in paris francegrucza began his career in australia working on issues in the south pacific including civil unrest in west papua in 1999 he documented repatriated kosovan australian refugees who had escaped the war in kosovo and were granted safe haven in australia he began covering iraq in 2002 when he entered the kurdish enclave in the north of the country during the 2003 invasion of iraq grucza worked as a correspondent for the french network canal since then he has worked extensively in iraq israel and the palestinian territories pakistan and afghanistan for pbs frontlinein 2006 along with yuri maldavsky grucza released his first feature length documentary film named white platoon aka la section white the film is a unique look at a platoon of soldiers who spend one year in baghdad entering as idealistic young men and leaving as cynical sometimes bitter veterans the film won best feature length documentary at the banff world television festival and was selected for the hot docs canadian international documentary film festivalin 2009 grucza was awarded a news and documentary emmy for outstanding individual achievement in a craft cinematography for his work on the frontline documentary the war briefinghe continues to produce his own films and pieces for frontline</td>\n",
       "    </tr>\n",
       "    <tr>\n",
       "      <th>41</th>\n",
       "      <td><http://dbpedia.org/resource/Bob_Adams_(American_football)></td>\n",
       "      <td>Bob Adams (American football)</td>\n",
       "      <td>robert bruce bob adams born august 15 1946 in stockton california is a former professional american football tight end in the national football league and an official within the church of scientology he attended el camino high school during the 1960s and was encouraged by a coach at the college of san mateo to play football he played for a single season at the college during 1966 while participating in other sports at the school including trackandfield and basketball a former coach of the college of san mateo doug scovil recruited adams to the college of the pacific where he received a full scholarship to play football there by 1968 he was captain of the teams offense at the schoolhe was not drafted by the national football league and was signed as a free agent with the pittsburgh steelers where he played under coach chuck noll in 1973 while a member of the pittsburgh steelers adams became a scientologist he said applying scientology methodology helped his performance playing football after seven years with the national football league adams finished his procareer as a member of the atlanta falcons he subsequently took up other professions including owning a fitness center in redwood city california being a consultant for high tech companies and working as a teacherin 2004 adams served within the scientology organization as senior vice president of its association for better living and education able a nonprofit founded by scientology members in 1988 to supervise the secular programs narconon criminon the way to happiness and applied scholastics by 2006 he had become a media executive and vice president of the church of scientology and worked out of the organizations facilities in hollywood california he represented the church of scientology at the 2006 conference of the religion newswriters association in utah adams held the position of vice president of public affairs for the church of scientology international in 2009 and was a reverend within the organization he traveled to melbourne australia in december 2009 for the world religions conference he continued to serve as vice president of the church of scientology international in 2010 and was one of four officials listed as spokespersons for the church</td>\n",
       "    </tr>\n",
       "    <tr>\n",
       "      <th>42</th>\n",
       "      <td><http://dbpedia.org/resource/Sylvie_Roy></td>\n",
       "      <td>Sylvie Roy</td>\n",
       "      <td>sylvie roy born november 4 1964 in la tuque quebec is a politician in quebec canada and the coalition avenir qubec member of the national assembly for the electoral district of arthabaska she previously represented the riding of lotbinire from 2003 until 2012 initially as a member of the nowdefunct adq until the merger of that party into the caq in 2012she was awarded a law degree from universit laval in 1987 and admitted to the barreau du qubec in 1988 she was lawyer for 15 years including 12 years for mental health organizations in mauricie she served as mayor of saintsophiedelvrard from 1998 to 2003 she also worked for the bcancour regional county municipality quebecroy was first elected to the national assembly in the 2003 election with 37 of the voteparti qubcois pq incumbent jeanguy par finished third with 26 of the votein the 2007 election roy was easily reelected with 59 of the vote liberal candidate laurent boissonneault finished second with 22 of the voteon march 29 2007 roy was appointed deputy official opposition house leaderin the 2008 election roy won reelection with 44 of the vote even though her partys support sharply declined and party leader mario dumont announced his resignation on february 27 2009 she was named the interim leader of the adq until gilles taillon became the permanent leader later that year the adq merged with the caq in 2012 and roy was reelected in the 2012 election</td>\n",
       "    </tr>\n",
       "    <tr>\n",
       "      <th>43</th>\n",
       "      <td><http://dbpedia.org/resource/Rob_Sheffield></td>\n",
       "      <td>Rob Sheffield</td>\n",
       "      <td>rob sheffield born february 2 1966 is an american music journalist and author he is currently a contributing editor at rolling stone writing music reviews and essays on pop culture prior to that he was a contributing editor at blender before the print version of the magazine folded in 2009 and at spin a native of boston sheffield attended yale and the university of virginiahis first book love is a mix tape life and loss one song at a time an excerpt of which was featured in the january 2007 issue of gq was released by random house in january 2007 it received starred reviews in publishers weekly and library journalmost of love is a mix tape takes place in charlottesville virginia where sheffield met and married his late wife rene crist a fellow dj at radio station wtju and continues in new york city after crists death in 1997 the couple had no childrensheffield remarried in 2006 and lives in brooklyn new yorksheffields second book released in july 2010 is called talking to girls about duran duran one young mans quest for true love and a cooler haircutsheffields third book released in august 2013 is called turn around bright eyes the rituals of love and karaoke and discusses how he met and fell in love with ally the woman who would become his second wife thanks to their mutual love of music</td>\n",
       "    </tr>\n",
       "    <tr>\n",
       "      <th>44</th>\n",
       "      <td><http://dbpedia.org/resource/Michel_Che></td>\n",
       "      <td>Michel Che</td>\n",
       "      <td>professor michel che born in lyon france completed his doctorate epr study of titanium dioxide in 1968 at the university of lyon and studied as a postdoctoral fellow at princeton university 196971 he was appointed professor at university of paris vi pierre et marie curie in 1975 and senior member of the institut universitaire de france in 1995his work has led to around 400 publications in international journals he has been very active in the promotion and organisation of catalysis being the presidentfounder of efcats european federation of catalysis societies with creation in 1993 of the cycle of the now famous biennial europacat congresses and president of iacs international association of catalysis societies in 200004 culminating with the organisation and opening of the 13th international congress on catalysis in paris in 2004his research activity has been largely devoted to catalysis processes involving gassolid liquidsolid and solidsolid interfaces he has pioneered a molecular approach to heterogeneous catalysis based on transition elements taken as probes specific isotopes and physical techniques which provided him with an original position in the field his work has led to the emergence of interfacial coordination chemistry at the junction of colloidal electro supramolecular geo and solidstate chemistries his studies have largely contributed to improve understanding of the elementary processes involved in laboratoryindustrial catalysis and particularly watermediated assemblies in catalyst preparationmichel ches awards include j h vant hoff netherlands japan society for the promotion of science japan m sklodowskacurie and p curie poland a joannides and p sue france von humboldt gaylussac germany he is doctor honoris causa of several universities cracow poland lisbon portugal bucharest romania and member of several highranking academies eg academia europaea deutsche akademie der naturforscher leopoldinain 2014 he was awarded the royal society of chemistrys faraday lectureship prize</td>\n",
       "    </tr>\n",
       "    <tr>\n",
       "      <th>45</th>\n",
       "      <td><http://dbpedia.org/resource/Jaafar_Aksikas></td>\n",
       "      <td>Jaafar Aksikas</td>\n",
       "      <td>jaafar aksikas born 1974 in azemmour morocco is an american academic and cultural critic he holds a phd in cultural studies from george mason university an ma in the humanities and comparative literary studies from al akhawayn university morocco and a ba in english language and literature from chouaib doukkali university morocco he is currently associate professor of cultural studies at columbia college chicago united states he is also president of the cultural studies association his books and edited volumes includecultural studies ofand the law edited with sean johnson andrews 2014arab modernities2009 the sirah of antar an islamic interpretation of arab and islamic history 2002his other publications includeculture industries critical interventions 2011 an inaugural special journal issue on the culture and media industries for the journal lateral critical purchase in neoliberal times a special journal issue on engaged and communitybased forms of cultural studies scholarship for the journal lateralhis work has appeared in several scholarly journals including cultural studies reviews in cultural theory lateral mediterranean politics and cultuur en migratie aksikas has taught and published widely in the fields of cultural studies mediaculture industry studies critical legal studies american studies and middle eastern studies he also serves on the editorial boards of cultural studies and lateral journals he has received numerous awards including the george mason university vision award 2003 and the marquis who is who in america award 2010 he also holds membership at the phi beta delta honor society for international scholarshe is the founding general editor of cultural landscapes the founding coordinator of the cultural studies colloquium series at columbia college chicago and he serves as a member of the illinois network on islam and muslim societies he also serves as consultant for lawyers and the media on middle eastern and north african societies cultures and politics</td>\n",
       "    </tr>\n",
       "    <tr>\n",
       "      <th>46</th>\n",
       "      <td><http://dbpedia.org/resource/Will_Tuttle></td>\n",
       "      <td>Will Tuttle</td>\n",
       "      <td>will m tuttle born 1953 is an american writer speaker and musician and author of the amazon 1 bestseller the world peace diethe is the cofounder with judy carman of the circle of compassion and the worldwide prayer circle for animals he has lectured through unity church and other new thought and progressive centers throughout north america since 1990 and was the first guest of animal rights zone in 2010 he made an international debut in august 1995 at the 8th international vegan festival in san diego where he performed inspirational classical music and spoke about inner and outer peace and harmony in the context of a vegan diet tuttle is a former zen monk who studied in korea he obtained his bachelors degree in administrative science with an emphasis of literature and music from colby college waterville maine in 1975 his masters degree in humanities from san francisco state university and his phd from the university of california berkeley specializing in the philosophy of education he is a frequent speaker at vegetarian spiritual and animal rights conferences and at local vegetarian societies he and steve prussack organized the veganpalooza online audio conference 1115 june 2012 and has organized other online events and conference calls on the theme of veganism and world peace tuttle has been a vegan since 1980</td>\n",
       "    </tr>\n",
       "    <tr>\n",
       "      <th>47</th>\n",
       "      <td><http://dbpedia.org/resource/Vanessa_Ament></td>\n",
       "      <td>Vanessa Ament</td>\n",
       "      <td>dr vanessa theme ament born january 8 1955 in glendale california is an american author academic foley artist and musician best known for her 2009 book updated in 2014 the foley grail published by focal press elsevier the first mainstream academic text explicitly concerned with the history and development of as well as the personalities behind the art of foley she is currently the edmund f and virginia b ball endowed chair professor of telecommunications at ball state university ament is well known also for her 1989 appearance on the television program late night with david letterman the only foley artist ever invited as a guest though she started her career as an actress singer and dancer ament achieved success in the world of foley and postproduction sound after gaining experience in television shows such as knots landing dallas and cagney lacey working on such major films of the 1980s and 1990s as prizzis honor platoon predator die hard beauty and the beast noises off batman returns and a goofy movie her exhusband david edwin stone is an academy awardwinning sound editor having won in 1993 for his work in bram stokers dracula despite her success in the film industry ament has also taught in primary schools since 1978 and in universities including depaul university georgia state university ball state university columbia college chicago and cuesta college since 2001 has an mdiv from starr king school for the ministry 1990 and a phd in moving image studies from georgia state university 2014 and released a jazz cd in 2004 entitled working without a net she also lent her voice and songwriting to the 1999 film foreign correspondents which featured her song every other night</td>\n",
       "    </tr>\n",
       "    <tr>\n",
       "      <th>48</th>\n",
       "      <td><http://dbpedia.org/resource/Marc_Logan></td>\n",
       "      <td>Marc Logan</td>\n",
       "      <td>marc anthony logan born may 9 1965 is a former american football running back that played ncaa d1a before playing in the nflmarc weighs in at 60 228 lbs marc attended the university of kentucky in college wearing the number 25 at kentucky marc enjoyed four very successful seasons leading his team in receptions in his sophomore junior and senior years as a sophomore in the 1985 hall of fame bowl marc scored two touchdowns on just five plays in his mvp performance setting two ncaa bowl records for the longest kick return 85 yards as well as the longest play from scrimmage 63 yards his kickoff return record still stands today marc was selected in the fifth round of the 1987 nfl draft by the cincinnati bengals he then went on to play eleven years in the national football league from 1987 to 1997 for the bengals miami dolphins san francisco 49ers and washington redskins throughout his career marc rushed for 1391 yards on 325 carries averaging 44 yards per carry with 15 tds marc also had 123 receptions for 1135 yards averaging 92 yards per reception with 3 tds he also added 1830 yards on 89 returns averaging 206 yards with 1 td he played in super bowl xxiii for the bengals and was a part of the super bowl xxix winning san francisco 49ers</td>\n",
       "    </tr>\n",
       "    <tr>\n",
       "      <th>49</th>\n",
       "      <td><http://dbpedia.org/resource/Corey_Woolfolk></td>\n",
       "      <td>Corey Woolfolk</td>\n",
       "      <td>corey woolfolk born february 26 1983 in ann arbor michigan is a former american soccer forwardwoolfolk attended pioneer high school where he was a 1996 first team all state and nscaa high school all american he then attended stanford university where he played on the mens soccer team from 1997 to 2000 he graduated with a bachelor degree in urban planning on february 6 2001 the san jose earthquakes drafted woolfolk in the 5th round 49th overall in the 2001 mls superdraft he played seven preseason games scoring four goals the earthquakes waived woolfolk on may 30 2001 to free up a roster spot for landon donovan on june 18 2001 woolfolk signed with the minnesota thunder in the usl aleague he broke his foot in 2002 and lost most of the season playing part of the time with the dayton gemini of the premier development league and serving as an assistant coach with the university of michigan mens soccer team in 2003 he played for the pittsburgh riverhounds then in 2004 he moved to the rochester rhinos in 2005 he joined the puerto rico islanders where he was the teams second leading scorer with nine goals on february 1 2006 he signed with the vancouver whitecaps he suffered a stress fracture in the preseason and played only one game before with vancouver the team released him in december 2006 in 2007 he played three games for the atlanta silverbacks</td>\n",
       "    </tr>\n",
       "    <tr>\n",
       "      <th>50</th>\n",
       "      <td><http://dbpedia.org/resource/Professor_Lyrical_(rapper)></td>\n",
       "      <td>Professor Lyrical (rapper)</td>\n",
       "      <td>professor lyrical is a hip hop artist from lowell massachusetts who also teaches college his 2005 album infiniti won for album of the year in the mic hip hop awards in bostonhe is a fulltime lecturer at northeastern university and has been an adjunct professor at several other schools parttime in massachusetts primarily in the areas of math and entertainment including a hip hop course at lasell college entertainment courses at bay state college and math courses at new england arts institute his latest 82013 album put em all to shame is both an album and a book and they appear together as the worlds first albook the book is entitled put em all to shame the curriculum he speaks and performs regularly at many different venues but primarily at colleges and universities he received a bs and an ms mathematics from umasslowell lyrical is a doctoral candidate at northeastern in the early and mid 1990s he competed in several invitation only freestyle battles such as the battle for world supremacy in nyc and the universal zulu nation east coast finals he went on to win many more in the years to follow he is part of the mass industry committee which also created 617live tv lyrical has filled in for fellow boston rapper akrobatik on jamn 945 to perform the daily sports rap up part of the highly rated morning show on occasion when akrobatik has been unavailable he has appeared on many different radio segments television shows news programs and even movies</td>\n",
       "    </tr>\n",
       "    <tr>\n",
       "      <th>51</th>\n",
       "      <td><http://dbpedia.org/resource/Michelle_Ye></td>\n",
       "      <td>Michelle Ye</td>\n",
       "      <td>michelle ye or ye xuan born february 14 1980 is a chinese actress and producer in 1999 she won the miss chinese international competition ye then signed a contract with tvb from 1999 to 2005 after she left tvb she signed with rich famous talent management group limited to pursue a movie careerye is fluent in cantonese english and mandarin she immigrated to the united states at age 10 she attended john dewey high school where she won first place at the international science and engineering fair in the botany sector 1998 she was a scholarship student at wellesley college but left before graduating to pursue a career in the entertainment industryin july 1999 ye accepted a contract offered by tvb after winning the miss chinese international pageant she had a number of leading roles in dramas such as eternal happiness triumph in the skies and lost in the chamber of loveye has worked as a host and mcin 2004 she was tvbs onsite reporter at the olympic games in athens additionally she was the mc for a special midautumn evening broadcast on cctvshe left tvb in june 2005 and moved on to rich famous one month after to get more exposure in the movie industry ye also starred in a few series with atv china productions and icableye published an autobiography titled shang shan ruo shui xuan gong lue in july 2006apart from her acting career she is currently owner and chairman of a production company michelle ye studioszhejiang bohai television ltd owner of a sushi restaurant and vice president of the hengdian film association</td>\n",
       "    </tr>\n",
       "    <tr>\n",
       "      <th>52</th>\n",
       "      <td><http://dbpedia.org/resource/Robert_N._Chatigny></td>\n",
       "      <td>Robert N. Chatigny</td>\n",
       "      <td>robert neil chatigny born 1952 taunton ma is a federal judge for the united states district court for the district of connecticut having served on the court from 1994 to the present judge chatigny was nominated to the court by president bill clinton on august 5 1994 to a seat vacated by warren w eginton confirmed by the united states senate on september 28 1994 and received his commission on september 29 1994 he has served as chief judge of the court from 2003 to september 2009 judge chatigny received an ab from brown university in 1973 and a jd from georgetown university law center in 1978 where he was case and note editor of the georgetown law journal he served as a law clerk to three different judges samuel conti of the us district court for the northern district of california 19791980 jose cabranes of the us district court for the district of connecticut 1980 and jon o newman of the us court of appeals for the 2nd circuit 19801981judge chatigny was elected to the house of delegates of the connecticut bar association and has served on the executive committee of the federal practice section he advised the federal courts study committee tasked with developing longrange plans for the federal judiciary the university of connecticut school of law awarded him the center for childrens advocacy childrens justice award in 2008he gained national attention in 2005 when he delayed the execution of michael bruce ross in order to determine if he was competent to waive challenges to his death sentence and potentially prevent a violation of the eighth amendments prohibition on cruel and unusual punishment ross was subsequently found competent to waive his rights and was executed the prosecution filed a complaint against judge chatigny that was dismissed by the second circuit judicial council in a 24page decision on july 26 2006judge chatigny has been nominated by president barack obama to a seat on the second circuit court of appeals the nomination received a unanimous rating of well qualified from the american bar associations standing committee on the federal judiciary and the us judiciary committee approved the nomination on june 10 2010 on an 117 partyline vote no date was set for full senate considerationopposition to the nomination has centered upon judicial restraint and attitude toward sexual offenders on march 5 2010 one of the prosecutors in the ross case michael e ohara supervisory assistant states attorney for the state of connecticut wrote a 12page letter to the u s senate judiciary committee to elaborate upon the complaint that was filed and dismissed in 20052006 stating that judge chatignys actions certainly call into questions sic judge chatignys fitness to serve on the united states court of appeals for the second circuit a may 26 2010 washington times editorial enumerated 1 that chatigny served as cocounsel for director woody allen when he unsuccessfully complained against a prosecutor who had publicly stated he had probable cause grounds for allens reportedly abusing a minor stepchild 2 that judge chatigny was reversed by the us supreme court in 2001 when the judge tried to rule against one aspect of his states version of a megans law sexoffender registry 3 that the sentences imposed by judge chatigny in 12 childpornography cases were either at or more lenient than the recommended minimum with most downward departures involving sentences less than half as long and 4 that in the ross case judge chatigny threatened to take away an attorneys law license if the lawyer failed to appeal the death sentence of an eighttime murderer of girls and young women the judge claimed the killers sexual sadism was a mental disorder that made the murderer himself a victimsupport for the nomination includes three republican former appointees as us attorney for the district of connecticut who said in a letter to the judiciary committee in april 2010 that they support without any reservation this nomination they wrote while each of us has dealt with judge chatigny under different circumstances we have found him to be even tempered thorough and without agenda we believe that he is a fair minded and impartial judge who has appropriate fitness and temperament for the appellate court we believe that a close examination of judge chatignys record in sentencing federal criminal defendants shows that he is appropriately sensitive to the facts of the person before him and the rights of victims of the crimes that have been committed indeed it is our understanding that the government has never filed an appeal from judge chatignys sentencings and that there has only been one defendant who has appealed from an upward departure we are of the strong opinion that judge chatignys record on the bench makes him an outstanding and very qualified candidate seventeen former federal prosecutors who have worked with judge chatigny wrote to the senate judiciary committee that in criminal as well as civil matters judge chatigny has proven himself over the course of 15 years on the bench to be unbiased compassionate and temperatein its 2006 dismissal of charges in the ross case the second circuit judicial council found that judge chatignys actions were not motivated by any bias in favor of ross the prisoner or against the death penalty but only by the judges reasonable perception that the discharge of his own judicial dutyrequired that he take forceful steps on rosss behalf while the judge used strong language there was no misconductin the judges reasonable view the circumstances thrust on him called for unusual action in discharge of judicial duty to ensure the fair resolution of the important proceeding before himchatigny has yet to rule on the appeal of former yale professor james van de velde who had sued the city of new haven in 2001 then yale in 2003 for allowing his name to be leaked at the inception of the investigation into the death of yale student suzanne jovin in december 1998 chatigny dismissed the federal fourth amendment claims in march 2004 but left alone the state claims relating to the ruination of van de veldes career by not allowing the case to proceed van de velde claims his efforts to shed light on the cold case and pressure the authorities try to solve the case have been stonewalledof the 440some opinions judge chatigny has issued as a federal court judge since 1994 16 have been reversed an analysis by the sentencing commission for fiscal years 20059 provided by judge chatigny place his departure rate in line with the average for the district of connecticut as a whole</td>\n",
       "    </tr>\n",
       "    <tr>\n",
       "      <th>53</th>\n",
       "      <td><http://dbpedia.org/resource/Vincent_Fang_(lyricist)></td>\n",
       "      <td>Vincent Fang (lyricist)</td>\n",
       "      <td>for a hong kong entrepreneur please refer to vincent fang entrepreneurvincent fang chinese pinyin fng wnshn was born on 26 january 1969 in hualien taiwan he is a taiwanese multigolden melody award nominated lyricist best known for his collaboration with singersongwriter jay chou fang won best lyricist at the 19th golden melody awards for blue and white porcelain sung by jay chou from on the runin 1997 he sent samples of his lyrics to record companies hoping to find a new career that complemented his passion for writing record company owner jacky wu was impressed with his work and hired fang to work with chou who had just started his songwriting career in 2000 chou released his first album titled jay and since then produced albums in which fang contributes the majority of the lyrics chous fame grew rapidly across asia pulling fang into the limelight as wellfangs lyrics are noted for covering a wide of issues from family to war beyond what is normally discussed in love ballads he is known for using a writing style similar to traditional chinese poetry making frequent references to chinese history and folklore esp in chinese style music a fusion genre made popular in the 2000s decade by jay chou fusing modern rock and contemporary rb together with traditional chinese music he calls his style of lyrical poetry su yan rhyme poetry which has become a new poetry form in modern chinese musical literature</td>\n",
       "    </tr>\n",
       "    <tr>\n",
       "      <th>54</th>\n",
       "      <td><http://dbpedia.org/resource/Misa_Telefoni_Retzlaff></td>\n",
       "      <td>Misa Telefoni Retzlaff</td>\n",
       "      <td>misa telefoni retzlaff born hermann theodor retzlaff 21 may 1952 is a former samoan deputy prime minister and deputy leader of the human rights protection partyretzlaff was educated at kings college in auckland new zealand he studied law at the university of auckland before going on to practice law in samoa he was appointed attorneygeneral of samoa in 1986in 1988 he resigned his position as attorneygeneral to run for election winning the seat of falelatai samatau initially part of the opposition he joined the government of tofilau eti alesana in 1991 as minister of agriculture forests fisheries and shipping in 1996 he became minister of health and in 2001 deputy prime minister in addition to that role he currently holds the portfolios of commerce industry and labourhe has stated he will not be standing to retain the seat he has held for 22 years in the 2011 general electionretzlaff is of germanswedishsamoan descent having inherited his german ancestry from his paternal grandfather his name telefoni is the name that was given by the samoan community in the early twentieth century to his grandfather when he arrived in the german colony as a public servant of the postal services to introduce the telephone to the country he has had two books published love and money a love story about the richest young bachelor in auckland new zealand falling in love with and marrying the young samoan kitchen help from his exclusive boarding school and to thine own self be true a collection of articles speeches and poemsin february 2011 telefoni confirmed he was retiring from politics at the 2011 election see a short tribute to misa telefoni published in the samoa observer 9 march 2011 by his son lemalu hermann paul retzlaff tribute to misa telefoni httpwwwsamoaobserverwsindexphpoptioncomcontentviewarticleid31878tributetocatid1latestnewsitemid50</td>\n",
       "    </tr>\n",
       "    <tr>\n",
       "      <th>55</th>\n",
       "      <td><http://dbpedia.org/resource/Mary_Goldring></td>\n",
       "      <td>Mary Goldring</td>\n",
       "      <td>mary goldring obe is a british business journalist and broadcasteran economist who graduated from lady margaret hall oxford university goldring turned to journalism in the late 1940s and became a member of staff at the economist where for a long time she was its business editor rising to the rank of deputy editor alongside norman mcrae she left the paper suddenly in spring 1974 following a dispute over its editorship in the wake of the surprise departure of alastair burnet who left to become editor of the daily expressgoldring then moved to the bbc and meantime also wrote a weekly column for the investors chronicle edited at the time by andreas whittam smith in 1976 she became one of the main regular presenters of bbc radio 4s analysis series of analytical authored currentaffairs documentaries she developed it into a flagship programme staying with it until 1987 she also made five series of television documentaries the goldring audit for channel 4 screened from 1993 to 1998in the late 1960s mary goldring became particularly noted as the economists aviation correspondent for her sustained and trenchant critique of the development programme for the anglofrench concorde supersonic aircraft on the basis of noise pollution and above all what she predicted would be disastrous commercial economics an almost solitary voice of dissent at the time her views turned out to be wellfounded</td>\n",
       "    </tr>\n",
       "    <tr>\n",
       "      <th>56</th>\n",
       "      <td><http://dbpedia.org/resource/Susan_Westerberg_Prager></td>\n",
       "      <td>Susan Westerberg Prager</td>\n",
       "      <td>susan westerberg prager 1942 is an american legal scholar and administrator she is currently since november 1 2013 the dean of southwestern law schoolpreviously prager was provost of dartmouth college and president of occidental college starting in september 2008 she was the sixth executive director and ceo of the association of american law schools from 1982 through 1996 she was the dean of the ucla school of law giving her the longest tenure of any dean in ucla law history she was one of the first female deans of a law school in the united states and she was the first alumnusalumna to become dean of ucla law during her term at the ucla law she became the second woman to serve as the president of the association of american law schoolsprager was born in sacramento california and grew up in sloughhouse california a small town outside of sacramento she received her undergraduate degree in history from stanford university in 1964 and she later received a masters degree in history also from stanford she served for 14 years as a trustee of stanford university she worked for a number of legislators in the us senate the us house of representatives and the california state assembly including us senator thomas kuchel of california she received her law degree from ucla law and was editorinchief of the ucla law reviewshe practiced law at powe porter alphin in durham north carolina before returning to the ucla school of law faculty where she focused on family law community property and historic preservation law</td>\n",
       "    </tr>\n",
       "    <tr>\n",
       "      <th>57</th>\n",
       "      <td><http://dbpedia.org/resource/Yohannes_Yual></td>\n",
       "      <td>Yohannes Yual</td>\n",
       "      <td>yohannes yual both or johannes yoal bath etc was a leader of the south sudan defense forces whose mobile forces gave the sudan peoples liberation army considerable difficulty during the second sudanese civil war 19832005in august 1991 riek machar lam akol and gordon kong announced that john garang had been ejected from the splm the breakaway faction based in nasir until 1995 and then in waat and ayod was called the splmanasir faction from 1991 to 1993the bul nuer anyanya 2 militia at mayom under paulino matip and the lou nuer anyanya 2 militia at doleib hill under yohannes yual declared for rieklater these forces become part of the governmentsponsored ssdf militiathe civil war ended in january 2005 yohannes yual accepted the juba declaration of 8 january 2006 joining the army along with other soldiers under the command of paulino matiep his men are primarily lou nuer now in the 8th divisions command in jonglei state he is a major general and has been deputy commander of the 4th division in duar upper nile statea group called the south sudan united democratic alliance alleged that on 12 april 2006 lou nuer janaigatliek section spla forces under johannes yoal bath launched a revenge attack on ulang and killed more than 30 people including both civilians and soldiersthe attack was said to be in retaliation for cattle raids in nyayin on the east bank of the sobat river made by combined forces of the spla and jikany nuer under commander george athor dengjohannes yoal bath had been involved in an attack on nasir in may 1994</td>\n",
       "    </tr>\n",
       "    <tr>\n",
       "      <th>58</th>\n",
       "      <td><http://dbpedia.org/resource/Christopher_Sorrentino></td>\n",
       "      <td>Christopher Sorrentino</td>\n",
       "      <td>christopher sorrentino born may 20 1963 is an american novelist and short story writer of puerto rican descent he is the son of novelist gilbert sorrentino and victoria ortiz his first published novel sound on sound 1995 draws upon innovations pioneered in the work of his father but also contains echoes of many other modernist and postmodernist writers the book is structured according to the format of a multitrack recording session with corresponding section titles secondary percussion vocals playback and so forthhis second novel trance 2005 an epic fictional treatment of the patty hearst saga used many of the same experimental techniques as sound on sound but according to sorrentino incorporated them more carefully and subtly into the text the book was widely praised for its lush descriptions riveting characterizations and dialogue imaginative departures and attention to period detail trance ended up on several reviewers best lists was named a finalist for the 2005 national book award for fiction and was longlisted for the 2007 international impac dublin literary award in 2009 trance was named one of the 61 essential postmodern reads by the los angeles timesin 2006 new york magazine revealed that sorrentino and jonathan lethem were the writers behind the pseudonymous ivan felt and harris conklin authors of believeniks 2005 the year we wrote a book about the mets a hyperliterary account of the mets 2005 season that was intended as a playful poke at bookworld scamssorrentinos next book american tempura a collaboration with artist derek boshier was published by nothing moments press in the fall of 2007 a novella american tempura is a satire about commercial moviemaking in los angeles death wish a monograph on the 1974 film of the same name was published in the fall of 2010 by soft skull press as one of the inaugural entries in its deep focus series of film booksin april 2014 it was announced that sorrentino would publish his next novel the fugitives with simon schustersorrentinos work has appeared in such publications as the new york times esquire harpers playboy granta mcsweeneys tin house open city bookforum conjunctions and many otherssorrentino has taught at eugene lang college the new school for liberal arts and at columbia university school of the arts and is a member of the faculty at the unterberg poetry center of the 92nd street y he was the visiting writer at fairleigh dickinson university in 20102011 he currently lives in new york city with his partner the writer and editor minna proctor and their children</td>\n",
       "    </tr>\n",
       "    <tr>\n",
       "      <th>59</th>\n",
       "      <td><http://dbpedia.org/resource/Alexis_Bhagat></td>\n",
       "      <td>Alexis Bhagat</td>\n",
       "      <td>alexis bhagat is a writer and curator in new york he was born and raised in new york city and studied sculpture and ecological design at goddard collegehe was an active member of the spoken word poetry scene on the lower east side in the early 1990s notably organizing the atm poetry opens in bank lobbies in the summer of 1994 at goddard college he produced his first multichannel tape installations and tapecollages for radio a practicing sound artist from 19992009 producing sound installations speak deep whitman death songs bandshell ghost everybody says lecture on democracy stereo version collages lecture 2 on the possibility of life without the sun no one is neutral on moving train his blood is no match for chinas industrial strength authority look in the mirror radioplays and performances lecture 1 on sound as art words that should be abandoned or repaired everybody says the same bullshit in all lands and through all ages lecture on democracy threechannel version that utilized the recorded voice as material from 20012004 he interviewed a crosssection of senior and emerging sound artists through his project sound generation an unpublished book project that has manifested as concerts panel discussions and radio broadcasts he began working with free103point9 in 2003 and is included in their publication transmission arts artists and airwaves paj he has organized lectures listening lounges and convocations around the world to catalyze discussions about sound</td>\n",
       "    </tr>\n",
       "    <tr>\n",
       "      <th>60</th>\n",
       "      <td><http://dbpedia.org/resource/David_Vernon_Williams></td>\n",
       "      <td>David Vernon Williams</td>\n",
       "      <td>professor david vernon williams is a professor and former deputy dean of the university of aucklands faculty of law he came from the hawkes bay region of new zealand and was educated at wanganui collegiate schoolhis formal tertiary education qualifications include undergraduate degrees in history and in law ballb from victoria university of wellington a graduate degree in law bcl from the university of oxford england where he was a rhodes scholar at balliol college and a doctoral research qualification from the university of dar es salaam tanzania phd that included an analysis of colonial legal history in new zealand and a diploma in theology from the university of oxford diptheolhe is a barrister and solicitor of the high court of new zealand and holds a practising certificate to act as a barrister he was employed as a legal academic at universities in england tanzania and new zealand from 1971 to 1991 and during that time he wrote numerous published articles and book chapters on issues related to colonial law indigenous law and the treaty of waitangifrom 1992 to 2000 his primary occupation was as a consultant contracted to research on law in history and on treaty of waitangirelated legal issues he has acted in a variety of capacities in contracts with the crown forestry rental trust the law commission and te puni kkiri he was responsible for the mori land legislation manual and database which was published in two volumes by the crown forestry rental trust in 1994 and 1995 he is the author of te kooti tango whenua the native land court 18641909 published by huia publishers in 1999he has acted as an arbitrator in respect of moriowned forestry land he is the honorary legal adviser to te phopatanga o aotearoa anglican church and a member of the anglican churchs general synodte hinota whanui in 2001 he was appointed an associate professor in law at the university of auckland and in 2005 was promoted to full professorhe also campaigned for the new zealand national party in 1966 but has never voted for them</td>\n",
       "    </tr>\n",
       "    <tr>\n",
       "      <th>61</th>\n",
       "      <td><http://dbpedia.org/resource/Guillermo_Roux></td>\n",
       "      <td>Guillermo Roux</td>\n",
       "      <td>guillermo roux born in 1929 is an argentine painter known for his watercolors collages and frescoesroux was born in buenos aires argentina and his father ral roux was a wellknown uruguayan painter he studied in the buenos aires school of fine arts until 1948 and in 1956 he travelled to rome there roux worked in umberto nonnis bottega as an assistant in restoration and decoration projects he returned to argentina in 1960 and relocated to jujuy province where he taught art and continued to painthe lived in new york city where he worked as an illustrator and a painter from 1966 to 1967 and returned to buenos aires he traveled extensively exhibiting in berlin london munich paris and sicily and in 1975 he earned his first international prize at the xiii so paulo art biennial this was followed by among other honors the konex award the highest prize in the argentine cultural realm in 1982 rouxs work was added to the prestigious phillips collection in washington dc in 1988 and he contributed one of four new frescoes that were added to the cupola of the shopping arcade galeras pacfico when it was reopened in 1991roux created his own teaching workshop in 1997 his themes include still life harlequins italian actors and geometric shapes they are often surrealistic he was named illustrious citizen of buenos aires in 2007</td>\n",
       "    </tr>\n",
       "    <tr>\n",
       "      <th>62</th>\n",
       "      <td><http://dbpedia.org/resource/William_J._Ely></td>\n",
       "      <td>William J. Ely</td>\n",
       "      <td>william jonas ely jr born december 29 1911 is a retired lieutenant general in the united states army he is a 1933 graduate of the united states military academy west point he served during world war ii with the united states army and was stationed in australia new guinea philippine islands and japan he also served with the united states army corps of engineers in the 1930s in the midway islands he eventually retired at the rank of lieutenant 3 star general he is a former deputy commanding general of the army development logistic command and deputy commander of the us army materiel command he was born in sycamore pennsylvania the son of j ross and frances d ely his awards include the army distinguished service medal silver star bronze star and two legions of merit after his retirement ely was an avid golfer and designed and operated a golf course near pittsburgh pennsylvania he gave up golf when he turned 100 in 2011 as of 2015 he is the oldest living graduate of west point ely was married to helen mountford from february 10 1940 to march 25 2014 when she died at the age of 100 he was formerly married to jane i meyers whom he wed on may 20 1937 and had three children with he resides at a nursing home in delray beach florida</td>\n",
       "    </tr>\n",
       "    <tr>\n",
       "      <th>63</th>\n",
       "      <td><http://dbpedia.org/resource/Alan_Roper></td>\n",
       "      <td>Alan Roper</td>\n",
       "      <td>alan roper born may 1939 in tipton staffordshire england is a retired professional footballerhe began his career in the youth team at wolverhampton wanderers in the mid 1950s but was unable to break into the first team beginning his career when wolves were one of the top club sides in england and signed for walsall in 1962 he made his debut in september of that year in a 32 win over middlesbrough in the football league second division at fellows park and spent three years with the club making 60 league and cup appearances mostly as a fullback scoring twice he remained there until the end of the 196465 seasonafter retiring from football roper was the landlord of the union public house in his hometown tiptonhe has been married to valerie since 1964 and they have two children lesley born 1966 and steven born 1970 lesley was seriously injured in a car crash in 1982 at the age of 16 in dudley which claimed the lives of two other teenage girlshe still lives in tipton but now suffers from alzheimers diseasehe is not related to ian roper who played nearly 400 games for walsall between 1995 and 2008references 1 express and star 10 may 1982 midlands today 27 march 2014</td>\n",
       "    </tr>\n",
       "    <tr>\n",
       "      <th>64</th>\n",
       "      <td><http://dbpedia.org/resource/Bob_Havens></td>\n",
       "      <td>Bob Havens</td>\n",
       "      <td>bob havens born may 3 1930 is an american big band and jazz musician who appeared on the lawrence welk show from 1960 to 1982 his instrument is the tromboneborn to a musical family in quincy illinois he began studying violin and trombone at age seven and played both instruments throughout his school years he landed his first professional job with a local dance band at age 12 by the age of 16 his talent as a trombonist was recognized with a scholarship from the interlochen music camp in michigan and bob held the first trombone chair in the schools 250 piece concert band he later held the first trombone chair in the quincy symphony while also playing in many popular dance groups in illinoisafter serving in the illinois national guard as a bandsman during the korean war he left quincy in 1955 to tour with the ralph flanagan orchestra in 1956 he joined george girards dixieland band at the famous door in new orleans there he met his idol jack teagardenin 1957 bob joined al hirt at dans pier 600 on bourbon street when hirt formed his very first band the front line consisted of hirt havens and pete fountain during the time in new orleans he recorded albums for good times jazz and vic labels with the girard band and on verve and audio fidelity with hirt he also recorded about a dozen albums for the southland label with many other new orleans musiciansbob stayed with this group until 1960 when he was persuaded to move to the west coast and join the lawrence welk orchestra as a featured soloist on their weekly tv series his tenure with this show lasted for 23 years until the show ended in 1982following that he continued as a freelance professional working often with the bob crosby bob cats and the benny goodman orchestra led by clarinetist peanuts hucko from 1985 to 1995 havens played with the great pacific jazz band along with bob ringwald lead vocalspiano don nelson saxophone and zeke zarchy trumpetin 2005 he performed with the north carolina pops orchestra at campbell university with fellow welk star ava barber in a benefit concert raising money for victims of hurricane katrinabob havens lives in quincy illinois he continues to record and appear at jazz festivals and concerts throughout the world</td>\n",
       "    </tr>\n",
       "    <tr>\n",
       "      <th>65</th>\n",
       "      <td><http://dbpedia.org/resource/Susan_Christie></td>\n",
       "      <td>Susan Christie</td>\n",
       "      <td>susan christie is an american singersongwriter from philadelphia pennsylvania she had a minor hit with the novelty song i love onions written by donald cochrane and john hill the track which peaked at 63 on the billboard hot 100 chart in 1966 is described as having a sound reminiscent of the 1930s with christies breathy vocal backed by a chorus of kazoo players and male backup singersin canada however the single fared much better reaching 19 on the rpm 100 national singles chart on august 1 1966 the tune was adapted as i love funyuns for a late 60s tv commercial for an onionflavored snack food the tune was later adapted for a canadian television commercial as i love turtles in 1980signed to columbia records christie recorded an album in 1970 paint a lady described as psychedelic folk music the album went unreleased by columbia which considered it to be noncommercial and christie was dropped from the label the album of which only three vinyl copies were ever pressed languished in obscurity until 2006 when manchesterbased dj andy votel received a copy and brought the album renewed attention and a cd release spin magazine described the album as funky free folk filled with brilliantly original songs and christie as a dark strange songbirdchristie participated in the 2008 lost ladies of folk project spearheaded by votel and his spouse recording artist jane weaver performing in concert at queen elizabeth hall in london and appearing on the compilation album bearded ladies in 2010 christie appeared as a guest artist on weavers album the fallen by watch bird</td>\n",
       "    </tr>\n",
       "    <tr>\n",
       "      <th>66</th>\n",
       "      <td><http://dbpedia.org/resource/Elizabeth_Gunn_(author)></td>\n",
       "      <td>Elizabeth Gunn (author)</td>\n",
       "      <td>elizabeth gunn is an american author of mystery novelsgunn lives in tucson arizona her careful research into police techniques results in precisiontooled procedurals according to marilyn stasio of the new york times one series is set the fictional city of rutherford minnesota a second is set in tucson where she moved in 1999 her publishers include walker dell harlequin forge and severn houseprior to her career as a writer gunn earned her private pilots license became a sky and scuba diver hiked deserts and mountains and travelled extensively in the us canada mexico and europe including several years as a liveaboard sailor while she was sailing gunn began to write travel articles many of which were published in regional papers around the us this was the beginning of her path to becoming a fulltime writer before retiring to her career as a writer gunn made her living as an innkeeper in helena montana where she owned a motel with her husband phillip together they raised two daughters and the family lived in a small apartment directly above the lobby of their motel as a result of those cramped quarters gunn developed her desire to travel she grew up in the southeast minnesota of her jake hines novels and later moved to tucson the setting of her sarah burke series</td>\n",
       "    </tr>\n",
       "    <tr>\n",
       "      <th>67</th>\n",
       "      <td><http://dbpedia.org/resource/Bo_Hampton></td>\n",
       "      <td>Bo Hampton</td>\n",
       "      <td>bo hampton born 1954 in united states is a noted comic book and cartoon artisthe graduated from the school of visual arts new york city he drew wrote and painted comics and graphic novels for 15 years always with a bent toward realism that was fairly uncommon in the medium some art highlights from that period include viking glory a 96 page graphic novel for dc comics legend of sleepy hollow for tundra publishing and verdilak a horror story cowritten and painted for nbm publishing hampton spent a year as a professor at savannah college of art and design helping to develop the original incarnation of their sequential arts program before moving into the realms of storyboarding animated shows and tv commercials he was behind one of the most popular uk advets of all times smash means mashhe has worked on extreme ghostbusters for sony tv and full length video feature as well as superman warner bros and batman animation for cartoon network spot he has done live storyboard work for commercial clients including papa johns pizza bellsouth cocacola motorola and many more ad agencies that use his work regularly include mccannerickson washington dc pearson mcmahon fletcher and england indianapolis fricksfirestone atlanta and over 40 more all over the us</td>\n",
       "    </tr>\n",
       "    <tr>\n",
       "      <th>68</th>\n",
       "      <td><http://dbpedia.org/resource/Milva></td>\n",
       "      <td>Milva</td>\n",
       "      <td>maria ilva biolcati commander omri italian pronunciation maria ilva bjolkati born july 17 1939 known as milva is an italian singer stage and film actress and television personality she is also known as la rossa italian for the red due to the colour of her hair and additionally as the panther of goro which stems from the italian press having nicknamed the three most popular italian female singers of the 1960s combining the names of animals and the singers birth places popular in italy and abroad she has triumphed on musical and theatrical stages the world over and has received popular acclaim in her native italy and particularly in germany where she has often participated in musical events and televised musical programmes she has also released numerous successful albums in france japan korea greece spain and south americahaving received enormous success both in italy and internationally she remains to this day one of the most popular italian personalities in the fields of music and theatre her artistic stature has been officially recognised by the italian german and french republics each of which have bestowed her with the highest honours she is the only italian artist in contemporary times in fact who is simultaneously chevalier of the national order of the legion of honour of the french republic paris 11 september 2009 commander of the order of merit of the italian republic rome 2 june 2007 officer of the order of merit of the federal republic of germany berlin 2006 and officier of the ordre des arts et des lettres paris 1995</td>\n",
       "    </tr>\n",
       "    <tr>\n",
       "      <th>69</th>\n",
       "      <td><http://dbpedia.org/resource/Will_Tiao></td>\n",
       "      <td>Will Tiao</td>\n",
       "      <td>will tiao is a taiwanese american actor and producer born and raised in manhattan kansas he worked in the field of international politics before entering the hollywood scene tiao was a cello performance major at the university of michigan before transferring to tufts university where he received his ba in international relations magna cum laude and a ma in international affairs from columbia university he received a fulbright scholarship for his research on the association of southeast asian nations in manila philippinestiao worked as a presidential management fellow under the clinton administration and went on to become an international economist under the george w bush administration however in 2002 he decided to leave politics to pursue a career in entertainmenttiao has worked as an actor producer and writertranslator for tv film and stage his tv credits include madtv fox yes dear cbs untold stories from the er tlc mind of mencia comedy central the winner fox and the internet series quarterlife his theatre credits include waiting for lefty extremities marty in the boom boom room and proof he starred in and produced the awardwinning short film a starbucks story as well as the independent dark comedy stan he is the writer actor and producer of formosa betrayed a feature film based on the true events surrounding taiwanese democracy and independence activists in the 1980s</td>\n",
       "    </tr>\n",
       "    <tr>\n",
       "      <th>70</th>\n",
       "      <td><http://dbpedia.org/resource/Quintin_E._Primo_III></td>\n",
       "      <td>Quintin E. Primo III</td>\n",
       "      <td>quintin e primo iii born march 14 1955 is the cofounder chairman and ceo of capri capital partners llc one of the largest minorityowned real estate investment management firms in the united states that advises pension funds and other institutional investors primo whose firm has 404 billion in assets under management in domestic and international commercial real estate is ranked on the forbes top twenty richest african americans in the world listprimo who is a regular contributor on cnbc is known in the real estate industry for his innovation in 2000 under primos leadership capri capital developed and launched one of the industrys first real estate mezzanine fundsas a minorityowned firm capri capital was also an early investor in americas underserved urban markets such as south los angeles in 2006 capri purchased baldwin hills crenshaw plaza one of americas oldest urban regional malls that was opened in 1947in 2012 black enterprise magazine saluted primo and his firm as its financial services company of the yearprimos latest visionary move was to become one of americas first minorityowned firms to invest overseas in september 2013 capri capital partners llc launched capri global capital limited which was formed after signing a strategic alliance with money matters financial services limited in india which included the renaming of money matters financial services limited to capri global capital limited mr primo is the newly appointed nonexecutive chairman and director of capri global capital limiteds board of directors in india in this position mr primo becomes one of if not the first africanamerican to serve on the board of an indianregistered publicly listed companyin addition to his business acumen primo is known for his philanthropy as the founder and chairman of the primo center for women and children a transition homeless shelter for moms and their kids that is located on the west side of chicago</td>\n",
       "    </tr>\n",
       "    <tr>\n",
       "      <th>71</th>\n",
       "      <td><http://dbpedia.org/resource/Geoffrey_Bayldon></td>\n",
       "      <td>Geoffrey Bayldon</td>\n",
       "      <td>geoffrey bayldon born 7 january 1924 in leeds west riding of yorkshire is a british actor after playing roles in many dramas including shakespeare he became known for portraying the title role of the childrens series catweazle 197072 after turning down the opportunity to play both the first and second doctors in the longrunning bbc science fiction television series doctor who bayldons other longrunning parts include the crowman in worzel gummidge 197981 and magic grandad in the bbc television series watch 1995bayldon made several film appearances in the 1960s and 1970s including king rat 1965 to sir with love 1967 casino royale as q 1967 the envy segment of the magnificent seven deadly sins 1971 the marc bolant rex film born to boogie and the film version porridge of the television series porridge 1979 as the governoramong his more recent television appearances was the five game show fort boyard 1998he also had a guest appearance in doctor who as organon in the creature from the pit 1979 more recently he has played an alternative first doctor in two audio plays based on the doctor who television series by big finish productions in the doctor who unbound series auld mortality and a storm of angelsother television roles include parts in the dramatisation of blott on the landscape 1985 and in two episodes of the avengers 1961 1967 and of star cops 1987 he was in the tales of the unexpected episode down among the sheltering palms 1983 he has also appeared in a number of bbc schools programmes where he has displayed a number of otherwise unexploited talents such as singing in 1993 he played simplicio in the open university video newtons revolution in 2007 he made a guest appearance in new tricks as leonard caseyin 1986 bayldon provided the vocals on paul hardcastles the wizard which was also used without the vocal as the theme for bbc tvs top of the pops</td>\n",
       "    </tr>\n",
       "    <tr>\n",
       "      <th>72</th>\n",
       "      <td><http://dbpedia.org/resource/Ulf-Dietrich_Reips></td>\n",
       "      <td>Ulf-Dietrich Reips</td>\n",
       "      <td>prof dr ulfdietrich reips is a full professor in the faculty of sciences at the university of konstanz where he holds the chair for psychological methods assessment and iscience between 2009 and 2013 he was a fulltime tenured ikerbasque research professor at university of deusto in bilbao spain and remains affiliated with ikerbasque until 2009 he was an assistant professor and lecturer oberassistent at the psychology department of the university of zurich switzerland he received his phd in 1997 and his habilitation venia legendi title privatdozent in 2004 from the university of tbingen germany in 1992 he received an ma in psychology from sonoma state university california reips spent most of his undergraduate and graduate years at the university of tbingen where he had attended the leibniz kolleg he majored in both psychology and general rhetoric as a student of walter jens and had a minor in political science in 2012 ulfdietrich reips received a first award from university of colorado boulder and is since affiliated on an honorable basis with its department of psychology and neuroscience based on his affiliation with ikerbasque the consejo superior de investigaciones cientificas spain ranked him 7th of top scientists working at spanish private universities in 2014ulfdietrich reips is working on internetbased research methodologies or iscience internet science online research methods in particular internetbased psychological experimenting a method used in experimental psychology and internetbased tests the psychology of the internet measurement the cognition of causality social media and big data in 1994 and 1995 he founded the web experimental psychology lab the first laboratory for conducting real experiments on the world wide web in 1997 he was one of the seven founders of the german society for online research dgof and wrote a book chapter on the methodology of conducting experiments via the internet that later won him a young scientist award by the german society for psychology his 2002 article in the journal experimental psychology standards for internetbased experimenting defined the field and became one of its journals most cited articles in 2005 reips was elected the first nonnorth american president of the society for computers in psychology scipulfdietrich reips is the founding editor of the international journal of internet science currently serving jointly with uwe matzat</td>\n",
       "    </tr>\n",
       "    <tr>\n",
       "      <th>73</th>\n",
       "      <td><http://dbpedia.org/resource/Marcel_J._Melan%C3%A7on></td>\n",
       "      <td>Marcel J. Melan%C3%A7on</td>\n",
       "      <td>marcel j mlanon is a philosopher and scientist who works in canada and is mostly known for his book on the french philosopher albert camus albert camus an analysis of his thought albert camus analyse de sa pense he has mostly worked together with the biologist richard d lambertprofessor mlanon teaches in the department of philosophy in the collge de chicoutimi and he is a researcher in bioethics funded by sshrc fonds de la recherche en sant du qubecfrsq and the programme de soutien des chercheurs de collge pscche is also associate professor in the department of religion and ethics at the universit du qubec at chicoutimi where he is codirector of a graduate program in bioethicshe received a masters degree in experimental medicine with a specialty in genetics from universit laval and a doctorate in philosophy from the universit de fribourg in switzerlandprofessor mlanon has authored more than two books and some articles on ethical issues in genetics with particular reference to genetic testing and screening he is currently the director of an interinstitutional and interdisciplinary group gnthiq in quebec representing researchers in genetics ethics sociology and law and codirector of the ethics division of the clinical ethics network funded by the frsqprofessor mlanon is a founding member of the canadian bioethics society where he served as vicepresident from 1986 to 1988 he is also a member of various bioethics committees and also a member of the ncehr committee on evaluation</td>\n",
       "    </tr>\n",
       "    <tr>\n",
       "      <th>74</th>\n",
       "      <td><http://dbpedia.org/resource/Mike_Powell_(journalist)></td>\n",
       "      <td>Mike Powell (journalist)</td>\n",
       "      <td>mike powell is a british former newspaper and radio journalist who hosted shows on several uk music radio stations before transitioning to station management after working in provincial newspapers in the westcountry powell joined devonair radio exeter and torbay at its launch in 1980 as a senior journalist then head of news and current affairs he later jointly hosted the breakfast showpowell moved to guildford surrey in 1983 as launch news editor of county sound radio he was promoted to program director from 1984 to 1986 and then ceo from 1986 to 1991 growing the group to four radio stations his innovations at county sound included being the first uk radio station to use rcs radio computing services selector musicscheduling software 24 hours a day and introducing the uks first gold format radio station county sound gold powell designed the programming for awardwinning station fox fm a joint venture with capital radio londonafter taking county sound to a uk stock market listing he departed to form radio investment research and management company infinity radio which set up pirate fm cornwall with powell as launch ceo pirate fm was featured on the bbc technology programme tomorrows world for its pioneering use of computerised music playoutshortly after the launch of pirate fm infinity radio merged with ukrd group where powell became ceo eventually building the group to over 20 radio stations and associated companieswhile running ukrd powell played a key role in launching manchesters kiss 102 and served as launch ceo of berkshires star fm which was joint launch customer in the uk for the computerised rcs master control studio automation system in 1995 he launched the new county sound radio network consisting of county sound radio 964 the eagle and delta radioin 2001 powell became chairman of infinity media which then separated from ukrd to concentrate on digital platform technologiesin october 2002 he joined rcs as vice president of its international division based at its world headquarters in white plains new york in october 2014 he was promoted to senior vice president international operations and chief compliance officer</td>\n",
       "    </tr>\n",
       "    <tr>\n",
       "      <th>75</th>\n",
       "      <td><http://dbpedia.org/resource/Vladimir_Yurchenko></td>\n",
       "      <td>Vladimir Yurchenko</td>\n",
       "      <td>uladzimir vasilyevich yurchanka belarusian russian born 26 january 1989 in mogilev is a belarussian footballer who plays for shakhtyor salihorskyurchenko made his debut for the u21 national team on 9 september 2008 in a match against latvia u21 he was part of the belarus u21 side that participated in the 2009 uefa european under21 football championship and made appearances in all three matches on 12 august 2009 yurchenko netted his first goal for the belarus u21 team opening the scoring against the austria u21 in the 21 home win in a 2011 uefa european under21 football championship qualifier on 12 october 2010 yurchenko netted twice to help his team to a 30 win against italy u21 which secured qualification for the 2011 uefa european under21 football championshipon 2 november 2010 yurchenko earned his first callup to the senior team of his country but was subsequently injured and withdrawn from the squad for the friendly match against omanon 1 june 2011 yurchenko was selected to take part in the 2011 uefa european under21 football championship in denmark but was injured in a pretournament friendly and missed the competition he was replaced by aliaksandr perepechka following his recovery from injury he made the belarusian squad for the 2012 toulon tournament and participated in all three group stage matches he was also selected as part of the preliminary squad including 43 players for the 2012 london olympics but did not make the final cut of 22 18 nominees 4 reserves footballers for the games</td>\n",
       "    </tr>\n",
       "    <tr>\n",
       "      <th>76</th>\n",
       "      <td><http://dbpedia.org/resource/Nobuo_Uematsu></td>\n",
       "      <td>Nobuo Uematsu</td>\n",
       "      <td>nobuo uematsu uematsu nobuo born march 21 1959 is a japanese video game composer best known for scoring the majority of titles in the final fantasy series he is considered one of the most famous and respected composers in the video game community uematsu a selftaught musician began playing the piano at the age of eleven or twelve with elton john as his biggest influenceuematsu joined square later square enix in 1986 where he met final fantasy creator hironobu sakaguchi they have worked together on many video game titles most notably the games in the final fantasy series after 18 years with square he left in 2004 to found his own company called smile please and the music label dog ear records he has since composed music as a freelancer for many other video games including ones developed by square enix and sakaguchis development studio mistwalkersoundtracks and arranged albums of uematsus game scores have been released pieces from his video game works have been performed in final fantasy concerts he has worked with grammy awardwinning conductor arnie roth on several of these concerts from 2002 to 2010 he was in a rock band with colleagues kenichiro fukui and tsuyoshi sekito called the black mages in which he played electronic organ and other keyboards the band played arranged rock versions of uematsus final fantasy compositions he has since performed with his band earthbound papas</td>\n",
       "    </tr>\n",
       "    <tr>\n",
       "      <th>77</th>\n",
       "      <td><http://dbpedia.org/resource/John_Warner_(writer)></td>\n",
       "      <td>John Warner (writer)</td>\n",
       "      <td>john warner born 1970 is an american writer and editor he is the author of four books and the editor of mcsweeneys internet tendency he is a frequent contributor to the morning news and has been anthologized in may contain nuts stumbling and raging more politically inspired fiction and the future dictionary of america he frequently collaborates with writer kevin guilfoile warners most debut novel was the funny man the book has been reviewed by publishers weekly and kirkus reviews his most recent work is the short story collection a tough day for the army edited by michael griffith and published by the lsu press series yellow shoe fictionhe is the chief creative czar of tow books a publishing imprint dedicated to humorous books distributed by fw publications incwarner was born in northbrook illinois his great uncle is the american writer allan seagerhe previously taught at clemson university in clemson sc his focus was creative writing and he was the director of a humor creative inquiry in this inquiry he was working to teach students what humor is and how to create it this three course series resulted in a student publication in 2008currently warner teaches creative writing at college of charleston in charleston sc</td>\n",
       "    </tr>\n",
       "    <tr>\n",
       "      <th>78</th>\n",
       "      <td><http://dbpedia.org/resource/Doug_McIntosh></td>\n",
       "      <td>Doug McIntosh</td>\n",
       "      <td>doug mcinstosh is a retired american basketball player and is currently a pastor he won two national championships at ucla and appeared on the cover of sports illustrated magazine in 1965mcintosh a center from lily high school in lily kentucky went west to play college basketball for future hall of fame coach john wooden at the university of california at los angeles he was a key reserve for the bruins as they won their first national title in 1964 playing 30 minutes in the championship game against duke and grabbing 11 rebounds mcintosh became a starter for his junior and senior seasons anchoring the pivot for woodens 1965 champions as a junior for his bruin career mcintosh scored 543 points 64 per game and 486 rebounds 57 per gameyears later john wooden would say that doug mcintosh was one of the two players in his coaching tenure who came closest to fulfilling their potential wooden stated that he didnt believe that mcintosh would play much but that he surprised him as a significant contributor as a sophomore and a starter the next two years through his hard workfollowing his college career doug mcintosh was not drafted in the 1966 nba draft he attended seminary at dallas theological seminary and later cofounded the cornerstone bible church in lilburn georgia</td>\n",
       "    </tr>\n",
       "    <tr>\n",
       "      <th>79</th>\n",
       "      <td><http://dbpedia.org/resource/Avi_Muchnick></td>\n",
       "      <td>Avi Muchnick</td>\n",
       "      <td>avi muchnick born 1979 is an artist author programmer and entrepreneurin 2002 while attending benjamin n cardozo school of law muchnick cofounded the popular creative contest site worth1000 together with israel derdikin 2007 he cofounded aviary a company that built an awardwinning multimedia application suite of creative web apps with israel derdik and michael galpert as ceo he raised 17 million in venture capital from amazon founder jeff bezos mit media lab director joi ito linkedin founder reid hoffman venture capital firm spark capital and other notable investors in september 2011 citing stalling growth of the multimedia application suite he shifted aviarys business strategy to powering the photoediting in thirdparty apps on web and mobile smart phones seeing enormous immediate growth he chose to focus the company exclusively around this new direction and closed down aviarys consumerfacing multimedia application suite one year later on september 15 2012 as of march 2013 aviary announced passing 35 million monthly active users 3500 partners and 3 billion photos edited across its partner network muchnick served as ceo until december 2012 when he brought on former walmart executive tobias peggs to take over at which point he stepped into the chief product officer role on september 22 2014 aviary was acquired by adobe systemsmuchnick was named one of the top 35 innovators under 35 by mits technology review magazine in 2010</td>\n",
       "    </tr>\n",
       "    <tr>\n",
       "      <th>80</th>\n",
       "      <td><http://dbpedia.org/resource/Robin_MacPherson></td>\n",
       "      <td>Robin MacPherson</td>\n",
       "      <td>robin macpherson born 1959 glasgow scotland is professor of screen media at edinburgh napier university director of screen academy scotland a creative skillset film academy partnership with edinburgh college of art and of the institute for creative industries at edinburgh napiereducated at garthamlock secondary school glasgow and at the university of stirling he entered the film and television industry in 1989 as a producer at edinburgh film workshop trust where he made documentary current affairs and drama including the baftanominated halfhour drama the butterfly man in 1997 he established asylum pictures an independent production company whose films include the scottishbafta nominated documentary tree fellers and as coproducer the awardwinning fellini im a born liarafter two years as development executive at scottish screen in 2002 he joined edinburgh napier university where in 2005 he became the first director of screen academy scotland since 2008 he has led engage an eu mediafunded collaboration with the irish estonian and finnish national film schoolsin 2010 he was appointed by the scottish government to the board of creative scotland the following year he was appointed as director of the institute for creative industries at edinburgh napier university in april 2011 he joined the board of creative edinburgh</td>\n",
       "    </tr>\n",
       "    <tr>\n",
       "      <th>81</th>\n",
       "      <td><http://dbpedia.org/resource/Judi_Silvano></td>\n",
       "      <td>Judi Silvano</td>\n",
       "      <td>judi silvano born 1951 is a jazz singer and composer a native of philadelphia her singing style bears similarity to norwegian jazz singer karin krog she is a scholar of sheila jordan and of jeanne lee silvano researches and performs underrepresented music by women composers some of which is featured on her womens work cd on jsl records her 10th recording as leader indigo moods cd on jazzed media is a collection of standards from the great american songbook played in an empathetic trio with just piano voice and trumpet silvano also writes many original songs with or without lyrics as well as chamber music pieces and has had her compositions played on stages in new york city and in europe composer lori dobbins wrote sketches for silvano for her scored for voice percussion and vibes jazz pianist and composer kenny werner wrote the vocal narrator part for silvano in his no beginning no end for wind and percussion ensemble her husband is tenor saxophonist joe lovano and upon marriage she changed her name from formerly silverman to silvanobefore attending college she studied flute piano and dance she has a bachelors degree in music and dance from temple university of philadelphia she has taught at rutgers university and other collegesshe has collaborated with joe lovano mal waldron kenny werner and bill frisell aside from performing in the united states she has toured europe since 2011 she has been studying painting at the wallkill river school of art in montgomery ny and has had 3 solo art shows recently with her many watercolor and pastel paintings</td>\n",
       "    </tr>\n",
       "    <tr>\n",
       "      <th>82</th>\n",
       "      <td><http://dbpedia.org/resource/Evelin_Lindner></td>\n",
       "      <td>Evelin Lindner</td>\n",
       "      <td>evelin gerda lindner born may 13 1954 in hameln germany is a transdisciplinary scholar in social sciences and humanities she holds two doctorates one in medicine and the other in psychology her research focuses on human dignity and she believes that the humiliation of honor and dignity may be among the strongest obstacles on the way to a decent world community she is the founding president of human dignity and humiliation studies humandhs a global transdisciplinary fellowship of concerned academics and practitioners who wish to promote dignity and transcend humiliationher parents were displaced from silesia in 1946 and she therefore grew up in west germany she has since confirmed that her familys traumatic experiences have formed the background of her workin 1994 she obtained her first doctorate in medicine dr med from the university of hamburg germany and in 2001 her second doctorate in psychology dr psychol from the university of oslo norway she graduated in psychology in 1978 and in medicine in 1984 both from the university of hamburg and heidelberg university she has also studied law and sinology at the goetheuniversitt frankfurt am main philosophy at the university of hamburg and has participated in the norwegian research councils ethics programme under philosopher dagfinn fllesdalsince 1977 lindner often spends time in norway following her marriage to a norwegian from 1984 to 1991 she also lived and worked in cairo egypt where she was a clinical psychologist and psychological counselor at the american university in cairo for 3 years and had her own practice for 4 years she also lived studied and did research in asia japan 3 years china thailand australia new zealand in africa west africa somalia kenya rwanda burundi in the middle east usa and in europe mostly in france belgium and switzerland in 1993 she founded the ngo better global understanding and organized an important peace festival in hamburg and in 1994 she was a candidate in the european parliament election 1994she speaks english french german norwegian and egyptian arabic fluently and is familiar with a number of other languages among others swedish danish dutch portuguese russian chinese japanese indonesian and modern hebrewsince 1997 she is affiliated with the university of oslo where she wrote her doctoral dissertation from 1997 to 2001 since 2001 she is also affiliated with columbia universitys advanced consortium on cooperation conflict and complexity ac4 in new york since 2003 she is furthermore affiliated with the maison des sciences de lhomme in paris her first book making enemies humiliation and international conflict has been honored as outstanding academic title by the journal choice for 2007 in the usa she published her second book in 2009 on emotion and conflict also her third book on gender humiliation and global security that was published in 2010 with a foreword by desmond tutu is being highly recommended by choice she has also written numerous articles and book chapters for example for bernt hagtvets anthology genocides black book 2008 she has received several awards among them the prisoners testament peace award in 2009lindner advocates equality in dignity locally and globally she has chosen norway as a main base because she believes that norway is in a unique historical position the ideal of equality in dignity likeverd in norwegian is at the core of the human rights message it is at the same time deeply rooted in norwegian culture and an important part of norwegian heritage while it is new to cultures with more hierarchical traditions that stand for social inequality research points at the importance of equality for health and stability both at the individual and the community level equality in dignity is important for a sustainable future locally and globally lindner believes that norway has a responsibility to make the norwegian cultural heritage more accessible globally norway enjoys very high reputation in the world which means that the message of equality in dignity when it comes from norway has a greater impact</td>\n",
       "    </tr>\n",
       "    <tr>\n",
       "      <th>83</th>\n",
       "      <td><http://dbpedia.org/resource/Robert_S._Gold></td>\n",
       "      <td>Robert S. Gold</td>\n",
       "      <td>robert s gold is a researcher in the application of computer technology to health education and health promotion his publications include more than seventy research and evaluation articles dozens of pieces of software for organizations such as the american cancer society and the department of defense commercially published software including healthquest and abledata and several textbooks gold is professor of health education and dean of the school of public health at the university of maryland college parkhe earned an associate of science from orange county community college in 1967 followed by a bs in biology from the state university of new york at brockport in 1969 he earned his ms in health education at the same school two years later gold earned a phd in health education from the university of oregon in 1976 and a drph with a specialization in community health practice from the university of texas school of public health at houston in 1980 he was an instructor in suny brockports department of health science 19701974 before earning his phd and returned there as assistant professor from 1976 through 1978 after completing the degree while working on his second doctorate he served as an evaluator for the texas department of mental health and mental retardation he next joined the faculty of southern illinois university at carbondale siuc in 1980 as associate professor of health education he received a leave of absence from siuc in 1984 to serve as director of the school health initiative of the us department of health and human services in 1986 he joined the faculty of the university of maryland college park as professor of health education from 1988 through 1989 he joined the world health organization where he was invited to help reestablish whos division of health educationhealth promotion in 1990 he began dividing his time between the university of maryland and macro international where he became vice president and director of public health research in 1994 in 1999 he returned to a fulltime faculty position at the university of maryland and became chair of umds department of public and community health since july 2002 gold has been dean of the school of public health college of health and human performance prior to 2005 at the university of maryland at college park he is also the director of the public health informatics lab at umd a research and evaluation lab that heavily emphasizes multimediabased training and educational applications gold works in the application of advanced technologies to health education ranging from interactive video and computer software to knowledge management decision support and expert systems technology during his years at suny brockport he partnered with david f duncan in offering a course on computers in health education in 1980 gold and duncan published two papers on the use of computers in health education the second of these explored the potential of personal computers several years later at southern illinois university gold and duncan taught the first course on pcbased health education during his tenure at siuc he spent several summers at the university of cologne where he collaborated with klaus klein in developing applications of computers in health education beginning in 1983 gold wrote a regular column in the journal of health education entitled computing health</td>\n",
       "    </tr>\n",
       "    <tr>\n",
       "      <th>84</th>\n",
       "      <td><http://dbpedia.org/resource/Agnes_Baltsa></td>\n",
       "      <td>Agnes Baltsa</td>\n",
       "      <td>agnes baltsa greek a m born 19 november 1944 is a leading greek mezzosopranobaltsa was born in lefkada she began playing piano at the age of six before moving to athens in 1958 to concentrate on singing she graduated from the greek national conservatoire in 1965 and then travelled to munich to continue studying under a maria callas scholarship baltsa made her first appearance in an opera in 1968 as cherubino in the marriage of figaro at frankfurt opera before going on to appear as octavian in der rosenkavalier at the vienna state opera in 1970 under the guidance of herbert von karajan she soon became a regular at the prestigious salzburg festival she became kammersngerin of the vienna state opera in 1980her most well known performance is that of carmen by georges bizet which she has sung a number of times with jos carreras she has also sung works by mozart notably cos fan tutte rossini il barbiere di siviglia la cenerentola semiramide litaliana in algeri mascagni cavalleria rusticana saintsans samson et dalila verdi aida la forza del destino il trovatore don carlos bellini i capuleti e i montecchi and donizetti il campanello maria stuardashe also starred in the austrian film duett in 1992 playing an opera singer</td>\n",
       "    </tr>\n",
       "    <tr>\n",
       "      <th>85</th>\n",
       "      <td><http://dbpedia.org/resource/Zvonimir_Juri%C4%87></td>\n",
       "      <td>Zvonimir Juri%C4%87</td>\n",
       "      <td>zvonimir juri born 4 june 1971 is a croatian film director and screenwriterborn in osijek juri finished his primary and secondary education in his hometown as a teenager the 1980s he appeared in minor roles in a number of tv series produced by tv zagreb such as the 10part biographical series nikola tesla 1977 the partisan series nepokoreni grad 1982 and the popular childrens series smogovci 1982after graduating from high school juri spent the 199192 semester studying film directing at the loyola marymount university in los angeles in 1992 he returned to croatia and enrolled at the film directing department of the academy of dramatic art in zagreb while a student at the academy juri directed several short films and documentarieshis feature film directorial debut which he codirected and cowritten with goran devi was a critically acclaimed 2009 psychological war drama titled the blacks the film deals with a fictional croatian army unit who refuse to lay down their arms during a ceasefire in the croatian war of independence the film won juri and devi the golden arena for best director at the 2009 pula film festival the croatian national film awards it went on to be selected as croatias submission to the 83rd academy awards for the academy award for best foreign language film but it failed to make the final shortlist</td>\n",
       "    </tr>\n",
       "    <tr>\n",
       "      <th>86</th>\n",
       "      <td><http://dbpedia.org/resource/John-Paul_Himka></td>\n",
       "      <td>John-Paul Himka</td>\n",
       "      <td>johnpaul himka born may 18 1949 in detroit michigan is a canadian historian and retired professor of history of the university of alberta in edmonton he is of mixed ethnic background ukrainian on fathers side and italian on mothers initially he wanted to become a greek catholic priest and studied at st basil seminary in stamford connecticut however due to the radicalization of his political views to the left by the end of the 1960s he did not pursue that vocationhimka received his ba in byzantineslavonic studies and phd in history from university of michigan in 1971 and 1977 respectively the title of his phd dissertation was polish and ukrainian socialism austria 18671890 as a historian himka was a marxist in the 1970s80s but became influenced by the postmodernism in the 1990s in 2012 he defined his methodology in history as eclecticsince 1977 he taught at university of alberta department of history and classics he became full professor in 1992 and retired from the university in 2014in his academic interests himka focused on history of greek catholic church and socialism in habsburg galicia sacred culture of the eastern slavs on iconography in particular and the holocaust in ukraine since the late 1990s his contention with what he calls ukrainian nationalist historical myths became subject of increasing sometimes heated debates both in ukraine and ukrainian diaspora especially in north america himka challenged the interpretation of holodomor as a genocide and the view that ukrainian nationalism and nationalists played none or almost to none role in the holocaust in ukraine he also opposed official glorification of such nationalistic heroes as roman shukhevych and stepan bandera in ukraine during presidency of viktor yushchenko</td>\n",
       "    </tr>\n",
       "    <tr>\n",
       "      <th>87</th>\n",
       "      <td><http://dbpedia.org/resource/Elisha_Qimron></td>\n",
       "      <td>Elisha Qimron</td>\n",
       "      <td>elisha qimron is an academic in the study of ancient hebrew in which he took his phd in 1976 at the hebrew university of jerusalem writing his dissertation on the hebrew of the scrolls currently he is a professor in the department of hebrew language at bengurion university of the negev in israel for several decades he has been one of the team of international scholars working on the dead sea scrolls in particular on the texts found in cave 4 at qumranin 1979 qimron was coopted by john strugnell the editorinchief of the dead sea scrolls publication team to assist in completing longoverdue work on the halakhic letter 4qmmt on which strugnell had been working alone since 1959 the work on the fragments was eventually completed and published in 1994 qimron was the first israeli scholar on the teamduring the late 1970s and early 1980s many scholars felt frustrated at the delay in publishing the dead sea scrolls it was generally known that most of the texts had been translated but were still not available to researchers some also complained about the proprietary attitude of some of strugnells team toward the scrolls they were working on which made access to them difficult if not impossible in some caseshershel shanks of the biblical archaeology society decided that the reconstructions of the dead sea scrolls should be made available to scholars so in 1992 he published the twovolume a facsimile edition of the dead sea scrolls which included without permission material on the halakhic letter 4qmmt that qimron had been working on for some eleven years qimron had even given the document its titleqimron decided to sue the biblical archaeology society for breaching his copyright on the grounds that the research bas had published was his intellectual property as he had reconstructed about 40 of the published text such reconstruction is unique in the sense that if the original photographs had been given to a hundred different researchers a hundred different reconstructions would be made in 1993 judge dalia dorner of the israeli supreme court awarded qimron the highest compensation allowed by law for aggravation in compensation against hershel shanks and others a 2000 appeal in front of judge aharon barak and colleagues against the verdict was upheld in qimrons favor</td>\n",
       "    </tr>\n",
       "    <tr>\n",
       "      <th>88</th>\n",
       "      <td><http://dbpedia.org/resource/Robert_Grant_Irving></td>\n",
       "      <td>Robert Grant Irving</td>\n",
       "      <td>robert grant irving phd is an author and lecturer specializing in the history of art and architecture of britain and the british empire his book indian summer lutyens baker and imperial delhi yale university press 1981 and oxford university press 1982 is the story of the creation of new delhi from 1911 to 1931 the grandest architectural undertaking in the history of the british empire the principal architects were the two leading practitioners of the day sir edwin lutyens and sir herbert baker dr irvings book won the british council prize in the humanities as well as the highest honor of the society of architectural historians the alice davis hitchcock book awarddr irving was born in hartford connecticut of scottishcanadian parents and was educated at balliol college oxford kings college cambridge and yale university he holds degrees in history and the history of art and architecture a fellow of berkeley college at yale he has taught at yale wesleyan trinity college in hartford and the university of virginia dr irving has lectured at universities and museums on six continents he has held research grants in india africa britain and the united states including a fulbright scholarship and fellowships from the woodrow wilson national fellowship foundation american institute of indian studies american council of learned societies ernest oppenheimer memorial trust national endowment for the humanities and the john simon guggenheim memorial foundationdr irving has been a lifetime advocate and activist for historic preservationduring his studies at yale in preparation for his dissertation mr irving had been conducting research in india in 196869 mr irving had placed all his research material in two trunks that were shipped from new delhi to hartford upon his return to yale in 1969 he discovered that pan american world airways had lost his research the airline permitted mr irving to visit john f kennedy airport to search through 16 acres not 60 as stated in a news article of unclaimed luggage he was able to locate one trunk but the contents had become damaged and useless because of exposure to the weather mr irving filed a successful 15000 not 35000 as stated in a press article lawsuit in order to recoup expenses accrued on his return to india to redo his entire research and photography discovered too late to be of use the second trunk surfaced at a boston airport warehouse after more than four yearsthe completed dissertation became the basis for the awardwinning book indian summer</td>\n",
       "    </tr>\n",
       "    <tr>\n",
       "      <th>89</th>\n",
       "      <td><http://dbpedia.org/resource/Sam_Leach_(artist)></td>\n",
       "      <td>Sam Leach (artist)</td>\n",
       "      <td>sam leach born 1973 is an emerging australian contemporary artist he was born in adelaide south australia leach worked for many years in the australian tax office after completion of a degree in economics he also completed a diploma of art bachelor of fine art degree and a master of fine art degree at rmit in melbourne victoria leach currently resides in melbourneleachs work has been exhibited in several museum shows including optimism at the queensland art gallery and neo goth at the university of queensland art museum in 2008 in 2009 the shilo project at the ian potter museum of art and horror come darkness at the macquarie university art gallery and still at hawkesbury regional gallery in 2010 his work is held in public collections of regional galleries of geelong gold coast coffs harbour newcastle and gippsland and the collections of latrobe university and the university of queensland his portrait of musical comedian tim minchin won the archibald prize one of australias most noteworthy art prizes in 2010 in the same year he won the wynne prize for his landscape proposal for landscaped cosmos in doing so he became only the third artist after william dobell and brett whiteley to win the archibald portrait prize and the wynne landscape prize in the same year the award has generated some controversy due to the similarities acknowledged by leach between his work and one by seventeenthcentury dutch artist adam pynacker</td>\n",
       "    </tr>\n",
       "    <tr>\n",
       "      <th>90</th>\n",
       "      <td><http://dbpedia.org/resource/Patricia_Crowther_(caver)></td>\n",
       "      <td>Patricia Crowther (caver)</td>\n",
       "      <td>this article is about the cave explorer for the wiccan see patricia crowther wiccanpatricia pat p crowther born 1943 later known as patricia p wilcox is an american cave explorer and cave surveyor active in the 1960s and early 1970s she also worked as a computer programmercrowther was wellknown among kentucky cavers for her slight frame she weighed 115 pounds and her extreme dedication these two traits led her to pursue promising leads that other cavers were unwilling or unable to attempt of particular note is her traversal of a narrow canyon known as the tight spot in the portion of the flint ridge cave system underlying houchins valley the tight spot proved to be the critical juncture leading to the passages connecting mammoth cave and the flint ridge cave system both patricia crowther and her thenhusband will crowther participated in many expeditions that attempted to connect the caves she was part of the september 9 1972 expedition that discovered and surveyed the historic final connectioncrowther earned a bs degree in physics at mit where she met and married william the couple had two daughters sandy and laura and divorced in 1976 around 1977 crowther married john wilcox who had led the cave connection expeditionscrowther authored the grand kentucky junction an account of the expeditions undertaken to connect the mammoth and flint ridge cave systems</td>\n",
       "    </tr>\n",
       "    <tr>\n",
       "      <th>91</th>\n",
       "      <td><http://dbpedia.org/resource/Katja_Herbers></td>\n",
       "      <td>Katja Herbers</td>\n",
       "      <td>katja mira herbers dutch pronunciation ktja mira rbrs born 19 october 1980 is a dutch actress of theatre film and televisionherbers was born on 19 october 1980 in amsterdam in the netherlands she is the daughter of dutch violinist vera beths and german oboist and conductor werner herbers she had a canadian au pair and learned to speak dutch german and english while growing upherbers went to the ignatius gymnasium in amsterdam from 1993 to 1999 she studied psychology at the university of amsterdam 19992000 but stopped after a year during her studies she attended the local theatre school de trap she then went to the hb studio in new york city 20002001 and studied theatre at the theaterschool in amsterdam 20012005during her studies she played in the films peter bell 2002 and brush with fate 2003 after her graduation herbers became a member of ntgent in ghent she is currently member of the munich kammerspiele in munich and het nationale toneel in the hague she lives in munich and amsterdam in 2013 she won the guido de moor award for young talentshe performed the piece im wunderschnen monat mai with pianist conductor and composer reinbert de leeuw in 2013in february 2014 it was announced that she will play the role of the only female physicist at los alamos in the wgn americas drama series manhattan</td>\n",
       "    </tr>\n",
       "    <tr>\n",
       "      <th>92</th>\n",
       "      <td><http://dbpedia.org/resource/Shaka_Hislop></td>\n",
       "      <td>Shaka Hislop</td>\n",
       "      <td>neil shaka hislop cm born 22 february 1969 is a former football goalkeeper the majority of his career was spent in the top division in england where he was a part of the newcastle united team which finished second in the premier league for two successive seasons under kevin keegans first tenure before this he played for reading where he was on the losing side in the 1st division playoffs despite finishing second overall which became an automatic promotion slot the following season he later played for west ham united on two separate occasions receiving an fa cup runnerup medal during his second term in 2006 and also portsmouth where he won the 1st division in 200203he was eligible to play for both england and trinidad and tobago he initially played for the england u21 team and was on the bench for a full international against chile but in the end opted to play for trinidad tobago a dispute with the national team ruled him out of contention for several years but he returned to play and starred in the countrys first ever world cup appearance in 2006he is now working for sports news and broadcasting service espn and regularly provides commentary on eredivisie serie a and mexican liga mx matches he had also briefly worked as a goalkeeping coach for the football team at quinnipiac university</td>\n",
       "    </tr>\n",
       "    <tr>\n",
       "      <th>93</th>\n",
       "      <td><http://dbpedia.org/resource/Martin_Iveson></td>\n",
       "      <td>Martin Iveson</td>\n",
       "      <td>martin iveson is a british composer known for his audio work within the video games industry and better known for his contributions to the world of music releases martins music ranges from mainstream house music to deep house hiphop and nu jazz and he writes under the moniker atjazz martin also owns and runs atjazz record companyfrom his misspent youth skateboarding the frontier towns of north eastern england martin iveson arrived into the uks midland scene in the early nineties here he was to take a job at a new computer games development studio by the name of core design ltd this company is now synonymous with lara croft and the series of tomb raider gamesnot content with scoring this one of the worlds most famous video games martin left the company 13 years later to concentrate more on his own studio environment in which to channel his musical aspirations further and invite other musicians and producers to do the samethe success of his early works including his first ep story in 1996 led to the wellreceived album that something which was later licensed in japan by sonykioon in 1998 this debut album also featured cover artwork by fujio akatsuka very well known in japan for his illustrations and animated cartoons with two further albums labfunk labresults following soon after atjazz had at this time established himself as a distinct and inspirational voice in the underground music scenemartin has also been a prolific remixer throughout his career remixing and reworking songs works for artists such as nitin sawhney bob sinclar jazzanova zed bias omar to name but a few and was even requested to rework henri mancinis the pink panther returns for emi records martin is still remixing heavily as he states that remixing has helped to launch his production techniques forward and its the perfect practice pitch for trying out new ideas and breaking the mould within a diluted industry remixing helps to hone your sound and allows the producer to print their trademark into another spacemartins trademark sound has been requested on many occasions by top class vocalists including clara hill replife deborah jordan for their own artist album projects and also rubbing shoulders with some amazing musicians producers along the way martin has also teamed up with worldclass production legend charles webster as version and are working on their debut album for miso records2009 saw martin close his label mantis recordings due to harsh industry changes and from these ashes came the imprint appropriately named atjazz record company which has flown to great heights within the digital realm and has seen many fantastic and sought after releases including his 3rd long player full circle this label concentrates heavily on martins productions and collaborations atjazz record company is a new chapter for atjazz but with a continuation of his trademark soundmartin atjazz iveson is in demand across the world whether it be renowned producer sought after remixer or floor filling dj martin gives his heart to hold the soulhe cites shostakovich stravinsky john frizzell and john williams as influencers for the soundtrack of tomb raider the angel of darkness</td>\n",
       "    </tr>\n",
       "    <tr>\n",
       "      <th>94</th>\n",
       "      <td><http://dbpedia.org/resource/Eva_Habermann></td>\n",
       "      <td>Eva Habermann</td>\n",
       "      <td>eva felicitas habermann born january 16 1976 is a german actress who has appeared in numerous films and tv series she is best known for playing the role of zev bellringer in the television series lexx she was succeeded in her role by xenia seebergwhile studying for the german equivalent of her senior high school diploma advanced placement courses only eva received singing and dancing lessons soon after graduation she obtained her first television role in lexx she also moderated the children pumuckl tv broadcast on german tv 19951996while lexx was on hiatus between seasons 1 and 2 eva appeared in the zdf series rosa roth and the ard series the beach club as well as appearing in the rosamunde pilcher film two sisters due to scheduling conflicts she was ultimately unable to commit to the second season of the show as with a twoyear gap between the first and second seasons she accepted other projects and thus when season two was ultimately greenlit she was unavailable she was however able to free up enough time in her schedule to appear in the first two episodes allowing the writers to deal with her character properlyin 1999 she took drama lessons and played in such german tv series as the crime scene the investigators the commissioner and wild angelsin 2005 she was in the new episodes of the twentyyearold series the black forest clinic and in 2006 she was seen in the tv movie in heaven you write love differently alongside erol sanderin 2008 she played again with sander the role of olivia orourke in the film who loves promises by rebecca rymanher comedy roles included angel express 1997 fire ice and cans of beer 2001 and in the old monkey fear 2002in the clown payday 2005 she played the role of leah diehlin 2003 she was ranked no 17 in fhmgermanys 100 sexiest women</td>\n",
       "    </tr>\n",
       "    <tr>\n",
       "      <th>95</th>\n",
       "      <td><http://dbpedia.org/resource/Steve_Castle></td>\n",
       "      <td>Steve Castle</td>\n",
       "      <td>steve castle born 17 may 1966 in barking is a former english football midfielder who played in the football league between 1984 and 2001 he played for leyton orient in three separate spells amassing a total of 322 appearances for them castles combative style attracted the attention of liverpool boss kenny dalglish and wimbledon manager bobby gould castle was named in the pfa third division team of the year for the 199091 season a twitter poll in 2014 saw castle voted as orients greatest ever captainhe also played league football with plymouth argyle birmingham city gillingham and peterborough unitedplymouth argyle boss peter shilton was seeking a midfield general to rally his newlook squad following relegation from the second tier in 1992 on the advice of a scout he took in a game at brisbane road and left at halftime instructing argyle director denis angilley to start negotiations as he had seen enough of his target a 225000 transfer fee duly paid castle headed to home park and was promptly injured in a preseason friendly argyle fans would have to wait until late october to see their new midfield marvel in meaningful action but it turned out to be well worth the wait he scored on his debut in a 20 victory vs wigan athletic and by seasons end had notched up 12 more he continued in a similar vein the following season as argyle marched to the playoffs bagging 16 goals by christmas and eventually ending the campaign with 22 the undisputed highlight of his argyle career and one of his own personal highlights incidentally was a recordbreaking hattrick in a fine 32 win at stockport county in december 1993 his three goals in six secondhalf minutes were an astonishing feat and one that confirmed his place as a firm favourite of the fans indeed super stevie castle became home parks undisputed golden boy thanks to his barnstorming allaction style and a left foot that developed an intimate relationship with the back of the net castle was named alongside his midfield partner steve mccall in the alltime argyle xi in a poll taken on the clubs website in 2011 he was named in the pfa second division team of the year for the 199394 season before transferring to birmingham city in 1995castle joined peterborough on a free transfer as playercoach for the 199798 season and over the next three seasons he played 122 senior matches and scored 20 goals winning the playoff final at wembley in his final game he moved to leyton orient on a free for 200001 in his final season at orient castle gained his uefa a coaching licence castle retired due to a persistent knee injuryin september 2006 he became assistant manager to jimmy quinn at cambridge unitedon the 13th december 2013 he became royston town manager with his first game in charge expected to be the boxing day home fixture against top of the table dunstable town</td>\n",
       "    </tr>\n",
       "    <tr>\n",
       "      <th>96</th>\n",
       "      <td><http://dbpedia.org/resource/Armen_Ra></td>\n",
       "      <td>Armen Ra</td>\n",
       "      <td>armen ra is an american artist and performer of iranianarmenian descent born in tehran iran he was raised by his mother a concert pianist and his aunt an opera singer and ikebana master he taught himself to play theremin his music fuses armenian folk music with modern instrumentation along with melodic lounge standards and classical arias his concerts are known for their combination of both visual arts and his musicarmen ra has played at the united nations wiener konzerthaus mozartsaal vienna cbgbs knitting factory la mama etc joes pub boulder museum of modern art lincoln center the gershwin hotel bb king museum and dietch projects he has been featured on and appeared in cnn hbo mtv vh1 vogue the new york times the new york post the village voice rolling stone and glamourhe has performed and recorded with various bands and on many projects including a collaboration with british recording artist marc almond on the song my madness i from his 2010 release variet his debut solo cd plays the theremin released on bowl fork records in 2010 showcases many classical armenian laments and folk songs representing both armens heritage and his very first musical influence he has a cameo appearance in the film party monsterhe currently resides in hollywood californiain october 2010 armen appeared as a guest judge on the logo network show the arrangementra appeared on the cover track everyday is halloween playing the theremin for sharon needles album pg13 in 2014 he played the theremin for voltaires album raised by bats</td>\n",
       "    </tr>\n",
       "    <tr>\n",
       "      <th>97</th>\n",
       "      <td><http://dbpedia.org/resource/David_Shaughnessy></td>\n",
       "      <td>David Shaughnessy</td>\n",
       "      <td>david james shaughnessy also spelled shaughnessey is a britishborn television director theatre director and producer and actor he was educated at eton college and the central school of speech and drama london he started in repertory theatres all around the uk and went on to become a principal actor with the old vic theatre company in london and touring around the world he went on to perform in national tours including 18 months in godspell for producer cameron mackintosh and acted in television series and movies both in the uk and the uslater he turned to theatre and television directing then moved into producing ultimately becoming executive producer of the daytime drama the young and the restless he now directs for the bold and the beautiful on a freelance basis while developing and seen a service for actors with geoffrey wade he also provides voiceovers for films cartoons commercials and video gameshis father was alfred shaughnessy a scriptwriter he is best known for his work as writer and producer of upstairs downstairs his older brother is the actor charles shaughnessy best known as maxwell sheffield on the television show the nanny his wife is former days of our lives head writer anne schoettle david and anne live in los angeles and have three daughters amy katie and josiehe is the heir presumptive to the barony of shaughnessy which is held by his brother</td>\n",
       "    </tr>\n",
       "    <tr>\n",
       "      <th>98</th>\n",
       "      <td><http://dbpedia.org/resource/John_Reynolds_(Canadian_politician)></td>\n",
       "      <td>John Reynolds (Canadian politician)</td>\n",
       "      <td>john douglas reynolds pc born january 19 1942 was the member of parliament for the riding of west vancouversunshine coastsea to sky country in the canadian house of commons from 1997 to 2006 he had also been an mp in the 1970s as well as a provincial politician in british columbia in the 1980s and 1990s he was first elected to parliament as a candidate of the progressive conservatives in 1972 and was reelected in 1974 he resigned in 1977 after disagreeing with joe clarks red tory policiesbeginning in 1983 he was active in the social credit party of british columbia and served as speaker of the british columbia legislative assembly and as a cabinet minister in 1986 he was a candidate at the social credit leadership convention coming in fifth he remained in provincial politics until 1991 when he was defeated in his bid for reelectionreynolds returned to parliament in 1997 as a reform mp and served as chief opposition whip he remained in this role when the reform party was folded into the canadian alliance when stockwell day faced a revolt in his caucus in 2001 and chuck strahl resigned as house leader reynolds was named in his place when day resigned as alliance leader reynolds was chosen as interim party leader and leader of the opposition and served until stephen harper was elected the new party leaderreynolds resigned as house leader on january 24 2005 but continued as mp for his riding until his retirement at the 2006 federal election he was the coordinator of the conservative campaign in british columbia on the day after the election which resulted in a conservative minority government harper asked reynolds to approach liberal minister david emerson about crossing the floor and serving as a minister in harpers government emerson eventually accepted the offer which triggered a firestorm of criticism however reynolds who had strongly criticized belinda stronachs switch from the conservatives to the liberals told a suburban vancouver newspaper that he was very happy that emerson was a conservative and claimed that the people of emersons leftleaning vancouver riding got the better end of the bargain instead of having someone in opposition he said they have someone who is a cabinet minister of a new government</td>\n",
       "    </tr>\n",
       "    <tr>\n",
       "      <th>99</th>\n",
       "      <td><http://dbpedia.org/resource/Dean_Greig></td>\n",
       "      <td>Dean Greig</td>\n",
       "      <td>dean greig born 31 october 1968 is a former australian rules footballer in the australian football leaguegreig played under 19s football for hawthorn in the victorian football league vfl during the 1980s captaining the team and winning its best and fairest award in 1985 despite this hawthorn did not wish to retain him and it released him at the end of 1985 he trialled a preseason at collingwood but was also not recruited to its senior listin 1990 grieg played for the ailing camberwell football club in the victorian football association he polled ten j j liston trophy votes in only nine games and camberwell coach gary brice described griegs performances as the sole shining light in a winless season which turned out to be the clubs last in the vfagrieg was subsequently recruited to the australian football league to which the vfl had changed its name in 1990 by the st kilda football club in 1991 on debut in round 21 1991 at nearly 23 years of age he compiled a league record 39 disposals 23 kicks 16 handballs against carltona strongly built midfielder he didnt progress as expected nevertheless managed some fine games with the st kilda and was noted for his creative handballin 2001 whilst playing for his suburban club scoresby he suffered a broken leg and due to the onset of gangrene following infection had his lower leg amputated after an onfield mishap</td>\n",
       "    </tr>\n",
       "  </tbody>\n",
       "</table>                          </body>                                                          </html>"
      ],
      "text/plain": [
       "<IPython.core.display.HTML object>"
      ]
     },
     "metadata": {},
     "output_type": "display_data"
    }
   ],
   "source": [
    "sFrame.explore()"
   ]
  },
  {
   "cell_type": "code",
   "execution_count": 32,
   "metadata": {},
   "outputs": [
    {
     "data": {
      "text/html": [
       "<pre>Materializing SFrame</pre>"
      ],
      "text/plain": [
       "Materializing SFrame"
      ]
     },
     "metadata": {},
     "output_type": "display_data"
    },
    {
     "data": {
      "text/html": [
       "<html>                 <body>                     <iframe style=\"border:0;margin:0\" width=\"1000\" height=\"1200\" srcdoc='<html lang=\"en\">                         <head>                             <script src=\"https://cdnjs.cloudflare.com/ajax/libs/vega/5.4.0/vega.js\"></script>                             <script src=\"https://cdnjs.cloudflare.com/ajax/libs/vega-embed/4.0.0/vega-embed.js\"></script>                             <script src=\"https://cdnjs.cloudflare.com/ajax/libs/vega-tooltip/0.5.1/vega-tooltip.min.js\"></script>                             <link rel=\"stylesheet\" type=\"text/css\" href=\"https://cdnjs.cloudflare.com/ajax/libs/vega-tooltip/0.5.1/vega-tooltip.min.css\">                             <style>                             .vega-actions > a{                                 color:white;                                 text-decoration: none;                                 font-family: \"Arial\";                                 cursor:pointer;                                 padding:5px;                                 background:#AAAAAA;                                 border-radius:4px;                                 padding-left:10px;                                 padding-right:10px;                                 margin-right:5px;                             }                             .vega-actions{                                 margin-top:20px;                                 text-align:center                             }                            .vega-actions > a{                                 background:#999999;                            }                             </style>                         </head>                         <body>                             <div id=\"vis\">                             </div>                             <script>                                 var vega_json = \"{\\\"$schema\\\": \\\"https://vega.github.io/schema/vega/v4.json\\\", \\\"metadata\\\": {\\\"bubbleOpts\\\": {\\\"showAllFields\\\": false, \\\"fields\\\": [{\\\"field\\\": \\\"left\\\"}, {\\\"field\\\": \\\"right\\\"}, {\\\"field\\\": \\\"count\\\"}, {\\\"field\\\": \\\"label\\\"}]}}, \\\"width\\\": 800, \\\"height\\\": 980, \\\"padding\\\": 8, \\\"data\\\": [{\\\"name\\\": \\\"pts_store\\\"}, {\\\"name\\\": \\\"source_2\\\", \\\"values\\\": [{\\\"a\\\": 0, \\\"title\\\": \\\"URI\\\", \\\"num_row\\\": 59071, \\\"type\\\": \\\"str\\\", \\\"num_unique\\\": 59071, \\\"num_missing\\\": 0, \\\"categorical\\\": [{\\\"label\\\": \\\"<http://dbpedia.org/resource/%C3%80lex_Rigola>\\\", \\\"label_idx\\\": 0, \\\"count\\\": 1, \\\"percentage\\\": \\\"0.00169288%\\\"}, {\\\"label\\\": \\\"<http://dbpedia.org/resource/%C3%81dria_Santos>\\\", \\\"label_idx\\\": 1, \\\"count\\\": 1, \\\"percentage\\\": \\\"0.00169288%\\\"}, {\\\"label\\\": \\\"<http://dbpedia.org/resource/%C3%81g%C3%BAsta_Eva_Erlendsd%C3%B3ttir>\\\", \\\"label_idx\\\": 2, \\\"count\\\": 1, \\\"percentage\\\": \\\"0.00169288%\\\"}, {\\\"label\\\": \\\"<http://dbpedia.org/resource/%C3%81ine_Brady>\\\", \\\"label_idx\\\": 3, \\\"count\\\": 1, \\\"percentage\\\": \\\"0.00169288%\\\"}, {\\\"label\\\": \\\"<http://dbpedia.org/resource/%C3%81ine_Hyland>\\\", \\\"label_idx\\\": 4, \\\"count\\\": 1, \\\"percentage\\\": \\\"0.00169288%\\\"}, {\\\"label\\\": \\\"<http://dbpedia.org/resource/%C3%81lex_Diego>\\\", \\\"label_idx\\\": 5, \\\"count\\\": 1, \\\"percentage\\\": \\\"0.00169288%\\\"}, {\\\"label\\\": \\\"<http://dbpedia.org/resource/%C3%81lvaro_Gon%C3%A7alves>\\\", \\\"label_idx\\\": 6, \\\"count\\\": 1, \\\"percentage\\\": \\\"0.00169288%\\\"}, {\\\"label\\\": \\\"<http://dbpedia.org/resource/%C3%81lvaro_Noboa>\\\", \\\"label_idx\\\": 7, \\\"count\\\": 1, \\\"percentage\\\": \\\"0.00169288%\\\"}, {\\\"label\\\": \\\"<http://dbpedia.org/resource/%C3%81lvaro_Pierri>\\\", \\\"label_idx\\\": 8, \\\"count\\\": 1, \\\"percentage\\\": \\\"0.00169288%\\\"}, {\\\"label\\\": \\\"<http://dbpedia.org/resource/%C3%81lvaro_Rudolphy>\\\", \\\"label_idx\\\": 9, \\\"count\\\": 1, \\\"percentage\\\": \\\"0.00169288%\\\"}, {\\\"label\\\": \\\"Other (59061 labels)\\\", \\\"label_idx\\\": 10, \\\"count\\\": 59061, \\\"percentage\\\": \\\"99.9831%\\\"}], \\\"numeric\\\": []}, {\\\"a\\\": 1, \\\"title\\\": \\\"name\\\", \\\"num_row\\\": 59071, \\\"type\\\": \\\"str\\\", \\\"num_unique\\\": 59070, \\\"num_missing\\\": 0, \\\"categorical\\\": [{\\\"label\\\": \\\"author)\\\", \\\"label_idx\\\": 0, \\\"count\\\": 2, \\\"percentage\\\": \\\"0.00338576%\\\"}, {\\\"label\\\": \\\" Renate Lorenz\\\", \\\"label_idx\\\": 1, \\\"count\\\": 1, \\\"percentage\\\": \\\"0.00169288%\\\"}, {\\\"label\\\": \\\"%C3%80lex Rigola\\\", \\\"label_idx\\\": 2, \\\"count\\\": 1, \\\"percentage\\\": \\\"0.00169288%\\\"}, {\\\"label\\\": \\\"%C3%81dria Santos\\\", \\\"label_idx\\\": 3, \\\"count\\\": 1, \\\"percentage\\\": \\\"0.00169288%\\\"}, {\\\"label\\\": \\\"%C3%81g%C3%BAsta Eva Erlendsd%C3%B3ttir\\\", \\\"label_idx\\\": 4, \\\"count\\\": 1, \\\"percentage\\\": \\\"0.00169288%\\\"}, {\\\"label\\\": \\\"%C3%81ine Brady\\\", \\\"label_idx\\\": 5, \\\"count\\\": 1, \\\"percentage\\\": \\\"0.00169288%\\\"}, {\\\"label\\\": \\\"%C3%81ine Hyland\\\", \\\"label_idx\\\": 6, \\\"count\\\": 1, \\\"percentage\\\": \\\"0.00169288%\\\"}, {\\\"label\\\": \\\"%C3%81lex Diego\\\", \\\"label_idx\\\": 7, \\\"count\\\": 1, \\\"percentage\\\": \\\"0.00169288%\\\"}, {\\\"label\\\": \\\"%C3%81lvaro Gon%C3%A7alves\\\", \\\"label_idx\\\": 8, \\\"count\\\": 1, \\\"percentage\\\": \\\"0.00169288%\\\"}, {\\\"label\\\": \\\"%C3%81lvaro Noboa\\\", \\\"label_idx\\\": 9, \\\"count\\\": 1, \\\"percentage\\\": \\\"0.00169288%\\\"}, {\\\"label\\\": \\\"Other (59060 labels)\\\", \\\"label_idx\\\": 10, \\\"count\\\": 59060, \\\"percentage\\\": \\\"99.9814%\\\"}], \\\"numeric\\\": []}, {\\\"a\\\": 2, \\\"title\\\": \\\"text\\\", \\\"num_row\\\": 59071, \\\"type\\\": \\\"str\\\", \\\"num_unique\\\": 59071, \\\"num_missing\\\": 0, \\\"categorical\\\": [{\\\"label\\\": \\\"108 born 1978 is an italian artist in the field of street art and contemporary art from alessandria108 has moved from working in traditional graffiti art to painting large and mysterious figures that0\\\", \\\"label_idx\\\": 0, \\\"count\\\": 1, \\\"percentage\\\": \\\"0.00169288%\\\"}, {\\\"label\\\": \\\"187 is a pseudonym for jordana lesesne a musician and producer from pittsburgh pennsylvania she became widely known in the mid1990s as an american drum and bass producer the village voice described h1\\\", \\\"label_idx\\\": 1, \\\"count\\\": 1, \\\"percentage\\\": \\\"0.00169288%\\\"}, {\\\"label\\\": \\\"1lt diane carlson evans anc rvn born 1946 served as a nurse in the united states army during the vietnam war and founded the vietnam womens memorial project in 1984 now the vietnam womens memorial fo2\\\", \\\"label_idx\\\": 2, \\\"count\\\": 1, \\\"percentage\\\": \\\"0.00169288%\\\"}, {\\\"label\\\": \\\"1robert godley b 7 july 1971 in whitstable kent is a britishamerican designer of mens clothing godley spent nearly his entire adult life in fashion working for david evans co silk printers london man3\\\", \\\"label_idx\\\": 3, \\\"count\\\": 1, \\\"percentage\\\": \\\"0.00169288%\\\"}, {\\\"label\\\": \\\"2012 gracie award winner lisa mullins is an american radio personality she was the anchor and senior producer of the world a radio program of public radio international from 1996 to 2012 she anchored4\\\", \\\"label_idx\\\": 4, \\\"count\\\": 1, \\\"percentage\\\": \\\"0.00169288%\\\"}, {\\\"label\\\": \\\"250px250pxmartijn meeuwis born july 14 1982 in moergestel is a dutch baseball player who currently plays for neptunus and the dutch national teammeeuwis debuted with the twins sport club in 1999 as a5\\\", \\\"label_idx\\\": 5, \\\"count\\\": 1, \\\"percentage\\\": \\\"0.00169288%\\\"}, {\\\"label\\\": \\\"8 ball aitken born 8 june 1987 is an australian singer songwriter and slide guitarist 8 ball plays country blues swamp americana music and he is notable for his fusion of country music with the genre6\\\", \\\"label_idx\\\": 6, \\\"count\\\": 1, \\\"percentage\\\": \\\"0.00169288%\\\"}, {\\\"label\\\": \\\"8th agya hotogtu lobsang tubten jigme gyatso tibetan amdo tibetan arahtkt born 1950 is one of the most prominent buddhist teachers and lamas to have left tibet at age two arjia rinpoche was recognize7\\\", \\\"label_idx\\\": 7, \\\"count\\\": 1, \\\"percentage\\\": \\\"0.00169288%\\\"}, {\\\"label\\\": \\\"a canadian foreign affairs intelligence officer jim gould previously served as the deputy of the department of foreign affairs and international tradein february 2003 gould and an official from the c8\\\", \\\"label_idx\\\": 8, \\\"count\\\": 1, \\\"percentage\\\": \\\"0.00169288%\\\"}, {\\\"label\\\": \\\"a church historian david l holmes is walter g mason professor of religious studies emeritus at the college of william and mary he is the son of david l holmes a university coach and director of athle9\\\", \\\"label_idx\\\": 9, \\\"count\\\": 1, \\\"percentage\\\": \\\"0.00169288%\\\"}, {\\\"label\\\": \\\"Other (59061 labels)\\\", \\\"label_idx\\\": 10, \\\"count\\\": 59061, \\\"percentage\\\": \\\"99.9831%\\\"}], \\\"numeric\\\": []}]}, {\\\"name\\\": \\\"data_2\\\", \\\"source\\\": \\\"source_2\\\", \\\"transform\\\": [{\\\"type\\\": \\\"formula\\\", \\\"expr\\\": \\\"20\\\", \\\"as\\\": \\\"c_x_axis_back\\\"}, {\\\"type\\\": \\\"formula\\\", \\\"expr\\\": \\\"toNumber(datum[\\\\\\\"a\\\\\\\"])*300+66\\\", \\\"as\\\": \\\"c_main_background\\\"}, {\\\"type\\\": \\\"formula\\\", \\\"expr\\\": \\\"toNumber(datum[\\\\\\\"a\\\\\\\"])*300+43\\\", \\\"as\\\": \\\"c_top_bar\\\"}, {\\\"type\\\": \\\"formula\\\", \\\"expr\\\": \\\"toNumber(datum[\\\\\\\"a\\\\\\\"])*300+59\\\", \\\"as\\\": \\\"c_top_title\\\"}, {\\\"type\\\": \\\"formula\\\", \\\"expr\\\": \\\"toNumber(datum[\\\\\\\"a\\\\\\\"])*300+58\\\", \\\"as\\\": \\\"c_top_type\\\"}, {\\\"type\\\": \\\"formula\\\", \\\"expr\\\": \\\"toNumber(datum[\\\\\\\"a\\\\\\\"])*300+178\\\", \\\"as\\\": \\\"c_rule\\\"}, {\\\"type\\\": \\\"formula\\\", \\\"expr\\\": \\\"toNumber(datum[\\\\\\\"a\\\\\\\"])*300+106\\\", \\\"as\\\": \\\"c_num_rows\\\"}, {\\\"type\\\": \\\"formula\\\", \\\"expr\\\": \\\"toNumber(datum[\\\\\\\"a\\\\\\\"])*300+130\\\", \\\"as\\\": \\\"c_num_unique\\\"}, {\\\"type\\\": \\\"formula\\\", \\\"expr\\\": \\\"toNumber(datum[\\\\\\\"a\\\\\\\"])*300+154\\\", \\\"as\\\": \\\"c_missing\\\"}, {\\\"type\\\": \\\"formula\\\", \\\"expr\\\": \\\"toNumber(datum[\\\\\\\"a\\\\\\\"])*300+105\\\", \\\"as\\\": \\\"c_num_rows_val\\\"}, {\\\"type\\\": \\\"formula\\\", \\\"expr\\\": \\\"toNumber(datum[\\\\\\\"a\\\\\\\"])*300+130\\\", \\\"as\\\": \\\"c_num_unique_val\\\"}, {\\\"type\\\": \\\"formula\\\", \\\"expr\\\": \\\"toNumber(datum[\\\\\\\"a\\\\\\\"])*300+154\\\", \\\"as\\\": \\\"c_missing_val\\\"}, {\\\"type\\\": \\\"formula\\\", \\\"expr\\\": \\\"toNumber(datum[\\\\\\\"a\\\\\\\"])*300+195\\\", \\\"as\\\": \\\"c_frequent_items\\\"}, {\\\"type\\\": \\\"formula\\\", \\\"expr\\\": \\\"toNumber(datum[\\\\\\\"a\\\\\\\"])*300+218\\\", \\\"as\\\": \\\"c_first_item\\\"}, {\\\"type\\\": \\\"formula\\\", \\\"expr\\\": \\\"toNumber(datum[\\\\\\\"a\\\\\\\"])*300+235\\\", \\\"as\\\": \\\"c_second_item\\\"}, {\\\"type\\\": \\\"formula\\\", \\\"expr\\\": \\\"toNumber(datum[\\\\\\\"a\\\\\\\"])*300+252\\\", \\\"as\\\": \\\"c_third_item\\\"}, {\\\"type\\\": \\\"formula\\\", \\\"expr\\\": \\\"toNumber(datum[\\\\\\\"a\\\\\\\"])*300+269\\\", \\\"as\\\": \\\"c_fourth_item\\\"}, {\\\"type\\\": \\\"formula\\\", \\\"expr\\\": \\\"toNumber(datum[\\\\\\\"a\\\\\\\"])*300+286\\\", \\\"as\\\": \\\"c_fifth_item\\\"}, {\\\"type\\\": \\\"formula\\\", \\\"expr\\\": \\\"toNumber(datum[\\\\\\\"a\\\\\\\"])*300+200\\\", \\\"as\\\": \\\"c_mean\\\"}, {\\\"type\\\": \\\"formula\\\", \\\"expr\\\": \\\"toNumber(datum[\\\\\\\"a\\\\\\\"])*300+220\\\", \\\"as\\\": \\\"c_min\\\"}, {\\\"type\\\": \\\"formula\\\", \\\"expr\\\": \\\"toNumber(datum[\\\\\\\"a\\\\\\\"])*300+240\\\", \\\"as\\\": \\\"c_max\\\"}, {\\\"type\\\": \\\"formula\\\", \\\"expr\\\": \\\"toNumber(datum[\\\\\\\"a\\\\\\\"])*300+260\\\", \\\"as\\\": \\\"c_median\\\"}, {\\\"type\\\": \\\"formula\\\", \\\"expr\\\": \\\"toNumber(datum[\\\\\\\"a\\\\\\\"])*300+280\\\", \\\"as\\\": \\\"c_stdev\\\"}, {\\\"type\\\": \\\"formula\\\", \\\"expr\\\": \\\"toNumber(datum[\\\\\\\"a\\\\\\\"])*300+198\\\", \\\"as\\\": \\\"c_mean_val\\\"}, {\\\"type\\\": \\\"formula\\\", \\\"expr\\\": \\\"toNumber(datum[\\\\\\\"a\\\\\\\"])*300+218\\\", \\\"as\\\": \\\"c_min_val\\\"}, {\\\"type\\\": \\\"formula\\\", \\\"expr\\\": \\\"toNumber(datum[\\\\\\\"a\\\\\\\"])*300+238\\\", \\\"as\\\": \\\"c_max_val\\\"}, {\\\"type\\\": \\\"formula\\\", \\\"expr\\\": \\\"toNumber(datum[\\\\\\\"a\\\\\\\"])*300+258\\\", \\\"as\\\": \\\"c_median_val\\\"}, {\\\"type\\\": \\\"formula\\\", \\\"expr\\\": \\\"toNumber(datum[\\\\\\\"a\\\\\\\"])*300+278\\\", \\\"as\\\": \\\"c_stdev_val\\\"}, {\\\"type\\\": \\\"formula\\\", \\\"expr\\\": \\\"toNumber(datum[\\\\\\\"a\\\\\\\"])*300+106\\\", \\\"as\\\": \\\"graph_offset\\\"}, {\\\"type\\\": \\\"formula\\\", \\\"expr\\\": \\\"toNumber(datum[\\\\\\\"a\\\\\\\"])*300+132\\\", \\\"as\\\": \\\"graph_offset_categorical\\\"}, {\\\"type\\\": \\\"formula\\\", \\\"expr\\\": \\\"(toString(datum[\\\\\\\"type\\\\\\\"]) == \\\\\\\"integer\\\\\\\" || toString(datum[\\\\\\\"type\\\\\\\"]) == \\\\\\\"float\\\\\\\")?false:true\\\", \\\"as\\\": \\\"c_clip_val\\\"}, {\\\"type\\\": \\\"formula\\\", \\\"expr\\\": \\\"(toString(datum[\\\\\\\"type\\\\\\\"]) == \\\\\\\"integer\\\\\\\" || toString(datum[\\\\\\\"type\\\\\\\"]) == \\\\\\\"float\\\\\\\")?250:0\\\", \\\"as\\\": \\\"c_width_numeric_val\\\"}, {\\\"type\\\": \\\"formula\\\", \\\"expr\\\": \\\"(toString(datum[\\\\\\\"type\\\\\\\"]) == \\\\\\\"str\\\\\\\")?false:true\\\", \\\"as\\\": \\\"c_clip_val_cat\\\"}, {\\\"type\\\": \\\"formula\\\", \\\"expr\\\": \\\"(toString(datum[\\\\\\\"type\\\\\\\"]) == \\\\\\\"str\\\\\\\")?250:0\\\", \\\"as\\\": \\\"c_width_numeric_val_cat\\\"}]}], \\\"marks\\\": [{\\\"encode\\\": {\\\"enter\\\": {\\\"x\\\": {\\\"value\\\": 0}, \\\"width\\\": {\\\"value\\\": 734}, \\\"y\\\": {\\\"value\\\": 0}, \\\"height\\\": {\\\"value\\\": 366}, \\\"clip\\\": {\\\"value\\\": 0}, \\\"fill\\\": {\\\"value\\\": \\\"#ffffff\\\"}, \\\"fillOpacity\\\": {\\\"value\\\": 0}, \\\"stroke\\\": {\\\"value\\\": \\\"#000000\\\"}, \\\"strokeWidth\\\": {\\\"value\\\": 0}}}, \\\"marks\\\": [{\\\"encode\\\": {\\\"enter\\\": {\\\"x\\\": {\\\"value\\\": 0}, \\\"width\\\": {\\\"value\\\": 734}, \\\"y\\\": {\\\"value\\\": 0}, \\\"height\\\": {\\\"value\\\": 366}, \\\"clip\\\": {\\\"value\\\": 0}, \\\"fill\\\": {\\\"value\\\": \\\"#ffffff\\\"}, \\\"fillOpacity\\\": {\\\"value\\\": 0}, \\\"stroke\\\": {\\\"value\\\": \\\"#000000\\\"}, \\\"strokeWidth\\\": {\\\"value\\\": 0}}}, \\\"scales\\\": [], \\\"axes\\\": [], \\\"marks\\\": [{\\\"from\\\": {\\\"data\\\": \\\"data_2\\\"}, \\\"encode\\\": {\\\"enter\\\": {\\\"x\\\": {\\\"value\\\": 33}, \\\"width\\\": {\\\"value\\\": 700}, \\\"y\\\": {\\\"value\\\": 66}, \\\"height\\\": {\\\"value\\\": 250}, \\\"fill\\\": {\\\"value\\\": \\\"#FEFEFE\\\"}, \\\"fillOpacity\\\": {\\\"value\\\": 1}, \\\"stroke\\\": {\\\"value\\\": \\\"#DEDEDE\\\"}, \\\"strokeWidth\\\": {\\\"value\\\": 0.5}}, \\\"update\\\": {\\\"x\\\": {\\\"signal\\\": \\\"datum[\\\\\\\"c_x_axis_back\\\\\\\"]\\\"}, \\\"y\\\": {\\\"field\\\": \\\"c_main_background\\\"}}}, \\\"type\\\": \\\"rect\\\"}, {\\\"from\\\": {\\\"data\\\": \\\"data_2\\\"}, \\\"encode\\\": {\\\"enter\\\": {\\\"x\\\": {\\\"value\\\": 33}, \\\"width\\\": {\\\"value\\\": 700}, \\\"y\\\": {\\\"value\\\": 43}, \\\"height\\\": {\\\"value\\\": 30}, \\\"fill\\\": {\\\"value\\\": \\\"#F5F5F5\\\"}, \\\"fillOpacity\\\": {\\\"value\\\": 1}, \\\"stroke\\\": {\\\"value\\\": \\\"#DEDEDE\\\"}, \\\"strokeWidth\\\": {\\\"value\\\": 0.5}}, \\\"update\\\": {\\\"x\\\": {\\\"signal\\\": \\\"datum[\\\\\\\"c_x_axis_back\\\\\\\"]\\\"}, \\\"y\\\": {\\\"field\\\": \\\"c_top_bar\\\"}}}, \\\"type\\\": \\\"rect\\\"}, {\\\"from\\\": {\\\"data\\\": \\\"data_2\\\"}, \\\"encode\\\": {\\\"enter\\\": {\\\"x\\\": {\\\"value\\\": 720}, \\\"y\\\": {\\\"value\\\": 58}, \\\"text\\\": {\\\"signal\\\": \\\"&apos;&apos;+datum[\\\\\\\"type\\\\\\\"]\\\"}, \\\"align\\\": {\\\"value\\\": \\\"right\\\"}, \\\"baseline\\\": {\\\"value\\\": \\\"middle\\\"}, \\\"dx\\\": {\\\"value\\\": 0, \\\"offset\\\": 0}, \\\"dy\\\": {\\\"value\\\": 0, \\\"offset\\\": 0}, \\\"angle\\\": {\\\"value\\\": 0}, \\\"font\\\": {\\\"value\\\": \\\"AvenirNext-Medium\\\"}, \\\"fontSize\\\": {\\\"value\\\": 12}, \\\"fontWeight\\\": {\\\"value\\\": \\\"normal\\\"}, \\\"fontStyle\\\": {\\\"value\\\": \\\"normal\\\"}, \\\"fill\\\": {\\\"value\\\": \\\"#595859\\\"}}, \\\"update\\\": {\\\"x\\\": {\\\"signal\\\": \\\"datum[\\\\\\\"c_x_axis_back\\\\\\\"]+687\\\"}, \\\"y\\\": {\\\"field\\\": \\\"c_top_type\\\"}}}, \\\"type\\\": \\\"text\\\"}, {\\\"from\\\": {\\\"data\\\": \\\"data_2\\\"}, \\\"encode\\\": {\\\"enter\\\": {\\\"x\\\": {\\\"value\\\": 44}, \\\"y\\\": {\\\"value\\\": 59}, \\\"text\\\": {\\\"signal\\\": \\\"&apos;&apos;+datum[\\\\\\\"title\\\\\\\"]\\\"}, \\\"align\\\": {\\\"value\\\": \\\"left\\\"}, \\\"baseline\\\": {\\\"value\\\": \\\"middle\\\"}, \\\"dx\\\": {\\\"value\\\": 0, \\\"offset\\\": 0}, \\\"dy\\\": {\\\"value\\\": 0, \\\"offset\\\": 0}, \\\"angle\\\": {\\\"value\\\": 0}, \\\"font\\\": {\\\"value\\\": \\\"AvenirNext-Medium\\\"}, \\\"fontSize\\\": {\\\"value\\\": 15}, \\\"fontWeight\\\": {\\\"value\\\": \\\"normal\\\"}, \\\"fontStyle\\\": {\\\"value\\\": \\\"normal\\\"}, \\\"fill\\\": {\\\"value\\\": \\\"#9B9B9B\\\"}}, \\\"update\\\": {\\\"x\\\": {\\\"signal\\\": \\\"datum[\\\\\\\"c_x_axis_back\\\\\\\"]+11\\\"}, \\\"y\\\": {\\\"field\\\": \\\"c_top_title\\\"}}}, \\\"type\\\": \\\"text\\\"}, {\\\"from\\\": {\\\"data\\\": \\\"data_2\\\"}, \\\"encode\\\": {\\\"enter\\\": {\\\"x\\\": {\\\"value\\\": 500}, \\\"y\\\": {\\\"value\\\": 178}, \\\"stroke\\\": {\\\"value\\\": \\\"#EDEDEB\\\"}, \\\"strokeWidth\\\": {\\\"value\\\": 1}, \\\"strokeCap\\\": {\\\"value\\\": \\\"butt\\\"}, \\\"x2\\\": {\\\"value\\\": 720}, \\\"y2\\\": {\\\"value\\\": 178}}, \\\"update\\\": {\\\"x\\\": {\\\"signal\\\": \\\"datum[\\\\\\\"c_x_axis_back\\\\\\\"]+467\\\"}, \\\"x2\\\": {\\\"signal\\\": \\\"datum[\\\\\\\"c_x_axis_back\\\\\\\"]+687\\\"}, \\\"y\\\": {\\\"field\\\": \\\"c_rule\\\"}, \\\"y2\\\": {\\\"field\\\": \\\"c_rule\\\"}}}, \\\"type\\\": \\\"rule\\\"}, {\\\"from\\\": {\\\"data\\\": \\\"data_2\\\"}, \\\"encode\\\": {\\\"enter\\\": {\\\"x\\\": {\\\"value\\\": 500}, \\\"y\\\": {\\\"value\\\": 106}, \\\"text\\\": {\\\"value\\\": \\\"Num. Rows:\\\"}, \\\"align\\\": {\\\"value\\\": \\\"left\\\"}, \\\"baseline\\\": {\\\"value\\\": \\\"middle\\\"}, \\\"dx\\\": {\\\"value\\\": 0, \\\"offset\\\": 0}, \\\"dy\\\": {\\\"value\\\": 0, \\\"offset\\\": 0}, \\\"angle\\\": {\\\"value\\\": 0}, \\\"font\\\": {\\\"value\\\": \\\"AvenirNext-Medium\\\"}, \\\"fontSize\\\": {\\\"value\\\": 12}, \\\"fontWeight\\\": {\\\"value\\\": \\\"normal\\\"}, \\\"fontStyle\\\": {\\\"value\\\": \\\"normal\\\"}, \\\"fill\\\": {\\\"value\\\": \\\"#4A4A4A\\\"}}, \\\"update\\\": {\\\"x\\\": {\\\"signal\\\": \\\"datum[\\\\\\\"c_x_axis_back\\\\\\\"]+467\\\"}, \\\"y\\\": {\\\"field\\\": \\\"c_num_rows\\\"}}}, \\\"type\\\": \\\"text\\\"}, {\\\"from\\\": {\\\"data\\\": \\\"data_2\\\"}, \\\"encode\\\": {\\\"enter\\\": {\\\"x\\\": {\\\"value\\\": 500}, \\\"y\\\": {\\\"value\\\": 130}, \\\"text\\\": {\\\"value\\\": \\\"Num. Unique:\\\"}, \\\"align\\\": {\\\"value\\\": \\\"left\\\"}, \\\"baseline\\\": {\\\"value\\\": \\\"middle\\\"}, \\\"dx\\\": {\\\"value\\\": 0, \\\"offset\\\": 0}, \\\"dy\\\": {\\\"value\\\": 0, \\\"offset\\\": 0}, \\\"angle\\\": {\\\"value\\\": 0}, \\\"font\\\": {\\\"value\\\": \\\"AvenirNext-Medium\\\"}, \\\"fontSize\\\": {\\\"value\\\": 12}, \\\"fontWeight\\\": {\\\"value\\\": \\\"normal\\\"}, \\\"fontStyle\\\": {\\\"value\\\": \\\"normal\\\"}, \\\"fill\\\": {\\\"value\\\": \\\"#4A4A4A\\\"}}, \\\"update\\\": {\\\"x\\\": {\\\"signal\\\": \\\"datum[\\\\\\\"c_x_axis_back\\\\\\\"]+467\\\"}, \\\"y\\\": {\\\"field\\\": \\\"c_num_unique\\\"}}}, \\\"type\\\": \\\"text\\\"}, {\\\"from\\\": {\\\"data\\\": \\\"data_2\\\"}, \\\"encode\\\": {\\\"enter\\\": {\\\"x\\\": {\\\"value\\\": 500}, \\\"y\\\": {\\\"value\\\": 154}, \\\"text\\\": {\\\"value\\\": \\\"Missing:\\\"}, \\\"align\\\": {\\\"value\\\": \\\"left\\\"}, \\\"baseline\\\": {\\\"value\\\": \\\"middle\\\"}, \\\"dx\\\": {\\\"value\\\": 0, \\\"offset\\\": 0}, \\\"dy\\\": {\\\"value\\\": 0, \\\"offset\\\": 0}, \\\"angle\\\": {\\\"value\\\": 0}, \\\"font\\\": {\\\"value\\\": \\\"AvenirNext-Medium\\\"}, \\\"fontSize\\\": {\\\"value\\\": 12}, \\\"fontWeight\\\": {\\\"value\\\": \\\"normal\\\"}, \\\"fontStyle\\\": {\\\"value\\\": \\\"normal\\\"}, \\\"fill\\\": {\\\"value\\\": \\\"#4A4A4A\\\"}}, \\\"update\\\": {\\\"x\\\": {\\\"signal\\\": \\\"datum[\\\\\\\"c_x_axis_back\\\\\\\"]+467\\\"}, \\\"y\\\": {\\\"field\\\": \\\"c_missing\\\"}}}, \\\"type\\\": \\\"text\\\"}, {\\\"from\\\": {\\\"data\\\": \\\"data_2\\\"}, \\\"encode\\\": {\\\"enter\\\": {\\\"x\\\": {\\\"value\\\": 700}, \\\"y\\\": {\\\"value\\\": 105}, \\\"text\\\": {\\\"signal\\\": \\\"toString(format(datum[\\\\\\\"num_row\\\\\\\"], \\\\\\\",\\\\\\\"))\\\"}, \\\"align\\\": {\\\"value\\\": \\\"right\\\"}, \\\"baseline\\\": {\\\"value\\\": \\\"middle\\\"}, \\\"dx\\\": {\\\"value\\\": 0, \\\"offset\\\": 0}, \\\"dy\\\": {\\\"value\\\": 0, \\\"offset\\\": 0}, \\\"angle\\\": {\\\"value\\\": 0}, \\\"font\\\": {\\\"value\\\": \\\"AvenirNext-Medium\\\"}, \\\"fontSize\\\": {\\\"value\\\": 12}, \\\"fontWeight\\\": {\\\"value\\\": \\\"normal\\\"}, \\\"fontStyle\\\": {\\\"value\\\": \\\"normal\\\"}, \\\"fill\\\": {\\\"value\\\": \\\"#5A5A5A\\\"}}, \\\"update\\\": {\\\"x\\\": {\\\"signal\\\": \\\"datum[\\\\\\\"c_x_axis_back\\\\\\\"]+667\\\"}, \\\"y\\\": {\\\"field\\\": \\\"c_num_rows_val\\\"}}}, \\\"type\\\": \\\"text\\\"}, {\\\"from\\\": {\\\"data\\\": \\\"data_2\\\"}, \\\"encode\\\": {\\\"enter\\\": {\\\"x\\\": {\\\"value\\\": 700}, \\\"y\\\": {\\\"value\\\": 130}, \\\"text\\\": {\\\"signal\\\": \\\"toString(format(datum[\\\\\\\"num_unique\\\\\\\"], \\\\\\\",\\\\\\\"))\\\"}, \\\"align\\\": {\\\"value\\\": \\\"right\\\"}, \\\"baseline\\\": {\\\"value\\\": \\\"middle\\\"}, \\\"dx\\\": {\\\"value\\\": 0, \\\"offset\\\": 0}, \\\"dy\\\": {\\\"value\\\": 0, \\\"offset\\\": 0}, \\\"angle\\\": {\\\"value\\\": 0}, \\\"font\\\": {\\\"value\\\": \\\"AvenirNext-Medium\\\"}, \\\"fontSize\\\": {\\\"value\\\": 12}, \\\"fontWeight\\\": {\\\"value\\\": \\\"normal\\\"}, \\\"fontStyle\\\": {\\\"value\\\": \\\"normal\\\"}, \\\"fill\\\": {\\\"value\\\": \\\"#5A5A5A\\\"}}, \\\"update\\\": {\\\"x\\\": {\\\"signal\\\": \\\"datum[\\\\\\\"c_x_axis_back\\\\\\\"]+667\\\"}, \\\"y\\\": {\\\"field\\\": \\\"c_num_unique_val\\\"}}}, \\\"type\\\": \\\"text\\\"}, {\\\"from\\\": {\\\"data\\\": \\\"data_2\\\"}, \\\"encode\\\": {\\\"enter\\\": {\\\"x\\\": {\\\"value\\\": 700}, \\\"y\\\": {\\\"value\\\": 154}, \\\"text\\\": {\\\"signal\\\": \\\"toString(format(datum[\\\\\\\"num_missing\\\\\\\"], \\\\\\\",\\\\\\\"))\\\"}, \\\"align\\\": {\\\"value\\\": \\\"right\\\"}, \\\"baseline\\\": {\\\"value\\\": \\\"middle\\\"}, \\\"dx\\\": {\\\"value\\\": 0, \\\"offset\\\": 0}, \\\"dy\\\": {\\\"value\\\": 0, \\\"offset\\\": 0}, \\\"angle\\\": {\\\"value\\\": 0}, \\\"font\\\": {\\\"value\\\": \\\"AvenirNext-Medium\\\"}, \\\"fontSize\\\": {\\\"value\\\": 12}, \\\"fontWeight\\\": {\\\"value\\\": \\\"normal\\\"}, \\\"fontStyle\\\": {\\\"value\\\": \\\"normal\\\"}, \\\"fill\\\": {\\\"value\\\": \\\"#5A5A5A\\\"}}, \\\"update\\\": {\\\"x\\\": {\\\"signal\\\": \\\"datum[\\\\\\\"c_x_axis_back\\\\\\\"]+667\\\"}, \\\"y\\\": {\\\"field\\\": \\\"c_missing_val\\\"}}}, \\\"type\\\": \\\"text\\\"}, {\\\"from\\\": {\\\"data\\\": \\\"data_2\\\"}, \\\"encode\\\": {\\\"enter\\\": {\\\"x\\\": {\\\"value\\\": 500}, \\\"y\\\": {\\\"value\\\": 200}, \\\"text\\\": {\\\"signal\\\": \\\"(toString(datum[\\\\\\\"type\\\\\\\"]) == \\\\\\\"str\\\\\\\")? \\\\\\\"Frequent Items\\\\\\\":\\\\\\\"\\\\\\\"\\\"}, \\\"align\\\": {\\\"value\\\": \\\"left\\\"}, \\\"baseline\\\": {\\\"value\\\": \\\"middle\\\"}, \\\"dx\\\": {\\\"value\\\": 0, \\\"offset\\\": 0}, \\\"dy\\\": {\\\"value\\\": 0, \\\"offset\\\": 0}, \\\"angle\\\": {\\\"value\\\": 0}, \\\"clip\\\": {\\\"value\\\": true}, \\\"font\\\": {\\\"value\\\": \\\"AvenirNext-Medium\\\"}, \\\"fontSize\\\": {\\\"value\\\": 11}, \\\"fontWeight\\\": {\\\"value\\\": \\\"bold\\\"}, \\\"fontStyle\\\": {\\\"value\\\": \\\"normal\\\"}, \\\"fill\\\": {\\\"value\\\": \\\"#4A4A4A\\\"}}, \\\"update\\\": {\\\"x\\\": {\\\"signal\\\": \\\"datum[\\\\\\\"c_x_axis_back\\\\\\\"]+467\\\"}, \\\"y\\\": {\\\"field\\\": \\\"c_frequent_items\\\"}}}, \\\"type\\\": \\\"text\\\"}, {\\\"from\\\": {\\\"data\\\": \\\"data_2\\\"}, \\\"encode\\\": {\\\"enter\\\": {\\\"x\\\": {\\\"value\\\": 520}, \\\"y\\\": {\\\"value\\\": 200}, \\\"text\\\": {\\\"signal\\\": \\\"((datum[\\\\\\\"categorical\\\\\\\"].length >= 1) &amp;&amp; (toString(datum[\\\\\\\"type\\\\\\\"]) == \\\\\\\"str\\\\\\\"))? toString(datum[\\\\\\\"categorical\\\\\\\"][0][\\\\\\\"label\\\\\\\"]):\\\\\\\"\\\\\\\"\\\"}, \\\"align\\\": {\\\"value\\\": \\\"left\\\"}, \\\"baseline\\\": {\\\"value\\\": \\\"middle\\\"}, \\\"dx\\\": {\\\"value\\\": 0, \\\"offset\\\": 0}, \\\"dy\\\": {\\\"value\\\": 0, \\\"offset\\\": 0}, \\\"angle\\\": {\\\"value\\\": 0}, \\\"clip\\\": {\\\"value\\\": true}, \\\"font\\\": {\\\"value\\\": \\\"AvenirNext-Medium\\\"}, \\\"fontSize\\\": {\\\"value\\\": 11}, \\\"fontWeight\\\": {\\\"value\\\": \\\"normal\\\"}, \\\"fontStyle\\\": {\\\"value\\\": \\\"normal\\\"}, \\\"fill\\\": {\\\"value\\\": \\\"#4A4A4A\\\"}}, \\\"update\\\": {\\\"x\\\": {\\\"signal\\\": \\\"datum[\\\\\\\"c_x_axis_back\\\\\\\"]+487\\\"}, \\\"y\\\": {\\\"field\\\": \\\"c_first_item\\\"}}}, \\\"type\\\": \\\"text\\\"}, {\\\"from\\\": {\\\"data\\\": \\\"data_2\\\"}, \\\"encode\\\": {\\\"enter\\\": {\\\"x\\\": {\\\"value\\\": 520}, \\\"y\\\": {\\\"value\\\": 200}, \\\"text\\\": {\\\"signal\\\": \\\"((datum[\\\\\\\"categorical\\\\\\\"].length >= 2) &amp;&amp; (toString(datum[\\\\\\\"type\\\\\\\"]) == \\\\\\\"str\\\\\\\"))? toString(datum[\\\\\\\"categorical\\\\\\\"][1][\\\\\\\"label\\\\\\\"]):\\\\\\\"\\\\\\\"\\\"}, \\\"align\\\": {\\\"value\\\": \\\"left\\\"}, \\\"baseline\\\": {\\\"value\\\": \\\"middle\\\"}, \\\"dx\\\": {\\\"value\\\": 0, \\\"offset\\\": 0}, \\\"dy\\\": {\\\"value\\\": 0, \\\"offset\\\": 0}, \\\"angle\\\": {\\\"value\\\": 0}, \\\"clip\\\": {\\\"value\\\": true}, \\\"font\\\": {\\\"value\\\": \\\"AvenirNext-Medium\\\"}, \\\"fontSize\\\": {\\\"value\\\": 11}, \\\"fontWeight\\\": {\\\"value\\\": \\\"normal\\\"}, \\\"fontStyle\\\": {\\\"value\\\": \\\"normal\\\"}, \\\"fill\\\": {\\\"value\\\": \\\"#4A4A4A\\\"}}, \\\"update\\\": {\\\"x\\\": {\\\"signal\\\": \\\"datum[\\\\\\\"c_x_axis_back\\\\\\\"]+487\\\"}, \\\"y\\\": {\\\"field\\\": \\\"c_second_item\\\"}}}, \\\"type\\\": \\\"text\\\"}, {\\\"from\\\": {\\\"data\\\": \\\"data_2\\\"}, \\\"encode\\\": {\\\"enter\\\": {\\\"x\\\": {\\\"value\\\": 520}, \\\"y\\\": {\\\"value\\\": 200}, \\\"text\\\": {\\\"signal\\\": \\\"((datum[\\\\\\\"categorical\\\\\\\"].length >= 3) &amp;&amp; (toString(datum[\\\\\\\"type\\\\\\\"]) == \\\\\\\"str\\\\\\\"))? toString(datum[\\\\\\\"categorical\\\\\\\"][2][\\\\\\\"label\\\\\\\"]):\\\\\\\"\\\\\\\"\\\"}, \\\"align\\\": {\\\"value\\\": \\\"left\\\"}, \\\"baseline\\\": {\\\"value\\\": \\\"middle\\\"}, \\\"dx\\\": {\\\"value\\\": 0, \\\"offset\\\": 0}, \\\"dy\\\": {\\\"value\\\": 0, \\\"offset\\\": 0}, \\\"angle\\\": {\\\"value\\\": 0}, \\\"clip\\\": {\\\"value\\\": true}, \\\"font\\\": {\\\"value\\\": \\\"AvenirNext-Medium\\\"}, \\\"fontSize\\\": {\\\"value\\\": 11}, \\\"fontWeight\\\": {\\\"value\\\": \\\"normal\\\"}, \\\"fontStyle\\\": {\\\"value\\\": \\\"normal\\\"}, \\\"fill\\\": {\\\"value\\\": \\\"#4A4A4A\\\"}}, \\\"update\\\": {\\\"x\\\": {\\\"signal\\\": \\\"datum[\\\\\\\"c_x_axis_back\\\\\\\"]+487\\\"}, \\\"y\\\": {\\\"field\\\": \\\"c_third_item\\\"}}}, \\\"type\\\": \\\"text\\\"}, {\\\"from\\\": {\\\"data\\\": \\\"data_2\\\"}, \\\"encode\\\": {\\\"enter\\\": {\\\"x\\\": {\\\"value\\\": 520}, \\\"y\\\": {\\\"value\\\": 200}, \\\"text\\\": {\\\"signal\\\": \\\"((datum[\\\\\\\"categorical\\\\\\\"].length >= 4) &amp;&amp; (toString(datum[\\\\\\\"type\\\\\\\"]) == \\\\\\\"str\\\\\\\"))? toString(datum[\\\\\\\"categorical\\\\\\\"][3][\\\\\\\"label\\\\\\\"]):\\\\\\\"\\\\\\\"\\\"}, \\\"align\\\": {\\\"value\\\": \\\"left\\\"}, \\\"baseline\\\": {\\\"value\\\": \\\"middle\\\"}, \\\"dx\\\": {\\\"value\\\": 0, \\\"offset\\\": 0}, \\\"dy\\\": {\\\"value\\\": 0, \\\"offset\\\": 0}, \\\"angle\\\": {\\\"value\\\": 0}, \\\"clip\\\": {\\\"value\\\": true}, \\\"font\\\": {\\\"value\\\": \\\"AvenirNext-Medium\\\"}, \\\"fontSize\\\": {\\\"value\\\": 11}, \\\"fontWeight\\\": {\\\"value\\\": \\\"normal\\\"}, \\\"fontStyle\\\": {\\\"value\\\": \\\"normal\\\"}, \\\"fill\\\": {\\\"value\\\": \\\"#4A4A4A\\\"}}, \\\"update\\\": {\\\"x\\\": {\\\"signal\\\": \\\"datum[\\\\\\\"c_x_axis_back\\\\\\\"]+487\\\"}, \\\"y\\\": {\\\"field\\\": \\\"c_fourth_item\\\"}}}, \\\"type\\\": \\\"text\\\"}, {\\\"from\\\": {\\\"data\\\": \\\"data_2\\\"}, \\\"encode\\\": {\\\"enter\\\": {\\\"x\\\": {\\\"value\\\": 520}, \\\"y\\\": {\\\"value\\\": 200}, \\\"text\\\": {\\\"signal\\\": \\\"((datum[\\\\\\\"categorical\\\\\\\"].length >= 5) &amp;&amp; (toString(datum[\\\\\\\"type\\\\\\\"]) == \\\\\\\"str\\\\\\\"))? toString(datum[\\\\\\\"categorical\\\\\\\"][4][\\\\\\\"label\\\\\\\"]):\\\\\\\"\\\\\\\"\\\"}, \\\"align\\\": {\\\"value\\\": \\\"left\\\"}, \\\"baseline\\\": {\\\"value\\\": \\\"middle\\\"}, \\\"dx\\\": {\\\"value\\\": 0, \\\"offset\\\": 0}, \\\"dy\\\": {\\\"value\\\": 0, \\\"offset\\\": 0}, \\\"angle\\\": {\\\"value\\\": 0}, \\\"clip\\\": {\\\"value\\\": true}, \\\"font\\\": {\\\"value\\\": \\\"AvenirNext-Medium\\\"}, \\\"fontSize\\\": {\\\"value\\\": 11}, \\\"fontWeight\\\": {\\\"value\\\": \\\"normal\\\"}, \\\"fontStyle\\\": {\\\"value\\\": \\\"normal\\\"}, \\\"fill\\\": {\\\"value\\\": \\\"#4A4A4A\\\"}}, \\\"update\\\": {\\\"x\\\": {\\\"signal\\\": \\\"datum[\\\\\\\"c_x_axis_back\\\\\\\"]+487\\\"}, \\\"y\\\": {\\\"field\\\": \\\"c_fifth_item\\\"}}}, \\\"type\\\": \\\"text\\\"}, {\\\"from\\\": {\\\"data\\\": \\\"data_2\\\"}, \\\"encode\\\": {\\\"enter\\\": {\\\"x\\\": {\\\"value\\\": 700}, \\\"y\\\": {\\\"value\\\": 200}, \\\"text\\\": {\\\"signal\\\": \\\"((datum[\\\\\\\"categorical\\\\\\\"].length >= 1) &amp;&amp; (toString(datum[\\\\\\\"type\\\\\\\"]) == \\\\\\\"str\\\\\\\"))? toString(datum[\\\\\\\"categorical\\\\\\\"][0][\\\\\\\"count\\\\\\\"]):\\\\\\\"\\\\\\\"\\\"}, \\\"align\\\": {\\\"value\\\": \\\"right\\\"}, \\\"baseline\\\": {\\\"value\\\": \\\"middle\\\"}, \\\"dx\\\": {\\\"value\\\": 0, \\\"offset\\\": 0}, \\\"dy\\\": {\\\"value\\\": 0, \\\"offset\\\": 0}, \\\"angle\\\": {\\\"value\\\": 0}, \\\"clip\\\": {\\\"value\\\": true}, \\\"font\\\": {\\\"value\\\": \\\"AvenirNext-Medium\\\"}, \\\"fontSize\\\": {\\\"value\\\": 11}, \\\"fontWeight\\\": {\\\"value\\\": \\\"normal\\\"}, \\\"fontStyle\\\": {\\\"value\\\": \\\"normal\\\"}, \\\"fill\\\": {\\\"value\\\": \\\"#7A7A7A\\\"}}, \\\"update\\\": {\\\"x\\\": {\\\"signal\\\": \\\"datum[\\\\\\\"c_x_axis_back\\\\\\\"]+667\\\"}, \\\"y\\\": {\\\"field\\\": \\\"c_first_item\\\"}}}, \\\"type\\\": \\\"text\\\"}, {\\\"from\\\": {\\\"data\\\": \\\"data_2\\\"}, \\\"encode\\\": {\\\"enter\\\": {\\\"x\\\": {\\\"value\\\": 700}, \\\"y\\\": {\\\"value\\\": 200}, \\\"text\\\": {\\\"signal\\\": \\\"((datum[\\\\\\\"categorical\\\\\\\"].length >= 2) &amp;&amp; (toString(datum[\\\\\\\"type\\\\\\\"]) == \\\\\\\"str\\\\\\\"))? toString(datum[\\\\\\\"categorical\\\\\\\"][1][\\\\\\\"count\\\\\\\"]):\\\\\\\"\\\\\\\"\\\"}, \\\"align\\\": {\\\"value\\\": \\\"right\\\"}, \\\"baseline\\\": {\\\"value\\\": \\\"middle\\\"}, \\\"dx\\\": {\\\"value\\\": 0, \\\"offset\\\": 0}, \\\"dy\\\": {\\\"value\\\": 0, \\\"offset\\\": 0}, \\\"angle\\\": {\\\"value\\\": 0}, \\\"clip\\\": {\\\"value\\\": true}, \\\"font\\\": {\\\"value\\\": \\\"AvenirNext-Medium\\\"}, \\\"fontSize\\\": {\\\"value\\\": 10}, \\\"fontWeight\\\": {\\\"value\\\": \\\"normal\\\"}, \\\"fontStyle\\\": {\\\"value\\\": \\\"normal\\\"}, \\\"fill\\\": {\\\"value\\\": \\\"#7A7A7A\\\"}}, \\\"update\\\": {\\\"x\\\": {\\\"signal\\\": \\\"datum[\\\\\\\"c_x_axis_back\\\\\\\"]+667\\\"}, \\\"y\\\": {\\\"field\\\": \\\"c_second_item\\\"}}}, \\\"type\\\": \\\"text\\\"}, {\\\"from\\\": {\\\"data\\\": \\\"data_2\\\"}, \\\"encode\\\": {\\\"enter\\\": {\\\"x\\\": {\\\"value\\\": 700}, \\\"y\\\": {\\\"value\\\": 200}, \\\"text\\\": {\\\"signal\\\": \\\"((datum[\\\\\\\"categorical\\\\\\\"].length >= 3) &amp;&amp; (toString(datum[\\\\\\\"type\\\\\\\"]) == \\\\\\\"str\\\\\\\"))? toString(datum[\\\\\\\"categorical\\\\\\\"][2][\\\\\\\"count\\\\\\\"]):\\\\\\\"\\\\\\\"\\\"}, \\\"align\\\": {\\\"value\\\": \\\"right\\\"}, \\\"baseline\\\": {\\\"value\\\": \\\"middle\\\"}, \\\"dx\\\": {\\\"value\\\": 0, \\\"offset\\\": 0}, \\\"dy\\\": {\\\"value\\\": 0, \\\"offset\\\": 0}, \\\"angle\\\": {\\\"value\\\": 0}, \\\"clip\\\": {\\\"value\\\": true}, \\\"font\\\": {\\\"value\\\": \\\"AvenirNext-Medium\\\"}, \\\"fontSize\\\": {\\\"value\\\": 10}, \\\"fontWeight\\\": {\\\"value\\\": \\\"normal\\\"}, \\\"fontStyle\\\": {\\\"value\\\": \\\"normal\\\"}, \\\"fill\\\": {\\\"value\\\": \\\"#7A7A7A\\\"}}, \\\"update\\\": {\\\"x\\\": {\\\"signal\\\": \\\"datum[\\\\\\\"c_x_axis_back\\\\\\\"]+667\\\"}, \\\"y\\\": {\\\"field\\\": \\\"c_third_item\\\"}}}, \\\"type\\\": \\\"text\\\"}, {\\\"from\\\": {\\\"data\\\": \\\"data_2\\\"}, \\\"encode\\\": {\\\"enter\\\": {\\\"x\\\": {\\\"value\\\": 700}, \\\"y\\\": {\\\"value\\\": 200}, \\\"text\\\": {\\\"signal\\\": \\\"((datum[\\\\\\\"categorical\\\\\\\"].length >= 4) &amp;&amp; (toString(datum[\\\\\\\"type\\\\\\\"]) == \\\\\\\"str\\\\\\\"))? toString(datum[\\\\\\\"categorical\\\\\\\"][3][\\\\\\\"count\\\\\\\"]):\\\\\\\"\\\\\\\"\\\"}, \\\"align\\\": {\\\"value\\\": \\\"right\\\"}, \\\"baseline\\\": {\\\"value\\\": \\\"middle\\\"}, \\\"dx\\\": {\\\"value\\\": 0, \\\"offset\\\": 0}, \\\"dy\\\": {\\\"value\\\": 0, \\\"offset\\\": 0}, \\\"angle\\\": {\\\"value\\\": 0}, \\\"clip\\\": {\\\"value\\\": true}, \\\"font\\\": {\\\"value\\\": \\\"AvenirNext-Medium\\\"}, \\\"fontSize\\\": {\\\"value\\\": 10}, \\\"fontWeight\\\": {\\\"value\\\": \\\"normal\\\"}, \\\"fontStyle\\\": {\\\"value\\\": \\\"normal\\\"}, \\\"fill\\\": {\\\"value\\\": \\\"#7A7A7A\\\"}}, \\\"update\\\": {\\\"x\\\": {\\\"signal\\\": \\\"datum[\\\\\\\"c_x_axis_back\\\\\\\"]+667\\\"}, \\\"y\\\": {\\\"field\\\": \\\"c_fourth_item\\\"}}}, \\\"type\\\": \\\"text\\\"}, {\\\"from\\\": {\\\"data\\\": \\\"data_2\\\"}, \\\"encode\\\": {\\\"enter\\\": {\\\"x\\\": {\\\"value\\\": 700}, \\\"y\\\": {\\\"value\\\": 200}, \\\"text\\\": {\\\"signal\\\": \\\"((datum[\\\\\\\"categorical\\\\\\\"].length >= 5) &amp;&amp; (toString(datum[\\\\\\\"type\\\\\\\"]) == \\\\\\\"str\\\\\\\"))? toString(datum[\\\\\\\"categorical\\\\\\\"][4][\\\\\\\"count\\\\\\\"]):\\\\\\\"\\\\\\\"\\\"}, \\\"align\\\": {\\\"value\\\": \\\"right\\\"}, \\\"baseline\\\": {\\\"value\\\": \\\"middle\\\"}, \\\"dx\\\": {\\\"value\\\": 0, \\\"offset\\\": 0}, \\\"dy\\\": {\\\"value\\\": 0, \\\"offset\\\": 0}, \\\"angle\\\": {\\\"value\\\": 0}, \\\"clip\\\": {\\\"value\\\": true}, \\\"font\\\": {\\\"value\\\": \\\"AvenirNext-Medium\\\"}, \\\"fontSize\\\": {\\\"value\\\": 10}, \\\"fontWeight\\\": {\\\"value\\\": \\\"normal\\\"}, \\\"fontStyle\\\": {\\\"value\\\": \\\"normal\\\"}, \\\"fill\\\": {\\\"value\\\": \\\"#7A7A7A\\\"}}, \\\"update\\\": {\\\"x\\\": {\\\"signal\\\": \\\"datum[\\\\\\\"c_x_axis_back\\\\\\\"]+667\\\"}, \\\"y\\\": {\\\"field\\\": \\\"c_fifth_item\\\"}}}, \\\"type\\\": \\\"text\\\"}, {\\\"from\\\": {\\\"data\\\": \\\"data_2\\\"}, \\\"encode\\\": {\\\"enter\\\": {\\\"x\\\": {\\\"value\\\": 500}, \\\"y\\\": {\\\"value\\\": 200}, \\\"text\\\": {\\\"signal\\\": \\\"(toString(datum[\\\\\\\"type\\\\\\\"]) == \\\\\\\"integer\\\\\\\" || toString(datum[\\\\\\\"type\\\\\\\"]) == \\\\\\\"float\\\\\\\")? \\\\\\\"Mean:\\\\\\\":\\\\\\\"\\\\\\\"\\\"}, \\\"align\\\": {\\\"value\\\": \\\"left\\\"}, \\\"baseline\\\": {\\\"value\\\": \\\"middle\\\"}, \\\"dx\\\": {\\\"value\\\": 0, \\\"offset\\\": 0}, \\\"dy\\\": {\\\"value\\\": 0, \\\"offset\\\": 0}, \\\"angle\\\": {\\\"value\\\": 0}, \\\"clip\\\": {\\\"value\\\": true}, \\\"font\\\": {\\\"value\\\": \\\"AvenirNext-Medium\\\"}, \\\"fontSize\\\": {\\\"value\\\": 11}, \\\"fontWeight\\\": {\\\"value\\\": \\\"bold\\\"}, \\\"fontStyle\\\": {\\\"value\\\": \\\"normal\\\"}, \\\"fill\\\": {\\\"value\\\": \\\"#4A4A4A\\\"}}, \\\"update\\\": {\\\"x\\\": {\\\"signal\\\": \\\"datum[\\\\\\\"c_x_axis_back\\\\\\\"]+467\\\"}, \\\"y\\\": {\\\"field\\\": \\\"c_mean\\\"}}}, \\\"type\\\": \\\"text\\\"}, {\\\"from\\\": {\\\"data\\\": \\\"data_2\\\"}, \\\"encode\\\": {\\\"enter\\\": {\\\"x\\\": {\\\"value\\\": 500}, \\\"y\\\": {\\\"value\\\": 220}, \\\"text\\\": {\\\"signal\\\": \\\"(toString(datum[\\\\\\\"type\\\\\\\"]) == \\\\\\\"integer\\\\\\\" || toString(datum[\\\\\\\"type\\\\\\\"]) == \\\\\\\"float\\\\\\\")? \\\\\\\"Min:\\\\\\\":\\\\\\\"\\\\\\\"\\\"}, \\\"align\\\": {\\\"value\\\": \\\"left\\\"}, \\\"baseline\\\": {\\\"value\\\": \\\"middle\\\"}, \\\"dx\\\": {\\\"value\\\": 0, \\\"offset\\\": 0}, \\\"dy\\\": {\\\"value\\\": 0, \\\"offset\\\": 0}, \\\"angle\\\": {\\\"value\\\": 0}, \\\"font\\\": {\\\"value\\\": \\\"AvenirNext-Medium\\\"}, \\\"fontSize\\\": {\\\"value\\\": 11}, \\\"fontWeight\\\": {\\\"value\\\": \\\"bold\\\"}, \\\"fontStyle\\\": {\\\"value\\\": \\\"normal\\\"}, \\\"fill\\\": {\\\"value\\\": \\\"#4A4A4A\\\"}}, \\\"update\\\": {\\\"x\\\": {\\\"signal\\\": \\\"datum[\\\\\\\"c_x_axis_back\\\\\\\"]+467\\\"}, \\\"y\\\": {\\\"field\\\": \\\"c_min\\\"}}}, \\\"type\\\": \\\"text\\\"}, {\\\"from\\\": {\\\"data\\\": \\\"data_2\\\"}, \\\"encode\\\": {\\\"enter\\\": {\\\"x\\\": {\\\"value\\\": 500}, \\\"y\\\": {\\\"value\\\": 240}, \\\"text\\\": {\\\"signal\\\": \\\"(toString(datum[\\\\\\\"type\\\\\\\"]) == \\\\\\\"integer\\\\\\\" || toString(datum[\\\\\\\"type\\\\\\\"]) == \\\\\\\"float\\\\\\\")? \\\\\\\"Max:\\\\\\\":\\\\\\\"\\\\\\\"\\\"}, \\\"align\\\": {\\\"value\\\": \\\"left\\\"}, \\\"baseline\\\": {\\\"value\\\": \\\"middle\\\"}, \\\"dx\\\": {\\\"value\\\": 0, \\\"offset\\\": 0}, \\\"dy\\\": {\\\"value\\\": 0, \\\"offset\\\": 0}, \\\"angle\\\": {\\\"value\\\": 0}, \\\"font\\\": {\\\"value\\\": \\\"AvenirNext-Medium\\\"}, \\\"fontSize\\\": {\\\"value\\\": 11}, \\\"fontWeight\\\": {\\\"value\\\": \\\"bold\\\"}, \\\"fontStyle\\\": {\\\"value\\\": \\\"normal\\\"}, \\\"fill\\\": {\\\"value\\\": \\\"#4A4A4A\\\"}}, \\\"update\\\": {\\\"x\\\": {\\\"signal\\\": \\\"datum[\\\\\\\"c_x_axis_back\\\\\\\"]+467\\\"}, \\\"y\\\": {\\\"field\\\": \\\"c_max\\\"}}}, \\\"type\\\": \\\"text\\\"}, {\\\"from\\\": {\\\"data\\\": \\\"data_2\\\"}, \\\"encode\\\": {\\\"enter\\\": {\\\"x\\\": {\\\"value\\\": 500}, \\\"y\\\": {\\\"value\\\": 260}, \\\"text\\\": {\\\"signal\\\": \\\"(toString(datum[\\\\\\\"type\\\\\\\"]) == \\\\\\\"integer\\\\\\\" || toString(datum[\\\\\\\"type\\\\\\\"]) == \\\\\\\"float\\\\\\\")? \\\\\\\"Median:\\\\\\\":\\\\\\\"\\\\\\\"\\\"}, \\\"align\\\": {\\\"value\\\": \\\"left\\\"}, \\\"baseline\\\": {\\\"value\\\": \\\"middle\\\"}, \\\"dx\\\": {\\\"value\\\": 0, \\\"offset\\\": 0}, \\\"dy\\\": {\\\"value\\\": 0, \\\"offset\\\": 0}, \\\"angle\\\": {\\\"value\\\": 0}, \\\"font\\\": {\\\"value\\\": \\\"AvenirNext-Medium\\\"}, \\\"fontSize\\\": {\\\"value\\\": 11}, \\\"fontWeight\\\": {\\\"value\\\": \\\"bold\\\"}, \\\"fontStyle\\\": {\\\"value\\\": \\\"normal\\\"}, \\\"fill\\\": {\\\"value\\\": \\\"#4A4A4A\\\"}}, \\\"update\\\": {\\\"x\\\": {\\\"signal\\\": \\\"datum[\\\\\\\"c_x_axis_back\\\\\\\"]+467\\\"}, \\\"y\\\": {\\\"field\\\": \\\"c_median\\\"}}}, \\\"type\\\": \\\"text\\\"}, {\\\"from\\\": {\\\"data\\\": \\\"data_2\\\"}, \\\"encode\\\": {\\\"enter\\\": {\\\"x\\\": {\\\"value\\\": 500}, \\\"y\\\": {\\\"value\\\": 280}, \\\"text\\\": {\\\"signal\\\": \\\"(toString(datum[\\\\\\\"type\\\\\\\"]) == \\\\\\\"integer\\\\\\\" || toString(datum[\\\\\\\"type\\\\\\\"]) == \\\\\\\"float\\\\\\\")? \\\\\\\"St. Dev:\\\\\\\":\\\\\\\"\\\\\\\"\\\"}, \\\"align\\\": {\\\"value\\\": \\\"left\\\"}, \\\"baseline\\\": {\\\"value\\\": \\\"middle\\\"}, \\\"dx\\\": {\\\"value\\\": 0, \\\"offset\\\": 0}, \\\"dy\\\": {\\\"value\\\": 0, \\\"offset\\\": 0}, \\\"angle\\\": {\\\"value\\\": 0}, \\\"font\\\": {\\\"value\\\": \\\"AvenirNext-Medium\\\"}, \\\"fontSize\\\": {\\\"value\\\": 11}, \\\"fontWeight\\\": {\\\"value\\\": \\\"bold\\\"}, \\\"fontStyle\\\": {\\\"value\\\": \\\"normal\\\"}, \\\"fill\\\": {\\\"value\\\": \\\"#4A4A4A\\\"}}, \\\"update\\\": {\\\"x\\\": {\\\"signal\\\": \\\"datum[\\\\\\\"c_x_axis_back\\\\\\\"]+467\\\"}, \\\"y\\\": {\\\"field\\\": \\\"c_stdev\\\"}}}, \\\"type\\\": \\\"text\\\"}, {\\\"from\\\": {\\\"data\\\": \\\"data_2\\\"}, \\\"encode\\\": {\\\"enter\\\": {\\\"x\\\": {\\\"value\\\": 700}, \\\"y\\\": {\\\"value\\\": 198}, \\\"text\\\": {\\\"signal\\\": \\\"(toString(datum[\\\\\\\"type\\\\\\\"]) == \\\\\\\"integer\\\\\\\" || toString(datum[\\\\\\\"type\\\\\\\"]) == \\\\\\\"float\\\\\\\")?toString(format(datum[\\\\\\\"mean\\\\\\\"], \\\\\\\",\\\\\\\")):\\\\\\\"\\\\\\\"\\\"}, \\\"align\\\": {\\\"value\\\": \\\"right\\\"}, \\\"baseline\\\": {\\\"value\\\": \\\"middle\\\"}, \\\"dx\\\": {\\\"value\\\": 0, \\\"offset\\\": 0}, \\\"dy\\\": {\\\"value\\\": 0, \\\"offset\\\": 0}, \\\"angle\\\": {\\\"value\\\": 0}, \\\"font\\\": {\\\"value\\\": \\\"AvenirNext-Medium\\\"}, \\\"fontSize\\\": {\\\"value\\\": 10}, \\\"fontWeight\\\": {\\\"value\\\": \\\"normal\\\"}, \\\"fontStyle\\\": {\\\"value\\\": \\\"normal\\\"}, \\\"fill\\\": {\\\"value\\\": \\\"#6A6A6A\\\"}}, \\\"update\\\": {\\\"x\\\": {\\\"signal\\\": \\\"datum[\\\\\\\"c_x_axis_back\\\\\\\"]+667\\\"}, \\\"y\\\": {\\\"field\\\": \\\"c_mean_val\\\"}}}, \\\"type\\\": \\\"text\\\"}, {\\\"from\\\": {\\\"data\\\": \\\"data_2\\\"}, \\\"encode\\\": {\\\"enter\\\": {\\\"x\\\": {\\\"value\\\": 700}, \\\"y\\\": {\\\"value\\\": 218}, \\\"text\\\": {\\\"signal\\\": \\\"(toString(datum[\\\\\\\"type\\\\\\\"]) == \\\\\\\"integer\\\\\\\" || toString(datum[\\\\\\\"type\\\\\\\"]) == \\\\\\\"float\\\\\\\")?toString(format(datum[\\\\\\\"min\\\\\\\"], \\\\\\\",\\\\\\\")):\\\\\\\"\\\\\\\"\\\"}, \\\"align\\\": {\\\"value\\\": \\\"right\\\"}, \\\"baseline\\\": {\\\"value\\\": \\\"middle\\\"}, \\\"dx\\\": {\\\"value\\\": 0, \\\"offset\\\": 0}, \\\"dy\\\": {\\\"value\\\": 0, \\\"offset\\\": 0}, \\\"angle\\\": {\\\"value\\\": 0}, \\\"font\\\": {\\\"value\\\": \\\"AvenirNext-Medium\\\"}, \\\"fontSize\\\": {\\\"value\\\": 10}, \\\"fontWeight\\\": {\\\"value\\\": \\\"normal\\\"}, \\\"fontStyle\\\": {\\\"value\\\": \\\"normal\\\"}, \\\"fill\\\": {\\\"value\\\": \\\"#6A6A6A\\\"}}, \\\"update\\\": {\\\"x\\\": {\\\"signal\\\": \\\"datum[\\\\\\\"c_x_axis_back\\\\\\\"]+667\\\"}, \\\"y\\\": {\\\"field\\\": \\\"c_min_val\\\"}}}, \\\"type\\\": \\\"text\\\"}, {\\\"from\\\": {\\\"data\\\": \\\"data_2\\\"}, \\\"encode\\\": {\\\"enter\\\": {\\\"x\\\": {\\\"value\\\": 700}, \\\"y\\\": {\\\"value\\\": 238}, \\\"text\\\": {\\\"signal\\\": \\\"(toString(datum[\\\\\\\"type\\\\\\\"]) == \\\\\\\"integer\\\\\\\" || toString(datum[\\\\\\\"type\\\\\\\"]) == \\\\\\\"float\\\\\\\")?toString(format(datum[\\\\\\\"max\\\\\\\"], \\\\\\\",\\\\\\\")):\\\\\\\"\\\\\\\"\\\"}, \\\"align\\\": {\\\"value\\\": \\\"right\\\"}, \\\"baseline\\\": {\\\"value\\\": \\\"middle\\\"}, \\\"dx\\\": {\\\"value\\\": 0, \\\"offset\\\": 0}, \\\"dy\\\": {\\\"value\\\": 0, \\\"offset\\\": 0}, \\\"angle\\\": {\\\"value\\\": 0}, \\\"font\\\": {\\\"value\\\": \\\"AvenirNext-Medium\\\"}, \\\"fontSize\\\": {\\\"value\\\": 10}, \\\"fontWeight\\\": {\\\"value\\\": \\\"normal\\\"}, \\\"fontStyle\\\": {\\\"value\\\": \\\"normal\\\"}, \\\"fill\\\": {\\\"value\\\": \\\"#6A6A6A\\\"}}, \\\"update\\\": {\\\"x\\\": {\\\"signal\\\": \\\"datum[\\\\\\\"c_x_axis_back\\\\\\\"]+667\\\"}, \\\"y\\\": {\\\"field\\\": \\\"c_max_val\\\"}}}, \\\"type\\\": \\\"text\\\"}, {\\\"from\\\": {\\\"data\\\": \\\"data_2\\\"}, \\\"encode\\\": {\\\"enter\\\": {\\\"x\\\": {\\\"value\\\": 700}, \\\"y\\\": {\\\"value\\\": 258}, \\\"text\\\": {\\\"signal\\\": \\\"(toString(datum[\\\\\\\"type\\\\\\\"]) == \\\\\\\"integer\\\\\\\" || toString(datum[\\\\\\\"type\\\\\\\"]) == \\\\\\\"float\\\\\\\")?toString(format(datum[\\\\\\\"median\\\\\\\"], \\\\\\\",\\\\\\\")):\\\\\\\"\\\\\\\"\\\"}, \\\"align\\\": {\\\"value\\\": \\\"right\\\"}, \\\"baseline\\\": {\\\"value\\\": \\\"middle\\\"}, \\\"dx\\\": {\\\"value\\\": 0, \\\"offset\\\": 0}, \\\"dy\\\": {\\\"value\\\": 0, \\\"offset\\\": 0}, \\\"angle\\\": {\\\"value\\\": 0}, \\\"font\\\": {\\\"value\\\": \\\"AvenirNext-Medium\\\"}, \\\"fontSize\\\": {\\\"value\\\": 10}, \\\"fontWeight\\\": {\\\"value\\\": \\\"normal\\\"}, \\\"fontStyle\\\": {\\\"value\\\": \\\"normal\\\"}, \\\"fill\\\": {\\\"value\\\": \\\"#6A6A6A\\\"}}, \\\"update\\\": {\\\"x\\\": {\\\"signal\\\": \\\"datum[\\\\\\\"c_x_axis_back\\\\\\\"]+667\\\"}, \\\"y\\\": {\\\"field\\\": \\\"c_median_val\\\"}}}, \\\"type\\\": \\\"text\\\"}, {\\\"from\\\": {\\\"data\\\": \\\"data_2\\\"}, \\\"encode\\\": {\\\"enter\\\": {\\\"x\\\": {\\\"value\\\": 700}, \\\"y\\\": {\\\"value\\\": 278}, \\\"text\\\": {\\\"signal\\\": \\\"(toString(datum[\\\\\\\"type\\\\\\\"]) == \\\\\\\"integer\\\\\\\" || toString(datum[\\\\\\\"type\\\\\\\"]) == \\\\\\\"float\\\\\\\")?toString(format(datum[\\\\\\\"stdev\\\\\\\"], \\\\\\\",\\\\\\\")):\\\\\\\"\\\\\\\"\\\"}, \\\"align\\\": {\\\"value\\\": \\\"right\\\"}, \\\"baseline\\\": {\\\"value\\\": \\\"middle\\\"}, \\\"dx\\\": {\\\"value\\\": 0, \\\"offset\\\": 0}, \\\"dy\\\": {\\\"value\\\": 0, \\\"offset\\\": 0}, \\\"angle\\\": {\\\"value\\\": 0}, \\\"font\\\": {\\\"value\\\": \\\"AvenirNext-Medium\\\"}, \\\"fontSize\\\": {\\\"value\\\": 10}, \\\"fontWeight\\\": {\\\"value\\\": \\\"normal\\\"}, \\\"fontStyle\\\": {\\\"value\\\": \\\"normal\\\"}, \\\"fill\\\": {\\\"value\\\": \\\"#6A6A6A\\\"}}, \\\"update\\\": {\\\"x\\\": {\\\"signal\\\": \\\"datum[\\\\\\\"c_x_axis_back\\\\\\\"]+667\\\"}, \\\"y\\\": {\\\"field\\\": \\\"c_stdev_val\\\"}}}, \\\"type\\\": \\\"text\\\"}, {\\\"from\\\": {\\\"facet\\\": {\\\"name\\\": \\\"new_data\\\", \\\"data\\\": \\\"data_2\\\", \\\"field\\\": \\\"numeric\\\"}}, \\\"encode\\\": {\\\"enter\\\": {\\\"x\\\": {\\\"value\\\": 120}, \\\"width\\\": {\\\"value\\\": 250}, \\\"y\\\": {\\\"field\\\": \\\"graph_offset\\\"}, \\\"height\\\": {\\\"value\\\": 150}, \\\"fill\\\": {\\\"value\\\": \\\"#ffffff\\\"}, \\\"fillOpacity\\\": {\\\"value\\\": 0}, \\\"stroke\\\": {\\\"value\\\": \\\"#000000\\\"}, \\\"strokeWidth\\\": {\\\"value\\\": 0}}, \\\"update\\\": {\\\"x\\\": {\\\"signal\\\": \\\"datum[\\\\\\\"c_x_axis_back\\\\\\\"]+87\\\"}, \\\"clip\\\": {\\\"field\\\": \\\"c_clip_val\\\"}, \\\"width\\\": {\\\"field\\\": \\\"c_width_numeric_val\\\"}}}, \\\"type\\\": \\\"group\\\", \\\"scales\\\": [{\\\"name\\\": \\\"x\\\", \\\"type\\\": \\\"linear\\\", \\\"domain\\\": {\\\"data\\\": \\\"new_data\\\", \\\"fields\\\": [\\\"left\\\", \\\"right\\\"], \\\"sort\\\": true}, \\\"range\\\": [0, {\\\"signal\\\": \\\"width\\\"}], \\\"nice\\\": true, \\\"zero\\\": true}, {\\\"name\\\": \\\"y\\\", \\\"type\\\": \\\"linear\\\", \\\"domain\\\": {\\\"data\\\": \\\"new_data\\\", \\\"field\\\": \\\"count\\\"}, \\\"range\\\": [{\\\"signal\\\": \\\"height\\\"}, 0], \\\"nice\\\": true, \\\"zero\\\": true}], \\\"axes\\\": [{\\\"title\\\": \\\"Values\\\", \\\"scale\\\": \\\"x\\\", \\\"labelOverlap\\\": true, \\\"orient\\\": \\\"bottom\\\", \\\"tickCount\\\": {\\\"signal\\\": \\\"ceil(width/40)\\\"}, \\\"zindex\\\": 1}, {\\\"scale\\\": \\\"x\\\", \\\"domain\\\": false, \\\"grid\\\": true, \\\"labels\\\": false, \\\"maxExtent\\\": 0, \\\"minExtent\\\": 0, \\\"orient\\\": \\\"bottom\\\", \\\"tickCount\\\": {\\\"signal\\\": \\\"ceil(width/40)\\\"}, \\\"ticks\\\": false, \\\"zindex\\\": 0, \\\"gridScale\\\": \\\"y\\\"}, {\\\"title\\\": \\\"Count\\\", \\\"scale\\\": \\\"y\\\", \\\"labelOverlap\\\": true, \\\"orient\\\": \\\"left\\\", \\\"tickCount\\\": {\\\"signal\\\": \\\"ceil(height/40)\\\"}, \\\"zindex\\\": 1}, {\\\"scale\\\": \\\"y\\\", \\\"domain\\\": false, \\\"grid\\\": true, \\\"labels\\\": false, \\\"maxExtent\\\": 0, \\\"minExtent\\\": 0, \\\"orient\\\": \\\"left\\\", \\\"tickCount\\\": {\\\"signal\\\": \\\"ceil(height/40)\\\"}, \\\"ticks\\\": false, \\\"zindex\\\": 0, \\\"gridScale\\\": \\\"x\\\"}], \\\"style\\\": \\\"cell\\\", \\\"signals\\\": [{\\\"name\\\": \\\"width\\\", \\\"update\\\": \\\"250\\\"}, {\\\"name\\\": \\\"height\\\", \\\"update\\\": \\\"150\\\"}], \\\"marks\\\": [{\\\"name\\\": \\\"marks\\\", \\\"type\\\": \\\"rect\\\", \\\"style\\\": [\\\"rect\\\"], \\\"from\\\": {\\\"data\\\": \\\"new_data\\\"}, \\\"encode\\\": {\\\"hover\\\": {\\\"fill\\\": {\\\"value\\\": \\\"#7EC2F3\\\"}}, \\\"update\\\": {\\\"x\\\": {\\\"scale\\\": \\\"x\\\", \\\"field\\\": \\\"left\\\"}, \\\"x2\\\": {\\\"scale\\\": \\\"x\\\", \\\"field\\\": \\\"right\\\"}, \\\"y\\\": {\\\"scale\\\": \\\"y\\\", \\\"field\\\": \\\"count\\\"}, \\\"y2\\\": {\\\"scale\\\": \\\"y\\\", \\\"value\\\": 0}, \\\"fill\\\": {\\\"value\\\": \\\"#108EE9\\\"}}}}]}, {\\\"from\\\": {\\\"facet\\\": {\\\"name\\\": \\\"data_5\\\", \\\"data\\\": \\\"data_2\\\", \\\"field\\\": \\\"categorical\\\"}}, \\\"encode\\\": {\\\"enter\\\": {\\\"x\\\": {\\\"value\\\": 170}, \\\"width\\\": {\\\"value\\\": 250}, \\\"y\\\": {\\\"field\\\": \\\"graph_offset_categorical\\\"}, \\\"height\\\": {\\\"value\\\": 150}, \\\"fill\\\": {\\\"value\\\": \\\"#ffffff\\\"}, \\\"fillOpacity\\\": {\\\"value\\\": 0}, \\\"stroke\\\": {\\\"value\\\": \\\"#000000\\\"}, \\\"strokeWidth\\\": {\\\"value\\\": 0}}, \\\"update\\\": {\\\"x\\\": {\\\"signal\\\": \\\"datum[\\\\\\\"c_x_axis_back\\\\\\\"]+137\\\"}, \\\"clip\\\": {\\\"field\\\": \\\"c_clip_val_cat\\\"}, \\\"width\\\": {\\\"field\\\": \\\"c_width_numeric_val_cat\\\"}}}, \\\"type\\\": \\\"group\\\", \\\"style\\\": \\\"cell\\\", \\\"signals\\\": [{\\\"name\\\": \\\"unit\\\", \\\"value\\\": {}, \\\"on\\\": [{\\\"events\\\": \\\"mousemove\\\", \\\"update\\\": \\\"isTuple(group()) ? group() : unit\\\"}]}, {\\\"name\\\": \\\"pts\\\", \\\"update\\\": \\\"data(\\\\\\\"pts_store\\\\\\\").length &amp;&amp; {count: data(\\\\\\\"pts_store\\\\\\\")[0].values[0]}\\\"}, {\\\"name\\\": \\\"pts_tuple\\\", \\\"value\\\": {}, \\\"on\\\": [{\\\"events\\\": [{\\\"source\\\": \\\"scope\\\", \\\"type\\\": \\\"click\\\"}], \\\"update\\\": \\\"datum &amp;&amp; item().mark.marktype !== &apos;group&apos; ? {unit: \\\\\\\"\\\\\\\", encodings: [\\\\\\\"x\\\\\\\"], fields: [\\\\\\\"count\\\\\\\"], values: [datum[\\\\\\\"count\\\\\\\"]]} : null\\\", \\\"force\\\": true}]}, {\\\"name\\\": \\\"pts_modify\\\", \\\"on\\\": [{\\\"events\\\": {\\\"signal\\\": \\\"pts_tuple\\\"}, \\\"update\\\": \\\"modify(\\\\\\\"pts_store\\\\\\\", pts_tuple, true)\\\"}]}], \\\"marks\\\": [{\\\"name\\\": \\\"marks\\\", \\\"type\\\": \\\"rect\\\", \\\"style\\\": [\\\"bar\\\"], \\\"from\\\": {\\\"data\\\": \\\"data_5\\\"}, \\\"encode\\\": {\\\"hover\\\": {\\\"fill\\\": {\\\"value\\\": \\\"#7EC2F3\\\"}}, \\\"update\\\": {\\\"x\\\": {\\\"scale\\\": \\\"x\\\", \\\"field\\\": \\\"count\\\"}, \\\"x2\\\": {\\\"scale\\\": \\\"x\\\", \\\"value\\\": 0}, \\\"y\\\": {\\\"scale\\\": \\\"y\\\", \\\"field\\\": \\\"label\\\"}, \\\"height\\\": {\\\"scale\\\": \\\"y\\\", \\\"band\\\": true}, \\\"fill\\\": {\\\"value\\\": \\\"#108EE9\\\"}}}}], \\\"scales\\\": [{\\\"name\\\": \\\"x\\\", \\\"type\\\": \\\"linear\\\", \\\"domain\\\": {\\\"data\\\": \\\"data_5\\\", \\\"field\\\": \\\"count\\\"}, \\\"range\\\": [0, 250], \\\"nice\\\": true, \\\"zero\\\": true}, {\\\"name\\\": \\\"y\\\", \\\"type\\\": \\\"band\\\", \\\"domain\\\": {\\\"data\\\": \\\"data_5\\\", \\\"field\\\": \\\"label\\\", \\\"sort\\\": {\\\"op\\\": \\\"mean\\\", \\\"field\\\": \\\"label_idx\\\", \\\"order\\\": \\\"descending\\\"}}, \\\"range\\\": [150, 0], \\\"paddingInner\\\": 0.1, \\\"paddingOuter\\\": 0.05}], \\\"axes\\\": [{\\\"orient\\\": \\\"top\\\", \\\"scale\\\": \\\"x\\\", \\\"labelOverlap\\\": true, \\\"tickCount\\\": {\\\"signal\\\": \\\"ceil(width/40)\\\"}, \\\"title\\\": \\\"Count\\\", \\\"zindex\\\": 1}, {\\\"orient\\\": \\\"top\\\", \\\"scale\\\": \\\"x\\\", \\\"domain\\\": false, \\\"grid\\\": true, \\\"labels\\\": false, \\\"maxExtent\\\": 0, \\\"minExtent\\\": 0, \\\"tickCount\\\": {\\\"signal\\\": \\\"ceil(width/40)\\\"}, \\\"ticks\\\": false, \\\"zindex\\\": 0, \\\"gridScale\\\": \\\"y\\\"}, {\\\"scale\\\": \\\"y\\\", \\\"labelOverlap\\\": true, \\\"orient\\\": \\\"left\\\", \\\"title\\\": \\\"Label\\\", \\\"zindex\\\": 1}]}], \\\"type\\\": \\\"group\\\"}], \\\"type\\\": \\\"group\\\"}], \\\"config\\\": {\\\"axis\\\": {\\\"labelFont\\\": \\\"HelveticaNeue-Light, Arial\\\", \\\"labelFontSize\\\": 7, \\\"labelPadding\\\": 10, \\\"labelColor\\\": \\\"#595959\\\", \\\"titleFont\\\": \\\"HelveticaNeue-Light, Arial\\\", \\\"titleFontWeight\\\": \\\"normal\\\", \\\"titlePadding\\\": 9, \\\"titleFontSize\\\": 12, \\\"titleColor\\\": \\\"#595959\\\"}, \\\"axisY\\\": {\\\"minExtent\\\": 30}, \\\"style\\\": {\\\"rect\\\": {\\\"stroke\\\": \\\"rgba(200, 200, 200, 0.5)\\\"}, \\\"group-title\\\": {\\\"fontSize\\\": 20, \\\"font\\\": \\\"HelveticaNeue-Light, Arial\\\", \\\"fontWeight\\\": \\\"normal\\\", \\\"fill\\\": \\\"#595959\\\"}}}}\";                                 var vega_json_parsed = JSON.parse(vega_json);                                 var toolTipOpts = {                                     showAllFields: true                                 };                                 if(vega_json_parsed[\"metadata\"] != null){                                     if(vega_json_parsed[\"metadata\"][\"bubbleOpts\"] != null){                                         toolTipOpts = vega_json_parsed[\"metadata\"][\"bubbleOpts\"];                                     };                                 };                                 vegaEmbed(\"#vis\", vega_json_parsed).then(function (result) {                                     vegaTooltip.vega(result.view, toolTipOpts);                                  });                             </script>                         </body>                     </html>' src=\"demo_iframe_srcdoc.htm\">                         <p>Your browser does not support iframes.</p>                     </iframe>                 </body>             </html>"
      ],
      "text/plain": [
       "<IPython.core.display.HTML object>"
      ]
     },
     "metadata": {},
     "output_type": "display_data"
    }
   ],
   "source": [
    "sFrame.show()"
   ]
  },
  {
   "cell_type": "code",
   "execution_count": 47,
   "metadata": {},
   "outputs": [
    {
     "data": {
      "text/plain": [
       "'Fawaz Damrah'"
      ]
     },
     "execution_count": 47,
     "metadata": {},
     "output_type": "execute_result"
    }
   ],
   "source": [
    "names = sFrame['name']\n",
    "names[-1]"
   ]
  },
  {
   "cell_type": "code",
   "execution_count": 43,
   "metadata": {},
   "outputs": [
    {
     "data": {
      "text/plain": [
       "dtype: str\n",
       "Rows: 59071\n",
       "['Digby Morrell', 'Alfred J. Lewy', 'Harpdog Brown', 'Franz Rottensteiner', 'G-Enka', 'Sam Henderson', 'Aaron LaCrate', 'Trevor Ferguson', 'Grant Nelson', 'Cathy Caruth', 'Sophie Crumb', 'Jenn Ashworth', 'Jonathan Hoefler', 'Anthony Gueterbock, 18th Baron Berkeley', 'David Chernushenko', 'Joerg Steineck', 'Andrew Pinsent', 'Paddy Dunne (Gaelic footballer)', 'Alexandros Mouzas', 'John Angus Campbell', 'Chris Batstone', 'Ceiron Thomas', 'Adel Sellimi', 'Faith Soloway', 'Tom Jennings', 'Vic Stasiuk', 'Anthony Caruana', 'Ian Mitchell (author)', 'Leon Hapgood', 'Emily Osment', 'Dom Flora', 'Ted Hill (mathematician)', 'Mindaugas Murza', 'Bob Reece', 'Douglas Davies', 'Freimut B%C3%B6rngen', 'Th%C3%BCring Br%C3%A4m', 'Aharon Solomons', 'Steven Weil', 'Gary Emineth', 'Timothy Grucza', 'Bob Adams (American football)', 'Sylvie Roy', 'Rob Sheffield', 'Michel Che', 'Jaafar Aksikas', 'Will Tuttle', 'Vanessa Ament', 'Marc Logan', 'Corey Woolfolk', 'Professor Lyrical (rapper)', 'Michelle Ye', 'Robert N. Chatigny', 'Vincent Fang (lyricist)', 'Misa Telefoni Retzlaff', 'Mary Goldring', 'Susan Westerberg Prager', 'Yohannes Yual', 'Christopher Sorrentino', 'Alexis Bhagat', 'David Vernon Williams', 'Guillermo Roux', 'William J. Ely', 'Alan Roper', 'Bob Havens', 'Susan Christie', 'Elizabeth Gunn (author)', 'Bo Hampton', 'Milva', 'Will Tiao', 'Quintin E. Primo III', 'Geoffrey Bayldon', 'Ulf-Dietrich Reips', 'Marcel J. Melan%C3%A7on', 'Mike Powell (journalist)', 'Vladimir Yurchenko', 'Nobuo Uematsu', 'John Warner (writer)', 'Doug McIntosh', 'Avi Muchnick', 'Robin MacPherson', 'Judi Silvano', 'Evelin Lindner', 'Robert S. Gold', 'Agnes Baltsa', 'Zvonimir Juri%C4%87', 'John-Paul Himka', 'Elisha Qimron', 'Robert Grant Irving', 'Sam Leach (artist)', 'Patricia Crowther (caver)', 'Katja Herbers', 'Shaka Hislop', 'Martin Iveson', 'Eva Habermann', 'Steve Castle', 'Armen Ra', 'David Shaughnessy', 'John Reynolds (Canadian politician)', 'Dean Greig', ... ]"
      ]
     },
     "execution_count": 43,
     "metadata": {},
     "output_type": "execute_result"
    }
   ],
   "source": [
    "names"
   ]
  },
  {
   "cell_type": "code",
   "execution_count": 42,
   "metadata": {},
   "outputs": [
    {
     "name": "stdout",
     "output_type": "stream",
     "text": [
      "0\n"
     ]
    }
   ],
   "source": [
    "def indexFinder(nameArray, name):\n",
    "    count = 0\n",
    "    for i in nameArray:\n",
    "        if name not in names:\n",
    "            count = count + 1\n",
    "            print(count)\n",
    "        else: break\n",
    "    return count\n",
    "\n",
    "print(indexFinder(names, 'Harpdog Brown'))"
   ]
  },
  {
   "cell_type": "code",
   "execution_count": 44,
   "metadata": {},
   "outputs": [
    {
     "data": {
      "text/plain": [
       "'harpdog brown is a singer and harmonica player who has been active in canadas blues scene since 1982 hailing from vancouver he crossed tens of thousands of miles playing club dates and festivals in canada the northwestern united states and germanyover the years he has issued seven cds in 1995 his home is where the harp is won the muddy award for the best nw blues release from the cascade blues association in portland oregon as well that year it was nominated for a canadian juno for the best bluesgospel recording teamed up with graham guest on piano his cd naturally was voted 1 canadian blues album of 2010 by the blind lemon surveybrown tours extensively with his guitarist j arthur edmonds performing their electric mid1950s chicago blues either as a duo or with the full band while he is home he juggles a few combos working many venues big and small he also leads the harpdog brown band which is a gutsy traditional chicago blues band in 2014 they released what it is comprising mainly original songs and a few classic covers influential blues promoter and broadcaster holger petersen called what it is browns best albumhe was just awarded the maple blues award in toronto for best harmonica player in canada 2014 and was honored with a life time membership to the hamilton blues society'"
      ]
     },
     "execution_count": 44,
     "metadata": {},
     "output_type": "execute_result"
    }
   ],
   "source": [
    "description = sFrame['text']\n",
    "description[2]"
   ]
  },
  {
   "cell_type": "code",
   "execution_count": 48,
   "metadata": {},
   "outputs": [
    {
     "data": {
      "text/plain": [
       "dtype: str\n",
       "Rows: 59071\n",
       "['108 born 1978 is an italian artist in the field of street art and contemporary art from alessandria108 has moved from working in traditional graffiti art to painting large and mysterious figures that invade public spaces he was the first writer to use numbers instead of letters for his name he started to work when he was a child on the streets of alessandria and used different nameshis work has appeared on the streets of milan paris london berlin and new york city his first works known by people are enigmatic bloblike yellow shapes it is his firm intention to make visual chaos his new works are labyrinths dead trees non figurative 3d objects and installations but especially black and gloomy shapes becoming one of the biggest and influential artists in graffiti abstractism in the last years he took part in a lot of international exhibitions nusign 24 in paris urban edge show in milano segundo and tercer asalto in zaragoza and in 2007 he was invited to join the project called walls inside the biennale di venezia with jr and daim during march 2008 he was invited to join nomadaz a show curated by pablo aravena in los angeles with eltono dem microbo and other artists to represent europe in the usa 108s doomy black abstractions are engaging and challenging in equal measure whether it be within the confines of a small room in the abandoned monastery where the large triangular constructions are most effective and have the effect of warping and playing with the rooms dimensions as the viewer attempts to back away and comprehend the pieces or as a surreal floating void on a wall beside a busy road', '187 is a pseudonym for jordana lesesne a musician and producer from pittsburgh pennsylvania she became widely known in the mid1990s as an american drum and bass producer the village voice described her as being widely regarded as the top us drumnbass producer she has released of over 50 tracks which includes three fulllength albums several eps and many remixes under the alias 187 the album when worlds collide released in 1997 became known for its dark pummeling assaults several of her tracks have appeared as videos on mtv amp as well as mtv europe she has also licensed tracks for numerous compilations as well as the sci fi channel both of her albums charted in the top 25 of both the cmj college music journal and mixmag us later mixer magazine now defunct for 1997 as well as 1998 her works have been reviewed by the likes of spin rolling stone urb mixer mixmag raygun and vibe as well as knowledge the uk drum and bass magazine in 1999 she was listed in rayguns whos who of international djs she was one of the headlining djs on knowledge magazines 28 city kung fu knowledge tour in 1999 she also made out magazines out100 for the year 2000jordanas work has also influenced other artists such as well known dubstep producer bassnectar who heavily sampled 5 am rinse feat mc sphinx the last song on her first album when worlds collide for his song here we go off of his 2010 ep and single timestretch additionally electronic rock act celldweller sampled wake up off of her first album as well as san francisco off of her third album the cities collection in their 2013 song uncrownedin 1999 drum basship hop producer and label owner hive approached jordana to remix her song defcon1 also off of when worlds collide hives remix appears on his 2001 album the raw uncut jordana collaborated with lady sovereign on a song early in sovs career after the two met in an internet chat room for an online radio station which jordana had a show on recently new zealand based dubstep and drum bass producer alexis kunsub has also cited jordana as an influence and the two are collaborating on music and a possible tourin addition to production jordana has also been a dj musician and singer in 20012002 jordana worked at flex fm in london england as lady j with lady sovereign mcing for her during jordanas radio show in 2002 she held a club residency spinning uk garage 2step garage and house music at legendary club night trinity in londons vauxhall neighborhoodcurrently jordana has returned to her rock roots and fronts a melodic goth metal band which is working on their first studio album additionally jordana is working on a new drum and bass ep for bristol uk based complex records her guitar and vocal work have featured on clips of songs off of her new ep posted to soundcloud and on cover songs she has posted on afropunkcomjordana has also been featured in two books her success rising from the depressed 80s economy of a rust belt city to mtv featured electronica artist garnered a mention in 2002 new york times bestseller the rise of the creative class by economist richard florida an extensive interview with jordana was also featured in the new transsexuals a book by rock journalist and illustrator george petros thrasher seconds propaganda exit magazines published in 2012she currently resides in seattle', '1lt diane carlson evans anc rvn born 1946 served as a nurse in the united states army during the vietnam war and founded the vietnam womens memorial project in 1984 now the vietnam womens memorial foundation initiating and leading the effort to add the vietnam womens memorial to the vietnam veterans memorial in washington dccarlson evans was born and raised on a dairy farm in rural minnesota and graduated from nursing school in minneapolis minnesota upon graduation she joined the army nurse corps and served in vietnam at age 21 in 19681969 she served in the burn unit of the 36th evacuation hospital in vung tau and at pleiku in the 71st evacuation hospital 30 miles from the cambodian border in the central highlands just 10 to 20 minutes by helicopter from the field including her one year in vietnam carlson evans completed a total of 6 years in the army nurse corpscarlson evans attended the dedication of the vietnam veterans memorial the wall in 1982 following the dedication of the statue of three soldiers at the vietnam veterans memorial in 1984 carlson evans founded the vietnam womens memorial project to honor the service of american military women who served during the vietnam war era she worked from 1984 through 1993 to establish the vietnam womens memorial lobbying federal authorities for permission to build a memorial to the 11000 military women who served in vietnam and the 265000 who served around the world during the vietnam era carlson evans and thousands of volunteers in 50 states raised money and public support for the cause including from leading veterans organizations including the veterans of foreign wars vietnam veterans of america disabled american veterans and the american legion\\tit took seven years of testimony before three federal commissions and two congressional bills for evans and her supporters to earn permission for the memorial once permission was granted more than 300 artists entered a major design competition in 1990 sculptor glenna goodacre of sante fe new mexico submitted the winning design that now stands on the national mall in washington dc the bronze sculpture is 70 tall with four figures 3 women and a wounded soldier the vietnam womens memorial was dedicated before a crowd of thousands on november 11 1993 with remarks from then vice president and vietnam veteran al goresince the dedication of the vietnam womens memorial in 1993 carlson evans has remained active in the veterans community as founder and president of the vietnam womens memorial foundation she speaks nationally about the experience of women in wartime she and her husband of thirty years plus have four children and five grandchildren', '1robert godley b 7 july 1971 in whitstable kent is a britishamerican designer of mens clothing godley spent nearly his entire adult life in fashion working for david evans co silk printers london mantero silk printers and weavers como italy and drakes of london godley designed ties for gentlemans bespoke clothier turnbull asser in london from 199697 and drakes of london from 19972004 before being asked to the united states from london to serve as creative director for polo ralph laurenin 2005 godley founded psycho bunny with friend and business partner robert goldman psycho bunny uses english silks made in a 270yearold mill that are then sewn by hand in mr goldmans familyowned thirdgeneration tie workshop in belleville nj the collection has grown to include polo shirts swim trunks and socks handmade from english silk psycho bunny neckwear features everything from tiny spades to donnie darkostyle rabbit skulls the latter inspiring the labels oddball name when i showed that tie to a buyer she said look at the psycho bunny godley says the name stuck since the initial launch of the psycho bunny neckwear collection the brand has expanded into multiple categories including polo shirts cashmere scarves socks and other mens apparel itemsgodley got engaged to actress jane krakowski in december 2009 and their son bennett robert godley was born in april 2011 the pair separated in december 2013 godley now resides in new york city', '2012 gracie award winner lisa mullins is an american radio personality she was the anchor and senior producer of the world a radio program of public radio international from 1996 to 2012 she anchored the program from hong kong when the territory was handed back to china in 1997 she also covered the 1996 republican national convention in san diego california and anchored that years presidential election coverage from washington dcshe has covered news events around the united states and produced reports from china albania italy mexico and northern ireland she has interviewed key figures on the international stage including un secretary general kofi annan us secretary of state colin powell and afghanistan president hamid karzaimullins also hosted the american broadcast of the bbc documentary series the changing world a collaboration between the bbc world service public radio international and pris the worldpreviously mullins reported on national public radios morning edition all things considered and performance today for six years she hosted the american broadcast of the vienna philharmonics new years day concert performed in the austrian capitalshe has received the bronze award for best network anchor in the new york festivals international radio competition and boston magazine has honored her with its best radio voice award her interview with the episcopal bishop of honduras leo frad won the world the golden reel award in the category national news and public affairs from the national federation of community broadcasters', '250px250pxmartijn meeuwis born july 14 1982 in moergestel is a dutch baseball player who currently plays for neptunus and the dutch national teammeeuwis debuted with the twins sport club in 1999 as a teenager but did not return to the hoofdklasse again until 2004 when he became a fulltime player when the twins were relegated meeuwis moved to hcaw in 2005 he hit 184266233 as a regular outfielder in 2006 he was the clubs regular center fielder though he also filled in at second base he hit 304377402 and led the league in triples 5 in 2007 meeuwis really blossomed after joining door neptunus he hit 301394500 with 37 rbi in 39 games while returning to catcher his original position he threw out 19 of 35 wouldbe basestealers he was 7th in 2007 hoofdklasse in batting average third in home runs 6 and second in rbi six behind leader tjerk smeets he was named as one of the three finalists for the league mvp award alongside fausto lvarez and danny rombley lvarez wonmeeuwis joined the dutch national team when johnny balentina another cof was injured he was part of the teams historic first visit to the united states which included a win over the college edition of team usa he played also in the 2007 world port tournament going 1 for 6 balentina was back with the team for the 2007 european championship but meeuwis replaced him once more for the 2007 baseball world cup he was 3 for 10 with 2 walks and a double in the world cup that year helping fill in for cf roger bernadina he had a key role in the dutch win over host chinese taipei in the quarterfinals enyu lin had retired 13 batters in a row and held a 20 lead when meeuwis walked and came around to score on a hit by reily legito gregory halman later replaced meeuwis in center in that game meeuwis hit 231375231 in the 2008 european cup in regensburgmeeuwis was selected by coach robert eenhoorn in the team that represents the netherlands at the 2008 summer olympics in beijing', '8 ball aitken born 8 june 1987 is an australian singer songwriter and slide guitarist 8 ball plays country blues swamp americana music and he is notable for his fusion of country music with the genres of australian blues and roots music8 ball aitken has released seven albums behind the 8 ball 2004 odd ball in 2006 rebel with a cause 2008 the tamworth tapes 2011 alive in tamworth 2012 a bluer shade of blue 2013 and southern hemisphere 20138 ball aitkens 2013 album release titled southern hemisphere produced a number one hit song in the australian country music radio charts with song im going to jail8 ball aitkens third album rebel with a cause was produced by garth porter rebel with a cause was released in australia by phoenix movement records and mgm distribution australiathe album rebel with a cause has produced two top 10 hits cyclone country hands on top of the wheel in the australian country tracks top 308 ball aitken has won several awards for songs from his album rebel with a cause his song cowboy movie was nominated for the australian blues roots song of the year at the 2009 apra awards 8 ball aitken has won two q song awards his song yellow moon from album rebel with a cause won the 2008 emi q song blues roots award another song outback booty call also from album rebel with a cause won the 2009 q song country award8 ball aitken was also nominated twice at the golden guitar award in the new talent category at the 2009 tamworth country music festival and in the instrumental categorie for a collaboration with troy cassar daley8 ball aitken achieved grand finalist status in toyota star maker at the 2008 2009 2011 tamworth country music festival8 ball aitken won the rising star male award at the 2008 southern star awards which are held in mildura each year also called the australian independent country music awardsaitken is also the founder of the grass roots music festival funded as a special project by brisbanes lord mayor campbell newman the grass roots music festival has run for ten years 2005 to 2014 in the brisbane city botanical gardens mount coottha8 ball aitken has toured and performed at festivals and gigs across australia canada japan and throughout europediscography', '8th agya hotogtu lobsang tubten jigme gyatso tibetan amdo tibetan arahtkt born 1950 is one of the most prominent buddhist teachers and lamas to have left tibet at age two arjia rinpoche was recognized by choekyi gyaltsen 10th panchen lama as the 20th arjia danpei gyaltsen the reincarnation of je tsongkhapas father lumbum ghe the throne holder and abbot of kumbum monastery he has trained with lineage teachers such as the 14th dalai lama the 10th panchen lama and gyayak rinpochefrom whom he received many sacred teachings and ritual instructions during the cultural revolution in chinese controlled tibet arjia rinpoche was forced to leave his monastery and attend a chinese school yet secretly continued to practice and study with his tutors in addition he was required to work in a forced labor camp for 16 years following the cultural revolution rinpoche continued serving as abbot of kumbumoverseeing the renovations in the monastery and reestablishing monastic studies in 1998 due to the strained political climate in tibet arjia rinpoche went into exile because he would not compromise his spiritual beliefs and practices he escaped to the united states where he now lives and started a buddhist center for compassion and wisdom tccw in mill valley california a center committed to the preservation of buddhist teachings art and culture within and outside of tibet and mongolia in 2005 he was appointed director of the tibetan cultural center tcc in bloomington indiana by the 14th dalai lama tcc was recently renamed the tibetan mongolian buddhist cultural center presently he directs both tccw and tmbccarjia rinpoche is the only tibetan high lama of mongolian descent he excels in the knowledge and understanding of tibetan art architecture and the tibetan language he has given classes in buddhist art and sutra throughout the united states canada taiwan india and guatemala in 1999 rinpoche built a threedimensional kalachakra mandala and presented it to the dalai lama later the dalai lama donated this mandala to the smithsonian institution in washington dc kumbum monastery one of the six largest monasteries of the gelug school of tibetan buddhism is the birthplace of je tsongkhapa founder of the school which is now headed by the dalai lama kumbum monastery was once the home of 3600 monks and well revered by the four well known buddhist colleges for higher learning the institute of sutra institute of tantra institute of tibetan medicine and the institute of the kalachakra astrology in the 1980s after buddhism began to revive in tibet and in china arjia rinpoche reestablished monastic life and traditional studies at kumbumthroughout his life arjia rinpoche was tutored by specialized teachers in the area of buddhist philosophy sutra and tantra teachings as well as in buddhist art and architectural design he was in charge of the renovations of kumbum monastery in 1991 and launched several projects including the following red cross organization in kumbum disaster relief project for local villages a clinic for villagers run by monks of the tibetan medical institute and a school for local village childrenarjia rinpoche became vegetarian in 1999', 'a canadian foreign affairs intelligence officer jim gould previously served as the deputy of the department of foreign affairs and international tradein february 2003 gould and an official from the canadian security intelligence service were allowed to interrogate americanheld canadian teenager omar khadr themselves the presence of gould who brought khadr a big mac value meal allowed the government to claim that the purpose of the visit was to ascertain khadrs wellbeing while his attorney nate whitling argued that foreign affairs is suggesting that the visit was actually for khadrs benefit but this is not the case his attorneys then sought a federal court injunction to prevent csis from interrogating their client in the future the following month a briefing from the foreign affairs department summarised goulds findings stating that khadr was a thoroughly screwed up young man all those persons who have been in positions of authority over him have abused him and his trust for their own purposesthe november 14 2003 report from the canadian interrogation states that in a fit of anger khadr tore off his shirt revealing extensive scarring on the upper torso and a cluster of smaller ones on the upper left side of his body and on the back of his left shoulderassistant director of csis william hooper assured the canadian public this interrogation was not intended to secure intelligence for an american prosecution but admitted that the information was all freely shared with his american captors without securing any guarantees such as foregoing potential death penalty chargesjim gould has often shown interest in extreme hobbies including crossing the sahara dessert in 40 days with only food and water', 'a church historian david l holmes is walter g mason professor of religious studies emeritus at the college of william and mary he is the son of david l holmes a university coach and director of athletics revered by his athletes he is married to carolyn coggin holmes executive director of ash lawnhighland the home of james monroe from 1975 to 2012holmes served both as an enlisted man and as an officer in the united states army he holds degrees in english from michigan state and columbia universities and masters and phd degrees in religious studies from princeton university he also studied theology at duke university divinity school and received honorary doctorates from lycoming and hood colleges known for his clear lecturing style and ability to hold the attention of audiences holmes has spoken at numerous colleges libraries and book festivals and delivered several commencement addresses he has also taught at carnegie mellon university and as a visiting professor on multiple occasions at the university of virginia at william mary holmes received numerous teaching awards including the graves award for sustained excellence in teaching the outstanding faculty award of the commonwealth of virginia and the thomas jefferson award the highest honor given by jeffersons alma mater to an administrator or professorafter focusing for several decades on classroom teaching holmes wrote the academic bestseller a brief history of the episcopal church 1993 the bestselling the faiths of the founding fathers 2006 and the recent the faiths of the postwar presidents from truman to obama 2012 upon his retirement from william mary in 2011 his former students established the david l holmes reformation studies and american religious history endowment to honor his tenure and 46 years of intellectual legacy at the college of william mary', 'a david andrews born 1933 is an english astronomer he studied at oriel college oxford and university of dublin he spent the early 1960s in denmark working with the astrophysicist mrudkjobing at the aarhus observatory he moved on in 1963 to armagh observatory in northern ireland where he spent the next 35 years dr andrews discovered 1727 mette named after andrews danish wife whilst at the boyden observatory located in bloemfontein south africa where he was acting director it was while at boyden observatory that he commenced his lifelong work on flare stars he was the first to make full use of computers in 1968 at armagh observatory dr andrews was editor of the irish astronomical journal following profejopik and in 1967 became a founder member of commission 27 working group on flare stars of the international astronomical unionthe boyden station was created by harvard university in 1889 in arequipa peru using uriah a boydens bequest to harvard in 1927 the renamed boyden observatory moved across continents to its present location in south africa this became the site of the armaghdunsinkharvard 36inch bakerschmidt telescope utilized by dremlindsay harvard armagh and other irish and international astronomers in 1976 the observatory was handed over to the university of the orange free state and the famous adh telescope was dismantled some of its optical parts including a 32inch prism were transferred to dunsink observatory dublin andrews then turned his attention to the new international astronomical facilities in chile and to available satellite technologieswhilst 1727 mette is by no means unique it has been found that it belongs to the hungaria family of asteroids which cross the orbit of mars and that it has a small companion orbiting it once every 21 days this update comes from the palmer divide observatory in colorado springs usa asteroid 1727 mette is 10 km in diameter and rotates on its axis with a period of 298 hours its companion is about 2 km in diameter it has been suggested recently that 1727 mette could make a close encounter with mars in 2023 perhaps even a collision this impact scenario sounds very much like that on earth 65 million years ago when our dinosaurs were destroyed in the irish astronomical journal andrews reported a suspected outburst of a b7 spectral type star in auriga bd 31 1048 this enigmatic object was referred to by profgharo as andrews star this was a discovery made in his earliest work on flare stars and solarrelated phenomena which he pioneered at armagh observatory andrews collaborated with several groups in uk usa especially with drdjmullan armagh bartol research inst and samerica russia armenia italy and greece he cooperated with profgharo director at the tonantzintla observatory in mexico on stellar flares in young stellar clusters collaboration with drwekunkel univtexas and sir bernard lovell at the jodrell bank radio telescope led to one of the earliest detections of large radio flares in uv cetitype stars in the dme star yz cmi what andrews had fortuitously observed at armagh in 1968 turns out to have been what is now termed a stellar megaflare in 1981 andrews published from the armagh observatory his multicolour ubvi measurements of over 16000 stars in a region rich in flare stars on schmidt photographic plates a photometric atlas of the orion nebula he used material from the srcuk schmidt in australia and the european southern observatory eso and the las campanas observatory univ toronto in chile in the irish astronomical journal he published a cyclopaedia of telescope makers in seven parts in the 1990s from 1984 he was actively engaged in the search for quasiperiodic ultraviolet and infrared variations in flare stars indicative of active regions and stellar rotation he also collaborated with the armagh astronomers drscjbutler pbbyrne jgdoyle and ppanagi and japanese italian uk and us astronomers especially profjlinsky in observations of the chromospheric rotation of rs cvn and by dra stars with the international ultraviolet explorer iue satellite andrews now retired and his asteroidal wife mette live in dore a village on the outskirts of the beautiful syorkshire and derbyshire border near sheffield uk where he enjoys a life of painting music cycling and his family', 'a gary shilling is an american financial analyst and commentator who appears on a regular basis in publications such as forbes magazine the new york times and the wall street journal he is president of a gary shilling co inc editor of a gary shillings insight and member of the nihon keizai shimbun board of economists he is featured frequently on business shows on radio and television and as a recognised orator addresses conventions of global business groups like the young presidents organizationin the spring of 1969 he was one of only a few analysts who correctly envisioned the recession at years end and was almost a lone voice in 1973 when he forecast a monolithic international inventorybuilding fling followed by the first significant recession since the great depressionin the late 1970s while most analysts presumed that waxing inflation would go on unabated shilling was the first to predict that americas infirm political climate would impede it he also foresaw various dangerous economic readjustment problems and a shift in investment strategy from a preference for tangible assets to an increased emphasis on stocks and bondsin june 2011 he predicted a 20 drop in housing in 2012 with a resulting global recessionin october 2012 he predicted a global recession in 2013', 'a hungarian immigrant brigadier general huba wass de czege pronounced vosh de tsayguh born august 13 1941 is the son of count albert wass de szentegyed et czege wass de czege retired from the united states army as a general officer with a reputation as a highly innovative thinker he is the founder and first director of the school of advanced military studies at the united states army command and general staff collegeduring his career as an infantry officer he served two tours in vietnam where he earned five bronze stars and the silver star for gallantry in action wass de czege was a principal designer of the operational concept known as airland battle which had great currency in the army for many years he was the founder and first director of the armys school for advanced military studies where he also taught applied military strategy in the late 1980s he was selected to command the 9th infantry regiment of the 7th infantry division light his most senior military position was assistant division commander as a brigadier general after retiring in 1993 bg wass de czege became heavily involved in the army after next project and served on several defense advanced research projects agency advisory panels wass de czege graduated from the us military academy at west point in 1964 and earned an mpa from harvard universityin the 1970s wass de czege was a member of the department of social sciences at west point source association of graduates usma the register of graduates and former cadets usma west point 2008since his 20s wass de czege has been an enthusiastic horseman and has been involved with schooling and showing jumpers and huntershe is a consultant to the us army training and doctrine command', 'a j hammer born andrew goldberg on october 31 1966 is a television and radio personality who most recently hosted cnn the hln former evening entertainment show showbiz tonight from 2001 to 2005 hammer hosted court tvs hollywood heat a program focusing on crime and justice in the entertainment business he also hosted several programs on sirius satellite radio hammer also was a correspondent for several programs including the daily morning program good day new york the entertainment news program extra and e channels news liveduring most of the 1990s he was a host of vh1s top 10 countdownhammer is a 1984 graduate of white plains high school white plains new york he graduated with a degree in philosophy from the university of hartford in 1988 he was involved with the alpha epsilon pi fraternity aepi is the only official jewish fraternity in americahammer began his broadcasting career at the age of 15 at wnbc radio in new york city while in college he worked at wticfm hartford connecticut he later worked for wplj radio and z100 whtz radio both in new york city hammer appears as a model in the book heartthrob a hundred years of beautiful men in which he is described as possessing almosttoogoodlookingforwords attractiveness and the october 1999 issue of gym magazine he also appears in the mane thing a book by stylist kevin mancuso hammer also was the spokesperson for milton bradleys promotional tour of the planet hollywood board gamehammer was also a model in the debbie gibsons what you want music video 2001 which involved a bathtub scene the two were wearing clothes and the tub was filled with cold water 14 of the way up no hot water available and bubbles to the top', 'a j spiker serves as an adviser to randpac and is a former state chairman of the republican party of iowa rpi as state chairman he served as a member of the republican national committee rncspiker was nominated to be chairman of the rpi in 2012 by then rnc committeewoman kim lehman he was elected with 53 of the vote in 2013 spiker easily won reelection with 72 of the vote he was nominated by rnc committeeman steve scheffler in september 2013 the polk county republican central committee the largest county republican party passed a motion of no confidence in spikers leadership spikers leadership in 2012 helped turn out over 20000 more republicans than democrats during the statewide general election and he increased the number of absentee voters to the highest in state party history spiker works as a real estate agentprior to becoming the rpi chairman spiker served as one of the 17 members of its state central committee he also is the past chairman cochairman and treasurer of the story county republican party in 2011 spiker served as a state vicechairman for presidential candidate ron pauls 2012 campaign for president of the united states whom he also endorsed upon pauls entrance in the race during the 2012 election cycle spiker advocated removing iowa supreme court justice david wiggins from the bench due to the courts unanimous ruling in favor of gay marriage during the 2013 legislative session spiker actively engaged in and defeated legislation that would increase iowas gas tax', 'a journalist for over 33 years john m dodge is a freelance writer and social media consultant he is coauthor of the thinking tech blog at smartplanetcom writing netbook reviews for eweekcom consulting on social media and contributing to his techpersonal blog the dodge retort he spent nearly 20 years in top editorial and management positions at ziff davis publishing co now ziff davis media he was editor and executive editornews at eweekformerly pc week and vice president of news for ziff davis where he coordinated all of the technology news across the companys websites dodge worked at zd from 19832002 except for two and a half years at cmp another high tech publishing companydodge was also a weekly ebusiness columnist for the wall street journal online author of a biweekly technology column for the boston globe and a contributor to a technology column for the atlanta journalconstitution he has appeared on cbs marketwatch cnn bloomberg abcs world news tonight and other major broadcast outlets around the country until january 2009 he was editorinchief of engineering publication design news a position he held for two years from january 2002 to september 2004 he served in top editorial roles at bioitworld and awardwinning enewsletter healthitworld he currently resides in west newbury mass and is married with two children in college', 'a journalist scriptwriter singer songwriter and former radio show presenter on the community radio station leith fm well known on the edinburgh airwaves by his distinct sensual voice colourful introductions and interviewing style on the leith tonight show as a journalist andrew moir writes for stv as one of their many online football reporters he currently is the sites motherwell man sharing his views on all aspects of motherwell football club including its team managers and game plans as well as sharing his football expertise andrew has a passion for film journalism and is a contributor on the london based website filmjuice his articles are also currently found on the edinburgh napier news websiteas well as this andrew moir also writes under the pseudo name infotrace and his blog can be found on the wordpress website under this name articles have also been featured on well known websites such as comedy review website chortle moir is currentlty continuing work blogging for various online projects covering a wide range of subjects from travel to fashion as well as maintaining previous online commitments moir is also one third of gazpacho soups the garbage podcast recording weekly reviewing tv show red dwarfs latest episodes and also runs his own music review and artist interview formatted podcast this is the show he is also one of the members of the csicon podcast networks moviethemed podcast movieing on', 'a longtime labour and social justice activist carol wall born c1953 ran for the presidency of the canadian labour congress in 2005 gaining 37 of the popular vote in spite of being blocked from many union caucuses and unions directing their members to vote against her while running against incumbent ken georgetti her campaign was widely seen as part of a broader movement to set the labour congress back on a more strategic inclusive member focused pathshe first became involved in labour politics during the seventeen years she spent working for the toronto star holding various positions in its ranks where she became involved as an activist in the southern ontario newspaper guild song starting out as a shop steward she became the unions representative on various labour bodies in 1995 she became a representative for the communications energy and paperworkers union of canada cepher strong interests in equality issues led to her being hired in 2000 as ceps first director of human rights and she participated on their behalf in the world conference against racism held in durban south africa in 2001 in 2002 she was elected vice president of the canadian labour congress representing workers of colour she has also worked as a national negotiatior for the public service alliance of canada negotiating contracts in the public and private sectors from coast to coast to coastwall was a member of the coalition of black trade unionists and has served on the womens committee of the ontario federation of labour and the clcs human rights committee she has also served as a member of several boards including the pay equity advocacy and legal services clinic york universitys centre for research on work and society and the chiropractic college of ontario as well she cochaired the 1998 commonwealth study conference and is coauthor of a book on popular education entitled education for changing unionscarol and her partner gerry have three grown children and are proud grandparents of three grandsons born and raised in toronto carol now lives in warkworth east of toronto she is currently employed as a conciliation officer and mediator for human resources and social development canada working within the labour program', 'a m james shapiro born in leeds england is a britishcanadian physician best known for leading the clinical team that developed the edmonton protocol for treating brittle diabetes shapiro is professor of surgery medicine and surgical oncology and the director of the clinical islet transplant program at the university of alberta in edmonton canada he holds a canadian research chair in transplantation shapiro obtained his medical degree at the university of newcastle upon tyne and trained surgery at the university of bristol after coming to canada in 1993 he trained in liver transplantation and hepatobiliary surgery at the university of alberta where he also earned his phdshapiro and his colleagues developed the edmonton protocol an islet transplantation technique which has allowed many severe diabetics to stop taking insulin entirely although the duration of this insulin independence does vary the edmonton protocol is considered a major advancement from earlier transplantation efforts and has regenerated much interest and research into establishing islet transplantation as a regular treatment modality for diabetes one of the key components included a successful cocktail of noncorticosteroid immunosuppressive drugs necessary for the prevention of allogeneic graft rejectionjames is the recipient of several prestigious awards including the hunterian medal from the royal college of surgeons of england the paul e lacy gold medal the gold medal in surgery from the royal college of physicians and surgeons of canada the governor generals gold medal the queens jubilee medal the meritorious service medal and in 2011 was inducted as a fellow of the royal society of canada he holds the canada research chair in transplant surgery and regenerative medicine and has an honorary doctorate from uppsala university in swedenjames continues to lead the edmonton team which is the most successful and active islet transplant program worldwide', 'a major figure in the 1996 united states campaign finance controversy john huang chinese worked for lippo bank in california worthen bank in arkansas and as deputy assistant secretary for international economic affairs in us president bill clintons commerce department before he became a chief fundraiser for the democratic national committee in 1996on august 12 1999 john huang pleaded guilty to a felony conspiracy charge for violating campaign finance laws and was sentenced to one year of probation he was also ordered by us district court to pay a 10000 fine and serve 500 hours of community service prosecutors said huang was responsible for arranging about 156000 in illegal campaign contributions from lippo group employees to the democratic partyborn in 1945 at nanping in fujian his father huang tizhai was a native from wenzhou zhejiang and served the kmt huang and his father fled to taiwan at the end of the chinese civil war before he eventually emigrated to the united states in 1969 to study for an mba at the university of connecticut after working as a loan officer at small banks around washington dc huang moved to kentucky and tennessee before becoming vice president of worthen bank in little rock in 1984 he continued to work for lippo at the same time', 'a native american chippewa poet and writer of mixed german and anishinaabe descent kimberly blaeser is the wisconsin poet laureate born in 1955 in billings montana she is an enrolled tribal member and grew up on the white earth reservationblaeser was named wisconsin poet laureate for 20152016 on january 7 2015 by the wisconsin poet laureate commission she resides in rural lyons township wisconsin blaeser works as professor of english at the university of wisconsinmilwaukee where she teaches creative writing native american literature and american nature writingher first book of poetry trailing you was awarded the 1993 diane decorah first book award from the native writers circle of the americas and she was the first critic to publish a booklength study of the fiction of her fellow white earth anishinaabeg writer gerald vizenor her work is widely anthologized and has been translated into several languages including spanish norwegian indonesian and anishinaabemowin blaeser has performed her poetry around the globe having given readings of creative work at over two hundred different venues in a dozen different countries including performances at the borobudur temple in indonesia and in a fireceremony at the borderlands museum grounds in arctic norwayblaeser is active in service to literature the arts and social justice she currently serves on the editorial board for the american indian lives series of the university of nebraska press and for the native american series of michigan state university press she has served on the advisory board for the sequoyah research center and native american press archives on the poetry fellowship panel for the national endowment of the arts and has been a member of the native american alumni board for the university of notre dame most recently blaeser initiated the milwaukee native american literary cooperative which helped to bring 75 native american writers to milwaukee for the 20th anniversary returning the gift festival of native writers and storytellers in 2012 and continues to sponsor events each year', 'a native of detroit michigan versatile swimmer tony tashnick born 1938 led his mackenzie stags to a firstplace trophy at the 1956 city league dpssal championships teaming with howard scarborough jc smith and richard boka tashnick and company sealed victory for mackenzie by defeating denby high in the final event during the summer of 1956 high school allamericans tashnick scarborough and smith competed at the united states olympic trialstwo years later tony was us collegiate champion in the 100 200 yard butterfly his doublevictory led the university of michigan to the 1958 national collegiate athletic association swimming titleby the late 1950s tashnick had firmly established himself as one of the best allaround swimmers in the united states setting us open records in the 100yard butterfly the 200yard butterfly and 200yard individual medley in 1959 tony competed at the pan american games in chicago finishing fourth in the 200meter butterfly during his senior year at the university of michigan team captain tashnick swam the 200meter butterfly at the 1960 united states olympic trials in the final 20meters of a fiercely contested race wolverine teammate dave gillanders moved ahead of tony for the final olympic berth finishing in third place tony tashnick had narrowly missed a trip to the summer games of rome italy', 'a native of kazakhstan and a citizen of the united states almaz sharman has three decades of experience in the fields of biomedical science clinical research and healthcare management he was born in the ulytau of kazakhstan and raised in the city almaty in kazakhstan after graduating from asfediyarov national medical university with a md diploma 1982 and defending his ms 1985 and phd 1991 dissertations sharman worked at the university of alabama at birmingham as a member of international team of biomedical researchers on a us national institutes of health funded study of mucosal immunology and oral vaccine development 1991 1993 the main focus of his research was on experimental models of hapteninduced inflammatory bowel disease and studying intraepithelial lymphocytesfrom 2004 2011 while working at international demographic and health survey sharman designed a methodology for integrated populationbased hivtesting which was implemented in several developing countries and has become a standard methodology for international demographic and health surveys hiv testing data generated by using this methodology was recently used by unaids to lower the estimate of the number of people afflicted by hiv in the world by 7 million cases a multinational study of the anemia prevalence among women and children implemented under his leadership has led to successful anemia control and prevention and reproductive health programs in several countries in central asia egypt and india sharman was involved in university teaching as associate at the johns hopkins universitys bloomberg school of public healthin 20012004 sharman worked as infectious disease advisor for us agency for international development usaid regional office for central asia he provided technical leadership expert advice as well as assistance in strategic development and project implementation of infectious disease prevention and control activities throughout the five central asia countries kazakhstan uzbekistan kyrgyz republic tajikistan and turkmenistan in 2004 2006 almaz sharman was usaid country office coordinator for kazakhstan at this seniorlevel position he served a primary liaison official for the us government assistance program with the government of kazakhstan us embassy usaid contractors and grantees and international donor organizationsin 2007 sharman founded medtronic country office for kazakhstanduring the last several years sharman concentrated on healthcare management and academic medicine he was founding ceo of the national medical holding a pioneering project initiated in kazakhstans capital city of astana with six stateoftheart hospitals his initiatives to introduce international standards of quality care and advanced technologies at the national medical holding have led to the joint commission accreditation and successful implantations of heart ventricular assist device heart transplantation and other innovative technologies since 2010 sharmans primary focus has been on establishments of academic healthcare system at nazarbayev university with the goal of integration of patient care with biomedical research and education in 2012 sharman was elected president of kazakhstan academy of preventive medicine a nongovernmental organization serving as a platform for advocacy and collective action in addressing public health challenges and opportunities in kazakhstan', 'a native of massachusetts the reverend brian f linnane sj is president of loyola university maryland he formerly served at a sister jesuit institution the college of the holy cross in worcester ma as assistant dean and associate professor of religious studiesborn august 25 1955 fr linnane entered the society of jesus in 1977 and was ordained to the roman catholic priesthood on june 14 1986 he earned an ab degree magna cum laude from boston college in 1977 and an ma from georgetown universitys department of government in 1981 before undertaking divinity studies at the jesuit school of theology at berkeley where he received a masters degree in 1986 and a licentiate in sacred theology in 1988 he earned masters degrees from the yale department of religious studies in 1990 and 1991 and a phd in religious studies concentrating in religious ethics in 1994fr linnane joined the religious studies department at holy cross in 1994 he has written several scholarly articles in the disciplines of fundamental moral theology health care ethics and virtue ethics he served as assistant dean at holy cross from 200305 and was named a loyola college trustee in 2000 he currently serves as a member of the board of trustees of the college of the holy cross the institute for christian and jewish studies the gilchrist center for hospice care in baltimore and the board of directors of the association of jesuit colleges and universities he is president of the metro atlantic athletic conference secretarytreasurer of the executive committee of the maryland independent college and university association a member of the ncaa division i committee on athletics certification and a representative to the home american council on education ace board of directors for the association of jesuit colleges and universities ajcuin july 2005 fr linnane became the 24th president of loyola university maryland', 'a native of montreal canada ruth lomon b montreal 7 nov 1930 attended le conservatoire de quebec and mcgill university she continued her studies with francis judd cooke at the new england conservatory of music and later with witold lutosawski at dartington college in englandsince 1998 ms lomon has been composerresident scholar at the womens studies research center brandeis university she composed an oratorio testimony of witnesses for vocal soloists chorus and orchestra she was the recipient of a grant from the hadassah international research center now the hadassah brandeis institute for this workshe was commissioned by the pro arte chamber orchestra boston to compose a trumpet concerto odyssey for charles schlueter principal trumpet of the boston symphony orchestra this work was premiered in 1998 schlueter recorded it in 2010 with the berkshire symphony orchestra directed by ronald l feldmanher requiem for full chorus and soprano solo accompanied by brass and woodwinds was premiered in boston 1997 by coro allegro david hodgkins artistic directorduring 199596 ms lomon was a fellow of the bunting institute radcliffeharvard where she composed songs of remembrance a song cycle on poems of the holocaust this hour length work was premiered at harvard universitys john knowles paine concert hall and has since had numerous performances including the united states holocaust memorial museum washington dc in april 1998 and the iawm congress in london england in july 1999 where she received the miriam gideon composition award for this work in 2001 she also received the chicago professional musicians award for the 10th song of the cycle which is set for mezzo soprano english horn and piano songs of remembrance is recorded on the cri labellomon was composerinresidence for boston secession a professional choral ensemble directed by jane ring frank lomon composed her oratorio testimony of witnesses for them and they performed movements of the work from 20002008 a full length oratorio based on the poetry of holocaust victims and survivors testimony of witnesses is scored for chamber orchestra vocal ensemble and four vocal soloists the texts in hebrew french german italian polish english and yiddish represent the personal experience of sixteen survivors and victims including ten individual women and children and reflect the international impact of the holocaust and the variety of individuals and communities that were forever changed by it', 'a noted and established scottish artist and professor of art will maclean was born in inverness in 1941 he was a midshipman 195759 before attending grays school of art aberdeen 196165 and then the british school at rome in 1966 as part of a year on a grays travelling scholarship he spent another period of time at sea in 1968 as a ringnet fisherman which led to a major bursary in 1973 to study ringnet herring fishing the resulting ringnet project a body of over 400 drawings was exhibited at the third eye centre glasgow from where it toured and in 1986 at the scottish national gallery of modern art edinburgh where it entered the permanent collectionin 1981 he was appointed lecturer at the duncan of jordanstone college of art and design university of dundee where he remained for fifteen fruitful years becoming professor of fine art in 1994 and in 20042006 senior research fellow and now emeritus professor he was elected royal scottish academician in 1991 and in 1997 he designed and as part of the team won the scottish natural heritage supreme award for three memorial cairns in lewis in 1999 he was awarded an honorary doctorate by the university of st andrews winning the scottish arts council creative scotland award in the same year the british library and tate artists lives sound archive made a valuable recorded interview with him in 2005 the year he was awarded an mbe for services to education and the arts he lives and works in tayport fife with his wife the artist marian levenmaclean has exhibited widely since 1967 solo exhibitions have included the ringnet third eye centre glasgow and tour 1978 runkelhuewilliams london 1990 retrospective exhibition talbot rice gallery edinburgh and tour 1992 with accompanying monograph symbols of survival a major solo show driftworks at dundee contemporary arts 2001 and exhibitions with art first london since 1994 his most recent exhibition being the 2011 show lead and line at art firsts gallery in eastcastle street london w1in 1999 his exhibition cardinal points was hosted by the museum of north dakota grand forks north dakota usa before touring to canada to mcmaster museum of art hamilton ontario and art gallery of newfoundland and labrador st johnsgroup exhibitions include worlds in a box edinburgh city art centre and the whitechapel gallery london 1994 95 and contemporary british art in print scottish national gallery of modern art edinburgh 1995 which featured a night of islands a set of ten etchings published in 1991 a major work was acquired for the new scottish parliament building and commissioned sculptures and collaborative works can be seen in skye lewis and elsewhere in scotlandrecent sculptural commissions include the piece waterlines commissioned by the university of aberdeen and installed in the square facing the new library there and the suileachan project on the isle of lewis winner of the the saltire arts and crafts in architecture award 2013 both collaborations with marian leventhe critic and writer duncan macmillan writes in his introduction to the monograph on maclean symbols of survival will maclean is one of the outstanding artists of his generation in scotland his art is rooted in his knowledge of the highlands the highland people and their history and in his own early associations with sailors and the sea this makes it relevant and immediately accessible yet it remains uncompromisingly modern in its forms and concernshis work is in public collections including arts council of great britain the british museum dundee edinburgh and glasgow city art galleries fitzwilliam museum cambridge scottish arts council scottish national gallery of modern art mcmaster museum canada yale centre for british art newhaven usa', 'a peter mcgraw born 1970 is an associate professor of marketing and psychology at the university of colorado at boulder his research spans the fields of judgment and decision making emotion affect and moodmcgraw is known for his early research on expectations and emotions in studying the emotional reactions of olympic athletes he finds that bronze medalists often appear happier with their accomplishment than silver medalists because silver medalists are more likely to have higher gold medal aspirations whereas bronze medalists are more likely to be the dark horse and exceed their expectationsmcgraw and jonathan levav have published work based on their theory of emotional accounting which is a complement to prior research on mental accounting emotional accounting posits that people use their feelings about money to guide how they spend it for example if people have negative feelings about a windfall of money they tend to make utilitarian or virtuous expenditures in lieu of hedonic expendituresmcgraw also investigates what makes things funny his humor research was inspired in part by his research on moral violations with philip tetlock and mixed emotions with jeff larsen mcgraw along with caleb warren developed the benign violation theory bvt a general theory of humor based on evolutionary accounts of laughter and amusement the bvt predicts that humor occurs when a person simultaneously appraises a situation as wrong or unsettling some way ie a violation and yet appraises the situation to be okay or acceptable in some way ie benign his research is quickly moving the study of humor from the niche to mainstream psychology in 2014 mcgraw coauthored the humor code a book about the science of humor and his travels around the world with journalist joel warner mcgraw and his work often appears in major media outlets such as bbc the wall street journal and wired magazine he also gives talks to businesses and the general public', 'a prof dr asim vehbi born 1966 in nicosia is ceo and vicechancellor of girne american university and the former minister of environment and natural resources in turkish republic of north cyprushe received his phd in business administration in 2012 from girne american university his masters degree in the field of international relations and the european union in 1996 and he has completed his business management degree from northern michigan university in the united statesprofessor vehbi started in 2004 to work at girne american university gau as vicechairman of the board of directors appointed the same institution in 2012 received the title of chief executive officerbetween 20062008 as the minister of environment and natural resources of north cyprus he has developed projects in more efficient use of natural resources and contributing to the countrys economy in recent times has been the most influential namesolutionoriented in any position where both academic and political career which can detect the target just can cope with the challenges of information and researchbased strategic planning leadership in carrying out the activities based national and international meetings the institutions represented in terms of management and coordination of internal and external relations has taken important steps by dr vehbiprofessor vehbi is currently undertaking tasks of\\tceo of american university\\tvice president of the board of american university\\tgau head of the department of economics faculty of business and economics\\tgau lecturer at the faculty of business and economics\\tgau istanbul campus singapore the united states and the united kingdom founder and coordinator of campusesbetween 19881990 he carried out the following duties\\tminister of environment and natural resources\\tcyprus international university ciu founder general secretary\\tciu parttime lecturer at the faculty of business and economics\\tdirector of public relations at the european university of lefke\\tveras co kg ltd director of sales\\tcredit bank of cyprus department treasury officerprofessor vehbi is member of a variety of different nongovernmental organizations\\tcyprus presidency of turkish and american culture association\\tyoung businessmen association membership\\tchamber of commerce of northern cyprus\\teduniversal membership\\tefmd european foundation for management development\\tcetinkaya sports club member of the board of directorsactive attribution of leadership and management success in career life highlighting dr vehbi so far implementation of aarhus convention in north cyprus cyprus water resources master plan master plan for waste management in northern cyprus cyprus environmental master plan bafra desalination project northern cyprus quarries standards project exhaust emission project higher education and leadership workshop young business leaders bicommunal project the future of national and international organizations such as the united cyprus project has supported pioneering and leadership projectsprofessor vehbi speaks fluently english and germany he is married with two children', 'a ronald ron gallant is a leading american econometrician he is the hanes corporation foundation professor of business administration fuqua school of business duke university with secondary appointment in the department of economics duke university in the united stateshe is also adjunct professor department of statistics university of north carolina at chapel hill before joining the duke faculty he was henry a latane distinguished professor of economics at the university of north carolina at chapel hill he retains emeritus status at unc previously he was successively assistant associate full and drexel professor of statistics and economics at north carolina state universityhe received his ab in mathematics from san diego state university his mba in marketing from ucla and his phd in statistics from iowa state universityhe is a fellow of both the econometrics society and the american statistical association he serves on the board of directors of the national bureau of economic research and has served on the board of directors of the american statistical association and on the board of trustees of the national institute of statistical sciences he is coeditor of the journal of econometrics and past editor of the journal of business and economic statisticsin collaboration with george tauchen of duke university gallant developed the efficient method of moments emm he is one of the leaders in nonlinear time series analysis nonlinear econometrics nonlinear dynamic systems and in econometrics theory', 'a scott loveless is an american academic who was a law professor at the j reuben clark law school at brigham young university byu and served as the executive director of the world family policy center at the byu law school until the centers closure at the end of 2008loveless has edited with thomas holman a three volume work entitled the family in the new millennium and authored one of the chapters in that setloveless has also been involved in promoting california proposition 8 2008 writing multiple pieces in support of this measureloveless received his jd from byu in 1978 although he spent his last year of law school at georgetown university he also holds a phd in family studies from byu which he earned in 2000 loveless also received his bachelors degree from byufor 20 years loveless worked as an attorney and supervising attorney in the office of the solicitor of the us department of the interiorloveless has been closely involved with richard g wilkins in advocating the recognition of the family in international lawloveless has also written a review for the utah historical quarterly of a book dealing with natural resource use issues specifically the law of the colorado riverloveless is a latterday saint he is married to cheri anderson loveless who was an associate editor of this people and later of meridian magazine', 'a syriankurd abd alrahim abdul rassak aljanko was a student in the united arab emirates who traveled to afghanistan in 2000 where he was captured by the taliban who announced that he had confessed to plotting to murder osama bin laden as well as spying against the taliban on behalf of israel and the united states he was also denounced for his sexual indiscretions with other young men and accused of homosexuality following the invasion of afghanistan aljanko begged a british journalist to alert the americans that he had been held prisoner by the taliban for two years however he was taken from the taliban prison by american forces and sent to the guantanamo bay detention camps where he spent seven years in detentionwhen a videotape of aljankos 2000 interrogation on charges of sodomy and espionage against the taliban was discovered by american forces in the rubble of mohammed atefs house the bush administration released the video which showed aljanko breaking down in tears but stripped the tape of its audiotrack and falsely declared that it was a martyrdom video claiming that aljanko spoke of dying as a martyr following the 2001 invasion of afghanistan although the department of internally acknowledged the video to be his filmed interrogation by the taliban the american government publicly continued labelling it as a martyrdom recording and added aljanko to the fbi seeking information war on terrorism list amnesty international condemned the use of a video showing aljanko being interrogated by militants as proof of his association with them as kafkaesquewhile held at guantanamo his captors noted that as a result of his taliban imprisonment he could not have participated in hostilities against us and coalition forces and noted that it is unlikely he would ever ever be trusted by an islamic militant group but tribunals nevertheless repeated classified him as an enemy combatant medical staff also wrote that he suffered from depression had attempted suicide and was diagnosed with borderline personality disorder the united states thus assessed him as a high threat from a detention perspective and noted that he had 112 discipline infractions in his file for throwing food failing to follow instructions exposing his sexual organs and possession of food contraband aljanko maintains that the bpd diagnosis was intended to mask his posttraumatic stress disorder arising from his mistreatment and captivity by the taliban and united stateson june 20 2008 he became the first guantanamo detainee to demand in a us federal court that the military show evidence that justified his detention the judge ruled that the american argument in favour of holding aljanko in continued captivity defies common sensehe was quietly released by the united states in 2009 after seven years captivity and is currently living in antwerpen belgium', 'a talent the ear wants to follow wherever it goes boston globe gregory mertl has garnered commissions from the tanglewood music center 1999 the rhode island philharmonic 2000 the tarab cello ensemble 2001 the phoenix symphony 2001 the wind ensembles of the big ten universities 2002 the ostrava oboe festival czech republic 2005 2009 kenneth meyer and the hanson institute 2006 the university of oregon 2013 cstma 2013 and the barlow endowment for a piano concerto for pianist solungga liu and the university of minnesota wind ensemble craig kirchhoff conductor which was premiered in november 2011 and will be released by innova records in 2014in 2010 he presented work on a concertlecture tour in romania and hungary and as a guest composer at kofomi komponistenforum mittersill austria where he had performances by the austrian contemporary music ensemble die reihe previously his music has reached audiences in france at the festival du moulin dand and the france musique radio station belgium where he placed third at the harelbeke international wind ensemble composition competition 2004 and the czech republic where he was featured composer of the ostrava oboe festival in both 2005 and 2009 in asia the tainan womens college of arts and technology hosted a twoday conference featuring mertls music in may 2005 and lectures and performances followed at several other taiwanese universities his music has also been performed in china japan singapore sweden canada mexico and brazil in the us it has been heard widely new york city chicago boston rochester honolulu baltimore tanglewood colgate northwestern yale and princeton universities and vermont public radio during a two hour program dedicated to his work in 2007 open gate an ensemble he cofounded performed an entire evening of his chamber music on a tour that culminated at weill recital hall in new york cityborn in 1969 mertl has degrees from yale university ba 1991 and the eastman school of music phd in music composition 2005 he has been fulltime visiting artist of composition at the setnor school of music at syracuse university 20082010 and has been composerinresidence at yaddo chteau de la napoule in france the fundacin valparaiso in spain the helen wurlitzer foundation in taos new mexico the ragdale foundation the virginia center for the creative arts the ipark artists enclave in east haddam ct and the chamber music festival of the east at bennington college in vermont he has won major awards such as the chicago symphonys first hearing award and a 1998 tanglewood composition fellowship at tanglewood he had the tremendous privilege of studying with henri dutilleux and mauricio kagelhis most recent work the song cycle gathering what is to be told for vocalist and guitarist kirsten sollek and kenneth meyer will be premiered in july 2013 and subsequently recorded his current projects include the 2013 connecticut state music teachers association cstma commission of on to stillness for mezzo oboe guitar and percussion for june 29 2013 at fairfield university a work for pianist and flutist david riley and molly barth at the university of oregon and a cello concerto for the french cellist xavier phillips whose playing is a prime source of inspiration for the work for the 20142015 season', 'a thomas mclellan born may 29 1949 in staten island new york is the founder and chairman of the board of directors at the treatment research institute a notforprofit research and development institute in philadelphiamclellan received his ba from colgate university and his ms and phd from bryn mawr college he received postgraduate training in psychology at oxford university he has since worked for the veterans administration medical center in philadelphia and the university of pennsylvaniamclellan was the principal developer of the addiction severity index asi and the treatment services review tsr widely used substance abuse instruments he has served as an adviser to many government and nonprofit scientific organizations including the office of national drug control policy the national practice laboratory of the american psychiatric association the swiss national science foundation the world health organization the greek government and public health englandmclellan served as the deputy director of the office of national drug control policy under the obama administrationamong mclellans many honors and awards are the life achievement award of the american society of addiction medicine in 2003 and the 2002 award for distinguished contribution in addiction medicine from the swedish medical association he has served as editorinchief of the journal of substance abuse treatment', 'a torontobased human rights lawyer paul copeland is widely known as the defence attorney of security certificate detainee mohamed harkat and an avid supporter of legal aidcopeland cofounded the law union of ontario in 1974 and was the vicepresident of the criminal lawyers association from 19851991 and was for several years the copresident of the association in defence of the wrongly convicted until the fall of 2008 he has been a bencher of the law society of upper canada since 1990 since 1988 he has been active working with the democracy movement for burmain june 2006 he argued in the supreme court of canada on behalf of mohamed harkat that the security certificate procedure under the immigration and refugee protection act violated the fundamental justice provisions of section 7 of the canadian charter of rights and freedom in february 2007 the supreme court of canada unanimously agreed with that argument and held that the procedure violated fundamental justicein february 2008 he was granted top secret national security clearance in june 2008 he was appointed as a special advocate for mohamed harkat and for hassan almrei in the security certificate proceedings against them the security certificate in regard to mr almrei was found to be unreasonable by justice mosley on december 14 2010 the security certificate against mohamed harkat was found to be reasonable in december 2010', 'a twotime golden gloves winner and certified trainer once ranked nationally by usa boxing cara castronuova is popularly known as one of the newest trainers on season 11 of the biggest losercastronuova was born and raised in elmont new york with three younger brothers she began boxing at the age of five in the family garage with her father a former marine she also wrestled in high school and in college she graduated from hofstra university with a bachelor of arts degree in communicationsshe began her boxing career as a youth boxing trainer soon she started entering local bouts winning her first fight in 2002 at the ny empire state games in syracuse she also was a volunteer for a governmentfunded program designed to teach troubled youth the virtues of boxing and keep them off the streetslater while working as a personal fitness and boxing trainer at popular sports clubs in the new york city area like chelsea piers and gleasons boxing gym she used fighting and boxing to encourage clients to find their warrior within while continuing to train clients castronuova kept boxing competitively winning a pair of silver gloves in 2004 the secondplace prize in the golden gloves competition determined to redeem herself castronuova came back one year later and won her first new york golden gloves championship at madison square garden in 2005 in front of a televised capacity crowdfollowing her first golden gloves win she started competing nationally and was ranked 2 in the nation by usa boxing she went on to place in national tournaments and win numerous titles such as the nyabc title the metros and the empire state games and won her second golden gloves title in 2006 at madison square garden certified as a boxing coach by the new york state athletic commission she is also a personal trainer certified by issa international sports science associationher father who was obese died when she was just a teenager her mother also died in a car accident in 2006 these unfortunate events fueled her ambition and motivated her to become a role model and a strong foundation for her family especially for her three younger brothers and her elderly aunt who lives with her and is disabled i became the matriarch as the oldest child and had to step up to the plateboxing competitively taught me how important it is to never give up no matter how hard it gets she saysshe also trained extensively in martial arts and other fighting techniques which led to acting opportunities as well primarily as a stuntwoman and stunt coordinator in addition she has worked as a reporter and fitness writer for ny and boxing press outlets and as an announcer and sports commentator for various boxing venues in nyc like madison square gardencastronuova has learned firsthand that in boxing and in life a comeback is important and that fighting mentality has served her well professionally and personally now she looks forward to helping the biggest loser contestants find their fighter within and make their own comebacks on the road to good health the biggest losershe spent one season on the biggest loser as a series regulartrainer and helped propel the show to the highest ratings theyd ever hadrecently cara shot a new pilot for a major production company and it is currently being shopped she shot it with her exboyfriend paulie malignaggicara also has her own charitable organization knockout obesity wwwknockoutobesityfoundationcom and also has another website for selfimprovement wwwuimprovedcom on october 14 2013 cara participated in an everlastmodells sponsored event for breast cancer awareness in times square', 'a v balakrishnan is an american applied mathematician and professor at the university of california los angeles he is a recipient of the richard e bellman control heritage award which is the highest recognition of professional achievement for us control systems engineers and scientists in 2001 for pioneering contributions to stochastic and distributed systems theory optimization control and aerospace flight systems researchbalakrishnan grew up in chennai india and entered the university of madras in the early 1940s while there he earned a scholarship from the indian government to study in the united states and learn to produce documentaries upon arriving at the university of southern california known for its film school he initially wanted to become a sound engineer on hollywood films at the time he was unable to get a position because he was not a member of any of the guilds which controlled who was able to get a jobs therefore after earning his first masters degree in cinema in 1949 he switched to electrical engineering balakrishnan received his ms in electrical engineering and his phd in mathematics from the university of southern california in 1950 and 1954 respectively he has been professor of engineering and professor of mathematics since 1965 at the university of california los angeles he was chair of the department of systems science in the then school of engineering from 19691975 and director of the nasaucla flight systems research center since 1985 he has received honors and awards from the international federation of information processing society 1977 nasa 1978 19921995 and 1996 and in 1980 the guillemin prize in recognition of the major impact that his original contributions have had in setting the research direction of communications and control he is currently a distinguished emeritus professor at the hsseas ucla his current students are rohit voleti phani madhav yannam', 'a writer and director experience in a wide variety of theater video film projects parthiban shanmugam has performed and won several awards world wide at festivals and theaters trained as a defense and strategic analyst lawyer human rights advocate stand up comic and story teller he comes from an extensive creative background he has focused his career on the emerging south asian culture in the usa shanmugam has been exposed to variety of creative influences from modern western art eastern philosophy to literature hollywood bollywood and everything in betweenfilmographyproducer that 47 days 2010 war within us 2009 the ballad of robert haevey aka we are not far away 2009 osama obama and parthiban 2009 even the cactus goes to heaven 2008 youre rejected 2008 a pizza story 2007 black men can swim 2007 downtime 2007 v the celestial brides 2006 mathamma 2006director that 47 days 2010 the ballad of robert haevey aka we are not far away 2009 osama obama and parthiban 2009 war within us 2009 even the cactus goes to heaven 2008 youre rejected 2008 a pizza story 2007 black men cant swim 2007 the celestial brides 2006 mathamma 2006writer that 47 days 2010 osama obama and parthiban 2009 war within us 2009 the ballad of robert haevey aka we are not far away 2009 youre rejected 2008 even the cactus goes to heaven 2008 a pizza story 2007 black men can swim 2007 screenplay story the celestial brides 2006 mathamma 2006cinematographer even the cactus goes to heaven 2008 osama obama and parthiban 2009 war within us 2009 the ballad of robert haevey aka we are not far away 2009 youre rejected 2008 even the cactus goes to heaven 2008actor that 47 days 2010 osama obama and parthiban 2009 the great new wonderful 2005 the ballad of robert haevey aka we are not far away 2009second unit director or assistant director downtime 2007 v first assistant director 10 11 12 13 20 21 22', 'a writer jason thornberry was also actively involved in music for many years in 1999 his band the pressure was readying the release of their debut album when it was discovered that their drummer was in hospital thornberry was in a coma after being curbstomped and beaten nearly to death by gang members his assailants went free four months later jason was released in a wheelchair within a year he was walking again and hed begun to document the experience jason would continue to see therapists for a long time having also temporarily lost the ability to speak or to use the left side of his body after the assaulthe returned to school and edited his college newspaper the coast report along with contributions to the oc weekly urb mean street and more than two dozen print and online music magazines around the worldthornberry has been writing short stories and essays since elementary school and spent his lengthy convalescence becoming reacquainted with his first love jasons style a mixture of wit sarcasm and an often quirky sense of humor has been seen in music magazines around the world he has recently finished his first book a memoir based upon his experiences in music as well as overcoming a traumatic brain injury jason lives in seattle with his wife', 'aafia siddiqui fi sidiki urdu born 2 march 1972 is a pakistani who studied neuroscience in the united states she immigrated to the us in 1990 and obtained a phd from brandeis university in 2001in early 2003 during the 2001 afghanistan war caused by a conflict between united states and alqaeda siddiqui returned to pakistan in march 2003 she was named as a courier and financier for alqaeda by khalid sheikh muhammad and was placed on a wanted for questioning list by the american fbi she subsequently disappeared until she was arrested in ghazni afghanistan by afghanistan police 17 july 2008 with documents and notes for making bombs plus containers of sodium cyanide and held detained by them siddiqui was shot in the torso the next day by visiting us fbi and army personnel after they allege she shot at one of them with an unattended riflesiddiqui was flown by the fbi to new york and indicted in new york federal district court in september 2008 on charges of assault and attempted murder of a united states army captain in the police station in ghazni afghanistan siddiqui denied the charges after 18 months in detention she was tried and convicted 3 february 2010 and sentenced later that year to 86 years in prisonin pakistan siddiqui had by then become a symbol of victimization in march 2010 after her conviction both the prime minister gilani and opposition leader nawaz sharif promised in unity to push for her release pakistani news media called the trial a farce while other pakistanis labeled this reaction kneejerk pakistani nationalism', 'aagje ada kok born 6 june 1947 in amsterdam north holland is a former swimmer who ranked among the worlds best in the butterfly stroke category during the 1960sher international career started in 1962 when at the age of fifteen she took the european title in the 100 m butterfly in leipzig she was also part of the silver 4100 m medley relay team at the tokyo olympics two years later she finished second in both events she was also good at freestyle swimming which showed when she took second place in the 400 metres at the 1966 european championships in utrecht in the same tournament she also won the 100 m butterfly and the 4100 m relay she achieved nine world records between 1963 and 1967 in the 100 m and 200 m not introduced until laterkok reached her peak at the 1968 summer olympics in mexico city she won the gold medal in the 200 meter butterfly race in a time of 2247 beating the east german helga lindner by 01 seconds the 100 meter butterfly race in that olympic games ended in disappointment for her when she did not feel well beforehand and finished in fourth place in her memoirs written by henk lichtenveldt she stated', 'aameen taqi butt born on 17 july 1946 won the inaugural pakistan open golf tournament in 1967 as an amateur he was also the runner up in 1974aameen belongs to a leading sport family of pakistan and india his father taqi butt represented government college lahore in wrestling and swimming his mother aziz won many tennis tournaments including nationals in india and post independence represented pakistan internationally and was national champion in 1959 she switched to golf and won the womens championship in 1960 his elder brother urman was a good swimmer and represented aitchison college and punjab province his sister najam followed in her mothers footsteps and became national champion and later in her life represented pakistan in bridgeaameen joined aitchison college in 1954 and left in 1964 he participated in all sports but excelled in swimming he was best swimmer of college for 5 years and won rani of mandi best swimmer trophy 5 times in a row he was also punjab best swimmer for three times in a row during this time he held all records from 1001500m freestyle and individual medley relay his speciality was 100m freestyle he represented pakistan against iran he was selected for 1964 olympics for 100m freestyle but the team was not sent after his mother death in 1961 he picked up golf in spite of compulsory sports in aitchison he excelled won tournaments and was selected for pakistan golf team in 1964 aameen holds the honor of representing pakistan in 2 sports golf and swimming while still being at schoolhe won west pakistan golf championship and pakistan matchplay twice after joining pakistan air force in 1968 his golf was on a back bencher due to his fighter flying career however he represented pakistan on all teams that went abroad and he was always ranked in the top 3 in pakistanhe has to leave golf career in 1980 due to his backin aitchison college lahore his class fellow was majid khan former captain of the pakistan cricket team', 'aamina sheikh born as aamina sheikh on august 29 1981 is a pakistani american actress and model she has won one lux style award one new york film festival award one saarc film festival award one tarang housefull award and one veet beauty award in different categoriessheikh started her acting career with 2008 telefilm baarish mein deewar in 2010 she earned commercial success with hum tvs serial daam and later earned recognition for playing glamorous roles in malecentric serials such as hum tum 2010 ishq gumshuda 2010 uraan 2010 mera saaein 2010 main abdul qadir hoon 2010 sheikh subsequently played more prominent roles in serials like maat 2010 mera saaein 2 2012 mirat ul uroos 2013 and jackson heights 2014despite acting in serials sheikh made her film debut in the 2012 reincarnation melodrama seedlings for which she won two international awards new york film festival award and saarc film festival award in best actress category in 2012 she achieved further critical and commercial success for her role of zarnab a tomboy in abdullah kadwanis armaan her performance in the film garnered critical appreciation and earned her a nomination at tarang housefull awardsbest actress the following year she starred in social drama josh independence through unity a critical and commercial success sheikh was widely praised for her role which earned her several national and international awards in the best actress category including silent river film festivalsheikh garnered international recognition as a spokesperson for the french beauty brand lorealthrough her successful acting career she has established herself as a commercially successful actress of pakistani cinema', 'aamir khan pronounced amr xan born mohammed aamir hussain khan on 14 march 1965 is an indian film actor director screenwriter producer and television presenter through his successful career in hindi films khan has established himself as one of the most popular and influential actors of indian cinema he is the recipient of numerous awards including four national film awards and seven filmfare awards he was honoured by the government of india with the padma shri in 2003 and the padma bhushan in 2010khan first appeared on screen as a child actor in his uncle nasir hussains film yaadon ki baaraat 1973 his first feature film role came with the experimental film holi 1984 and he began a fulltime acting career with a leading role in the highly successful tragic romance qayamat se qayamat tak 1988 his performance in the film and in the thriller raakh 1989 earned him a special jury award at the national film award ceremony he established himself as a leading actor of hindi cinema in the 1990s by appearing in several commercially successful films including the romantic drama dil 1990 the romance raja hindustani 1996 for which he won his first filmfare award for best actor and the drama sarfarosh 1999 he was also noted for playing against type in the critically acclaimed canadianindian film earth 1998in 2001 khan started a production company whose first release lagaan was nominated for the academy award for best foreign language film and earned him a national film award for best popular film and two more filmfare awards best actor and best film after a fouryear absence from the screen khan continued to portray leading roles most notably in the 2006 boxoffice hits fanaa and rang de basanti the following year he made his directorial debut with taare zameen par a major success that garnered him the filmfare awards for best film and best director khans greatest commercial successes came with the thriller ghajini 2008 the comedydrama 3 idiots 2009 the adventure film dhoom 3 2013 and the satire pk 2014 all of which held records for being the highestgrossing bollywood film of all timein addition to acting khan is a humanitarian and has participated in and spoken out for various social causes some of which have sparked political controversy he has created and featured as the host of the television talk show satyamev jayate through which he highlights sensitive social issues in india khan was married to his first wife reena dutta for fifteen years after which he married the film director kiran rao he has three childrentwo with dutta and one with rao through surrogacy', 'aan irmak born 4 april 1970 in seferihisar turkey is a turkish film and television writer and director who has managed to attract a large audience in turkey and is best known for the tv series emberimde gl oya 20042005 and asmal konak 20022004 and for the hit films alone 2008 and my father and my son 2005 for which he received turkish cinema writers association awards for best film best screenplay and best directorhe studied radio tv and film studies at ege university faculty of communications receiving the sedat simavi award for two short films masal the tale and kurban the sacrifice which he made in the course of his studies after graduating in 1992 he worked in cinema and television as an assistant director to orhan ouz mahinur ergun filiz kaynak and yusuf kurenli and was awarded first prize by ifsak for his short film play me old and wise 1998he wrote and directed the tv series good morning brother istanbul 19982001 on atv and the tv film strawberry cake 2000 before achieving some early success with his first feature film wish me luck 2001 which rekin teksoy describes as unremarkable and collaborations with mahinur ergun on the hit tv series afelek kmaz 2001 for trt and asmal konak 20022004 for atv for which he received numerous awardsa period of great success followed with popular tv series emberimde gl oya 20042005 on kanal d and hit films everything about mustafa 2004 and my father and my son 2005 which according to rekin teksoy successfully exploited the melodramatic idiom and was a huge boxoffice success which showed that popular cinema was successful in appealing to wide audiences as well as receiving six turkish cinema writers association awards including best directorfollowing this he wrote and directed several installment in the tv horror film series kabuslar evi for fox and the film the messenger before achieving another popular success with the film alone 2008 since then he has made the short film dlerimdeki atatrk 2008 the tv series yol arkadam 20082009 for star and the film in darkness 2009 he has been productive in the last years and has produced 4 additional films sleeping princess2010 my grandfathers people2011 are we ok 2012 and whisper if i forget 2014', 'aarik wilson born october 25 1982 in reno nevada is an american long jumper and triple jumper he attended indiana university in bloomington indianaus olympic trials triple jump champion 2008 us national indoor triple jump champion 2008 us national outdoor triple jump champion 2007 us national indoor triple jump champion 20071728 m 3rd national indoor championships in long jump 2007800 m he also finished fifth at the 2003 pan american games and sixth at the 2006 world athletics final he competed at the 2006 iaaf world indoor championships without reaching the final roundhis performances in 2006 earned him a ninth place on the track field news world ranking his first ranking among the top tenaccording to his biography page at usatforg his personal best triple jump outdoors is 1758 metres 57825 ft achieved in august 2007 in london his indoor pr in the triple jump is 1728 metres 5685 ft wilsons pr in the long jump is 817 metres26975 fthe won the 2008 us olympic team trials in eugeneor with a best jump of 1743 metres 57225 ftwilson also holds the nevada interscholastic athletic association niaa 4a state meet record in the triple jump with a mark of 510125 feet set in 2001 as a senior at churchill county high school in fallon nv', 'aarn sarmiento padilla born august 26 1986 in las palmas gran canaria is a spanish sailor who specialized in twoperson dinghy 420 and 470 class he represented spain along with his partner onn barreiros in two editions of the olympic games 2008 and 2012 and has also been training for the royal nautical club of gran canaria spanish real club nutico de gran canaria throughout most of his sporting career under his personal coach and mentor jorge angulo as of september 2013 sarmiento is ranked no 14 in the world for twoperson dinghy class by the international sailing federationsarmiento made his official debut at the 2008 summer olympics in beijing where he paired up with crew member onn barreiros in the mens 470 class solid and confident the spanish duo finished outside the medals with a fifthplace effort on 87 points trailing the feisty french tandem nicolas charbonnier and olivier bausset by a ninepoint marginat the 2012 summer olympics in london sarmiento competed for the second time as a crew member in the mens 470 class by finishing ninth and receiving a berth from the isaf world championships in perth western australia teaming again with barreiros in the opening series sarmiento narrowly missed a chance to sail for the medal race by a single point behind the swedes as the spanish duo placed eleventh in a fleet of twentyseven boats with an accumulated net score of 104 points', 'aarne ruben 17 july 1971 in tallinn is an estonian writerhe wrote some novels mainly based on estonian history in the 20th century his most known being the volta works whistles mournfully 2001 volta annab kaeblikku vilet about russian revolution of 1905 lenin and dadaist movement in zrichhe was awarded the first prize of the novel competition 2000 organised by the estonian novel foundationrubens second novel beast on the landing elajas trepi eelastmel 2004 brings reader into a medieval story the main hero livonian knight adolf von wannevar is second son of his father a landlord of transpalen 15th century name of the estonian borough pltsamaa instead of inheriting fathers manor and property he travels to the west and become a law student of the charles university in prague he goes to the pilgrimage into the council of constance and become a witness of the condemning and burning of jan hus he founds huss dissident fanclub and travels to lbeck where he got lawyers job in the hanseatic merchant association also marries with 14year lbeck girl in his later years adolf serves the university of paris as a law scholarbeast on the landing depicts the medieval possibility to move in the spaces between different cultures', 'aaron abeyta born august 8 1965 in sacramento better known as el hefe or simply hefe from el jefe spanish for the boss is the lead guitarist and trumpet player for the california punk band nofxhe started playing guitar at the age of 13 but he states that he started taking it seriously at the age of 15 joining his first bandhe attended the berklee college of music and graduated with honorsabeyta was given his moniker by his fellow band members for his superior mastery of the instruments he plays and because at the time he joined the band there were already two erics and that an aaron would just be too muchknown for his selfeffacing sense of humor charisma and many voice impersonations beavis and butthead yogi bear and other wellknown cartoon characters el hefe joined nofx in 1991 his first recordings with nofx contributed to nofxs ep the longest line he once owned a night club called hefes in eureka ca he lives in stevenson ranch california he has two children and is married to jennifer abeytacontrary to a popular myth among nofx fans abeyta did not play miguel aguilar in the movie the bad news bears and its sequels in the 1970s that actors name is george gonzales nor in the cbs television series of the same name charles nunez was the young actor who played miguel in the tv series', 'aaron accetta is a new yorkbased multiplatinum record producer songwriter and musician he is currently coowner of dirty canvas music a full scale music production company focused on artist development the first artist signed to dirty canvas was brooklyn based alt rock band american authors in 2011 who received a joint record deal with island records in 2012 subsequent acts signed to dirty canvas include young rising sons in early 2014 who received a joint record deal with interscope records on june 17 2014 and the karma killers accetta has written andor produced for such names as he is we forever the sickest kids james garfunkel brooke hogan deborah gibson jordan knight rich cronin lfo keke palmer aaron carter nick carter and jeff timmonsborn and raised in mt kisco ny a small town outside of new york city accetta began his music career at the early age of fourteen writing his first song on his fender stratocaster by age sixteen he started his first band called the fuseafter the fuse parted ways accetta and lead vocalist dan woods put their efforts towards a new project jbender a melodic hookdriven rock band produced by sam hollander in february 2001 the band signed a major recording contract with columbia records the band was later dropped in 2002accetta began focusing solely on his producing and songwriting career after the fall of jbender in 2002 he teamed up with pop artist mandy ventrice and began cowriting with the likes of shep goodman kenny gioia and sam hollanderin 2003 accetta was offered an inhouse producer and songwriting position for trans continental records based out of orlando fl shortly after his credibility as a producer and songwriter grew tremendously earning him rave reviews in billboard magazine and an riaa certified gold record commemorating the sales of his production on aaron carters single saturday night', 'aaron asher barrett born august 30 1974 is the lead singer lead guitarist and primary songwriter for the band reel big fish prior to forming with reel big fish barrett played trombone in another skapunk act the scholars along with future reel big fish bandmates scott klopfenstein and grant barry more recently he formed the forces of evil with former members of jeffries fan club the scholars and lone raspberry the forces of evil sounded similar to barretts main band although lyrically they were much more pessimistic the forces of evil ceased touring and playing in early 2005 although several members have gone on to play with reel big fishbarrett is also featured in serious awesomeness a dvd by the aquabats interviewing attendees of an aquabats show outside of the glass house in pomona california calling himself joe famous and is also seen briefly on stage with the band he made a cameo appearance in the music video for come back home by suburban legends in an elvis costume and a cameo appearance in the music video for im ok youre ok by mxpx as a doughnut shop employee aaron has been dubbed as the sexiest man of ska in 2009', 'aaron benzeev born 30 july 1949 is an israeli philosopher life and careeraaron benzeev and his two older brothers yehuda and avinoam were born in israel to israel and haika weinkrantz benzeev and were raised on kibbutz eincarmel when aaron was 18 his eldest brother yehuda was killed in the six day war at the age of 32 aaron is married to ruth with two sons dean and adambenzeev received his ba in philosophy and economics 1975 and his ma in philosophy 1977 both from the university of haifa he was awarded his phd from the university of chicago 1981 his doctoral thesis was entitled perception as a cognitive system his doctoral studies advisor was stephen toulmin alan gewirth robert richards and william wimsatt served on the doctoral committee michael strauss his ma thesis advisor and stephen toulmin have greatly influenced his philosophical views their thinking is marked by a unique combination of a broad outlook on the very profound issues of philosophy and life a careful analysis of the details and the ability to concretize their discussion in everyday issues despite such similarity they came from different backgrounds while strauss like his grandfather martin buber was submersed in the german tradition and his important writings are in german and hebrew toulmin a pupil of ludwig wittgenstein grew up within the english analytic traditionthe philosophers whose writings have made the greatest impact upon benzeev are aristotle baruch spinoza and immanuel kant kants main influence is most evident in ben zeevs discussions on epistemology and perception aristotles and spinozas impact is more apparent in his discussions of the mindbody problem and in his work on the emotionsbenzeevs major books are the perceptual system peter lang 1993 the subtlety of emotions mit up 2000 love online emotions on the internet cambridge up 2004 in the name of love romantic ideology and its victims with ruhama goussinsky oxford up 2008 die logik der gefhle kritik der emotionalen intelligenz suhrkamp 2009benzeev has held several academic positions at the university of haifa including president 20042012 rector 20002004 dean of research 19952000 philosophy department chairperson 19861988 chairperson of the humanity division oranimschool of education 19911994 chairperson of the association of university heads israel head of the university of haifa press and head of the academic channel he established the interdisciplinary center for the study of emotions at the university of haifa he is currently the president of the newly established european philosophical society for the study of emotionsphilosophical viewexplanatory toolsthe choice of conceptual tools determines the nature of our explanations in light of the complexity of psychological phenomena the tools that we use to explain them should be flexible enough to accommodate the complexity of reality three such tools which are evident throughout benzeevs writings are the distinctions between various levels of description prototypical and binary categories and intrinsically and extrinsically valuable activities the distinction between various levels of description reflects his stratification approach concerning the bodymind problem this approach has three basic assumptions a the mind consists of dispositional and actualized states and not of internal isolated entities b physiological and mental states are not actually separate but belong to two different levels of descriptionthe relationship between them is one of stratification rather than of causality and c mental and physical states emerge along a continuum that ranges from simple to more complex states this approach is close to aristotle spinoza and the advocates of the emergent view of mental properties this issue is discussed in detail in his book on perception benzeev further believes that prototypical categories which have no clearcut boundaries and no equal degree of membership are generally more appropriate to the psychological realm and hence clearcut definitions of emotions are of little value and general characterizations should be given preference furthermore we should expect many grey areas when discussing human activities benzeev emphasizes the importance of intrinsically valuable activities for longterm happiness and profound love the combination of all three distinctions is significant in explaining psychological and in particular emotional phenomena despite his use of complex conceptual tools on many issues benzeev remains close to a critical yet commonsense viewperceptionin his various writings on perception in particular the perceptual system benzeev rejects the indirect view of perception and argues for the presence of direct nonpure perception he rejects nave realism as well as extreme subjectivism and argues for a critical realism such realism considers perceptual qualities as properties of the perceptual environment which is a relational environment that presupposes the existence of a perceiver within the perceptual environment perception is direct as it involves direct awareness of events in the environment but in light of the relational nature of this environment perceptual awareness merely provides partial information about the worldthat part which is influenced by the subjects characteristics in his view perception is direct in two major senses it is perception of the objects themselves not of internal mental representations and it is not preceded by mediating inferential processes benzeevs book the perceptual system received an excellent review in the review of metaphysics with the reviewer jack ornstein stating that benzeevs view is the only remotely plausible approach to the mindbody problem finally we have a theory of perception and the mind which any scientificallyminded critical philosopher can live with together with his work on perception benzeev has pursued related issues in the philosophy of psychology such as the bodymind problem and memory and has written on various philosophers in particular aristotle and thomas reidemotionsfive years after finishing his phd thesis benzeev began to study the emotions a topic that remains at the center of his research today in this field he was particularly influenced by aristotle mainly his analysis of emotions as evaluative attitudes and by spinoza in particular his emphasis on the importance of change in generating emotions the psychological work that has most influenced his thinking has been the cognitive structure of emotions 1988 by ortony clore and collins benzeev has published many articles in this field as well as several books the subtlety of emotions mit 2000 love online emotions on the internet cambridge 2004 in the name of love romantic ideology and its victims oxford 2008 written with ruhama goussinsky and die logik der gefhle kritik der emotionalen intelligenz suhrkamp 2009the subtlety of emotions his major work on emotions is divided into two major parts the first presents an overall conceptual framework for understanding emotions and the second discusses individual emotions he considers emotion to be a general mode of the mental system and suggests that the typical cause of emotions is a perceived change the typical emotional concern is a comparative concern and the typical emotional object is a human being typical emotions are considered to have certain basic characteristicsinstability great intensity a partial perspective and relative brevityand four basic componentscognition evaluation motivation and feeling emotions are regarded as having a significant practical and moral valueromantic loveromantic love has been the major emotion discussed by benzeev in his book love online he demonstrates the value of his conceptual framework for understanding emotions on the internet and in particular romantic relationships in cyberspace no new emotion has been created on the internet but the generation of emotions is often differentfor example in the speed at which such emotions are generated he argues that the chaotic and dynamic nature of cyberspace will not replace the more stable nature of actualspace as we cannot live in complete chaos the test of the internet will be whether it can complement ordinary romantic activities just as the telephone complements ordinary social activities or whether it will merely replace them with less valuable activities as the television frequently doesthe book in the name of love is about our ideals of love as expressed in the romantic ideology our experiences of love and the disparity between the two this ideology which assumes that love is comprehensive uncompromising and unconditional may lead to extreme behavior such as is found in men who murder their wives or partners allegedly out of love although romantic ideology may have a negative impact on many people in different circumstances it still has the positive function of a guiding ideal at the basis of ben zeevs proposed nurturing approach lies the assumption that in order for romantic love to be maintained the lover should not merely ensure that the beloved feels good it is imperative too that the lover is profoundly satisfied with the way in which the relationship enhances her own development and flourishing only a profoundly satisfied person can enhance the flourishing of the other and of their togetherness in many current societies love is on the mind of an evergreater number of people and its presence is a major criterion for relationships love can no longer be dismissed as a silly fantasy it is perceived as realistic and feasible for an increasing number of peoplein recent years benzeevs research has been focused on romantic compromises and related issues such as the profundity of love the relationship between love and sex and love and time in romantic compromises people relinquish a romantic value such as romantic freedom or intense sexual desire in exchange for a nonromantic value like the wish to live comfortably he considers such compromises to be the most common and painful syndrome in intimate relationships nevertheless he argues for the existence of good romantic compromises where there is a value convergence between the two lovers and the lovers minds are at rest as their togetherness has an intrinsic value', 'aaron bertram born april 3 1981 in lubbock texas is a trumpet player for third wave ska band suburban legends and member of the childrens group kids imagine nation and is currently teaching music and movement to preschool students in orange county ca his music program is called kids imagine inc music movementhe was a trumpet player for the thirdwave ska band suburban legends from the bands origin in 1998 to may 2005 when he left to start his company kids imagine with wife rachel charest he was known for doing a lot of backing vocals in the band and originated the idea of the bands signature choreography aaron returned for a final performance with the band on november 29 2005 at huntington beach high school for a benefit show for the ryan dallas cook memorial fund since the summer of 2009 aaron has been performing with suburban legends at local shows as of november 2010 he is listed as an official member of the bandin addition to playing trumpet for suburban legends he also performed vocals for the bands cover of the gummi bears theme song the bands cover of rose tint my world and the song powerful game on the album rump shakeraaron is currently writing childrens music under the name kids imagine nation with rachel charest and vince walker', 'aaron betsky born 1958 is a critic curator educator lecturer and writer on architecture and design who from august 2006 to january 2014 was the director of the cincinnati art museum from 2001 to 2006 betsky served as director of the netherlands architecture institute in rotterdam netherlands although betsky was born in missoula montana usa he grew up in the netherlands he graduated from yale university with a ba in history the arts and letters 1979 and a march 1983 he then taught at cal poly pomona and the university of cincinnati from 1983 to 1985 and worked as a designer for frank gehry and hodgetts fung from 1995 to 2001 betsky was curator of architecture design and digital projects at the san francisco museum of modern art before moving back to the netherlandsbetsky has written numerous monographs on the work of late 20th century architects including im pei un studio koning eizenberg architecture inc zaha hadid and mvrdv as well as treatises on aesthetics psychology and human sexuality as they pertain to aspects of architecture and is one of the main contributors to a spatial interpretation of queer theorybetsky was named as the director of the 11th exhibition of the venice biennale of architecture in 2008 1', 'aaron boulding is an american video game journalist his work spans online print and tv outlets and he has been covering the gaming industry since 1998he is most well known as the video game analyst on espn he makes regular appearances on the espnews hot list and espn2s first take additionally he writes the easy points blog on espncomboulding is also a freelance correspondent and has covered video game events for the best damn sports show period mtv2 and electric playground he was a sideline reporter in the first televised championship gaming series competition filmed in san francisco and broadcast on directv boulding also makes appearances as an industry expert at live events and on television at the 2006 game developers conference he was a panel expert for a session titled loudness dynamic range from theory to reality in november 2007 he appeared on spike tvs game head discussing the video game awards nomineeshe also commentates on the halo 3 mlg pro circuit alongside chris puckett and sundance digiovanniformerly boulding was a senior editor at igncom a popular videogame information site prior to that from 199798 he was a sports journalist at cnnboulding was born on december 30 1972 he was born in new york city queens his family moved to maryland michigan and finally california before he was six years old he grew up in los angeles oakland and santa cruz boulding attended uc santa barbara as an undergraduate then later obtained a masters degree in journalism from uc berkeley he currently lives in san francisco california', 'aaron brower born january 9 1958 is serving as interim chancellor at the university of wisconsin colleges university of wisconsinextension brower formerly served as interim provost and vice chancellor at the university of wisconsinextension and as special assistant to uw system president kevin p reilly for new educational strategies where he created and led the innovative uw flexible option program the first competencybased educational model delivered by a public higher education system previously he served as vice provost for teaching and learning at uwmadison and he continues there as a professor in the school of social work integrated liberal studies and educational leadership and policy analysis he received his ba in psychology from the university of michigan in 1980 and by 1985 had received his msw ma in psychology and phd in social work and psychology from the university of michiganbrowers early work focused on small groups and social cognition producing four books including social cognition and individual change isbn 0803938845 and whats social about social cognition isbn 0803972059 both by sage publications his work evolved to study group and community processes related to college life as experienced by students from diverse backgrounds student drinking and college student successbrowers research finds that academic and social outcomes are produced when college environments blend inclass and outofclass learning and experiences to create communities of students faculty and staff who share common learning goals ie learning communities he has been instrumental in the creation of many residential and nonresidential learning communities at uwmadison and across the us including firstyear student transition programs summer bridge and orientation programs undergraduate research scholars programs and livinglearning programs along with his colleague karen k inkelas he has created the first national survey and study of livinglearning programs1', 'aaron c archer born 1972 in canton ohio is an illustrator and creative professional who spent over 18 years at hasbro designing for toy brands like transformers gi joe and others aaron worked on the transformers brand for over 13 years collaborating with takara on hundreds of toys aaron acted as the creative lead for all transformers partnerships including four feature films four video games five animated series theme park rides and countless publishing projects in 2013 aaron retired from hasbro in order to pursue independent projectsarcher has worked on other hasbrokenner toy lines including various batman lines star wars and alien resurrection amongst others archers earliest transformers work were designs for the later beast wars toys including transmetal 2 megatron dinobot and cheetor archer was the design vp on the transformers brand a role that essentially made him the highestranking creative transformers staffer on the hasbro side of the business transformers are produced in partnership with takaraarcher managed a design team that is responsible for concept design both for larger storyline concepts archer claims the idea for the show transformers cybertron was initially created on a taco bell napkin over lunch and for the look of individual characters while takaras engineers are responsible for converting hasbro designs into threedimensional action figure form takara also has say in design choicesarcher is also well known in the transformers fandom for his brief stint posting on the tfw2005 boards under the assumed name orson a reference to orson welles voice of unicron archer responded to fan questions in an unusually cryptic style answering eitheror type questions with a straightforward no and only answering specific parts of multipart questions most likely due to nondisclosure issues the orsons world message board was eventually shut down by hasbro and issued a statement that they wanted to treat all fansites fairlyprior to working for hasbro archer selfpublished a comic book gumbo with jeff mccormack both attended the university of akron in akron ohio some homages to aaron include the transformers movie toy longarm having orsons towing on the door the early name for universe skalor being listed as archerbot and the transformers animated character angry archer in 2014 archer joined play with this too designing figures like ancient astronauts and a series of head shots', 'aaron cape date yonda born january 19 1973 is an american comedian writer actor and director from menomonie wisconsin he is most notable for playing the role of chad vader in chad vader day shift manager a web serial he coproduces with friend matt sloan who also provides the voice of chad aaron has been involved with numerous projects and accounts on youtube which span around a decade some of his most notable projects on his blame society films channel are of course chad vader which he is best known for beer and board games and various chad vaderrelated spinoff series he also releases massive amounts of comical content on his game society pimps channel along with emre cihangir and adam koralik both from figure it out productions out of chicago il including skyrim for pimps fallout for pimps christopher walkenthroughs and other various series his christopher walkenthrough videos are featured regularly on the massively popular machinima channel all videos including christopher walken barack obama morgan freeman and more are all voiced by his good friend jason stephens who is also a regular on different shows on the blamesociety channel aaron has received many nicknames on the popular youtube show beer and board games such as dip bsac and most recently cape date for arriving at a date wearing a cape prior to creating chad vader yonda was known as one of the cocreators of the madison public access television show the splu urtaf show he is a graduate of the university of wisconsineau claire his short film the life and death of a pumpkin swept the chicago horror film festival awards receiving best short film and concept yondas shorts have screened at festivals worldwide including the just for laughs comedia festival and the worldwide short film festival in toronto aaron yonda is also a member of the popular comedy troupe monkey business institute out of madison wisconsin he performs improv comedy onstage with the rest of the institute who are regulars on most of his shows', 'aaron carotta also known as adventure aaron is an american television presenter producer professional adventurer and author he is known for his worldwide tv series catch and cook and nz series bucket wish at the age of 30 carotta was diagnosed with cancer this made his decision to travel the world and help others on the journey along with international tv shows he is noted for his television show bucket wish this was broadcast throughout nz in 2012 with carotta helping teenagers who have been diagnosed with cancer with carotta coming from the usa this show was recognised on nz television when the show was premiered since 2008 he has since traveled through 60 countries around the world using the term travel hackinghe has since used this way of traveling all throughout his television series that are broadcast worldwide his first tv series alive with adventure aaron was on television at the start of 2010 all through the usa on mav tv this show picked up his production and presenting for future series carotta filmed in south korea at the start of 2013 for his tv show catch and cook with a small nz crew he picked up after his bucket wish show during the end of 2013 carotta aired his catch and cook world series and catch and cook usa series to television channels around the world carotta also filmed in russia in late 2013 for a television special with tvnzs sunday programme about a new zealander meeting his russian birth parents for the first time', 'aaron chandler born october 3 1983 in denver colorado is an american soccer player who played forward for the california victory and for the columbus crew of major league soccerchandler played collegiate soccer at the university of san francisco after initially walking onto the team in 2003 he became an allamerican and west coast conference player of the year in 2004 by the time his career was finished in 2006 he had started 66 of 75 games where he scored 28 goals and assisted on 16 morehe was drafted in the fourth round 41st overall by the columbus crew in the 2007 mls superdraft chandler netted a goal in the 86th minute of the inaugural lamar hunt pioneer cup match between the crew and fc dallas on march 11 2007 a 30 win for the black gold he was waived by the crew on july 3 2007 to make room for defender andrew peterson on the rosterlater in 2007 chandler played 13 matches for california victory a usl first division professional soccer team following the september 2007 demise of the victory chandler went on trial for the norwegian 1st division side sandefjord fotball in february 2008 playing in the preseason friendlies vs fc lyn oslo on 1 february 2008 03 and vs raufoss il on 13 february 2008 33 but did not get a contract chandler then moved on to western norway and a trial with the 1st division side fk haugesund playing in the friendly vs lvham on 16 february 2008 03 fkhs coach rune skarsfjord said he was impressed by chandler but that he didnt fit well enough into the clubs 433 system and was therefore not offered a contractin september 2008 chandler negotiated a shortterm contract with norwegian 1st division side il hdd he played briefly for hddchandler has not rested on his laurels since leaving the world of professional soccer he has accumulated quite a resume of achievements outside of his soccer accolades in 2013 he received his juris doctorate from thomas cooley law school he graduated in the top 10 percent of his class with magna cum laude honors he passed the california bar examination on his first attempt as of this edit date he serves as an attorney for riverside county public defenders office', 'aaron charles rodgers born december 2 1983 is an american football quarterback for the green bay packers of the national football league nfl rodgers played college football for the university of california berkeley where he set several career passing records including lowest singleseason and career interception rates he was selected in the first round 24th overall of the 2005 nfl draft by the packersafter backing up brett favre for the first three years of his nfl career rodgers became the green bay packers starting quarterback in 2008 and led them to a victory in super bowl xlv after the 2010 nfl season rodgers was named super bowl mvp he was named associated press athlete of the year in 2011 as well as being voted league mvp for the 2011 and 2014 nfl seasons rodgers has led the nfl three times in touchdowntointerception ratio 2011 2012 2014 twice in passer rating 2011 2012 touchdown passing percentage 2011 2012 and lowest passing interception percentage 2009 2014 and once in yards per attempt 2011rodgers is the nfls alltime career leader in passer rating during the regular season with a rating of 1060 and third alltime in the postseason with a rating of 1010 among passers with at least 1500 and 150 pass attempts respectively he currently is the only quarterback to have a career passer rating of over 1000 in the regular season as well as having the best touchdowntointerception ratio in nfl history at 396 touchdowns per interception he also holds the leagues lowest career passing interception percentage for quarterbacks during the regular season at 16 percent and the singleseason passer rating record of 1225', 'aaron christopher loup born december 19 1987 is an american professional baseball relief pitcher for the toronto blue jays of major league baseball he stands 6 feet 0 inches 183 cm and weighs 210 pounds 95 kg born in raceland louisiana loup played baseball at hahnville high school and tulane university where he led his teams to several state playoff appearances and recorded a fivehit shutout he was drafted by the blue jays out of tulane in the ninth round of the 2009 draftafter playing for three years with minorleague affiliates for the toronto blue jays and even being chosen for the 2012 eastern league allstar game loup was called up to the blue jays as a replacement for luis prez and retired all six batters he faced he was later voted the 2012 toronto blue jays rookie of the year by the toronto chapter of the baseball writers association of america bbwaa loup pitched 113 innings on opening day in 2013 and would go on to win his first major league game on april 10 against the detroit tigers he recorded his first two major league saves on april 12 and june 2 and led the blue jays to a win in an 18inning game on june 8 after a pair of groundoutsloup is a southpaw whose pitching drastically improved after coaches told him to become a sidearm pitcher his fastball has been noted as particularly effective against both left and righthanded batters but he continues to struggle with a changeup manager john gibbons does not view loup as a long reliever but rather as a situational oneinning guy he is known for his relaxed personality which has improved after spending time with his teammates', 'aaron d bare is an entrepreneur business school professor and keynote speaker on entrepreneurship and innovation bare has also sold 6 companies from the national association of sales professionals with over 60000 members to a cultural assessment tool used by fortune 500 companies to a global job board with over 10 million monthly unique visitors he is currently entrepreneurinresidence and professor of innovation at thunderbird school of global management and founder of buzz mouth an international digital and business strategy firm based in phoenix with clients such as cocacola google dell comedy central dannon harleydavidson and the arizona science center in the past aaron has worked with storied brands like facebook nike disney linkedin and microsoft aaron has raised over 90 million with companies he has been part of becoming experienced in the process to work with angel investors private equity and venture capitalbare is an entrepreneur and investor in over 40 privately held companies he was selected as an arizona 35 under 35 entrepreneurs and 40 under 40 leaders to watch by the business journal previously he has been awarded a national video award addys webawards tellys as well as being selected as the kennedy 2007 most innovative company of the year 2008 comerica business of the year and 2008 arizona small business innovator of the year growing up bare was the indiana ciphering champ and earned the njea national journalism award for graphic designbare has been a keynote speaker at the ti 2012 conference hyper island wpoypo disruption conference vistage ceo network entrepreneurs organization arizona venture capital conference thunderbirds global sales summit tulane law school lsu law school asu law school thunderbird european mba and the thunderbird honors graduation ceremony bare is a member of pttow an exclusive inviteonly marketing conference that represents over 14 trillion in advertising spend targeted at 1824 year olds in north america which includes brands such as red bull and quicksilverbare has also been featured in fast company inc magazine readers digest the business journal wall street journal impact magazine thunderbird alumni inquirer world at work biz az magazine human resource executive spring wise trend watchers killer startups talent management magazine marketing profs essence magazine power broker magazine selling power sales marketing management journal news and the arizona republic', 'aaron d ford born 1972 in dallas texas is an american politician he was elected to the nevada state senate in 2012 to represent senate district 11 which encompasses portions of the las vegas valley including portions of the communities of spring valley and enterprise he defeated john drake by 8735 votessenator ford served as the assistant majority whip during nevadas 77th legislative session he also served as chair of senate committee on natural resources vice chair senate committee on education and as a member of senate judiciary committeesubsequent to this first legislative session senator ford was named freshman senator of the year by both the las vegas review journal and the reno gazette journal in addition senator ford was named senator of the year by nevada political action for animals and the nevada conservation leagueduring the 2014 interim senator ford serves as a member of the council to establish academic standards technological crime advisory board legislative committee on public lands legislative committee on education legislative commission on energy and the advisory council on parental involvement and family engagementsenator fords community service professional memberships and associations include i have a dream foundation board member 2013present junior achievement of southern nevada board member 2012present olive crest of nevada board of trustees 2011present las vegas urban chamber of commerce board of directors 200913 clark county justice of the peace selection committee appointee 200812 clark county democratic party member of executive committee 200809 1112 and the national bar association las vegas chapter member 2007presentin addition senator ford has received the following awards and recognitions attorney of the year national bar association las vegas chapter 2013 us japan leadership program delegate 201213 britishamerican project delegate to london england 2011 mountain states super lawyer 2013 mountain states rising star 2011 2009 in business las vegas diversity in action award 2009 40 under 40 award 2011 american council of young political leaders official delegate to new zealand 2009 whos who in black las vegas honoree 2008 dallas pro bono lawyer of the year 2006 american marshall memorial fellow 2006 texas rising star 2006 dallas top lawyers under 40 2006 dallas bar association board of directors award of excellence 2004 and dallas bar associations outstanding minority bar leader award 2004 ford was named a 2014 aspen institute rodel fellowsenator ford is a member of kappa alpha psi fraternity he is also a member of sigma pi phi fraternity he is married to berna rhodesford', 'aaron d montz is an american politician who is the mayor of tiffin ohio at the age of 18 while still a high school student he ran unsuccessfully for mayor against incumbent bernard hohman who was completing his second termin 2007 montz was elected to the city council to represent the citys second ward he chaired the streets sidewalks and sewers committee as well as the recreation and public properties committee he also served on the finance committeewhile a council member he and councilman rich cline made overtures to the county government about saving the longneglected county courthouse in tiffin from demolition however the building was razed less than a month into his mayoral termhe has been on the republican central committee and the citys fair housing boardhe was elected mayor in 2011 after winning the republican primary election with 880 votes to 846 for the incumbent mayor jim boroff then winning against democratic opponent kenneth gaietto with 58 of the vote taking the mayors office at age 26 he is the youngest mayor in tiffins historymontz is a 2004 graduate of tiffin columbian high school and in 2008 received a ba degree from heidelberg university where he studied history and political science', 'aaron dupree tippin born july 3 1958 is an american country music artist and record producer initially a songwriter for acuffrose music he gained a recording contract with rca nashville in 1990 his debut single youve got to stand for something became a popular anthem for american soldiers fighting in the gulf war and helped to establish him as a neotraditionalist country act with songs that catered primarily to the american working class under rcas tenure he recorded five studio albums and a greatest hits packagetippin switched to lyric street records in 1998 where he recorded four more studio albums counting a compilation of christmas music in the wake of the september 11 2001 attacks he released the patriotic anthem where the stars and stripes and the eagle fly after leaving lyric street in 2006 he founded a personal label known as nippit records on which he issued the compilation album now then a concept album in overdrive was released in 2009tippin has released a total of nine studio albums and two compilations with five gold certifications and one platinum certification among them in addition he has charted more than thirty singles on the billboard hot country songs charts including three number ones there aint nothin wrong with the radio 1992 thats as close as ill get to loving you 1995 and kiss this 2000 as well as the top ten hits youve got to stand for something i wouldnt have it any other way my blue angel working mans phd for you i will and where the stars and stripes and the eagle fly', 'aaron durley born july 21 1993 in houston texas is a former little league world series baseball player known for his exceptional size a former allstate high school basketball player and a former player for texas christian universitys basketball team tcu he first became the object of media attention in 2005 though garnered much more in 2006 when he had grown 4 more inches to 6 8 when he played first base and pitched and batted fifth in the little league world series for the arabian american team from dhahran saudi arabia which is composed of the children of expatriate employees of saudi aramco the saudi national oil company many from the united states at 6 9 245 durley is the biggest player in little league world series history he was taller than the average nba playerhe had previously played for the arabian american team in the 2005 little league world series by 2008 durley was 6 10 weighed 265 pounds and wore a size 19 shoe in august 2009 durley was 6 11 tall weighed 250 lbs and takes a size 20 shoeaaron received some of his shoes from big time basketball players such as rockets star yao ming and university of texas center dexter pittman for five years durley has lived with his parents in saudi arabia where his 6 8 father works for saudi aramco and coached his dhahran team his mother dana is just under 6 feet tall previous to that he lived in calgary alberta canada where his father had moved from texasaaron is attending high school in houston at st thomas high school and living with his grandparents described by the houston chronicle in november 2008 as a freshman phenom he got 16 points in his first game with the team in 2010 he was named by the texas association of private and parochial schools to its secondteam class 5a allstate boys basketball teamhis brother cameron durley participated in the 2008 little league world series also as a member of the dhahran saudi arabia team cameron was 6 2 and 228 lbs at 12 years of age his grandfather wilson graham played college basketball in ohio and his father played at east texas state his aunt is former wnba player margo grahamon october 26 2011 durley committed to play basketball at marquette university in milwaukee starting in the 2012 season', 'aaron edward eckhart born march 12 1968 is an american film and stage actorborn in california he moved to england at the age of 13 when his father relocated the family several years later he began his acting career by performing in school plays before moving to sydney for his high school senior year he left high school without graduating but earned a diploma through an adult education course and graduated from brigham young university in 1994 with a bachelor of fine arts degree in film for much of the mid1990s he lived in new york city as a struggling unemployed actor as an undergraduate at brigham young eckhart met director and writer neil labute who cast him in several of his own original plays five years later eckhart made a debut as an unctuous sociopathic ladies man in labutes black comedy film in the company of men 1997 under labutes guidance he worked in the directors films your friends neighbors 1998 nurse betty 2000 and possession 2002eckhart gained wide recognition as george in steven soderberghs critically acclaimed film erin brockovich 2000 and in 2006 received a golden globe nomination for best actor for his portrayal of nick naylor in thank you for smoking another mainstream breakout occurred in 2008 when he starred in the blockbuster batman film the dark knight as district attorney harvey dent other key roles include the pledge 2001 the core 2003 rabbit hole 2010 and olympus has fallen 2013', 'aaron feuerstein born december 11 1925 is a businessman philanthropist and was the thirdgeneration owner and ceo of malden mills in lawrence massachusettswhen the malden mills factory burnt down on december 11 1995 feuerstein decided not only to use his insurance money to rebuild it but to also pay the salaries of all the nowunemployed workers while it was being rebuilt feuerstein spent millions keeping all 3000 employees on the payroll with full benefits for 6 months by going against common ceo business practices especially at a time when most companies were downsizing and moving overseas he achieved global famefeuerstein claimed that he couldnt have taken another course of action due to his study of the talmud and the lessons he learnt therei have a responsibility to the worker both bluecollar and whitecollar i have an equal responsibility to the community it would have been unconscionable to put 3000 people on the streets and deliver a deathblow to the cities of lawrence and methuen maybe on paper our company is worthless to wall street but i can tell you its worth moreit would cost aaron feuerstein 25000000 his ceo position and a november 2001 filing of chapter 11 bankruptcy to do the right thing the company achieved solvency again with the help of creditor generosity and government subsidies malden mills later garnered some lucrative department of defense dod contracts for smart products that interweave fiber optic cabling electronic biosensors and usb ports into polar fleece fabric malden mills was awarded a 16 million dod contract in 2006 in january 2007 however malden mills filed for bankruptcy again and ended production in july the companys underfunded by 49 pension was abandoned due to sale of corporate assetsfeuerstein is an alumnus of camp modin in belgrade maine and was the keynote speaker at the 75th annual reunion in 1997 feuerstein is a member of young israel of brooklinean industrialist and philanthropist for setting the standard for commitment to employees following a devastating fire at his malden mills manufacturing plant he was awarded the peace abbey courage of conscience award on march 13 1998', 'aaron fotheringham born november 8 1991 in las vegas nevada is an extreme wheelchair athlete who performs tricks adapted from skateboarding and bmxfotheringham has spina bifida he has used a wheelchair since the age of three and although he used crutches early on he has been a wheelchair user fulltime since the age of eight he would watch his brother riding his bmx at the skate park and one day his brother told him that he should try riding his chair in the park aaron later noted that i did and i was hookedfotheringham uses a customized wcmx wheelchair designed by box wheelchairs which is both lightweight and features fourwheel suspension this enables him to perform the same sorts of tricks that skateboarders and bmxers can do as the suspension cushions his landings fotheringham has worked with box designs wheelchairs to help refine the design in realworld situations resulting in a custommade chair that is in his words pretty much indestructiblehe competes in the vegas am jam series in skate park competitions usually against bmx riders he placed fourth in the intermediate bmx division in a competition held at sunny springs skate park on august 26 2006fotheringham advises others attempting to try these tricks to wear a helmet he has suffered several injuries performing these tricks including a broken elbow he tries out new tricks by performing them first into a foam pit then he graduates to a resi a harder plastic sheet over the cushions before attempting the new trick on a regular skateboard rampwhen asked about having to practice fotheringham responded i dont think of it as practice i think of it as a fun way to live my lifeaaron has also performed his backflip on the nitro circus live tour over a 50 foot megaramp and jumped the ramp going straightin 2008 he appeared in an episode of the reality series secret millionaire and received a donation of us20000 from century software founder gregory haerr in 2009 fotheringham worked as a stunt double for kevin mchales character artie abrams in glee', 'aaron garcia born october 20 1970 is a former professional arena football player for the arena football league afl and current head coach of the afls las vegas outlaws garcia was a quarterback in the arena football league he played college football at washington state university before transferring to california state university sacramento and was in the afl for 19 seasons from 1995 to 2014 garcia was named the head coach of the outlaws in september 2014 and was formally introduced as the head coach of the las vegas outlaws on october 11 2014born in sacramento california garcia attended high school in sacramento at grant union high school after graduation from high school in 1989 garcia enrolled at washington state university and played quarterback for the cougars starting for two seasons he transferred to california state university sacramento in 1992 where he started for two seasonsafter going undrafted in the 1995 nfl draft garica was told to try playing the canadian football league cfl or the afl to gain more scoutable game film for an opportunity at the national football league nfl he signed with the arizona rattlers and became their starting quarterback in 1995 in his career garcia has also played for the connecticut coyotes new jersey red dogs iowa barnstormers new york dragons jacksonville sharks san antonio talons san jose sabercats orlando predators and los angeles kiss garcia would go on to set afl records for passing yards passing touchdowns and interceptions during his 19 year career winning arenabowl xxiv while a member of the sharks garcia was also a 2time arena football league offensive player of the year award recipient 2001 2011garcia retired following the 2014 season and was named the head coach of the las vegas outlaws in september 2014', 'aaron goldberg born april 30 1974 in boston massachusetts is an american jazz pianistgoldberg began studying piano at age seven and studied under bob sinicrope of milton academy and saxophonist jerry bergonzi in 1991 he studied at the new school for jazz and contemporary music before enrolling at harvard university where he won the international association of jazz educators clifford brownstan getz fellowship award and became a member of betty carters jazz ahead programafter graduating from harvard in 1996 he performed as a sideman and is most associated with saxophonist joshua redman in 2005 and 2006 aaron toured and recorded with guitarist kurt rosenwinkel appearing on rosenwinkels album the remedy live at the village vanguard in 2005 he toured south america with madeleine peyroux and spent 6 months performing with the wynton marsalis quartet as well as the lincoln center jazz orchestragoldbergs debut album as a leader was turning point his most recent release is home which continues his longstanding musical partnership with bassist reuben rogers and drummer eric harland in 2004 goldberg organized jazz for americas future an historic fundraising concert for sen john kerry in 2008 and 2012 he organized jazz for obama similar fundraising efforts for president obama goldberg received a masters in analytic philosophy from tufts university working under daniel dennett in 2010 goldberg currently lives in brooklyna piece from his album worlds oams blues can be found in the sample music folder on all windows vista systems it features bassist reuben rogers and drummer eric harland', 'aaron goldsmith born august 29 1983 is an american sportscaster since 2013 he has been a playbyplay announcer for the seattle mariners radio network working innings 3 6 and 7 of each game in the offseason he also provides playbyplay for college football on sports usa radio network and pac12 basketball on fox sports 1a native of st louis missouri goldsmith majored in history at principia college in illinois after graduating goldsmith entered broadcast journalism at the broadcast center in st louis due to his history background goldsmith often found he was four years behind other students it took 10 months for goldsmith to graduate from the broadcast centerupon graduation goldsmith began playbyplay broadcasting as an intern for gateway grizzlies games the year was 2007 and goldsmith would provide 2innings of playbyplay for each home game goldsmith would follow this up with an unpaid internship with the bourne braves and then a similar position with the portland sea dogs in all cases goldsmith would be allowed to call select games or innings during these stints goldsmith often found himself starving after calling games and realized he didnt even have a dollar to his nameafter a brief time with the sea dogs goldsmith worked as the playbyplay voice for the frisco roughriders he would also serve as the teams manager of broadcasting and public relations goldsmith would remain with the roughriders for two seasons during his time with the roughriders goldsmith proposed to his wife heather and she acceptedin 2012 goldsmith was hired to be the playbyplay voice for the pawsox radio network goldsmith would provide playbyplay for every game that season a first for himself goldsmith admits he joined the pawsox because of their history to produce big name announcers but he knew that was no guaranteefinally in 2013 goldsmith joined the mariners announce team alongside rick rizzs goldsmith and his family now live in the seattle area goldsmiths playbyplay style is often attributed to an adaption of vin scully but goldsmith attributes his style to his work with eric nadel and dave obrien', 'aaron gorrell born 31 march 1981 in wollongong new south wales is a former australian professional rugby league footballer for the brisbane broncos of the nrl he has previously played for the st george illawarra dragons before a spell with catalans dragons of europes super league his usual position is at hookergorrell was made famous by slotting in the lastminute conversion in a round 15 2006 game against the brisbane broncos at suncorp stadium the dragons won the match 1816 gorrell had converted rookie brett morriss try in the 78th minute after coach nathan brown gave him the goalkicking duties after mathew head had kicked the last two conversionsin 2007 he joined catalans dragons for their second season in super league with his nrl experience he proved a key influence in the opening rounds of the season before suffering a seasonending knee injury in round four which required a knee reconstruction it was confirmed by the brisbane broncos on 27 september that aaron gorrell has signed with them for the 2009 season where he will fill the vacancy left by the departing michael ennishe played his first match for brisbane in round 1 of the 2009 nrl seasonhe currently plays for and coaches the queanbeyan kangaroos in the canberra raiders cup', 'aaron hadlow born 4 october 1988 is a professional kiteboarder who has won the pro kiteboard riders association pkra world championships five timesdespite his stalwart domination of the sport from 20042008 the 21yearold encountered big competition in the form of ruben lenten and kevin langeree in 2006 the other riders are catching up to hadlows vast trick vocabulary offering double handlepass mobe 7s or mobius 720s in competitionhe also won the red bull kitepunks event in 2007 held in la manga spain beating off stiff competition from ruben lenten in 2nd and neil hilder in 3rdaaron has continued to expand his repertoire of tricks to keep him in front of the competition a lot of these tricks have stemmed from influences by lewis crathern and neil hilder who are a part of recently created team bosch alongside hadlow many of his new tricks involve an ole move where the bar and lines are whipped over head the first of which was the bosch mobehe is sponsored mainly by north red bull chiemseeand lost cause boardsaaron has taken a break from the professional kiteboard riders association world tour in 2010 he is looking to focus on international promos and various other events he also looks to continue his on the loose series with ruben lenten', 'aaron harris born november 11 1977 is an american drummer best known for his career with los angeles californiabased postmetal band isis he was with the band from its inception in 1997 to its dissolution in 2010 since isis demise harris has become increasingly involved in his career as a producer mixer in addition to recording and mixing the debut from his new band palms harris has also worked on records for isis pelican zozobra carthasy mental architects crone jakob the jezabels mothra and more he has also done remixes of puscifer and the jezabels he also works as drum tech for danny carey of tool and abe cunningham of the deftones harris has also toured mixing live sound for pelican jakob melvins and the jezabelshis early experience in drumming came from his father who is also a drummer harris would play along to led zeppelin pink floyd emerson lake palmer and the police and has reached his current level of proficiency without any lessons or formal training he has however received some tuition with the tabla from aloke dutta at the recommendation of tools danny carey melvins and neurosis are also direct influences on his and isis sound he cites bill bruford as an influence on his later material having been introduced to his work through danny careyharris first band was in a band named loga which he joined whilst in high school he was given a cassette of melvins by the band members and asked to emulate the style of their drummer dale crover his material he says changed harris life it really shaped me into a whole new drummerin october 2006 harris began endorsing paiste cymbals in 2009 harris also signed an endorsement deal with sonor drums he is also sponsored by evans drumheads and vater harris is also endorsed by vater drumsticks and heil microphonessince isis split in 2010 harris has moved towards the technical side of music this shift has encompassed stints as a drum tech for tool and deftones as well as production recording and mixing credits for a number of musical projects alongside former isis members jeff caxide and bryant clifford meyer he announced in may 2011 that he has plans to form a new bandin april 2012 it was announced that harris had joined chino moreno of deftones along with former bandmates jeff caxide and clifford meyer in a side project by the name of palms their first album was originally slated for release in 2012 on ipecac records it was released on june 25 2013outside music harris is a keen cyclist and before the formation of isis used to race', 'aaron henry furlong is an american jewellery designer he was born on november 22 1967 in los angeles california he was the first child of a beverly hills jewish family which emigrated from russia he got a graduate gemologist degree from the gemological institute of america and also a bachelor of arts from the university of california at davis and returned to los angeles in 1990 at that time he began an 8 year apprenticeship with a master jeweler victorino garcia a personal jeweler to ferdinand and imelda marcos before they were deposed jewelers quarterly magazine named him as a designer of the 21st century he is also the current president of the contemporary design group and was recently named one of the top 100 designers of the past 30 years by a national jeweler poll he is regarded as one of the top jewellery designers in the world his family have designed manufactured and sold highend jewellery from their hill street office tower located in the heart of los angeles considered the diamond district he has helped in the creation and production of the circles of distinction pins to recognize contributors to the john wayne cancer institute as well as trophies for the aspen institute and pins for the henry crown fellowship program he lives in santa monica california', 'aaron hosack born november 28 1981 is a former american football wide receiverhe graduated from chino high school in chino california and played at mt san antonio college before transferring to the university of minnesota from 200203 hosack played college football for the minnesota golden gophers hosack finished with 80 receptions for 1463 yards and 11 touchdowns in only two seasons at the university of minnesota after his senior year hosack signed with the minnesota vikings as an undrafted freeagent he spent his rookie year on minnesotas practice squad before being allocated to nfl europe in 2005 due to injury hosack played in only four games for the frankfurt galaxy offseason shoulder surgery kept him out of action for the 2005 nfl season in 2006 hosack returned to frankfurt where his team won world bowl xiv and he was named to the allnfl europe team he then returned to minnesota where he was cut by the vikings during the 2006 preseason in 2007 hosack joined the frankfurt galaxy yet again to defend their world bowl title but came up short in the championship losing to the hamburg sea devils after a three year stint in nfl europe hosack finished with 70 receptions for 1129 yards and 14 touchdowns', 'aaron james born 31 october 1976 is an australian rules footballer who played with collingwood richmond and the western bulldogs in the australian football league aflhaving performed well in the tac cup collingwood selected james with pick 35 in the 1993 afl draft he was just 17 when he made his afl debut in 1994 against hawthorn but his only statistic from the game was a free kick against after making just one further appearance that year james became a regular member of the team in 1995 with 16 games for the season a knee injury kept him out of the side for the entirety of 1996 but still made headlines when he was charged with affray following a brawl with nightclub security he didnt return until midway through the 1997 season and at the end of the year was again in trouble this time for urinating on two women at the saloon bar in south yarra fined for both incidents collingwood lost patience with him and he was traded to richmond the trade saw bradley smith and jamie tape go to collingwood while richmond received james as well as the draft pick which was used to get andrew kellawayjames spent four seasons at richmond playing seven games in 1998 and ten more in 1999 he was a regular fixture in the side for the second half of the 2000 afl season but another knee injury suffered during the final round match against carlton would mean he missed another year of football in 2001he nominated for the 2001 afl draft and was secured by the western bulldogs with the 83rd and final pick of the draft his appearance for the bulldogs in the opening round of the 2002 season at docklands was to be his last afl game and he scored a behind with his only possessionbefore the end of the season james left the bulldogs and finished the year in the bendigo football league he was a member of gisbornes 2002 premiership team and in 2003 kicked over 100 goals playing at fullforward for the doutta stars of the edflin 2004 he played with lalor in the diamond valley football league and was again prolific as a forward kicking 114 goals to top the leagues chartshe was at albion in 2005 and kicked over 100 goals for the third successive season of regional footballcontinuing the pattern of one season club stints james was with rdfl club the sunbury kangaroos in 2006 during the finals series that year he was reported for threatening behavior towards an umpire and suspended for 15 weeks this kept him out of action for much of 2007 but the following year he played some good football at stanhopehe kicked 130 goals in the 2009 hdfl season with north bendigo and had another prolific year up forward in 2010 at kilmore', 'aaron james rakers born january 22 1977 is a major league baseball relief pitcher who currently plays for the york revolution of the atlantic league he attended southern illinois university edwardsville and was drafted by the baltimore orioles in the 23rd round 697th overall in 1999rakers made his major league debut on september 8 2004 pitching in three major league games that season in 2005 rakers spent most of the year pitching for the orioles triplea affiliate the ottawa lynx where he had 92 strikeouts and 21 walks in 77 innings with an era of 257 rakers missed the entire 2006 season because of a torn labrum in his pitching shoulder and was nontendered during the offseason he was invited to spring training by the san diego padres in february 2007 but did not make the team and was optioned to the padres triplea affiliate the portland beavers rakers appeared in only one major league game and became a minor league free agent at the end of the season rakers signed with the houston astros for the 2008 season but was released shortly after and signed with the york revolution of the atlantic league for the 2008 seasonin 2009 rakers joined the la new bears one of the teams of chinese professional baseball league cpbl in taiwan on march 31 rakers won his first cpbl game throwing 65 strikes and 36 balls over 6 innings', 'aaron joseph douglas mauger last name pronounced major born 29 november 1980 in christchurch new zealand is a former rugby union player who played at centre for leicester tigers he previously played first fiveeighths and second fiveeighths for canterbury air new zealand cup the crusaders super rugby and the new zealand all blacks he joined the leicester tigers at the end of the 2007 rugby world cup after signing a twoandahalfyear contract with the english sidemauger captained the new zealand under21 team to success in the international under21 tournaments in 2000 and 2001 he made his all blacks dbut in 2001he is the younger brother of nathan mauger and his uncles are former all blacks graeme bachop and stephen bachop his greatuncle ivan mauger is a former six time speedway world championin march 2010 mauger announced his retirement due to a back injuryhe had attended clinics in the united kingdom and germany in his bid to overcome the injury but had been unable to complete training sessions without breaking down in june 2010 he is returning with his family to live in his native new zealand where he hopes to remain involved with rugby union in a coaching rolefollowing a period of coaching with the crusaders it was announced that mauger had signed a 3 year deal starting in the 20152016 season with leicester tigers for the vacant head coach role the role was previously held by matt oconnor who left in 2013 to be lenisters head coach', 'aaron keith holbert born january 9 1973 in torrance california is a former major league baseball infielder for the st louis cardinals and cincinnati redshe was promoted from the triplea louisville bats the cincinnati reds highest minor league team on august 16 2005 to replace ryan freel who had been placed on the 15day disabled list earlier that day that marked the second time he had been on a regular season major league roster as he was on the roster of the st louis cardinals for one game in 1996 going 0 for 3 the gap of 9 years 124 days between his first two games is the longest gap in major league baseball in the last 75 yearsin his career he played at various levels in the organizations of the st louis cardinals and seattle mariners before moving to the reds organizationin 2009 holbert managed the lake county captains in the cleveland indians organization to a third place finish in the northern division of the south atlantic league in december 2009 he was named the manager of the indians carolina league affiliate kinston indiansholbert appeared in the documentary cobb field a day at the ballpark which was shot during his tenure with the pioneer league billings mustangs during the 2007 season at cobb field', 'aaron kent broten born november 14 1960 in roseau minnesota is a former american professional hockey player who was drafted in the 6th round 106th overall in the 1980 nhl entry draft by the colorado rockies who moved to new jersey to become the devils two years later he is also the brother of former nhl players neal broten and paul broten brotens nephew shane gersich was drafted by the washington capitals in the 2014 nhl entry draftduring his twelveyear career broten played for five different nhl teams including the colorado rockiesnew jersey devils franchise the minnesota north stars the quebec nordiques the toronto maple leafs and the winnipeg jets in international hockey broten played for the united states national team at the 1981 1982 1985 1986 and 1987 ice hockey world championships as well as the 1984 canada cup and 1987 canada cup tournaments broten retired from professional hockey in 1992 but briefly came out of retirement in 1999 to once again play for the us national team in the 1999 ice hockey world championship qualifying tournament the us team featuring several nhl players had surprisingly finished among the bottom four in the previous 1998 world championship tournament when no active nhl players were availablebroten was chosen to be inducted into the us hockey hall of fame as part of the 2007 class', 'aaron koblin is an american digital media artist best known for his innovative use of data visualization and his pioneering work in crowdsourcing and interactive film he is currently creative director of the data arts team at google in san francisco californiakoblins artworks are part of the permanent collections of the victoria and albert museum va the museum of modern art moma and the centre georges pompidou he has presented at ted and the world economic forum and his work has been shown at international festivals including ars electronica siggraph and the japan media arts festival in 2006 his flight patterns project received the national science foundations first place award for science visualization in 2009 he was named to creativity magazines creativity 50 in 2010 he was one of esquire magazines best and brightest and fast companys most creative people in business and in 2011 was one of forbes magazines 30 under 30koblin is a graduate of uclas design media arts mfa program and sits on the board of the nonprofit gray area foundation for the arts gaffta in san francisco he was the abramowitz artist in residence at mit in 2010 and the annenberg innovator in residence at usc in 2013in 2014 koblin was awarded the national design award for interactive design', 'aaron krister johnson is a chicago based composer musician and teacher johnsons experience ranges from the western classical keyboard tradition to folk music and to modern electroacoustic free improvisation the chicago suntimes called his composition evocative and his improvisations have been hailed by keyboard magazine as challenging and creative his work has appeared on national public radio and has been lauded by chicagocriticcom the chicago tribune the windy city times and the online music journal tokaficomjohnson is founder and artistic director of untwelve a group dedicated to writing music written in alternative tunings through the untwelve organization aaron krister johnson collaborated with 60x60 as a music director or macrocomposer to create the 60x60 untwelve mix contain 60 oneminute works with a theme of microtonalityhe has worked in the area of composition of incidental music and sound design for theatre his score for peer gynt was nominated for a 2005 joseph jefferson award for outstanding original incidental music for a play other theatre music and sound design credits include madwoman of chaillot and the jeffnominated natural affection for the artistic home and lakeside shakespeare of michigans productions of twelfth night and julius caesarjohnson originally received his education at the manhattan school of music preparatory division the state university of new york at purchase bfa magna cum laude and northwestern university mfa magna cum laude for his graduate studies', 'aaron lacrate is an american music producer recording artist dj fashion designer of milkcrate records and milkcrate clothing and a film director he was born in baltimore maryland and grew up in highlandtown east baltimoreaaron lacrate is credited for popularizing baltimore music and culture on a world wide level via his music and clothing in 2009 aaron lacrate produced the first ever baltimore club platinum record for pop star dizzee rascals song road ragehbo commissioned milkcrate athletics and aaron lacrate to create the official fashion range for the baltimore based cable television series the wire this was first time that hbo collaborated with a streetwear fashion designer milkcrate athletics is baltimores first original streetwear brandaaron lacrate productions is credited for the early success of lily allen amanda blank spank rock mndr eliza doolittleat the age of 10 lacrate began experimenting with diy culture lacrate began djing at baltimore nightclubs house parties writing graffiti and even started making custom tshirts his first studio was in his basement where he created mixtapes and tshirts sold throughout baltimore lacrate was the youngest working dj in baltimore prior to attending syracuse university where he took over the campus music scene he spent his summers in new york city interning for def jam recordings payday and rocafella records helping launch jayzs classic reasonable doubt lacrate also played a vital role in the hard knock life tour and later produced the exclusive jay z x milkcrate fade to black collaboration tshirtin 1999 aaron lacrate and milkcrate athletics sponsored a highly successful series of live shows at nyc nightclub tramps featuring eminems first nyc show tribe called quest rakim slick ricks first show upon being released from prison outkast wutang clan epmd ultramagnetic mcs and many other historical performanceslacrate has produced and remixed official major label commissioned music for madonna gorillaz soulja boy tell em dizzee rascal young mc lily allen and the cool kids tracks from lacrates album bmore gutter music released in 2005 was used by marc jacobs in a fashion showlacrate has toured with lily allen mark ronson dizzee rascal rakim and most recently kanye west aaron has developed exclusive specialedition fashion collaborations with vans colette paris rakim hbo the wire jayz and cashmere king lucien pellatfinet lacrate has also collaborated with cocacola hbo delicious vinyl dazed confused and ferrariwhich ferrari his music has been featured on hbo the wire entourage life support dj hero videogame and on the soundtrack to observe and report starring seth rogenrecently lacrate released the first bmore major label record bmore club crack which features mr vegas eliza doolittle and local baltimore gutter artists including mz streamz and verb', 'aaron lawrence born march 29 1971 is an american gay pornographic film actor director sex advice columnist author and entrepreneur after graduating from college lawrence embarked on an unplanned male hustling career which he parlayed into both a writing and acting career lawrence who is openly gay then started his own gay pornographic video company utilizing his international travels as an escort to shoot amateur pornography films he has authored two books suburban hustler stories of a hitech callboy 1999 an account of his own experiences as a male escort and the male escorts handbook your guide to getting rich the hard way 2000 a howto guide for those considering work as companionsforhire he has also written articles for several publications including anything that moves and unzippedpsychologist todd g morrison notes that lawrence came of age when being gay was seen as normal and hivaids was no longer defined culturally as a gay disease in addition in the mid1990s the first aids drug cocktails marked a dramatic turning point in the pandemic so that a positive diagnosis was no longer considered a death sentence morrison notes the advent of the internet for gay men to discover their sexuality and connect with each other online and that lawrence is the embodiment of the new experience of gay sexuality much like scott ohara tim miller and wakefield poole had been for their generations while advertising himself and speaking and writing about the gay and bisexual escort industry he has helped revolutionize the public relation aspectsin 2004 he became webmaster for wwwgaygeekcom a website which lists and reviews gayoriented adult websites in 2008 he launched wwwadvicegeekcom providing smart gay sex advice for men who have sex with men he also developed adviceware the software that runs the sites he lives in suburban new jersey with his husband jeff whom he met in 1992 married in 1999 and who also helps provide illustrations for his various websites', 'aaron lee soon yong born 7 june 1972 in malaysia is a singaporean prizewinning poet who writes in englishaaron began writing poetry during his days at raffles institution a secondary school in singapore where he befriended other students who would also eventually go on to become published singaporean writers by 1990 he had along with other exschool mates jonathan kuan wei han tong jo tze alvin pang and jeffrey lim interested a singapore publisher vj times in the publication of an anthology of poems contributed by the five writers this collection in search of words was published in 1991lees first collection of poems a visitation of sunlight was named one of the best books of 1997 by the straits times the collection was well received and played a part in a late 1990s resurgence of interest in singapore poetry centred on a new generation of singapore poetsin 1999 the title poem of his book was selected for the national arts councils poems on the move programme a national initiative to bring poetry to the masses on public transportlees work has been anthologised in such publications as rhythms a millennial anthology of poetry singapore the new straits times malaysia anglistik germany and fifty on 50 singaporelee is the coeditor of no other city the ethos anthology of urban poetry and love gathers all the philippines singapore anthology of love poetry for which the editors were given an award by the singapore international foundation he has given talks and readings in malaysia germany the us the philippines and australiain 2007 lee released his second poetry collection five right angles the book went on to become a finalist in the singapore literature prize awards of 2008he is active in the literary scene in mentoring young poets and conducting school workshops and seminars on creative writing he is married to an artist and educationist namiko chan he is a christian and his work displays a range of christian themes and imageryin 2014 lee launched his third poetry collection coastlands at the singapore writers festival coastlands documents his life experience as a pilgrim still finding his place in the wider world', 'aaron links born january 13 1981 in albuquerque new mexico is a natural bodybuilding competitor who has competed in the now disbanded american natural bodybuilding conference anbc links began lifting weights seriously after his mother beat him in an arm wrestling match when he was a teenager on july 19 2000 at the age of 19 he won his first 2 bodybuilding titles of junior division champion and novice mens open champion in the southwest classic regional competition held in albuquerque new mexicolinks remained a junior division champion at the southwest classic competition again in 2002 at the age of 21 where he also placed second in the open mens tall division on november 15 2003 at the age of 22 links won the junior division national champion title at the usa championship held in boston massachusetts where he also placed 5th in the mens open tall division in 2004 links again competed in the anbc usa championship where he received second place in the mens open tall division and the best posing award for that division links graduated from the university of new mexico in may 2007 with a bachelor of arts degree in journalism and mass communications with a minor in business management he states that he will compete again but does not name a particular date he continues to write fitnessrelated articles for an online publication', 'aaron lockett born september 6 1978 is a former american football and canadian football wide receiver wr and return specialist in the national football league nfl for the tampa bay buccaneers san francisco 49ers and in the canadian football league cfl for the ottawa renegades and bc lions he played college football at kansas state university where he set school and big 12 conference football and track and field records his brother kevin lockett and nephew tyler lockett also played wr at kansas state where they also set recordslockett led the nation in punt return average for the 2000 ncaa division ia football season and was a 2nd team allamerican as of december 2011 he held the big 12 conference records for singleseason punt return average 228 and longest pass reception 97 yards as well as kansas state wildcats records for freshman receiving yards and the longest play from scrimmage he was a fourtime allbig 12 selection and formerly held kansas state records for career allpurpose yards and consecutive 100yard receiving gamesas a track and field athlete he is a former oklahoma secondary school activities association ossaa champion in both the 4 100 metres relay and the 100 metres a former kansas state wildcats 60 metres record holder and one of the fastest nfl combine 40yard dash participants of alltimehis professional career involved several short stints that included most of a season on the taxi squad for the 2002 49ers of the nfl and a few years with the bc lions of the cfl in his most productive professional season he led the cfl in return yards for the 2005 cfl season', 'aaron louis friedberg born april 16 1956 served from 2003 to 2005 in the office of the vice president of the united states as deputy assistant for nationalsecurity affairs and director of policy planning after receiving his phd in politics from harvard friedberg joined the princeton university faculty in 1987 and was appointed professor of politics and international affairs in 1999 he has served as director of princetons research program in international security at the woodrow wilson school as well as acting director of the center of international studies at princeton friedberg is a former fellow at the smithsonian institutions woodrow wilson international center for scholars the norwegian nobel institute and harvard universitys center for international affairs he also serves as chairman of the board of counselors for the national bureau of asian researchs pyle center for northeast asian studiesin september 2001 friedberg began a ninemonth residential appointment as the first henry alfred kissinger scholar at the library of congress during his tenure he researched the rise of asia and its implications for america apart from many articles for commentary magazine friedberg has written several books on foreign relations he was one of the signers of the project for the new american century documents statement of principles june 3 1997 and a letter on terrorism submitted to president george w bush september 20 2001 his name has been connected to the aspen strategy group at the aspen institutefriedberg represented the romney campaign in his capacity as the campaigns national security advisor during a debate on us policy toward china in october 2012', 'aaron marsh is an american singersongwriter musician and producer from florida he first gained prominence as the lead singer guitarist and pianist for the floridabased indie rock band copeland who formed in 2000 marsh has since gone on to numerous production projects coproducing his own bands studio albums usually along with either matt goldman or aaron sprinkle as well as producing the myriads you cant trust a ladder the be fair ep by the band estates and the positives by person lmarsh produced anchor and brailles debut album felt which was released on august 4 2009 marshs production was praised by both absolutepunk and alternative press in their reviews of the albumaaron has reported that he will now be producing full time in the vanguard room recording studio he has been working on a new project called the lulls in traffic and they released their first video june 2011 he has yet to publicly define his role in the band but it can be gathered he is producing and singing in the group he is producing the tracks while collaborating with ivan ives for the lulls in traffic he calls it his skewed view of underground hiphop aaron also stated that a copeland reunion tour does not seem to be a possibility however on april 1st 2014 they have announced they are recording a new album called ixora', 'aaron motsoaledi born 7 august 1958 in transvaal is the minister of health of south africa he was formerly an mec in the limpopo province for in chronological order transport agriculture and environmentand educationmotsoaledi is a medical doctor by training he holds a bachelor of medicine and surgery from the university of natal motsoaledi ran a successful surgery in the small rural town of jane furse prior to his appointment in government prior to his appointment as minister of health of the republic of south africa motsoaledi had served as a chairperson of the sekhukhune advice office from 1986 to 1994 as a chairperson of hlahlolanang health and nutrition education project in 1989 as a deputy chairperson of the african national congress anc in the then northern transvaal from 1991 to 1992 as head of the anc elections commission for limpopo province in 1994 as head of the anc economic and infrastructure desk and as head of the anc research and briefing of election task team in limpopo in 1994motsoaledi has also served as a member of the limpopo provincial legislature from 1994 to 2009 as a member of the limpopo provincial executive council mec for education from 1994 to 1997 mec for transport from 1998 to 1999 and mec for agriculture land and environment in 1999the minister administered to the first south african state patient a fixed dose combination fdc antiretroviral tablet of emtricitabinetenofovirefavirenz on 9 april 2013 in garankuwa', 'aaron naparstek is the founding editor and creator of streetsblog a web site providing daily coverage of transportation land use and environmental issues in new york city since its founding in june 2006 streetsblog has emerged as an influential forum for new york citys livable streets movement dedicated to reclaiming cities public spaces from the automobile and improving conditions for pedestrians cyclists and transit users streetsblog is published by the openplans before launching streetsblog naparstek wrote the department of traffic column for the alternative weekly newspaper the new york press and was the author of honku the zen antidote for road rage a book of humorous haiku poetry inspired by the unique brand of motorist sociopathy observed from his apartment window in brooklyn naparstek also worked as a campaign coordinator for transportation alternatives where he helped to organize campaigns to eliminate motor vehicles from prospect park calm traffic in downtown brooklyn and enhance new york citys bicycle network prior to his involvement in new york city transportation policy and local politics naparstek worked for six years as an independent interactive media producer designing and developing original content ecommerce and live webcast products for major corporations startups nonprofits and internetoriented venture capital firms in 1999 he collaborated with his mother belleruth naparstek the noted psychotherapist author and producer of the health journeys line of guided imagery audio programs to produce a webbased complementary healthcare service called desktopspa from 1996 to 1997 naparstek worked as content programming manager for firefly the startup founded by students from mits media lab that pioneered webbased collaborative filtering technology after firefly naparstek spent a year working at the microsoft corporation helping to create the urban online guide sidewalkcom from 1994 to 1996 naparstek worked as online editor at spin magazine where he created spinonline an awardwinning online music and pop culture forum for teens on aol naparstek has a masters degree from columbia university graduate school of journalism and a ba in history from washington university in st louis missourihe lives in brooklyn with his wife and two sons where he is a cofounder of the park slope neighbors community group and the grand army plaza coalition', 'aaron novik born 21 july 1974 is an american composer clarinetist and bandleader based in san francisco 1 he is involved with the bay area improv scene and is a member of edmund welles the bass clarinet quartet which was a 2004 recipient of a new works creation and presentation grant from chamber music america novik has appeared in san francisco and new york city with guitarist fred frith recreating his 1980 avantgarde dance album gravitynoviks most recent album secrets of secrets was released on john zorns tzadik records in february 2012 as part of the radical jewish culture series secrets of secrets was hailed by the east bay express as enticing and ferociously executed and by the jewish week as richly textured and eclectic avantklez for its use of the 13th century sacred kabbalah texts of rabbi eleazar of worms his second most recent album floating world vol 1 was released on the porto franco record label in 2011 albums the samuel suite simulacra and kipple were released on the evander labeldiscographysecrets of secrets tzadik records 2012floating world vol 1 porto franco records 2011the samuel suite evander records 2008 simulacra evander records 2008kipple evander records 2006gubbish odd shaped case 2004digital release onlyour band could be as serious as your life 2013love triangle elementary school 2013aaron novikgreg saunier duo 2013aaron novikarrington de dionyso duo 2013frowny frown vol 1 2013storyboard music vol 1 2013storyboard music vol 2 featuring edmund welles 2013', 'aaron payne born 18 november 1982 is an australian rugby league player he has played for the north queensland cowboys in the national rugby league nrl competition throughout his professional career his preferred position is hooker he can also play at halfbackin 2003 payne represented the queensland residents side in the queensland cup which resulted to his rise in the nrl payne had come close to representing queensland at origin level a number of times but melbournes cameron smith was in his way born in townsville queensland payne played as a junior for the centrals tigers club and attended kirwan state high school his father represented queensland in 1979payne started his firstgrade career with the cowboys in 2002 during the 2005 north queensland cowboys season he was the only player to have played every game that year he played at hooker in the 2005 nrl grand final the cowboys first which they lost to the wests tigersin 2006 and 2008 he was named as the cowboys player of the year he joined that award with the cowboys players player of the year and club person of the year in 2008 he is also the cowboys vice captainpayne is often considered an underrated player operating in the shadows of highprofile cowboys players such as johnathan thurston and matt bowen former australian captain gorden tallis has described payne as the glue that holds the cowboys togetherin 2011 it was announced aaron payne had resigned with the cowboys until the 2012 season payne played his 200th nrl game in north queenslands round 6 loss to the melbourne storm at homein 2012 payne was called into the nrl all stars squadthe first representative selection of his career he was selected as a replacement for the injured cameron smith who for years had kept payne out of the queensland state of origin squadafter a couple of seasons playing through niggling injuries payne returned to somewhere near his best form paynes experience for the cowboys has helped the younger players in the team blossom payne has often been called underrated by rugby league journalists and was recently awarded 4 dally m points in the space of two weeks including three against the canberra raiders where he recorded 2 tryassists 4 line break assists 1 linebreak 30 tackles and 105 metres although payne hasnt reached the career heights he enjoyed in seasons 200409 he is getting therein august 2012 payne announced that he would retire from rugby league at the end of the 2012 season', 'aaron pea jr born june 8 1959 is a former member of the texas house of representatives he served in house district 40 in hidalgo county in deep south texas representative pea was first elected to the texas house of representatives as a democrat in november 2002 he was sworn into his first term on january 14 2003 upon retirement he had served five terms in officerepresentative pea is a board certified attorney in labor and employment law he is married to the former monica solis and is the father of five children on december 14 2010 representative pea announced that he was joining the republican party for the 82nd legislative session which convened on january 11 2011 later that year representative pea announced his plans to run for reelection in a new district created after the redistricting process despite it moving him to an entirely new voter base those plans changed after a courtordered redistricting plan moved him into a neighboring heavily democratic districton november 25 2011 rep aaron pea announced that he would not seek reelection to a sixth term in office he issued a letter that was published in the local newspaper the monitor that explained that his decision his 10year tenure with the texas house of representatives ended on january 8 2013', 'aaron phillip born 1974 better known by his stage name afura is a new yorkbased american underground rapper afu born aaron phillip is a devout student of the martial arts as well as chess afu is a member of the gang starr foundation alongside rappers like jeru the damaja big shug and group home and is most well known through his affiliation with the foundation and jeru the damaja his first appearance was on jerus classic 1994 album the sun rises in the east on the song mental stamina he made another appearance on jerus second album wrath of the math on the track physical stamina in 1996 afus debut single whirlwind thru cities was released in 1998 reaching the top 20 on billboards hot rap singles chart in 1999 he released his second single defeat bw mortal kombat his anticipated debut album body of the life force was released in october 2000 the album featured production from a number of prominent hip hop beatmakers including dj premier dj muggs true master and da beatminerz guests included wutang clans gza and masta killa mop kymani marley and the cocoa brovaz whirlwind thru cities defeat and mortal kombat were included here as well as the singles equality big acts little acts and dd soundclashafu released his second effort life force radio in may 2002 featuring production from dj premier curt cazal true master easy mo bee needlez domingo and ayatollah guests included hip hop legends guru big daddy kane rza as well as rb star teena marie in 2004 he released a compilation album titled afura presents perverted monks he returned with another album in 2005 state of the arts dj premier returned once again to produce the single sucka free wutangs masta killa appeared on the song livin like dat and underground favorite royce da 59 appeared on pusha', 'aaron platt born june 9 1981 is an american film director and cinematographer currently residing in los angeles california platts worked steadily as a cinematographer and director since 2002 on music videos feature films and commercialsplatt is a frequent collaborator with independent film director cam archer his work on archers feature film debut wild tigers i have known which premiered at the 2006 sundance film festival earned him a best cinematography nomination at the 2007 independent spirit awardsin 2008 platt photographed archers second feature film shit year which premiered at the 2010 cannes film festival as part of their directors fortnight program the black and white film stars ellen barkin bob einstein luke grimes and melora walters and was released theatrically at the ifc center in new york in the fall of 2011platt has directed numerous music videos starting with his first video in 2004 for haunts me by kelli scarr from there platt went on to direct music videos for keri hilson i like and onerepublic apologize the latter was an entry for a contest held by the band and platts video was the first runnerup in the contest although the video did not win the grand prize it has become a major sensation on youtube as of june 1 2014 platts video which features the original version of apologize has garnered nearly 49000000 views his video was also used unofficially to feature the remix of apologize in a new video which has garnered over 100000000 views and is listed as youtubes seventh most watched video of alltimeplatts commercial work includes projects for spike tv wii table tennis finesse shampoo state farm insurance aaa american automobile association and feniderma aftersun', 'aaron rahsaan thomas is a television and film screenwriter and producer as well as an adjunct professor at the university of southern california school of cinematic artsthomas was born and raised in kansas city kansas and attended the pembroke hill school in nearby kansas city missouri thereafter he attended the university of southern california school of cinematic arts in los angeles where he remained afterward and lives todaythomas began his professional career as a writers assistant on the tv series soul food since then he has written and produced episodes for other tv series including friday night lights numb3rs and csiny his feature film screenwriting credits include weapon starring jeanclaude van damme and cover directed by bill duke in 2006 thomas was nominated for a writers guild of america award for best new series for his work on the first season of friday night lights the following year the writers guild of america nominated him for its best dramatic series award for his work on the second season of friday night lights he was nominated for the same award the next year for his work on the third season of friday night lights thomas additionally has been nominated for two naacp image awards for his work on friday night lights', 'aaron reardon is an american politician and former executive of snohomish county in washington state reardon was reelected to a third consecutive term against republican state representative mike hope in november 2011 first elected to the county executive post in 2003 reardon was sworn in as the youngest serving county executive in america on february 21 2013 reardon announced his resignation as county executive effective may 31 2013prior to serving as snohomish county executive reardon served as a washington state senator and a member of the state house of representatives he holds a double degree in political science and social science with a focus in public administration and economics from central washington university reardon is married to kate reardon and lives in everett washington with his wife and two childrenreardon attended mariner high school in everett and lettered in football rugby and swimming his interest in competitive swimming led him to attend central washington university but his swim career ended two months after his arrival he took a political science course during his first semester and was captivated he graduated from central with dual bachelor of arts degrees in economics and socialscience public administration while at the university he volunteered on multiple statewide and local democratic campaigns his experience running campaigns landed him a paid postgraduate position with the downtown seattle association where he lobbied on behalf of seattle businesses', ... ]"
      ]
     },
     "execution_count": 48,
     "metadata": {},
     "output_type": "execute_result"
    }
   ],
   "source": [
    "description.sort()\n",
    "#description[0]"
   ]
  },
  {
   "cell_type": "markdown",
   "metadata": {},
   "source": [
    "# Assignment 2\n",
    "## Week 2"
   ]
  },
  {
   "cell_type": "code",
   "execution_count": 18,
   "metadata": {},
   "outputs": [
    {
     "data": {
      "text/html": [
       "<pre>Materializing X axis SArray</pre>"
      ],
      "text/plain": [
       "Materializing X axis SArray"
      ]
     },
     "metadata": {},
     "output_type": "display_data"
    },
    {
     "data": {
      "text/html": [
       "<pre>Materializing Y axis SArray</pre>"
      ],
      "text/plain": [
       "Materializing Y axis SArray"
      ]
     },
     "metadata": {},
     "output_type": "display_data"
    },
    {
     "data": {
      "text/html": [
       "<html>                 <body>                     <iframe style=\"border:0;margin:0\" width=\"800\" height=\"770\" srcdoc='<html lang=\"en\">                         <head>                             <script src=\"https://cdnjs.cloudflare.com/ajax/libs/vega/5.4.0/vega.js\"></script>                             <script src=\"https://cdnjs.cloudflare.com/ajax/libs/vega-embed/4.0.0/vega-embed.js\"></script>                             <script src=\"https://cdnjs.cloudflare.com/ajax/libs/vega-tooltip/0.5.1/vega-tooltip.min.js\"></script>                             <link rel=\"stylesheet\" type=\"text/css\" href=\"https://cdnjs.cloudflare.com/ajax/libs/vega-tooltip/0.5.1/vega-tooltip.min.css\">                             <style>                             .vega-actions > a{                                 color:white;                                 text-decoration: none;                                 font-family: \"Arial\";                                 cursor:pointer;                                 padding:5px;                                 background:#AAAAAA;                                 border-radius:4px;                                 padding-left:10px;                                 padding-right:10px;                                 margin-right:5px;                             }                             .vega-actions{                                 margin-top:20px;                                 text-align:center                             }                            .vega-actions > a{                                 background:#999999;                            }                             </style>                         </head>                         <body>                             <div id=\"vis\">                             </div>                             <script>                                 var vega_json = \"{\\\"$schema\\\": \\\"https://vega.github.io/schema/vega/v4.json\\\", \\\"autosize\\\": {\\\"type\\\": \\\"fit\\\", \\\"resize\\\": false, \\\"contains\\\": \\\"padding\\\"}, \\\"padding\\\": 8, \\\"metadata\\\": {\\\"bubbleOpts\\\": {\\\"showAllFields\\\": false, \\\"fields\\\": [{\\\"field\\\": \\\"x\\\"}, {\\\"field\\\": \\\"min\\\"}, {\\\"field\\\": \\\"lower quartile\\\"}, {\\\"field\\\": \\\"median\\\"}, {\\\"field\\\": \\\"upper quartile\\\"}, {\\\"field\\\": \\\"max\\\"}]}}, \\\"title\\\": \\\"X vs. Y\\\", \\\"height\\\": 550, \\\"style\\\": \\\"cell\\\", \\\"data\\\": [{\\\"name\\\": \\\"source_2\\\", \\\"transform\\\": [{\\\"type\\\": \\\"collect\\\", \\\"sort\\\": {\\\"field\\\": \\\"median\\\"}}], \\\"values\\\": [{\\\"x\\\": \\\"98033\\\", \\\"min\\\": 130000, \\\"lower quartile\\\": 535000, \\\"median\\\": 678700, \\\"upper quartile\\\": 902000, \\\"max\\\": 5110800.0}, {\\\"x\\\": \\\"98144\\\", \\\"min\\\": 181000, \\\"lower quartile\\\": 374950, \\\"median\\\": 450000, \\\"upper quartile\\\": 666000, \\\"max\\\": 3600000.0}, {\\\"x\\\": \\\"98075\\\", \\\"min\\\": 406430, \\\"lower quartile\\\": 641000, \\\"median\\\": 739999, \\\"upper quartile\\\": 870000, \\\"max\\\": 3200000.0}, {\\\"x\\\": \\\"98074\\\", \\\"min\\\": 280000, \\\"lower quartile\\\": 532000, \\\"median\\\": 642000, \\\"upper quartile\\\": 798000, \\\"max\\\": 3075000.0}, {\\\"x\\\": \\\"98040\\\", \\\"min\\\": 500000, \\\"lower quartile\\\": 821000, \\\"median\\\": 994000, \\\"upper quartile\\\": 1387000.0, \\\"max\\\": 5300000.0}, {\\\"x\\\": \\\"98177\\\", \\\"min\\\": 245560, \\\"lower quartile\\\": 427000, \\\"median\\\": 554000, \\\"upper quartile\\\": 749950, \\\"max\\\": 3800000.0}, {\\\"x\\\": \\\"98125\\\", \\\"min\\\": 175000, \\\"lower quartile\\\": 357250, \\\"median\\\": 425000, \\\"upper quartile\\\": 518000, \\\"max\\\": 2050000.0}, {\\\"x\\\": \\\"98126\\\", \\\"min\\\": 110000, \\\"lower quartile\\\": 320000, \\\"median\\\": 396500, \\\"upper quartile\\\": 485000, \\\"max\\\": 1085000.0}, {\\\"x\\\": \\\"98023\\\", \\\"min\\\": 86500, \\\"lower quartile\\\": 224097, \\\"median\\\": 268450, \\\"upper quartile\\\": 316500, \\\"max\\\": 1275000.0}, {\\\"x\\\": \\\"98004\\\", \\\"min\\\": 425000, \\\"lower quartile\\\": 845000, \\\"median\\\": 1150000.0, \\\"upper quartile\\\": 1691000.0, \\\"max\\\": 7062500.0}, {\\\"x\\\": \\\"98002\\\", \\\"min\\\": 95000, \\\"lower quartile\\\": 199950, \\\"median\\\": 235000, \\\"upper quartile\\\": 269000, \\\"max\\\": 389000}, {\\\"x\\\": \\\"98115\\\", \\\"min\\\": 200000, \\\"lower quartile\\\": 455000, \\\"median\\\": 567000, \\\"upper quartile\\\": 719000, \\\"max\\\": 2300000.0}, {\\\"x\\\": \\\"98146\\\", \\\"min\\\": 82000, \\\"lower quartile\\\": 229500, \\\"median\\\": 307000, \\\"upper quartile\\\": 409000, \\\"max\\\": 1410000.0}, {\\\"x\\\": \\\"98019\\\", \\\"min\\\": 119500, \\\"lower quartile\\\": 330000, \\\"median\\\": 402500, \\\"upper quartile\\\": 500000, \\\"max\\\": 1015000.0}, {\\\"x\\\": \\\"98199\\\", \\\"min\\\": 323000, \\\"lower quartile\\\": 535000, \\\"median\\\": 689800, \\\"upper quartile\\\": 950000, \\\"max\\\": 3200000.0}, {\\\"x\\\": \\\"98119\\\", \\\"min\\\": 300523, \\\"lower quartile\\\": 600000, \\\"median\\\": 749950, \\\"upper quartile\\\": 940000, \\\"max\\\": 3065000.0}, {\\\"x\\\": \\\"98059\\\", \\\"min\\\": 172500, \\\"lower quartile\\\": 340000, \\\"median\\\": 435000, \\\"upper quartile\\\": 552500, \\\"max\\\": 1780000.0}, {\\\"x\\\": \\\"98178\\\", \\\"min\\\": 90000, \\\"lower quartile\\\": 223000, \\\"median\\\": 279000, \\\"upper quartile\\\": 350000, \\\"max\\\": 1700000.0}, {\\\"x\\\": \\\"98136\\\", \\\"min\\\": 200000, \\\"lower quartile\\\": 398000, \\\"median\\\": 489950, \\\"upper quartile\\\": 660000, \\\"max\\\": 2230000.0}, {\\\"x\\\": \\\"98022\\\", \\\"min\\\": 75000, \\\"lower quartile\\\": 235000, \\\"median\\\": 280000, \\\"upper quartile\\\": 350000, \\\"max\\\": 858000}, {\\\"x\\\": \\\"98155\\\", \\\"min\\\": 153000, \\\"lower quartile\\\": 315000, \\\"median\\\": 375000, \\\"upper quartile\\\": 460000, \\\"max\\\": 4500000.0}, {\\\"x\\\": \\\"98168\\\", \\\"min\\\": 78000, \\\"lower quartile\\\": 199950, \\\"median\\\": 235000, \\\"upper quartile\\\": 285000, \\\"max\\\": 600000}, {\\\"x\\\": \\\"98055\\\", \\\"min\\\": 100000, \\\"lower quartile\\\": 240000, \\\"median\\\": 295000, \\\"upper quartile\\\": 350000, \\\"max\\\": 631000}, {\\\"x\\\": \\\"98045\\\", \\\"min\\\": 175000, \\\"lower quartile\\\": 305000, \\\"median\\\": 399500, \\\"upper quartile\\\": 495000, \\\"max\\\": 1950000.0}, {\\\"x\\\": \\\"98077\\\", \\\"min\\\": 250000, \\\"lower quartile\\\": 510000, \\\"median\\\": 654950, \\\"upper quartile\\\": 835000, \\\"max\\\": 1920000.0}, {\\\"x\\\": \\\"98056\\\", \\\"min\\\": 139000, \\\"lower quartile\\\": 289000, \\\"median\\\": 380000, \\\"upper quartile\\\": 510000, \\\"max\\\": 3000000.0}, {\\\"x\\\": \\\"98117\\\", \\\"min\\\": 125000, \\\"lower quartile\\\": 450000, \\\"median\\\": 544000, \\\"upper quartile\\\": 657500, \\\"max\\\": 1370000.0}, {\\\"x\\\": \\\"98032\\\", \\\"min\\\": 85000, \\\"lower quartile\\\": 221700, \\\"median\\\": 249000, \\\"upper quartile\\\": 285000, \\\"max\\\": 545000}, {\\\"x\\\": \\\"98010\\\", \\\"min\\\": 135000, \\\"lower quartile\\\": 257000, \\\"median\\\": 360000, \\\"upper quartile\\\": 600000, \\\"max\\\": 935000}, {\\\"x\\\": \\\"98092\\\", \\\"min\\\": 90000, \\\"lower quartile\\\": 263950, \\\"median\\\": 309780, \\\"upper quartile\\\": 379500, \\\"max\\\": 930000}, {\\\"x\\\": \\\"98148\\\", \\\"min\\\": 105500, \\\"lower quartile\\\": 240000, \\\"median\\\": 278000, \\\"upper quartile\\\": 319990, \\\"max\\\": 600600}, {\\\"x\\\": \\\"98006\\\", \\\"min\\\": 247500, \\\"lower quartile\\\": 575000, \\\"median\\\": 760369, \\\"upper quartile\\\": 978000, \\\"max\\\": 4208000.0}, {\\\"x\\\": \\\"98001\\\", \\\"min\\\": 100000, \\\"lower quartile\\\": 215000, \\\"median\\\": 260000, \\\"upper quartile\\\": 320000, \\\"max\\\": 850000}, {\\\"x\\\": \\\"98166\\\", \\\"min\\\": 100000, \\\"lower quartile\\\": 292000, \\\"median\\\": 390000, \\\"upper quartile\\\": 540500, \\\"max\\\": 2510000.0}, {\\\"x\\\": \\\"98027\\\", \\\"min\\\": 130000, \\\"lower quartile\\\": 450000, \\\"median\\\": 571000, \\\"upper quartile\\\": 716500, \\\"max\\\": 2700000.0}, {\\\"x\\\": \\\"98116\\\", \\\"min\\\": 130000, \\\"lower quartile\\\": 460000, \\\"median\\\": 565500, \\\"upper quartile\\\": 703000, \\\"max\\\": 2050000.0}, {\\\"x\\\": \\\"98118\\\", \\\"min\\\": 109000, \\\"lower quartile\\\": 289000, \\\"median\\\": 367500, \\\"upper quartile\\\": 476500, \\\"max\\\": 2903000.0}, {\\\"x\\\": \\\"98034\\\", \\\"min\\\": 90000, \\\"lower quartile\\\": 387000, \\\"median\\\": 445950, \\\"upper quartile\\\": 525000, \\\"max\\\": 3120000.0}, {\\\"x\\\": \\\"98103\\\", \\\"min\\\": 238000, \\\"lower quartile\\\": 432000, \\\"median\\\": 550000, \\\"upper quartile\\\": 695000, \\\"max\\\": 1695000.0}, {\\\"x\\\": \\\"98038\\\", \\\"min\\\": 110000, \\\"lower quartile\\\": 285000, \\\"median\\\": 342000, \\\"upper quartile\\\": 410000, \\\"max\\\": 1350000.0}, {\\\"x\\\": \\\"98005\\\", \\\"min\\\": 400000, \\\"lower quartile\\\": 638700, \\\"median\\\": 768500, \\\"upper quartile\\\": 915000, \\\"max\\\": 1960000.0}, {\\\"x\\\": \\\"98112\\\", \\\"min\\\": 169317, \\\"lower quartile\\\": 680000, \\\"median\\\": 915000, \\\"upper quartile\\\": 1328000.0, \\\"max\\\": 3400000.0}, {\\\"x\\\": \\\"98028\\\", \\\"min\\\": 160000, \\\"lower quartile\\\": 379950, \\\"median\\\": 445000, \\\"upper quartile\\\": 526750, \\\"max\\\": 1600000.0}, {\\\"x\\\": \\\"98052\\\", \\\"min\\\": 225000, \\\"lower quartile\\\": 509250, \\\"median\\\": 615000, \\\"upper quartile\\\": 751000, \\\"max\\\": 2200000.0}, {\\\"x\\\": \\\"98014\\\", \\\"min\\\": 80000, \\\"lower quartile\\\": 309000, \\\"median\\\": 415000, \\\"upper quartile\\\": 539000, \\\"max\\\": 1680000.0}, {\\\"x\\\": \\\"98031\\\", \\\"min\\\": 147500, \\\"lower quartile\\\": 252000, \\\"median\\\": 288400, \\\"upper quartile\\\": 327500, \\\"max\\\": 800000}, {\\\"x\\\": \\\"98039\\\", \\\"min\\\": 787500, \\\"lower quartile\\\": 1398000.0, \\\"median\\\": 1905000.0, \\\"upper quartile\\\": 2575000.0, \\\"max\\\": 6885000.0}, {\\\"x\\\": \\\"98011\\\", \\\"min\\\": 245500, \\\"lower quartile\\\": 411800, \\\"median\\\": 470000, \\\"upper quartile\\\": 550000, \\\"max\\\": 1075000.0}, {\\\"x\\\": \\\"98122\\\", \\\"min\\\": 202000, \\\"lower quartile\\\": 450000, \\\"median\\\": 574000, \\\"upper quartile\\\": 720000, \\\"max\\\": 2050000.0}, {\\\"x\\\": \\\"98070\\\", \\\"min\\\": 160000, \\\"lower quartile\\\": 340000, \\\"median\\\": 465000, \\\"upper quartile\\\": 575000, \\\"max\\\": 1379900.0}, {\\\"x\\\": \\\"98042\\\", \\\"min\\\": 105000, \\\"lower quartile\\\": 240000, \\\"median\\\": 292500, \\\"upper quartile\\\": 359950, \\\"max\\\": 859000}, {\\\"x\\\": \\\"98058\\\", \\\"min\\\": 95000, \\\"lower quartile\\\": 285000, \\\"median\\\": 335000, \\\"upper quartile\\\": 392000, \\\"max\\\": 1500000.0}, {\\\"x\\\": \\\"98133\\\", \\\"min\\\": 130000, \\\"lower quartile\\\": 318000, \\\"median\\\": 375000, \\\"upper quartile\\\": 435000, \\\"max\\\": 808100}, {\\\"x\\\": \\\"98065\\\", \\\"min\\\": 170000, \\\"lower quartile\\\": 424950, \\\"median\\\": 500000, \\\"upper quartile\\\": 619000, \\\"max\\\": 1998000.0}, {\\\"x\\\": \\\"98102\\\", \\\"min\\\": 330000, \\\"lower quartile\\\": 575000, \\\"median\\\": 720000, \\\"upper quartile\\\": 979700, \\\"max\\\": 7700000.0}, {\\\"x\\\": \\\"98108\\\", \\\"min\\\": 90000, \\\"lower quartile\\\": 284000, \\\"median\\\": 345000, \\\"upper quartile\\\": 425000, \\\"max\\\": 640000}, {\\\"x\\\": \\\"98029\\\", \\\"min\\\": 285000, \\\"lower quartile\\\": 485000, \\\"median\\\": 575000, \\\"upper quartile\\\": 690000, \\\"max\\\": 2200000.0}, {\\\"x\\\": \\\"98072\\\", \\\"min\\\": 200000, \\\"lower quartile\\\": 422800, \\\"median\\\": 515000, \\\"upper quartile\\\": 642860, \\\"max\\\": 1565000.0}, {\\\"x\\\": \\\"98003\\\", \\\"min\\\": 128000, \\\"lower quartile\\\": 229000, \\\"median\\\": 267950, \\\"upper quartile\\\": 333000, \\\"max\\\": 950000}, {\\\"x\\\": \\\"98105\\\", \\\"min\\\": 380000, \\\"lower quartile\\\": 550000, \\\"median\\\": 675000, \\\"upper quartile\\\": 1005000.0, \\\"max\\\": 3650000.0}, {\\\"x\\\": \\\"98008\\\", \\\"min\\\": 250000, \\\"lower quartile\\\": 465000, \\\"median\\\": 545000, \\\"upper quartile\\\": 660000, \\\"max\\\": 3567000.0}, {\\\"x\\\": \\\"98030\\\", \\\"min\\\": 120000, \\\"lower quartile\\\": 249950, \\\"median\\\": 282510, \\\"upper quartile\\\": 339950, \\\"max\\\": 565000}, {\\\"x\\\": \\\"98109\\\", \\\"min\\\": 216650, \\\"lower quartile\\\": 620000, \\\"median\\\": 736000, \\\"upper quartile\\\": 1000000.0, \\\"max\\\": 3200000.0}, {\\\"x\\\": \\\"98107\\\", \\\"min\\\": 290000, \\\"lower quartile\\\": 470000, \\\"median\\\": 529950, \\\"upper quartile\\\": 630000, \\\"max\\\": 2945000.0}, {\\\"x\\\": \\\"98007\\\", \\\"min\\\": 295000, \\\"lower quartile\\\": 465000, \\\"median\\\": 555000, \\\"upper quartile\\\": 730000, \\\"max\\\": 1315000.0}, {\\\"x\\\": \\\"98188\\\", \\\"min\\\": 110000, \\\"lower quartile\\\": 230000, \\\"median\\\": 265000, \\\"upper quartile\\\": 335000, \\\"max\\\": 707000}, {\\\"x\\\": \\\"98053\\\", \\\"min\\\": 170000, \\\"lower quartile\\\": 485000, \\\"median\\\": 635000, \\\"upper quartile\\\": 790500, \\\"max\\\": 2280000.0}, {\\\"x\\\": \\\"98106\\\", \\\"min\\\": 90000, \\\"lower quartile\\\": 260000, \\\"median\\\": 315000, \\\"upper quartile\\\": 366000, \\\"max\\\": 795000}, {\\\"x\\\": \\\"98198\\\", \\\"min\\\": 95000, \\\"lower quartile\\\": 216500, \\\"median\\\": 265000, \\\"upper quartile\\\": 340000, \\\"max\\\": 1350000.0}, {\\\"x\\\": \\\"98024\\\", \\\"min\\\": 142000, \\\"lower quartile\\\": 340000, \\\"median\\\": 460000, \\\"upper quartile\\\": 700000, \\\"max\\\": 1862000.0}]}], \\\"signals\\\": [{\\\"name\\\": \\\"x_step\\\", \\\"value\\\": 42}, {\\\"name\\\": \\\"width\\\", \\\"update\\\": \\\"max(720, 100 + bandspace(domain(&apos;x&apos;).length, 0.1, 0.1) * x_step)\\\"}], \\\"marks\\\": [{\\\"name\\\": \\\"layer_0_marks\\\", \\\"type\\\": \\\"rule\\\", \\\"style\\\": [\\\"boxWhisker\\\"], \\\"from\\\": {\\\"data\\\": \\\"source_2\\\"}, \\\"encode\\\": {\\\"update\\\": {\\\"x\\\": {\\\"scale\\\": \\\"x\\\", \\\"field\\\": \\\"x\\\", \\\"band\\\": 0.5}, \\\"y\\\": {\\\"scale\\\": \\\"y\\\", \\\"field\\\": \\\"min\\\"}, \\\"y2\\\": {\\\"scale\\\": \\\"y\\\", \\\"field\\\": \\\"lower quartile\\\"}, \\\"stroke\\\": {\\\"value\\\": \\\"black\\\"}}}}, {\\\"name\\\": \\\"layer_1_marks\\\", \\\"type\\\": \\\"rule\\\", \\\"style\\\": [\\\"boxWhisker\\\"], \\\"from\\\": {\\\"data\\\": \\\"source_2\\\"}, \\\"encode\\\": {\\\"update\\\": {\\\"x\\\": {\\\"scale\\\": \\\"x\\\", \\\"field\\\": \\\"x\\\", \\\"band\\\": 0.5}, \\\"y\\\": {\\\"scale\\\": \\\"y\\\", \\\"field\\\": \\\"upper quartile\\\"}, \\\"y2\\\": {\\\"scale\\\": \\\"y\\\", \\\"field\\\": \\\"max\\\"}, \\\"stroke\\\": {\\\"value\\\": \\\"black\\\"}}}}, {\\\"name\\\": \\\"layer_2_marks\\\", \\\"type\\\": \\\"rect\\\", \\\"style\\\": [\\\"box\\\"], \\\"from\\\": {\\\"data\\\": \\\"source_2\\\"}, \\\"encode\\\": {\\\"hover\\\": {\\\"fill\\\": {\\\"value\\\": \\\"#7EC2F3\\\"}}, \\\"update\\\": {\\\"xc\\\": {\\\"scale\\\": \\\"x\\\", \\\"field\\\": \\\"x\\\", \\\"band\\\": 0.5}, \\\"width\\\": {\\\"value\\\": 20}, \\\"y\\\": {\\\"scale\\\": \\\"y\\\", \\\"field\\\": \\\"lower quartile\\\"}, \\\"y2\\\": {\\\"scale\\\": \\\"y\\\", \\\"field\\\": \\\"upper quartile\\\"}, \\\"fill\\\": {\\\"value\\\": \\\"#108EE9\\\"}}}}, {\\\"name\\\": \\\"layer_3_marks\\\", \\\"type\\\": \\\"rect\\\", \\\"style\\\": [\\\"boxMid\\\"], \\\"from\\\": {\\\"data\\\": \\\"source_2\\\"}, \\\"encode\\\": {\\\"update\\\": {\\\"xc\\\": {\\\"scale\\\": \\\"x\\\", \\\"field\\\": \\\"x\\\", \\\"band\\\": 0.5}, \\\"yc\\\": {\\\"scale\\\": \\\"y\\\", \\\"field\\\": \\\"median\\\"}, \\\"width\\\": {\\\"value\\\": 20}, \\\"height\\\": {\\\"value\\\": 1}, \\\"fill\\\": {\\\"value\\\": \\\"black\\\"}, \\\"opacity\\\": {\\\"value\\\": 0.7}}}}], \\\"scales\\\": [{\\\"name\\\": \\\"x\\\", \\\"type\\\": \\\"band\\\", \\\"domain\\\": {\\\"fields\\\": [{\\\"data\\\": \\\"source_2\\\", \\\"field\\\": \\\"x\\\"}]}, \\\"range\\\": {\\\"step\\\": {\\\"signal\\\": \\\"x_step\\\"}}, \\\"paddingInner\\\": 0.1, \\\"paddingOuter\\\": 0.05}, {\\\"name\\\": \\\"y\\\", \\\"type\\\": \\\"linear\\\", \\\"domain\\\": {\\\"fields\\\": [{\\\"data\\\": \\\"source_2\\\", \\\"field\\\": \\\"min\\\"}, {\\\"data\\\": \\\"source_2\\\", \\\"field\\\": \\\"lower quartile\\\"}, {\\\"data\\\": \\\"source_2\\\", \\\"field\\\": \\\"upper quartile\\\"}, {\\\"data\\\": \\\"source_2\\\", \\\"field\\\": \\\"max\\\"}, {\\\"data\\\": \\\"source_2\\\", \\\"field\\\": \\\"lower quartile\\\"}, {\\\"data\\\": \\\"source_2\\\", \\\"field\\\": \\\"upper quartile\\\"}, {\\\"data\\\": \\\"source_2\\\", \\\"field\\\": \\\"median\\\"}], \\\"sort\\\": true}, \\\"range\\\": [{\\\"signal\\\": \\\"height\\\"}, 0], \\\"nice\\\": true, \\\"zero\\\": true}], \\\"axes\\\": [{\\\"scale\\\": \\\"x\\\", \\\"labelOverlap\\\": true, \\\"orient\\\": \\\"bottom\\\", \\\"title\\\": \\\"X\\\", \\\"zindex\\\": 1, \\\"encode\\\": {\\\"labels\\\": {\\\"update\\\": {\\\"angle\\\": {\\\"value\\\": 270}, \\\"align\\\": {\\\"value\\\": \\\"right\\\"}, \\\"baseline\\\": {\\\"value\\\": \\\"middle\\\"}}}}}, {\\\"title\\\": \\\"Y\\\", \\\"scale\\\": \\\"y\\\", \\\"labelOverlap\\\": true, \\\"orient\\\": \\\"left\\\", \\\"tickCount\\\": {\\\"signal\\\": \\\"ceil(height/40)\\\"}, \\\"zindex\\\": 1}, {\\\"scale\\\": \\\"y\\\", \\\"domain\\\": false, \\\"grid\\\": true, \\\"labels\\\": false, \\\"maxExtent\\\": 0, \\\"minExtent\\\": 0, \\\"orient\\\": \\\"left\\\", \\\"tickCount\\\": {\\\"signal\\\": \\\"ceil(height/40)\\\"}, \\\"ticks\\\": false, \\\"zindex\\\": 0, \\\"gridScale\\\": \\\"x\\\"}], \\\"config\\\": {\\\"axis\\\": {\\\"gridColor\\\": \\\"rgba(204,204,204,1.0)\\\", \\\"labelFont\\\": \\\"\\\\\\\"San Francisco\\\\\\\", HelveticaNeue, Arial\\\", \\\"labelFontSize\\\": 12, \\\"labelPadding\\\": 10, \\\"labelColor\\\": \\\"rgba(0,0,0,0.847)\\\", \\\"tickColor\\\": \\\"rgb(136,136,136)\\\", \\\"titleFont\\\": \\\"\\\\\\\"San Francisco\\\\\\\", HelveticaNeue, Arial\\\", \\\"titleFontWeight\\\": \\\"normal\\\", \\\"titlePadding\\\": 20, \\\"titleFontSize\\\": 14, \\\"titleColor\\\": \\\"rgba(0,0,0,0.847)\\\"}, \\\"axisY\\\": {\\\"minExtent\\\": 30}, \\\"legend\\\": {\\\"labelFont\\\": \\\"\\\\\\\"San Francisco\\\\\\\", HelveticaNeue, Arial\\\", \\\"labelColor\\\": \\\"rgba(0,0,0,0.847)\\\", \\\"titleFont\\\": \\\"\\\\\\\"San Francisco\\\\\\\", HelveticaNeue, Arial\\\", \\\"cornerRadius\\\": 30, \\\"gradientLength\\\": 608, \\\"titleColor\\\": \\\"rgba(0,0,0,0.847)\\\"}, \\\"range\\\": {\\\"heatmap\\\": {\\\"scheme\\\": \\\"greenblue\\\"}}, \\\"style\\\": {\\\"rect\\\": {\\\"stroke\\\": \\\"rgba(200, 200, 200, 0.5)\\\"}, \\\"cell\\\": {\\\"stroke\\\": \\\"transparent\\\"}, \\\"group-title\\\": {\\\"fontSize\\\": 29, \\\"font\\\": \\\"HelveticaNeue, Arial\\\", \\\"fontWeight\\\": \\\"normal\\\", \\\"fill\\\": \\\"rgba(0,0,0,0.65)\\\"}}, \\\"title\\\": {\\\"color\\\": \\\"rgba(0,0,0,0.847)\\\", \\\"font\\\": \\\"\\\\\\\"San Francisco\\\\\\\", HelveticaNeue, Arial\\\", \\\"fontSize\\\": 18, \\\"fontWeight\\\": \\\"normal\\\", \\\"offset\\\": 30}}}\";                                 var vega_json_parsed = JSON.parse(vega_json);                                 var toolTipOpts = {                                     showAllFields: true                                 };                                 if(vega_json_parsed[\"metadata\"] != null){                                     if(vega_json_parsed[\"metadata\"][\"bubbleOpts\"] != null){                                         toolTipOpts = vega_json_parsed[\"metadata\"][\"bubbleOpts\"];                                     };                                 };                                 vegaEmbed(\"#vis\", vega_json_parsed).then(function (result) {                                     vegaTooltip.vega(result.view, toolTipOpts);                                  });                             </script>                         </body>                     </html>' src=\"demo_iframe_srcdoc.htm\">                         <p>Your browser does not support iframes.</p>                     </iframe>                 </body>             </html>"
      ],
      "text/plain": [
       "<IPython.core.display.HTML object>"
      ]
     },
     "metadata": {},
     "output_type": "display_data"
    }
   ],
   "source": [
    "import turicreate\n",
    "\n",
    "sales = turicreate.SFrame('home_data.sframe/')\n",
    "\n",
    "zips = sales['zipcode']\n",
    "prices = sales['price']\n",
    "\n",
    "turicreate.show(sales['zipcode'], sales['price'])"
   ]
  },
  {
   "cell_type": "code",
   "execution_count": 25,
   "metadata": {},
   "outputs": [
    {
     "name": "stdout",
     "output_type": "stream",
     "text": [
      "[2974, 3761, 4077, 4078, 4149, 4411, 4791, 5178, 5589, 5880, 6868, 7501, 8241, 9254, 9694, 9809, 11278, 11952, 12295, 12811, 13235, 13267, 13419, 13621, 13988, 14052, 14254, 14385, 14803, 15022, 15255, 15632, 16268, 16302, 16377, 16825, 17001, 17209, 17230, 17899, 17930, 18793, 18892, 18912, 19148, 19236, 19351, 20096, 21040, 21514]\n",
      "50\n"
     ]
    }
   ],
   "source": [
    "no_houses = 0\n",
    "i = 0\n",
    "indexes = []\n",
    "for z_code in zips:\n",
    "    if z_code == '98039':\n",
    "        no_houses = no_houses + 1\n",
    "        indexes.append(i)\n",
    "    i = i + 1\n",
    "print(indexes)\n",
    "print(no_houses)"
   ]
  },
  {
   "cell_type": "code",
   "execution_count": 28,
   "metadata": {},
   "outputs": [
    {
     "name": "stdout",
     "output_type": "stream",
     "text": [
      "108030330.0\n",
      "2160606.6\n"
     ]
    }
   ],
   "source": [
    "t_price = 0\n",
    "for index in indexes:\n",
    "    t_price = t_price + prices[index]\n",
    "    \n",
    "print(t_price)\n",
    "print(t_price / no_houses)"
   ]
  },
  {
   "cell_type": "code",
   "execution_count": 19,
   "metadata": {
    "scrolled": false
   },
   "outputs": [
    {
     "data": {
      "text/html": [
       "<pre>Materializing SArray</pre>"
      ],
      "text/plain": [
       "Materializing SArray"
      ]
     },
     "metadata": {},
     "output_type": "display_data"
    },
    {
     "data": {
      "text/html": [
       "<html>                 <body>                     <iframe style=\"border:0;margin:0\" width=\"920\" height=\"770\" srcdoc='<html lang=\"en\">                         <head>                             <script src=\"https://cdnjs.cloudflare.com/ajax/libs/vega/5.4.0/vega.js\"></script>                             <script src=\"https://cdnjs.cloudflare.com/ajax/libs/vega-embed/4.0.0/vega-embed.js\"></script>                             <script src=\"https://cdnjs.cloudflare.com/ajax/libs/vega-tooltip/0.5.1/vega-tooltip.min.js\"></script>                             <link rel=\"stylesheet\" type=\"text/css\" href=\"https://cdnjs.cloudflare.com/ajax/libs/vega-tooltip/0.5.1/vega-tooltip.min.css\">                             <style>                             .vega-actions > a{                                 color:white;                                 text-decoration: none;                                 font-family: \"Arial\";                                 cursor:pointer;                                 padding:5px;                                 background:#AAAAAA;                                 border-radius:4px;                                 padding-left:10px;                                 padding-right:10px;                                 margin-right:5px;                             }                             .vega-actions{                                 margin-top:20px;                                 text-align:center                             }                            .vega-actions > a{                                 background:#999999;                            }                             </style>                         </head>                         <body>                             <div id=\"vis\">                             </div>                             <script>                                 var vega_json = \"{\\\"$schema\\\": \\\"https://vega.github.io/schema/vega/v4.json\\\", \\\"autosize\\\": {\\\"type\\\": \\\"fit\\\", \\\"resize\\\": false, \\\"contains\\\": \\\"padding\\\"}, \\\"padding\\\": 8, \\\"metadata\\\": {\\\"bubbleOpts\\\": {\\\"showAllFields\\\": false, \\\"fields\\\": [{\\\"field\\\": \\\"count\\\"}, {\\\"field\\\": \\\"label\\\"}, {\\\"field\\\": \\\"percentage\\\"}]}}, \\\"width\\\": 720, \\\"height\\\": 550, \\\"title\\\": \\\"Distribution of Values [string]\\\", \\\"style\\\": \\\"cell\\\", \\\"data\\\": [{\\\"name\\\": \\\"pts_store_store\\\"}, {\\\"name\\\": \\\"source_2\\\", \\\"values\\\": [{\\\"label\\\": \\\"98103\\\", \\\"label_idx\\\": 0, \\\"count\\\": 602, \\\"percentage\\\": \\\"2.78536%\\\"}, {\\\"label\\\": \\\"98038\\\", \\\"label_idx\\\": 1, \\\"count\\\": 590, \\\"percentage\\\": \\\"2.72984%\\\"}, {\\\"label\\\": \\\"98115\\\", \\\"label_idx\\\": 2, \\\"count\\\": 583, \\\"percentage\\\": \\\"2.69745%\\\"}, {\\\"label\\\": \\\"98052\\\", \\\"label_idx\\\": 3, \\\"count\\\": 574, \\\"percentage\\\": \\\"2.65581%\\\"}, {\\\"label\\\": \\\"98117\\\", \\\"label_idx\\\": 4, \\\"count\\\": 553, \\\"percentage\\\": \\\"2.55865%\\\"}, {\\\"label\\\": \\\"98042\\\", \\\"label_idx\\\": 5, \\\"count\\\": 548, \\\"percentage\\\": \\\"2.53551%\\\"}, {\\\"label\\\": \\\"98034\\\", \\\"label_idx\\\": 6, \\\"count\\\": 545, \\\"percentage\\\": \\\"2.52163%\\\"}, {\\\"label\\\": \\\"98118\\\", \\\"label_idx\\\": 7, \\\"count\\\": 508, \\\"percentage\\\": \\\"2.35044%\\\"}, {\\\"label\\\": \\\"98023\\\", \\\"label_idx\\\": 8, \\\"count\\\": 499, \\\"percentage\\\": \\\"2.3088%\\\"}, {\\\"label\\\": \\\"98006\\\", \\\"label_idx\\\": 9, \\\"count\\\": 498, \\\"percentage\\\": \\\"2.30417%\\\"}, {\\\"label\\\": \\\"98133\\\", \\\"label_idx\\\": 10, \\\"count\\\": 494, \\\"percentage\\\": \\\"2.28566%\\\"}, {\\\"label\\\": \\\"98059\\\", \\\"label_idx\\\": 11, \\\"count\\\": 468, \\\"percentage\\\": \\\"2.16536%\\\"}, {\\\"label\\\": \\\"Other (58 labels)\\\", \\\"label_idx\\\": 12, \\\"count\\\": 15151, \\\"percentage\\\": \\\"70.1013%\\\"}]}, {\\\"name\\\": \\\"data_0\\\", \\\"source\\\": \\\"source_2\\\", \\\"transform\\\": [{\\\"type\\\": \\\"formula\\\", \\\"expr\\\": \\\"toNumber(datum[\\\\\\\"count\\\\\\\"])\\\", \\\"as\\\": \\\"count\\\"}, {\\\"type\\\": \\\"filter\\\", \\\"expr\\\": \\\"datum[\\\\\\\"count\\\\\\\"] !== null &amp;&amp; !isNaN(datum[\\\\\\\"count\\\\\\\"])\\\"}]}], \\\"signals\\\": [{\\\"name\\\": \\\"unit\\\", \\\"value\\\": {}, \\\"on\\\": [{\\\"events\\\": \\\"mousemove\\\", \\\"update\\\": \\\"isTuple(group()) ? group() : unit\\\"}]}, {\\\"name\\\": \\\"pts_store\\\", \\\"update\\\": \\\"data(\\\\\\\"pts_store_store\\\\\\\").length &amp;&amp; {count: data(\\\\\\\"pts_store_store\\\\\\\")[0].values[0]}\\\"}, {\\\"name\\\": \\\"pts_store_tuple\\\", \\\"value\\\": {}, \\\"on\\\": [{\\\"events\\\": [{\\\"source\\\": \\\"scope\\\", \\\"type\\\": \\\"click\\\"}], \\\"update\\\": \\\"datum &amp;&amp; item().mark.marktype !== &apos;group&apos; ? {unit: \\\\\\\"\\\\\\\", encodings: [\\\\\\\"x\\\\\\\"], fields: [\\\\\\\"count\\\\\\\"], values: [datum[\\\\\\\"count\\\\\\\"]]} : null\\\", \\\"force\\\": true}]}, {\\\"name\\\": \\\"pts_store_modify\\\", \\\"on\\\": [{\\\"events\\\": {\\\"signal\\\": \\\"pts_store_tuple\\\"}, \\\"update\\\": \\\"modify(\\\\\\\"pts_store_store\\\\\\\", pts_store_tuple, true)\\\"}]}], \\\"marks\\\": [{\\\"name\\\": \\\"marks\\\", \\\"type\\\": \\\"rect\\\", \\\"style\\\": [\\\"bar\\\"], \\\"from\\\": {\\\"data\\\": \\\"data_0\\\"}, \\\"encode\\\": {\\\"hover\\\": {\\\"fill\\\": {\\\"value\\\": \\\"#7EC2F3\\\"}}, \\\"update\\\": {\\\"x\\\": {\\\"scale\\\": \\\"x\\\", \\\"field\\\": \\\"count\\\"}, \\\"x2\\\": {\\\"scale\\\": \\\"x\\\", \\\"value\\\": 0}, \\\"y\\\": {\\\"scale\\\": \\\"y\\\", \\\"field\\\": \\\"label\\\"}, \\\"height\\\": {\\\"scale\\\": \\\"y\\\", \\\"band\\\": true}, \\\"fill\\\": {\\\"value\\\": \\\"#108EE9\\\"}}}}], \\\"scales\\\": [{\\\"name\\\": \\\"x\\\", \\\"type\\\": \\\"linear\\\", \\\"domain\\\": {\\\"data\\\": \\\"data_0\\\", \\\"field\\\": \\\"count\\\"}, \\\"range\\\": [0, {\\\"signal\\\": \\\"width\\\"}], \\\"nice\\\": true, \\\"zero\\\": true}, {\\\"name\\\": \\\"y\\\", \\\"type\\\": \\\"band\\\", \\\"domain\\\": {\\\"data\\\": \\\"data_0\\\", \\\"field\\\": \\\"label\\\", \\\"sort\\\": {\\\"op\\\": \\\"mean\\\", \\\"field\\\": \\\"label_idx\\\", \\\"order\\\": \\\"descending\\\"}}, \\\"range\\\": [{\\\"signal\\\": \\\"height\\\"}, 0], \\\"paddingInner\\\": 0.1, \\\"paddingOuter\\\": 0.05}], \\\"axes\\\": [{\\\"orient\\\": \\\"top\\\", \\\"scale\\\": \\\"x\\\", \\\"labelOverlap\\\": true, \\\"tickCount\\\": {\\\"signal\\\": \\\"ceil(width/40)\\\"}, \\\"title\\\": \\\"Count\\\", \\\"zindex\\\": 1}, {\\\"orient\\\": \\\"top\\\", \\\"scale\\\": \\\"x\\\", \\\"domain\\\": false, \\\"grid\\\": true, \\\"labels\\\": false, \\\"maxExtent\\\": 0, \\\"minExtent\\\": 0, \\\"tickCount\\\": {\\\"signal\\\": \\\"ceil(width/40)\\\"}, \\\"ticks\\\": false, \\\"zindex\\\": 0, \\\"gridScale\\\": \\\"y\\\"}, {\\\"scale\\\": \\\"y\\\", \\\"labelOverlap\\\": true, \\\"orient\\\": \\\"left\\\", \\\"title\\\": \\\"Values\\\", \\\"zindex\\\": 1}], \\\"config\\\": {\\\"axis\\\": {\\\"gridColor\\\": \\\"rgba(204,204,204,1.0)\\\", \\\"labelFont\\\": \\\"\\\\\\\"San Francisco\\\\\\\", HelveticaNeue, Arial\\\", \\\"labelFontSize\\\": 12, \\\"labelPadding\\\": 10, \\\"labelColor\\\": \\\"rgba(0,0,0,0.847)\\\", \\\"tickColor\\\": \\\"rgb(136,136,136)\\\", \\\"titleFont\\\": \\\"\\\\\\\"San Francisco\\\\\\\", HelveticaNeue, Arial\\\", \\\"titleFontWeight\\\": \\\"normal\\\", \\\"titlePadding\\\": 20, \\\"titleFontSize\\\": 14, \\\"titleColor\\\": \\\"rgba(0,0,0,0.847)\\\"}, \\\"axisY\\\": {\\\"minExtent\\\": 30}, \\\"legend\\\": {\\\"labelFont\\\": \\\"\\\\\\\"San Francisco\\\\\\\", HelveticaNeue, Arial\\\", \\\"labelColor\\\": \\\"rgba(0,0,0,0.847)\\\", \\\"titleFont\\\": \\\"\\\\\\\"San Francisco\\\\\\\", HelveticaNeue, Arial\\\", \\\"cornerRadius\\\": 30, \\\"gradientLength\\\": 608, \\\"titleColor\\\": \\\"rgba(0,0,0,0.847)\\\"}, \\\"range\\\": {\\\"heatmap\\\": {\\\"scheme\\\": \\\"greenblue\\\"}}, \\\"style\\\": {\\\"rect\\\": {\\\"stroke\\\": \\\"rgba(200, 200, 200, 0.5)\\\"}, \\\"cell\\\": {\\\"stroke\\\": \\\"transparent\\\"}, \\\"group-title\\\": {\\\"fontSize\\\": 29, \\\"font\\\": \\\"HelveticaNeue, Arial\\\", \\\"fontWeight\\\": \\\"normal\\\", \\\"fill\\\": \\\"rgba(0,0,0,0.65)\\\"}}, \\\"title\\\": {\\\"color\\\": \\\"rgba(0,0,0,0.847)\\\", \\\"font\\\": \\\"\\\\\\\"San Francisco\\\\\\\", HelveticaNeue, Arial\\\", \\\"fontSize\\\": 18, \\\"fontWeight\\\": \\\"normal\\\", \\\"offset\\\": 30}}}\";                                 var vega_json_parsed = JSON.parse(vega_json);                                 var toolTipOpts = {                                     showAllFields: true                                 };                                 if(vega_json_parsed[\"metadata\"] != null){                                     if(vega_json_parsed[\"metadata\"][\"bubbleOpts\"] != null){                                         toolTipOpts = vega_json_parsed[\"metadata\"][\"bubbleOpts\"];                                     };                                 };                                 vegaEmbed(\"#vis\", vega_json_parsed).then(function (result) {                                     vegaTooltip.vega(result.view, toolTipOpts);                                  });                             </script>                         </body>                     </html>' src=\"demo_iframe_srcdoc.htm\">                         <p>Your browser does not support iframes.</p>                     </iframe>                 </body>             </html>"
      ],
      "text/plain": [
       "<IPython.core.display.HTML object>"
      ]
     },
     "metadata": {},
     "output_type": "display_data"
    },
    {
     "data": {
      "text/plain": [
       "<turicreate.visualization._plot.Plot at 0x7fec64016828>"
      ]
     },
     "execution_count": 19,
     "metadata": {},
     "output_type": "execute_result"
    }
   ],
   "source": [
    "turicreate.visualization.item_frequency(zips)"
   ]
  },
  {
   "cell_type": "code",
   "execution_count": 20,
   "metadata": {},
   "outputs": [
    {
     "data": {
      "text/html": [
       "<div style=\"max-height:1000px;max-width:1500px;overflow:auto;\"><table frame=\"box\" rules=\"cols\">\n",
       "    <tr>\n",
       "        <th style=\"padding-left: 1em; padding-right: 1em; text-align: center\">id</th>\n",
       "        <th style=\"padding-left: 1em; padding-right: 1em; text-align: center\">date</th>\n",
       "        <th style=\"padding-left: 1em; padding-right: 1em; text-align: center\">price</th>\n",
       "        <th style=\"padding-left: 1em; padding-right: 1em; text-align: center\">bedrooms</th>\n",
       "        <th style=\"padding-left: 1em; padding-right: 1em; text-align: center\">bathrooms</th>\n",
       "        <th style=\"padding-left: 1em; padding-right: 1em; text-align: center\">sqft_living</th>\n",
       "        <th style=\"padding-left: 1em; padding-right: 1em; text-align: center\">sqft_lot</th>\n",
       "        <th style=\"padding-left: 1em; padding-right: 1em; text-align: center\">floors</th>\n",
       "        <th style=\"padding-left: 1em; padding-right: 1em; text-align: center\">waterfront</th>\n",
       "    </tr>\n",
       "    <tr>\n",
       "        <td style=\"padding-left: 1em; padding-right: 1em; text-align: center; vertical-align: top\">7129300520</td>\n",
       "        <td style=\"padding-left: 1em; padding-right: 1em; text-align: center; vertical-align: top\">2014-10-13 00:00:00+00:00</td>\n",
       "        <td style=\"padding-left: 1em; padding-right: 1em; text-align: center; vertical-align: top\">221900.0</td>\n",
       "        <td style=\"padding-left: 1em; padding-right: 1em; text-align: center; vertical-align: top\">3.0</td>\n",
       "        <td style=\"padding-left: 1em; padding-right: 1em; text-align: center; vertical-align: top\">1.0</td>\n",
       "        <td style=\"padding-left: 1em; padding-right: 1em; text-align: center; vertical-align: top\">1180.0</td>\n",
       "        <td style=\"padding-left: 1em; padding-right: 1em; text-align: center; vertical-align: top\">5650.0</td>\n",
       "        <td style=\"padding-left: 1em; padding-right: 1em; text-align: center; vertical-align: top\">1.0</td>\n",
       "        <td style=\"padding-left: 1em; padding-right: 1em; text-align: center; vertical-align: top\">0</td>\n",
       "    </tr>\n",
       "    <tr>\n",
       "        <td style=\"padding-left: 1em; padding-right: 1em; text-align: center; vertical-align: top\">6414100192</td>\n",
       "        <td style=\"padding-left: 1em; padding-right: 1em; text-align: center; vertical-align: top\">2014-12-09 00:00:00+00:00</td>\n",
       "        <td style=\"padding-left: 1em; padding-right: 1em; text-align: center; vertical-align: top\">538000.0</td>\n",
       "        <td style=\"padding-left: 1em; padding-right: 1em; text-align: center; vertical-align: top\">3.0</td>\n",
       "        <td style=\"padding-left: 1em; padding-right: 1em; text-align: center; vertical-align: top\">2.25</td>\n",
       "        <td style=\"padding-left: 1em; padding-right: 1em; text-align: center; vertical-align: top\">2570.0</td>\n",
       "        <td style=\"padding-left: 1em; padding-right: 1em; text-align: center; vertical-align: top\">7242.0</td>\n",
       "        <td style=\"padding-left: 1em; padding-right: 1em; text-align: center; vertical-align: top\">2.0</td>\n",
       "        <td style=\"padding-left: 1em; padding-right: 1em; text-align: center; vertical-align: top\">0</td>\n",
       "    </tr>\n",
       "    <tr>\n",
       "        <td style=\"padding-left: 1em; padding-right: 1em; text-align: center; vertical-align: top\">5631500400</td>\n",
       "        <td style=\"padding-left: 1em; padding-right: 1em; text-align: center; vertical-align: top\">2015-02-25 00:00:00+00:00</td>\n",
       "        <td style=\"padding-left: 1em; padding-right: 1em; text-align: center; vertical-align: top\">180000.0</td>\n",
       "        <td style=\"padding-left: 1em; padding-right: 1em; text-align: center; vertical-align: top\">2.0</td>\n",
       "        <td style=\"padding-left: 1em; padding-right: 1em; text-align: center; vertical-align: top\">1.0</td>\n",
       "        <td style=\"padding-left: 1em; padding-right: 1em; text-align: center; vertical-align: top\">770.0</td>\n",
       "        <td style=\"padding-left: 1em; padding-right: 1em; text-align: center; vertical-align: top\">10000.0</td>\n",
       "        <td style=\"padding-left: 1em; padding-right: 1em; text-align: center; vertical-align: top\">1.0</td>\n",
       "        <td style=\"padding-left: 1em; padding-right: 1em; text-align: center; vertical-align: top\">0</td>\n",
       "    </tr>\n",
       "    <tr>\n",
       "        <td style=\"padding-left: 1em; padding-right: 1em; text-align: center; vertical-align: top\">2487200875</td>\n",
       "        <td style=\"padding-left: 1em; padding-right: 1em; text-align: center; vertical-align: top\">2014-12-09 00:00:00+00:00</td>\n",
       "        <td style=\"padding-left: 1em; padding-right: 1em; text-align: center; vertical-align: top\">604000.0</td>\n",
       "        <td style=\"padding-left: 1em; padding-right: 1em; text-align: center; vertical-align: top\">4.0</td>\n",
       "        <td style=\"padding-left: 1em; padding-right: 1em; text-align: center; vertical-align: top\">3.0</td>\n",
       "        <td style=\"padding-left: 1em; padding-right: 1em; text-align: center; vertical-align: top\">1960.0</td>\n",
       "        <td style=\"padding-left: 1em; padding-right: 1em; text-align: center; vertical-align: top\">5000.0</td>\n",
       "        <td style=\"padding-left: 1em; padding-right: 1em; text-align: center; vertical-align: top\">1.0</td>\n",
       "        <td style=\"padding-left: 1em; padding-right: 1em; text-align: center; vertical-align: top\">0</td>\n",
       "    </tr>\n",
       "    <tr>\n",
       "        <td style=\"padding-left: 1em; padding-right: 1em; text-align: center; vertical-align: top\">1954400510</td>\n",
       "        <td style=\"padding-left: 1em; padding-right: 1em; text-align: center; vertical-align: top\">2015-02-18 00:00:00+00:00</td>\n",
       "        <td style=\"padding-left: 1em; padding-right: 1em; text-align: center; vertical-align: top\">510000.0</td>\n",
       "        <td style=\"padding-left: 1em; padding-right: 1em; text-align: center; vertical-align: top\">3.0</td>\n",
       "        <td style=\"padding-left: 1em; padding-right: 1em; text-align: center; vertical-align: top\">2.0</td>\n",
       "        <td style=\"padding-left: 1em; padding-right: 1em; text-align: center; vertical-align: top\">1680.0</td>\n",
       "        <td style=\"padding-left: 1em; padding-right: 1em; text-align: center; vertical-align: top\">8080.0</td>\n",
       "        <td style=\"padding-left: 1em; padding-right: 1em; text-align: center; vertical-align: top\">1.0</td>\n",
       "        <td style=\"padding-left: 1em; padding-right: 1em; text-align: center; vertical-align: top\">0</td>\n",
       "    </tr>\n",
       "    <tr>\n",
       "        <td style=\"padding-left: 1em; padding-right: 1em; text-align: center; vertical-align: top\">7237550310</td>\n",
       "        <td style=\"padding-left: 1em; padding-right: 1em; text-align: center; vertical-align: top\">2014-05-12 00:00:00+00:00</td>\n",
       "        <td style=\"padding-left: 1em; padding-right: 1em; text-align: center; vertical-align: top\">1225000.0</td>\n",
       "        <td style=\"padding-left: 1em; padding-right: 1em; text-align: center; vertical-align: top\">4.0</td>\n",
       "        <td style=\"padding-left: 1em; padding-right: 1em; text-align: center; vertical-align: top\">4.5</td>\n",
       "        <td style=\"padding-left: 1em; padding-right: 1em; text-align: center; vertical-align: top\">5420.0</td>\n",
       "        <td style=\"padding-left: 1em; padding-right: 1em; text-align: center; vertical-align: top\">101930.0</td>\n",
       "        <td style=\"padding-left: 1em; padding-right: 1em; text-align: center; vertical-align: top\">1.0</td>\n",
       "        <td style=\"padding-left: 1em; padding-right: 1em; text-align: center; vertical-align: top\">0</td>\n",
       "    </tr>\n",
       "    <tr>\n",
       "        <td style=\"padding-left: 1em; padding-right: 1em; text-align: center; vertical-align: top\">1321400060</td>\n",
       "        <td style=\"padding-left: 1em; padding-right: 1em; text-align: center; vertical-align: top\">2014-06-27 00:00:00+00:00</td>\n",
       "        <td style=\"padding-left: 1em; padding-right: 1em; text-align: center; vertical-align: top\">257500.0</td>\n",
       "        <td style=\"padding-left: 1em; padding-right: 1em; text-align: center; vertical-align: top\">3.0</td>\n",
       "        <td style=\"padding-left: 1em; padding-right: 1em; text-align: center; vertical-align: top\">2.25</td>\n",
       "        <td style=\"padding-left: 1em; padding-right: 1em; text-align: center; vertical-align: top\">1715.0</td>\n",
       "        <td style=\"padding-left: 1em; padding-right: 1em; text-align: center; vertical-align: top\">6819.0</td>\n",
       "        <td style=\"padding-left: 1em; padding-right: 1em; text-align: center; vertical-align: top\">2.0</td>\n",
       "        <td style=\"padding-left: 1em; padding-right: 1em; text-align: center; vertical-align: top\">0</td>\n",
       "    </tr>\n",
       "    <tr>\n",
       "        <td style=\"padding-left: 1em; padding-right: 1em; text-align: center; vertical-align: top\">2008000270</td>\n",
       "        <td style=\"padding-left: 1em; padding-right: 1em; text-align: center; vertical-align: top\">2015-01-15 00:00:00+00:00</td>\n",
       "        <td style=\"padding-left: 1em; padding-right: 1em; text-align: center; vertical-align: top\">291850.0</td>\n",
       "        <td style=\"padding-left: 1em; padding-right: 1em; text-align: center; vertical-align: top\">3.0</td>\n",
       "        <td style=\"padding-left: 1em; padding-right: 1em; text-align: center; vertical-align: top\">1.5</td>\n",
       "        <td style=\"padding-left: 1em; padding-right: 1em; text-align: center; vertical-align: top\">1060.0</td>\n",
       "        <td style=\"padding-left: 1em; padding-right: 1em; text-align: center; vertical-align: top\">9711.0</td>\n",
       "        <td style=\"padding-left: 1em; padding-right: 1em; text-align: center; vertical-align: top\">1.0</td>\n",
       "        <td style=\"padding-left: 1em; padding-right: 1em; text-align: center; vertical-align: top\">0</td>\n",
       "    </tr>\n",
       "    <tr>\n",
       "        <td style=\"padding-left: 1em; padding-right: 1em; text-align: center; vertical-align: top\">2414600126</td>\n",
       "        <td style=\"padding-left: 1em; padding-right: 1em; text-align: center; vertical-align: top\">2015-04-15 00:00:00+00:00</td>\n",
       "        <td style=\"padding-left: 1em; padding-right: 1em; text-align: center; vertical-align: top\">229500.0</td>\n",
       "        <td style=\"padding-left: 1em; padding-right: 1em; text-align: center; vertical-align: top\">3.0</td>\n",
       "        <td style=\"padding-left: 1em; padding-right: 1em; text-align: center; vertical-align: top\">1.0</td>\n",
       "        <td style=\"padding-left: 1em; padding-right: 1em; text-align: center; vertical-align: top\">1780.0</td>\n",
       "        <td style=\"padding-left: 1em; padding-right: 1em; text-align: center; vertical-align: top\">7470.0</td>\n",
       "        <td style=\"padding-left: 1em; padding-right: 1em; text-align: center; vertical-align: top\">1.0</td>\n",
       "        <td style=\"padding-left: 1em; padding-right: 1em; text-align: center; vertical-align: top\">0</td>\n",
       "    </tr>\n",
       "    <tr>\n",
       "        <td style=\"padding-left: 1em; padding-right: 1em; text-align: center; vertical-align: top\">3793500160</td>\n",
       "        <td style=\"padding-left: 1em; padding-right: 1em; text-align: center; vertical-align: top\">2015-03-12 00:00:00+00:00</td>\n",
       "        <td style=\"padding-left: 1em; padding-right: 1em; text-align: center; vertical-align: top\">323000.0</td>\n",
       "        <td style=\"padding-left: 1em; padding-right: 1em; text-align: center; vertical-align: top\">3.0</td>\n",
       "        <td style=\"padding-left: 1em; padding-right: 1em; text-align: center; vertical-align: top\">2.5</td>\n",
       "        <td style=\"padding-left: 1em; padding-right: 1em; text-align: center; vertical-align: top\">1890.0</td>\n",
       "        <td style=\"padding-left: 1em; padding-right: 1em; text-align: center; vertical-align: top\">6560.0</td>\n",
       "        <td style=\"padding-left: 1em; padding-right: 1em; text-align: center; vertical-align: top\">2.0</td>\n",
       "        <td style=\"padding-left: 1em; padding-right: 1em; text-align: center; vertical-align: top\">0</td>\n",
       "    </tr>\n",
       "</table>\n",
       "<table frame=\"box\" rules=\"cols\">\n",
       "    <tr>\n",
       "        <th style=\"padding-left: 1em; padding-right: 1em; text-align: center\">view</th>\n",
       "        <th style=\"padding-left: 1em; padding-right: 1em; text-align: center\">condition</th>\n",
       "        <th style=\"padding-left: 1em; padding-right: 1em; text-align: center\">grade</th>\n",
       "        <th style=\"padding-left: 1em; padding-right: 1em; text-align: center\">sqft_above</th>\n",
       "        <th style=\"padding-left: 1em; padding-right: 1em; text-align: center\">sqft_basement</th>\n",
       "        <th style=\"padding-left: 1em; padding-right: 1em; text-align: center\">yr_built</th>\n",
       "        <th style=\"padding-left: 1em; padding-right: 1em; text-align: center\">yr_renovated</th>\n",
       "        <th style=\"padding-left: 1em; padding-right: 1em; text-align: center\">zipcode</th>\n",
       "        <th style=\"padding-left: 1em; padding-right: 1em; text-align: center\">lat</th>\n",
       "    </tr>\n",
       "    <tr>\n",
       "        <td style=\"padding-left: 1em; padding-right: 1em; text-align: center; vertical-align: top\">0</td>\n",
       "        <td style=\"padding-left: 1em; padding-right: 1em; text-align: center; vertical-align: top\">3</td>\n",
       "        <td style=\"padding-left: 1em; padding-right: 1em; text-align: center; vertical-align: top\">7.0</td>\n",
       "        <td style=\"padding-left: 1em; padding-right: 1em; text-align: center; vertical-align: top\">1180.0</td>\n",
       "        <td style=\"padding-left: 1em; padding-right: 1em; text-align: center; vertical-align: top\">0.0</td>\n",
       "        <td style=\"padding-left: 1em; padding-right: 1em; text-align: center; vertical-align: top\">1955.0</td>\n",
       "        <td style=\"padding-left: 1em; padding-right: 1em; text-align: center; vertical-align: top\">0.0</td>\n",
       "        <td style=\"padding-left: 1em; padding-right: 1em; text-align: center; vertical-align: top\">98178</td>\n",
       "        <td style=\"padding-left: 1em; padding-right: 1em; text-align: center; vertical-align: top\">47.51123398</td>\n",
       "    </tr>\n",
       "    <tr>\n",
       "        <td style=\"padding-left: 1em; padding-right: 1em; text-align: center; vertical-align: top\">0</td>\n",
       "        <td style=\"padding-left: 1em; padding-right: 1em; text-align: center; vertical-align: top\">3</td>\n",
       "        <td style=\"padding-left: 1em; padding-right: 1em; text-align: center; vertical-align: top\">7.0</td>\n",
       "        <td style=\"padding-left: 1em; padding-right: 1em; text-align: center; vertical-align: top\">2170.0</td>\n",
       "        <td style=\"padding-left: 1em; padding-right: 1em; text-align: center; vertical-align: top\">400.0</td>\n",
       "        <td style=\"padding-left: 1em; padding-right: 1em; text-align: center; vertical-align: top\">1951.0</td>\n",
       "        <td style=\"padding-left: 1em; padding-right: 1em; text-align: center; vertical-align: top\">1991.0</td>\n",
       "        <td style=\"padding-left: 1em; padding-right: 1em; text-align: center; vertical-align: top\">98125</td>\n",
       "        <td style=\"padding-left: 1em; padding-right: 1em; text-align: center; vertical-align: top\">47.72102274</td>\n",
       "    </tr>\n",
       "    <tr>\n",
       "        <td style=\"padding-left: 1em; padding-right: 1em; text-align: center; vertical-align: top\">0</td>\n",
       "        <td style=\"padding-left: 1em; padding-right: 1em; text-align: center; vertical-align: top\">3</td>\n",
       "        <td style=\"padding-left: 1em; padding-right: 1em; text-align: center; vertical-align: top\">6.0</td>\n",
       "        <td style=\"padding-left: 1em; padding-right: 1em; text-align: center; vertical-align: top\">770.0</td>\n",
       "        <td style=\"padding-left: 1em; padding-right: 1em; text-align: center; vertical-align: top\">0.0</td>\n",
       "        <td style=\"padding-left: 1em; padding-right: 1em; text-align: center; vertical-align: top\">1933.0</td>\n",
       "        <td style=\"padding-left: 1em; padding-right: 1em; text-align: center; vertical-align: top\">0.0</td>\n",
       "        <td style=\"padding-left: 1em; padding-right: 1em; text-align: center; vertical-align: top\">98028</td>\n",
       "        <td style=\"padding-left: 1em; padding-right: 1em; text-align: center; vertical-align: top\">47.73792661</td>\n",
       "    </tr>\n",
       "    <tr>\n",
       "        <td style=\"padding-left: 1em; padding-right: 1em; text-align: center; vertical-align: top\">0</td>\n",
       "        <td style=\"padding-left: 1em; padding-right: 1em; text-align: center; vertical-align: top\">5</td>\n",
       "        <td style=\"padding-left: 1em; padding-right: 1em; text-align: center; vertical-align: top\">7.0</td>\n",
       "        <td style=\"padding-left: 1em; padding-right: 1em; text-align: center; vertical-align: top\">1050.0</td>\n",
       "        <td style=\"padding-left: 1em; padding-right: 1em; text-align: center; vertical-align: top\">910.0</td>\n",
       "        <td style=\"padding-left: 1em; padding-right: 1em; text-align: center; vertical-align: top\">1965.0</td>\n",
       "        <td style=\"padding-left: 1em; padding-right: 1em; text-align: center; vertical-align: top\">0.0</td>\n",
       "        <td style=\"padding-left: 1em; padding-right: 1em; text-align: center; vertical-align: top\">98136</td>\n",
       "        <td style=\"padding-left: 1em; padding-right: 1em; text-align: center; vertical-align: top\">47.52082</td>\n",
       "    </tr>\n",
       "    <tr>\n",
       "        <td style=\"padding-left: 1em; padding-right: 1em; text-align: center; vertical-align: top\">0</td>\n",
       "        <td style=\"padding-left: 1em; padding-right: 1em; text-align: center; vertical-align: top\">3</td>\n",
       "        <td style=\"padding-left: 1em; padding-right: 1em; text-align: center; vertical-align: top\">8.0</td>\n",
       "        <td style=\"padding-left: 1em; padding-right: 1em; text-align: center; vertical-align: top\">1680.0</td>\n",
       "        <td style=\"padding-left: 1em; padding-right: 1em; text-align: center; vertical-align: top\">0.0</td>\n",
       "        <td style=\"padding-left: 1em; padding-right: 1em; text-align: center; vertical-align: top\">1987.0</td>\n",
       "        <td style=\"padding-left: 1em; padding-right: 1em; text-align: center; vertical-align: top\">0.0</td>\n",
       "        <td style=\"padding-left: 1em; padding-right: 1em; text-align: center; vertical-align: top\">98074</td>\n",
       "        <td style=\"padding-left: 1em; padding-right: 1em; text-align: center; vertical-align: top\">47.61681228</td>\n",
       "    </tr>\n",
       "    <tr>\n",
       "        <td style=\"padding-left: 1em; padding-right: 1em; text-align: center; vertical-align: top\">0</td>\n",
       "        <td style=\"padding-left: 1em; padding-right: 1em; text-align: center; vertical-align: top\">3</td>\n",
       "        <td style=\"padding-left: 1em; padding-right: 1em; text-align: center; vertical-align: top\">11.0</td>\n",
       "        <td style=\"padding-left: 1em; padding-right: 1em; text-align: center; vertical-align: top\">3890.0</td>\n",
       "        <td style=\"padding-left: 1em; padding-right: 1em; text-align: center; vertical-align: top\">1530.0</td>\n",
       "        <td style=\"padding-left: 1em; padding-right: 1em; text-align: center; vertical-align: top\">2001.0</td>\n",
       "        <td style=\"padding-left: 1em; padding-right: 1em; text-align: center; vertical-align: top\">0.0</td>\n",
       "        <td style=\"padding-left: 1em; padding-right: 1em; text-align: center; vertical-align: top\">98053</td>\n",
       "        <td style=\"padding-left: 1em; padding-right: 1em; text-align: center; vertical-align: top\">47.65611835</td>\n",
       "    </tr>\n",
       "    <tr>\n",
       "        <td style=\"padding-left: 1em; padding-right: 1em; text-align: center; vertical-align: top\">0</td>\n",
       "        <td style=\"padding-left: 1em; padding-right: 1em; text-align: center; vertical-align: top\">3</td>\n",
       "        <td style=\"padding-left: 1em; padding-right: 1em; text-align: center; vertical-align: top\">7.0</td>\n",
       "        <td style=\"padding-left: 1em; padding-right: 1em; text-align: center; vertical-align: top\">1715.0</td>\n",
       "        <td style=\"padding-left: 1em; padding-right: 1em; text-align: center; vertical-align: top\">0.0</td>\n",
       "        <td style=\"padding-left: 1em; padding-right: 1em; text-align: center; vertical-align: top\">1995.0</td>\n",
       "        <td style=\"padding-left: 1em; padding-right: 1em; text-align: center; vertical-align: top\">0.0</td>\n",
       "        <td style=\"padding-left: 1em; padding-right: 1em; text-align: center; vertical-align: top\">98003</td>\n",
       "        <td style=\"padding-left: 1em; padding-right: 1em; text-align: center; vertical-align: top\">47.30972002</td>\n",
       "    </tr>\n",
       "    <tr>\n",
       "        <td style=\"padding-left: 1em; padding-right: 1em; text-align: center; vertical-align: top\">0</td>\n",
       "        <td style=\"padding-left: 1em; padding-right: 1em; text-align: center; vertical-align: top\">3</td>\n",
       "        <td style=\"padding-left: 1em; padding-right: 1em; text-align: center; vertical-align: top\">7.0</td>\n",
       "        <td style=\"padding-left: 1em; padding-right: 1em; text-align: center; vertical-align: top\">1060.0</td>\n",
       "        <td style=\"padding-left: 1em; padding-right: 1em; text-align: center; vertical-align: top\">0.0</td>\n",
       "        <td style=\"padding-left: 1em; padding-right: 1em; text-align: center; vertical-align: top\">1963.0</td>\n",
       "        <td style=\"padding-left: 1em; padding-right: 1em; text-align: center; vertical-align: top\">0.0</td>\n",
       "        <td style=\"padding-left: 1em; padding-right: 1em; text-align: center; vertical-align: top\">98198</td>\n",
       "        <td style=\"padding-left: 1em; padding-right: 1em; text-align: center; vertical-align: top\">47.40949984</td>\n",
       "    </tr>\n",
       "    <tr>\n",
       "        <td style=\"padding-left: 1em; padding-right: 1em; text-align: center; vertical-align: top\">0</td>\n",
       "        <td style=\"padding-left: 1em; padding-right: 1em; text-align: center; vertical-align: top\">3</td>\n",
       "        <td style=\"padding-left: 1em; padding-right: 1em; text-align: center; vertical-align: top\">7.0</td>\n",
       "        <td style=\"padding-left: 1em; padding-right: 1em; text-align: center; vertical-align: top\">1050.0</td>\n",
       "        <td style=\"padding-left: 1em; padding-right: 1em; text-align: center; vertical-align: top\">730.0</td>\n",
       "        <td style=\"padding-left: 1em; padding-right: 1em; text-align: center; vertical-align: top\">1960.0</td>\n",
       "        <td style=\"padding-left: 1em; padding-right: 1em; text-align: center; vertical-align: top\">0.0</td>\n",
       "        <td style=\"padding-left: 1em; padding-right: 1em; text-align: center; vertical-align: top\">98146</td>\n",
       "        <td style=\"padding-left: 1em; padding-right: 1em; text-align: center; vertical-align: top\">47.51229381</td>\n",
       "    </tr>\n",
       "    <tr>\n",
       "        <td style=\"padding-left: 1em; padding-right: 1em; text-align: center; vertical-align: top\">0</td>\n",
       "        <td style=\"padding-left: 1em; padding-right: 1em; text-align: center; vertical-align: top\">3</td>\n",
       "        <td style=\"padding-left: 1em; padding-right: 1em; text-align: center; vertical-align: top\">7.0</td>\n",
       "        <td style=\"padding-left: 1em; padding-right: 1em; text-align: center; vertical-align: top\">1890.0</td>\n",
       "        <td style=\"padding-left: 1em; padding-right: 1em; text-align: center; vertical-align: top\">0.0</td>\n",
       "        <td style=\"padding-left: 1em; padding-right: 1em; text-align: center; vertical-align: top\">2003.0</td>\n",
       "        <td style=\"padding-left: 1em; padding-right: 1em; text-align: center; vertical-align: top\">0.0</td>\n",
       "        <td style=\"padding-left: 1em; padding-right: 1em; text-align: center; vertical-align: top\">98038</td>\n",
       "        <td style=\"padding-left: 1em; padding-right: 1em; text-align: center; vertical-align: top\">47.36840673</td>\n",
       "    </tr>\n",
       "</table>\n",
       "<table frame=\"box\" rules=\"cols\">\n",
       "    <tr>\n",
       "        <th style=\"padding-left: 1em; padding-right: 1em; text-align: center\">long</th>\n",
       "        <th style=\"padding-left: 1em; padding-right: 1em; text-align: center\">sqft_living15</th>\n",
       "        <th style=\"padding-left: 1em; padding-right: 1em; text-align: center\">sqft_lot15</th>\n",
       "    </tr>\n",
       "    <tr>\n",
       "        <td style=\"padding-left: 1em; padding-right: 1em; text-align: center; vertical-align: top\">-122.25677536</td>\n",
       "        <td style=\"padding-left: 1em; padding-right: 1em; text-align: center; vertical-align: top\">1340.0</td>\n",
       "        <td style=\"padding-left: 1em; padding-right: 1em; text-align: center; vertical-align: top\">5650.0</td>\n",
       "    </tr>\n",
       "    <tr>\n",
       "        <td style=\"padding-left: 1em; padding-right: 1em; text-align: center; vertical-align: top\">-122.3188624</td>\n",
       "        <td style=\"padding-left: 1em; padding-right: 1em; text-align: center; vertical-align: top\">1690.0</td>\n",
       "        <td style=\"padding-left: 1em; padding-right: 1em; text-align: center; vertical-align: top\">7639.0</td>\n",
       "    </tr>\n",
       "    <tr>\n",
       "        <td style=\"padding-left: 1em; padding-right: 1em; text-align: center; vertical-align: top\">-122.23319601</td>\n",
       "        <td style=\"padding-left: 1em; padding-right: 1em; text-align: center; vertical-align: top\">2720.0</td>\n",
       "        <td style=\"padding-left: 1em; padding-right: 1em; text-align: center; vertical-align: top\">8062.0</td>\n",
       "    </tr>\n",
       "    <tr>\n",
       "        <td style=\"padding-left: 1em; padding-right: 1em; text-align: center; vertical-align: top\">-122.39318505</td>\n",
       "        <td style=\"padding-left: 1em; padding-right: 1em; text-align: center; vertical-align: top\">1360.0</td>\n",
       "        <td style=\"padding-left: 1em; padding-right: 1em; text-align: center; vertical-align: top\">5000.0</td>\n",
       "    </tr>\n",
       "    <tr>\n",
       "        <td style=\"padding-left: 1em; padding-right: 1em; text-align: center; vertical-align: top\">-122.04490059</td>\n",
       "        <td style=\"padding-left: 1em; padding-right: 1em; text-align: center; vertical-align: top\">1800.0</td>\n",
       "        <td style=\"padding-left: 1em; padding-right: 1em; text-align: center; vertical-align: top\">7503.0</td>\n",
       "    </tr>\n",
       "    <tr>\n",
       "        <td style=\"padding-left: 1em; padding-right: 1em; text-align: center; vertical-align: top\">-122.00528655</td>\n",
       "        <td style=\"padding-left: 1em; padding-right: 1em; text-align: center; vertical-align: top\">4760.0</td>\n",
       "        <td style=\"padding-left: 1em; padding-right: 1em; text-align: center; vertical-align: top\">101930.0</td>\n",
       "    </tr>\n",
       "    <tr>\n",
       "        <td style=\"padding-left: 1em; padding-right: 1em; text-align: center; vertical-align: top\">-122.32704857</td>\n",
       "        <td style=\"padding-left: 1em; padding-right: 1em; text-align: center; vertical-align: top\">2238.0</td>\n",
       "        <td style=\"padding-left: 1em; padding-right: 1em; text-align: center; vertical-align: top\">6819.0</td>\n",
       "    </tr>\n",
       "    <tr>\n",
       "        <td style=\"padding-left: 1em; padding-right: 1em; text-align: center; vertical-align: top\">-122.31457273</td>\n",
       "        <td style=\"padding-left: 1em; padding-right: 1em; text-align: center; vertical-align: top\">1650.0</td>\n",
       "        <td style=\"padding-left: 1em; padding-right: 1em; text-align: center; vertical-align: top\">9711.0</td>\n",
       "    </tr>\n",
       "    <tr>\n",
       "        <td style=\"padding-left: 1em; padding-right: 1em; text-align: center; vertical-align: top\">-122.33659507</td>\n",
       "        <td style=\"padding-left: 1em; padding-right: 1em; text-align: center; vertical-align: top\">1780.0</td>\n",
       "        <td style=\"padding-left: 1em; padding-right: 1em; text-align: center; vertical-align: top\">8113.0</td>\n",
       "    </tr>\n",
       "    <tr>\n",
       "        <td style=\"padding-left: 1em; padding-right: 1em; text-align: center; vertical-align: top\">-122.0308176</td>\n",
       "        <td style=\"padding-left: 1em; padding-right: 1em; text-align: center; vertical-align: top\">2390.0</td>\n",
       "        <td style=\"padding-left: 1em; padding-right: 1em; text-align: center; vertical-align: top\">7570.0</td>\n",
       "    </tr>\n",
       "</table>\n",
       "[21613 rows x 21 columns]<br/>Note: Only the head of the SFrame is printed.<br/>You can use print_rows(num_rows=m, num_columns=n) to print more rows and columns.\n",
       "</div>"
      ],
      "text/plain": [
       "Columns:\n",
       "\tid\tstr\n",
       "\tdate\tdatetime\n",
       "\tprice\tfloat\n",
       "\tbedrooms\tfloat\n",
       "\tbathrooms\tfloat\n",
       "\tsqft_living\tfloat\n",
       "\tsqft_lot\tfloat\n",
       "\tfloors\tfloat\n",
       "\twaterfront\tint\n",
       "\tview\tint\n",
       "\tcondition\tint\n",
       "\tgrade\tfloat\n",
       "\tsqft_above\tfloat\n",
       "\tsqft_basement\tfloat\n",
       "\tyr_built\tfloat\n",
       "\tyr_renovated\tfloat\n",
       "\tzipcode\tstr\n",
       "\tlat\tfloat\n",
       "\tlong\tfloat\n",
       "\tsqft_living15\tfloat\n",
       "\tsqft_lot15\tfloat\n",
       "\n",
       "Rows: 21613\n",
       "\n",
       "Data:\n",
       "+------------+---------------------------+-----------+----------+-----------+\n",
       "|     id     |            date           |   price   | bedrooms | bathrooms |\n",
       "+------------+---------------------------+-----------+----------+-----------+\n",
       "| 7129300520 | 2014-10-13 00:00:00+00:00 |  221900.0 |   3.0    |    1.0    |\n",
       "| 6414100192 | 2014-12-09 00:00:00+00:00 |  538000.0 |   3.0    |    2.25   |\n",
       "| 5631500400 | 2015-02-25 00:00:00+00:00 |  180000.0 |   2.0    |    1.0    |\n",
       "| 2487200875 | 2014-12-09 00:00:00+00:00 |  604000.0 |   4.0    |    3.0    |\n",
       "| 1954400510 | 2015-02-18 00:00:00+00:00 |  510000.0 |   3.0    |    2.0    |\n",
       "| 7237550310 | 2014-05-12 00:00:00+00:00 | 1225000.0 |   4.0    |    4.5    |\n",
       "| 1321400060 | 2014-06-27 00:00:00+00:00 |  257500.0 |   3.0    |    2.25   |\n",
       "| 2008000270 | 2015-01-15 00:00:00+00:00 |  291850.0 |   3.0    |    1.5    |\n",
       "| 2414600126 | 2015-04-15 00:00:00+00:00 |  229500.0 |   3.0    |    1.0    |\n",
       "| 3793500160 | 2015-03-12 00:00:00+00:00 |  323000.0 |   3.0    |    2.5    |\n",
       "+------------+---------------------------+-----------+----------+-----------+\n",
       "+-------------+----------+--------+------------+------+-----------+-------+\n",
       "| sqft_living | sqft_lot | floors | waterfront | view | condition | grade |\n",
       "+-------------+----------+--------+------------+------+-----------+-------+\n",
       "|    1180.0   |  5650.0  |  1.0   |     0      |  0   |     3     |  7.0  |\n",
       "|    2570.0   |  7242.0  |  2.0   |     0      |  0   |     3     |  7.0  |\n",
       "|    770.0    | 10000.0  |  1.0   |     0      |  0   |     3     |  6.0  |\n",
       "|    1960.0   |  5000.0  |  1.0   |     0      |  0   |     5     |  7.0  |\n",
       "|    1680.0   |  8080.0  |  1.0   |     0      |  0   |     3     |  8.0  |\n",
       "|    5420.0   | 101930.0 |  1.0   |     0      |  0   |     3     |  11.0 |\n",
       "|    1715.0   |  6819.0  |  2.0   |     0      |  0   |     3     |  7.0  |\n",
       "|    1060.0   |  9711.0  |  1.0   |     0      |  0   |     3     |  7.0  |\n",
       "|    1780.0   |  7470.0  |  1.0   |     0      |  0   |     3     |  7.0  |\n",
       "|    1890.0   |  6560.0  |  2.0   |     0      |  0   |     3     |  7.0  |\n",
       "+-------------+----------+--------+------------+------+-----------+-------+\n",
       "+------------+---------------+----------+--------------+---------+-------------+\n",
       "| sqft_above | sqft_basement | yr_built | yr_renovated | zipcode |     lat     |\n",
       "+------------+---------------+----------+--------------+---------+-------------+\n",
       "|   1180.0   |      0.0      |  1955.0  |     0.0      |  98178  | 47.51123398 |\n",
       "|   2170.0   |     400.0     |  1951.0  |    1991.0    |  98125  | 47.72102274 |\n",
       "|   770.0    |      0.0      |  1933.0  |     0.0      |  98028  | 47.73792661 |\n",
       "|   1050.0   |     910.0     |  1965.0  |     0.0      |  98136  |   47.52082  |\n",
       "|   1680.0   |      0.0      |  1987.0  |     0.0      |  98074  | 47.61681228 |\n",
       "|   3890.0   |     1530.0    |  2001.0  |     0.0      |  98053  | 47.65611835 |\n",
       "|   1715.0   |      0.0      |  1995.0  |     0.0      |  98003  | 47.30972002 |\n",
       "|   1060.0   |      0.0      |  1963.0  |     0.0      |  98198  | 47.40949984 |\n",
       "|   1050.0   |     730.0     |  1960.0  |     0.0      |  98146  | 47.51229381 |\n",
       "|   1890.0   |      0.0      |  2003.0  |     0.0      |  98038  | 47.36840673 |\n",
       "+------------+---------------+----------+--------------+---------+-------------+\n",
       "+---------------+---------------+-----+\n",
       "|      long     | sqft_living15 | ... |\n",
       "+---------------+---------------+-----+\n",
       "| -122.25677536 |     1340.0    | ... |\n",
       "|  -122.3188624 |     1690.0    | ... |\n",
       "| -122.23319601 |     2720.0    | ... |\n",
       "| -122.39318505 |     1360.0    | ... |\n",
       "| -122.04490059 |     1800.0    | ... |\n",
       "| -122.00528655 |     4760.0    | ... |\n",
       "| -122.32704857 |     2238.0    | ... |\n",
       "| -122.31457273 |     1650.0    | ... |\n",
       "| -122.33659507 |     1780.0    | ... |\n",
       "|  -122.0308176 |     2390.0    | ... |\n",
       "+---------------+---------------+-----+\n",
       "[21613 rows x 21 columns]\n",
       "Note: Only the head of the SFrame is printed.\n",
       "You can use print_rows(num_rows=m, num_columns=n) to print more rows and columns."
      ]
     },
     "execution_count": 20,
     "metadata": {},
     "output_type": "execute_result"
    }
   ],
   "source": [
    "sales"
   ]
  },
  {
   "cell_type": "code",
   "execution_count": 23,
   "metadata": {},
   "outputs": [
    {
     "name": "stdout",
     "output_type": "stream",
     "text": [
      "0.4215518437977143\n"
     ]
    }
   ],
   "source": [
    "space = sales['sqft_living']\n",
    "\n",
    "count = 0\n",
    "for i in range(len(space)):\n",
    "    if ((space[i] > 2000) & (space[i] < 4000)):\n",
    "        count = count + 1\n",
    "        \n",
    "print(count / len(space))"
   ]
  },
  {
   "cell_type": "code",
   "execution_count": 29,
   "metadata": {},
   "outputs": [],
   "source": [
    "advanced_features = ['bedrooms', 'bathrooms', 'sqft_living', 'sqft_lot', 'floors', 'zipcode', 'condition', 'grade',\n",
    "                     'waterfront', 'view', 'sqft_above', 'sqft_basement', 'yr_built', 'yr_renovated', 'lat', \n",
    "                     'long', 'sqft_living15', 'sqft_lot15']\n",
    "\n",
    "my_features = ['bedrooms', 'bathrooms', 'sqft_living', 'sqft_lot', 'floors', 'zipcode']"
   ]
  },
  {
   "cell_type": "code",
   "execution_count": 30,
   "metadata": {},
   "outputs": [],
   "source": [
    "training_set, test_set = sales.random_split(.8,seed=0)"
   ]
  },
  {
   "cell_type": "code",
   "execution_count": 34,
   "metadata": {},
   "outputs": [
    {
     "name": "stdout",
     "output_type": "stream",
     "text": [
      "PROGRESS: Creating a validation set from 5 percent of training data. This may take a while.\n",
      "          You can set ``validation_set=None`` to disable validation tracking.\n",
      "\n"
     ]
    },
    {
     "data": {
      "text/html": [
       "<pre>Linear regression:</pre>"
      ],
      "text/plain": [
       "Linear regression:"
      ]
     },
     "metadata": {},
     "output_type": "display_data"
    },
    {
     "data": {
      "text/html": [
       "<pre>--------------------------------------------------------</pre>"
      ],
      "text/plain": [
       "--------------------------------------------------------"
      ]
     },
     "metadata": {},
     "output_type": "display_data"
    },
    {
     "data": {
      "text/html": [
       "<pre>Number of examples          : 16514</pre>"
      ],
      "text/plain": [
       "Number of examples          : 16514"
      ]
     },
     "metadata": {},
     "output_type": "display_data"
    },
    {
     "data": {
      "text/html": [
       "<pre>Number of features          : 6</pre>"
      ],
      "text/plain": [
       "Number of features          : 6"
      ]
     },
     "metadata": {},
     "output_type": "display_data"
    },
    {
     "data": {
      "text/html": [
       "<pre>Number of unpacked features : 6</pre>"
      ],
      "text/plain": [
       "Number of unpacked features : 6"
      ]
     },
     "metadata": {},
     "output_type": "display_data"
    },
    {
     "data": {
      "text/html": [
       "<pre>Number of coefficients    : 75</pre>"
      ],
      "text/plain": [
       "Number of coefficients    : 75"
      ]
     },
     "metadata": {},
     "output_type": "display_data"
    },
    {
     "data": {
      "text/html": [
       "<pre>Starting Newton Method</pre>"
      ],
      "text/plain": [
       "Starting Newton Method"
      ]
     },
     "metadata": {},
     "output_type": "display_data"
    },
    {
     "data": {
      "text/html": [
       "<pre>--------------------------------------------------------</pre>"
      ],
      "text/plain": [
       "--------------------------------------------------------"
      ]
     },
     "metadata": {},
     "output_type": "display_data"
    },
    {
     "data": {
      "text/html": [
       "<pre>+-----------+----------+--------------+--------------------+----------------------+---------------------------------+-----------------------------------+</pre>"
      ],
      "text/plain": [
       "+-----------+----------+--------------+--------------------+----------------------+---------------------------------+-----------------------------------+"
      ]
     },
     "metadata": {},
     "output_type": "display_data"
    },
    {
     "data": {
      "text/html": [
       "<pre>| Iteration | Passes   | Elapsed Time | Training Max Error | Validation Max Error | Training Root-Mean-Square Error | Validation Root-Mean-Square Error |</pre>"
      ],
      "text/plain": [
       "| Iteration | Passes   | Elapsed Time | Training Max Error | Validation Max Error | Training Root-Mean-Square Error | Validation Root-Mean-Square Error |"
      ]
     },
     "metadata": {},
     "output_type": "display_data"
    },
    {
     "data": {
      "text/html": [
       "<pre>+-----------+----------+--------------+--------------------+----------------------+---------------------------------+-----------------------------------+</pre>"
      ],
      "text/plain": [
       "+-----------+----------+--------------+--------------------+----------------------+---------------------------------+-----------------------------------+"
      ]
     },
     "metadata": {},
     "output_type": "display_data"
    },
    {
     "data": {
      "text/html": [
       "<pre>| 1         | 2        | 0.096825     | 4084879.067944     | 2780853.316473       | 189164.370502                   | 190806.459832                     |</pre>"
      ],
      "text/plain": [
       "| 1         | 2        | 0.096825     | 4084879.067944     | 2780853.316473       | 189164.370502                   | 190806.459832                     |"
      ]
     },
     "metadata": {},
     "output_type": "display_data"
    },
    {
     "data": {
      "text/html": [
       "<pre>+-----------+----------+--------------+--------------------+----------------------+---------------------------------+-----------------------------------+</pre>"
      ],
      "text/plain": [
       "+-----------+----------+--------------+--------------------+----------------------+---------------------------------+-----------------------------------+"
      ]
     },
     "metadata": {},
     "output_type": "display_data"
    },
    {
     "data": {
      "text/html": [
       "<pre>SUCCESS: Optimal solution found.</pre>"
      ],
      "text/plain": [
       "SUCCESS: Optimal solution found."
      ]
     },
     "metadata": {},
     "output_type": "display_data"
    },
    {
     "data": {
      "text/html": [
       "<pre></pre>"
      ],
      "text/plain": []
     },
     "metadata": {},
     "output_type": "display_data"
    }
   ],
   "source": [
    "less_features_model = turicreate.linear_regression.create(training_set,target='price',features=my_features)"
   ]
  },
  {
   "cell_type": "code",
   "execution_count": 35,
   "metadata": {},
   "outputs": [
    {
     "name": "stdout",
     "output_type": "stream",
     "text": [
      "PROGRESS: Creating a validation set from 5 percent of training data. This may take a while.\n",
      "          You can set ``validation_set=None`` to disable validation tracking.\n",
      "\n"
     ]
    },
    {
     "data": {
      "text/html": [
       "<pre>Linear regression:</pre>"
      ],
      "text/plain": [
       "Linear regression:"
      ]
     },
     "metadata": {},
     "output_type": "display_data"
    },
    {
     "data": {
      "text/html": [
       "<pre>--------------------------------------------------------</pre>"
      ],
      "text/plain": [
       "--------------------------------------------------------"
      ]
     },
     "metadata": {},
     "output_type": "display_data"
    },
    {
     "data": {
      "text/html": [
       "<pre>Number of examples          : 16514</pre>"
      ],
      "text/plain": [
       "Number of examples          : 16514"
      ]
     },
     "metadata": {},
     "output_type": "display_data"
    },
    {
     "data": {
      "text/html": [
       "<pre>Number of features          : 18</pre>"
      ],
      "text/plain": [
       "Number of features          : 18"
      ]
     },
     "metadata": {},
     "output_type": "display_data"
    },
    {
     "data": {
      "text/html": [
       "<pre>Number of unpacked features : 18</pre>"
      ],
      "text/plain": [
       "Number of unpacked features : 18"
      ]
     },
     "metadata": {},
     "output_type": "display_data"
    },
    {
     "data": {
      "text/html": [
       "<pre>Number of coefficients    : 87</pre>"
      ],
      "text/plain": [
       "Number of coefficients    : 87"
      ]
     },
     "metadata": {},
     "output_type": "display_data"
    },
    {
     "data": {
      "text/html": [
       "<pre>Starting Newton Method</pre>"
      ],
      "text/plain": [
       "Starting Newton Method"
      ]
     },
     "metadata": {},
     "output_type": "display_data"
    },
    {
     "data": {
      "text/html": [
       "<pre>--------------------------------------------------------</pre>"
      ],
      "text/plain": [
       "--------------------------------------------------------"
      ]
     },
     "metadata": {},
     "output_type": "display_data"
    },
    {
     "data": {
      "text/html": [
       "<pre>+-----------+----------+--------------+--------------------+----------------------+---------------------------------+-----------------------------------+</pre>"
      ],
      "text/plain": [
       "+-----------+----------+--------------+--------------------+----------------------+---------------------------------+-----------------------------------+"
      ]
     },
     "metadata": {},
     "output_type": "display_data"
    },
    {
     "data": {
      "text/html": [
       "<pre>| Iteration | Passes   | Elapsed Time | Training Max Error | Validation Max Error | Training Root-Mean-Square Error | Validation Root-Mean-Square Error |</pre>"
      ],
      "text/plain": [
       "| Iteration | Passes   | Elapsed Time | Training Max Error | Validation Max Error | Training Root-Mean-Square Error | Validation Root-Mean-Square Error |"
      ]
     },
     "metadata": {},
     "output_type": "display_data"
    },
    {
     "data": {
      "text/html": [
       "<pre>+-----------+----------+--------------+--------------------+----------------------+---------------------------------+-----------------------------------+</pre>"
      ],
      "text/plain": [
       "+-----------+----------+--------------+--------------------+----------------------+---------------------------------+-----------------------------------+"
      ]
     },
     "metadata": {},
     "output_type": "display_data"
    },
    {
     "data": {
      "text/html": [
       "<pre>| 1         | 2        | 0.157644     | 4335767.887222     | 2333690.984209       | 161878.780846                   | 172543.587464                     |</pre>"
      ],
      "text/plain": [
       "| 1         | 2        | 0.157644     | 4335767.887222     | 2333690.984209       | 161878.780846                   | 172543.587464                     |"
      ]
     },
     "metadata": {},
     "output_type": "display_data"
    },
    {
     "data": {
      "text/html": [
       "<pre>| 2         | 3        | 0.258776     | 4335767.887218     | 2333690.984194       | 161878.780846                   | 172543.587464                     |</pre>"
      ],
      "text/plain": [
       "| 2         | 3        | 0.258776     | 4335767.887218     | 2333690.984194       | 161878.780846                   | 172543.587464                     |"
      ]
     },
     "metadata": {},
     "output_type": "display_data"
    },
    {
     "data": {
      "text/html": [
       "<pre>+-----------+----------+--------------+--------------------+----------------------+---------------------------------+-----------------------------------+</pre>"
      ],
      "text/plain": [
       "+-----------+----------+--------------+--------------------+----------------------+---------------------------------+-----------------------------------+"
      ]
     },
     "metadata": {},
     "output_type": "display_data"
    },
    {
     "data": {
      "text/html": [
       "<pre>SUCCESS: Optimal solution found.</pre>"
      ],
      "text/plain": [
       "SUCCESS: Optimal solution found."
      ]
     },
     "metadata": {},
     "output_type": "display_data"
    },
    {
     "data": {
      "text/html": [
       "<pre></pre>"
      ],
      "text/plain": []
     },
     "metadata": {},
     "output_type": "display_data"
    }
   ],
   "source": [
    "adv_features_model = turicreate.linear_regression.create(training_set,target='price',features=advanced_features)"
   ]
  },
  {
   "cell_type": "code",
   "execution_count": 36,
   "metadata": {},
   "outputs": [
    {
     "name": "stdout",
     "output_type": "stream",
     "text": [
      "{'max_error': 3181903.813569387, 'rmse': 180646.62006763296}\n",
      "{'max_error': 3164037.1583518055, 'rmse': 155290.39904337045}\n"
     ]
    }
   ],
   "source": [
    "print(less_features_model.evaluate(test_set))\n",
    "print(adv_features_model.evaluate(test_set))"
   ]
  },
  {
   "cell_type": "markdown",
   "metadata": {},
   "source": [
    "# Assignment 3\n",
    "## Week 3"
   ]
  },
  {
   "cell_type": "code",
   "execution_count": 75,
   "metadata": {},
   "outputs": [
    {
     "data": {
      "text/html": [
       "<div style=\"max-height:1000px;max-width:1500px;overflow:auto;\"><table frame=\"box\" rules=\"cols\">\n",
       "    <tr>\n",
       "        <th style=\"padding-left: 1em; padding-right: 1em; text-align: center\">name</th>\n",
       "        <th style=\"padding-left: 1em; padding-right: 1em; text-align: center\">review</th>\n",
       "        <th style=\"padding-left: 1em; padding-right: 1em; text-align: center\">rating</th>\n",
       "    </tr>\n",
       "    <tr>\n",
       "        <td style=\"padding-left: 1em; padding-right: 1em; text-align: center; vertical-align: top\">Planetwise Flannel Wipes</td>\n",
       "        <td style=\"padding-left: 1em; padding-right: 1em; text-align: center; vertical-align: top\">These flannel wipes are<br>OK, but in my opinion ...</td>\n",
       "        <td style=\"padding-left: 1em; padding-right: 1em; text-align: center; vertical-align: top\">3.0</td>\n",
       "    </tr>\n",
       "    <tr>\n",
       "        <td style=\"padding-left: 1em; padding-right: 1em; text-align: center; vertical-align: top\">Planetwise Wipe Pouch</td>\n",
       "        <td style=\"padding-left: 1em; padding-right: 1em; text-align: center; vertical-align: top\">it came early and was not<br>disappointed. i love ...</td>\n",
       "        <td style=\"padding-left: 1em; padding-right: 1em; text-align: center; vertical-align: top\">5.0</td>\n",
       "    </tr>\n",
       "    <tr>\n",
       "        <td style=\"padding-left: 1em; padding-right: 1em; text-align: center; vertical-align: top\">Annas Dream Full Quilt<br>with 2 Shams ...</td>\n",
       "        <td style=\"padding-left: 1em; padding-right: 1em; text-align: center; vertical-align: top\">Very soft and comfortable<br>and warmer than it ...</td>\n",
       "        <td style=\"padding-left: 1em; padding-right: 1em; text-align: center; vertical-align: top\">5.0</td>\n",
       "    </tr>\n",
       "    <tr>\n",
       "        <td style=\"padding-left: 1em; padding-right: 1em; text-align: center; vertical-align: top\">Stop Pacifier Sucking<br>without tears with ...</td>\n",
       "        <td style=\"padding-left: 1em; padding-right: 1em; text-align: center; vertical-align: top\">This is a product well<br>worth the purchase.  I ...</td>\n",
       "        <td style=\"padding-left: 1em; padding-right: 1em; text-align: center; vertical-align: top\">5.0</td>\n",
       "    </tr>\n",
       "    <tr>\n",
       "        <td style=\"padding-left: 1em; padding-right: 1em; text-align: center; vertical-align: top\">Stop Pacifier Sucking<br>without tears with ...</td>\n",
       "        <td style=\"padding-left: 1em; padding-right: 1em; text-align: center; vertical-align: top\">All of my kids have cried<br>non-stop when I tried to ...</td>\n",
       "        <td style=\"padding-left: 1em; padding-right: 1em; text-align: center; vertical-align: top\">5.0</td>\n",
       "    </tr>\n",
       "    <tr>\n",
       "        <td style=\"padding-left: 1em; padding-right: 1em; text-align: center; vertical-align: top\">Stop Pacifier Sucking<br>without tears with ...</td>\n",
       "        <td style=\"padding-left: 1em; padding-right: 1em; text-align: center; vertical-align: top\">When the Binky Fairy came<br>to our house, we didn&#x27;t ...</td>\n",
       "        <td style=\"padding-left: 1em; padding-right: 1em; text-align: center; vertical-align: top\">5.0</td>\n",
       "    </tr>\n",
       "    <tr>\n",
       "        <td style=\"padding-left: 1em; padding-right: 1em; text-align: center; vertical-align: top\">A Tale of Baby&#x27;s Days<br>with Peter Rabbit ...</td>\n",
       "        <td style=\"padding-left: 1em; padding-right: 1em; text-align: center; vertical-align: top\">Lovely book, it&#x27;s bound<br>tightly so you may no ...</td>\n",
       "        <td style=\"padding-left: 1em; padding-right: 1em; text-align: center; vertical-align: top\">4.0</td>\n",
       "    </tr>\n",
       "    <tr>\n",
       "        <td style=\"padding-left: 1em; padding-right: 1em; text-align: center; vertical-align: top\">Baby Tracker&amp;reg; - Daily<br>Childcare Journal, ...</td>\n",
       "        <td style=\"padding-left: 1em; padding-right: 1em; text-align: center; vertical-align: top\">Perfect for new parents.<br>We were able to keep ...</td>\n",
       "        <td style=\"padding-left: 1em; padding-right: 1em; text-align: center; vertical-align: top\">5.0</td>\n",
       "    </tr>\n",
       "    <tr>\n",
       "        <td style=\"padding-left: 1em; padding-right: 1em; text-align: center; vertical-align: top\">Baby Tracker&amp;reg; - Daily<br>Childcare Journal, ...</td>\n",
       "        <td style=\"padding-left: 1em; padding-right: 1em; text-align: center; vertical-align: top\">A friend of mine pinned<br>this product on Pinte ...</td>\n",
       "        <td style=\"padding-left: 1em; padding-right: 1em; text-align: center; vertical-align: top\">5.0</td>\n",
       "    </tr>\n",
       "    <tr>\n",
       "        <td style=\"padding-left: 1em; padding-right: 1em; text-align: center; vertical-align: top\">Baby Tracker&amp;reg; - Daily<br>Childcare Journal, ...</td>\n",
       "        <td style=\"padding-left: 1em; padding-right: 1em; text-align: center; vertical-align: top\">This has been an easy way<br>for my nanny to record ...</td>\n",
       "        <td style=\"padding-left: 1em; padding-right: 1em; text-align: center; vertical-align: top\">4.0</td>\n",
       "    </tr>\n",
       "</table>\n",
       "[183531 rows x 3 columns]<br/>Note: Only the head of the SFrame is printed.<br/>You can use print_rows(num_rows=m, num_columns=n) to print more rows and columns.\n",
       "</div>"
      ],
      "text/plain": [
       "Columns:\n",
       "\tname\tstr\n",
       "\treview\tstr\n",
       "\trating\tfloat\n",
       "\n",
       "Rows: 183531\n",
       "\n",
       "Data:\n",
       "+-------------------------------+-------------------------------+--------+\n",
       "|              name             |             review            | rating |\n",
       "+-------------------------------+-------------------------------+--------+\n",
       "|    Planetwise Flannel Wipes   | These flannel wipes are OK... |  3.0   |\n",
       "|     Planetwise Wipe Pouch     | it came early and was not ... |  5.0   |\n",
       "| Annas Dream Full Quilt wit... | Very soft and comfortable ... |  5.0   |\n",
       "| Stop Pacifier Sucking with... | This is a product well wor... |  5.0   |\n",
       "| Stop Pacifier Sucking with... | All of my kids have cried ... |  5.0   |\n",
       "| Stop Pacifier Sucking with... | When the Binky Fairy came ... |  5.0   |\n",
       "| A Tale of Baby's Days with... | Lovely book, it's bound ti... |  4.0   |\n",
       "| Baby Tracker&reg; - Daily ... | Perfect for new parents. W... |  5.0   |\n",
       "| Baby Tracker&reg; - Daily ... | A friend of mine pinned th... |  5.0   |\n",
       "| Baby Tracker&reg; - Daily ... | This has been an easy way ... |  4.0   |\n",
       "+-------------------------------+-------------------------------+--------+\n",
       "[183531 rows x 3 columns]\n",
       "Note: Only the head of the SFrame is printed.\n",
       "You can use print_rows(num_rows=m, num_columns=n) to print more rows and columns."
      ]
     },
     "execution_count": 75,
     "metadata": {},
     "output_type": "execute_result"
    }
   ],
   "source": [
    "import turicreate\n",
    "\n",
    "import zipfile\n",
    "local_zip = 'amazon_baby.sframe.zip'\n",
    "zip_ref = zipfile.ZipFile(local_zip, 'r')\n",
    "zip_ref.extractall()\n",
    "zip_ref.close()\n",
    "\n",
    "\n",
    "products = turicreate.SFrame('amazon_baby.sframe')\n",
    "\n",
    "products"
   ]
  },
  {
   "cell_type": "code",
   "execution_count": 76,
   "metadata": {},
   "outputs": [
    {
     "data": {
      "text/plain": [
       "dtype: str\n",
       "Rows: 183531\n",
       "['These flannel wipes are OK, but in my opinion not worth keeping   I also ordered someImse Vimse Cloth Wipes-Ocean Blue-12 countwhich are larger, had a nicer, softer texture and just seemed higher quality   I use cloth wipes for hands and faces and have been usingThirsties 6 Pack Fab Wipes, Boyfor about 8 months now and need to replace them because they are starting to get rough and have had stink issues for a while that stripping no longer handles ', 'it came early and was not disappointed  i love planet wise bags and now my wipe holder  it keps my osocozy wipes moist and does not leak  highly recommend it ', 'Very soft and comfortable and warmer than it looks   fit the full size bed perfectly   would recommend to anyone looking for this type of quilt', 'This is a product well worth the purchase   I have not found anything else like this, and it is a positive, ingenious approach to losing the binky   What I love most about this product is how much ownership my daughter has in getting rid of the binky   She is so proud of herself, and loves her little fairy   I love the artwork, the chart in the back, and the clever approach of this tool ', \"All of my kids have cried non-stop when I tried to ween them off their pacifier, until I found Thumbuddy To Love's Binky Fairy Puppet   It is an easy way to work with your kids to allow them to understand where their pacifier is going and help them part from it This is a must buy book, and a great gift for expecting parents!!  You will save them soo many headaches Thanks for this book!  You all rock!!\", \"When the Binky Fairy came to our house, we didn't have any special gift and book to help explain to her about how important it is to stop using a pacifier  This book does a great job to help prepare your child for the loss of their favorite item  The doll is adorable and we made lots of cute movies with the Binky Fairy telling our daughter about what happens when the Binky Fairy comes  I would highly recommend this product for any parent trying to break the pacifier or thumb sucking habit \", \"Lovely book, it's bound tightly so you may not be able to add alot of photos/cards aside from the designated spaces in the book  Shop around before you purchase, as it is currently listed at Barnes & Noble for 29 95!\", \"Perfect for new parents  We were able to keep track of baby's feeding, sleep and diaper change schedule for the first two and a half months of her life  Made life easier when the doctor would ask questions about habits because we had it all right there!\", 'A friend of mine pinned this product on Pinterest so I decided to give it a whirl! It is fantastic! If you are a new parent, this will help you keep track of feedings, diaper changes and the like!', \"This has been an easy way for my nanny to record all the key events that happen with my baby when I'm not at home   Would highly recommend it to someone who wants to stay informed of what your baby is up to while you're not home The only reason this isn't a 5 is because I think there could have been some more standarad pre-printed options I plan on ordering another one when we run out of pages in this journal \", \"I love this journal and our nanny uses it everyday to track on our daughter's sleep, eating and other activities  The layout and design make it very easy to fill in quickly with a comments column to add in details (i e  we ask the nanny to specify what food she had for lunch, amount of milk she took, specifics of play time--tummy time, walk to park, etc ) I love knowing the details of my baby's day, and I also use it to track weekly on overall schedule patterns and changes (i e  baby's nap time has moved naturally as she gets older) My only complaint is that there is no real space to communicate back to the nanny, as I sometimes want to reply to the nanny's comments and/or leave her notes about the previous night (i e  Baby didn't sleep well or baby has rash, etc) or other instructions (Please use sun screen on the baby - it's hot out today) that I often forget to tell her in the rush of the morning  I just stick in post-its now for my notes  All in all, I highly recommend this baby tracker \", \"This book is perfect!  I'm a first time new mom, and this book made it so easy to keep track of feedings, diaper changes, sleep   Definitely would recommend this for new moms   Plus it's small enough that I throw in the diaper back for doctor visits \", \"I originally just gave the nanny a pad of paper to write down this information for my little one  She would take him to the park and leave the pad behind - I was getting incomplete/inaccurate information when she wohld get home at the end of the day and try to remember naps/feedings/diaper changes  I wanted something she could take with her and also a way to better control how she reported information  This was the perfect solution! Now I'm getting all the information I wanted  There is a very helpful example of how to fill it out  It also has a pouch for additional documents and a section up front for emergency contact info  Each page goes from 7 - 6  This works for me because the nanny starts at 7am and ends before 6pm  I use an app on my phone for tracking when I'm with the baby  I transfer the info from this notebook to my phone  My only complaint: the space is pretty small - they provide useful shorthand, but it's a little difficult to fit some of the info in the space provided  Also, some of the other reviews complain about the 7 - 6 time format  This isn't a real problem for me, but I suppose if you wanted to track an entire day, you would have to use two pages - not too big of a deal  7am - 6pm is pretty much perfect for daycare/nanny/caregiver situation \", \"I thought keeping a simple handwritten journal would be nice   But I haven't used this thing at all, and here's why:1 ) When you're breastfeeding, it's often nice to have your phone close by so that you can keep yourself entertained   If you are able to grab *both* your phone and this notebook - and a pen - consistently - and at 3 in the morning - you are more skilled than me   (I don't nurse in the same place every time )2 ) You're also often so sleep deprived that - at least for me - I'd forget to look at what time we started on a side, or what side we started on   I'm not perfect with the app I have either, but at least I just have to mindlessly hit a button 3 ) I really like the app I have (Baby Connect)   It gives me better data   For example, it can tell me how long on average feedings have been taking (helpful as we start to think about sleep training)   It can tell me that I nursed him 177 times last month (granted that serves no useful purpose other than a feeling of perverse satisfaction) \", 'Space for monthly photos, info and a lot of useful stickers come with it  It is exactly what I wanted!!', 'I bought this calender for myself for my second son  It is very colorful and has room on each page to write height, weight, and what baby likes to do  There is also room on each page for a photo to be placed  The calender date boxes have room for a sticker and some fine writing  My only complaint is that it does not have as many stickers as I would like, but I just put asterisks before whatever special event happened that day  I bought one for a friend as she found it very useful as well ', \"I love this little calender, you can keep track of all of baby's firsts  I like the illustrations, and the stickers too \", 'This was the only calender I could find for the second year  I did one for the first and wanted to continue cause there are so many things to note still after they turn 1  This one was better than the first year one I got him ', \"I completed a calendar for my son's first year and really enjoyed tracking all of his milestones and special moments - so much so that I wanted to continue in the second year since he's still doing amazing and fun things every day   I really like the simple layout of the calendar and while it might not have all the questions and milestone stickers you want - at least it's something to keep recording all those special moments!\", \"We wanted to get something to keep track of our child's milestones and this is a cute option  There aren't many other choices out there and this does exactly what we wanted \", \"I had a hard time finding a second year calendar, this is the only one I came across and it is great!  Large enough to write in the squares and has a spot to put that month's picture in as well as some memories  The first two years they change so much I like to jot everything down so I can keep track of all the big milestones   and little ones!  I find it is easier to do this on a calendar vs a baby book   This way you can fill out the baby book later and have a great reference to do so!\", \"I only purchased a second-year calendar for my son because I had one for my daughter  I was really disappointed with the lack of selection available for second-year calendars in general, so I just got this one because it was one of the only ones  It's an okay calendar  The finish on the pages is glossy which makes it hard to write on with certain pens  The stickers aren't very cute and the pages are pretty old-fashioned looking  Hopefully they will come out with some other calendars for future purchasers \", \"I LOVE this calendar for recording events of my son's second year of life   There are plenty of 1st year baby calendars out there and I loved reocording events of his first year and didn't want to just stop now that he is one   Nature's lullabies second year calendar is perfect for continuing on with daily record keeping   The stickers are wonderful and helped me think of milestones to record that I might not have thought of on my own   I highly recommend this calendar!  Plus it's super cute and brat for either gender \", 'Calendar is exactly as described, but I find the look of it to be very cheap   There are lots of nice stickers to use   I was just disappointed it looks so cheap ', 'Wife loves this calender  Comes with a lot of stickers and options to mark the firsts  Includes spaces for milestone photos as well  Sticker borders for photos, etc, it is just a very easy to use scrap booking option  Especially for new moms who dont have enough time to actually sit down, and haul out a ton of scrapbook supplies', 'My daughter had her 1st baby over a year ago  She did receive and fill up a First Year Calendar  When her son was nearing his first birthday she was looking for a Second Year Calendar to record his milestones  Thanks to Amazon I was able to get this for her and she LOVES it  Tender sweet art work - helpful stickers - unique pages to fill  A nice keepsake  A wonderful gift for a one-year old!', 'Extremely useful! As a new mom, tired and inexpedient, not remembering how long ago baby ate, this definitely helped me through the first two months ', \"My son loves peek a boo at this age of 9 months so I thought this book would be perfect! This book doesn't engage him enough though it seems   He does however like the cover the most if I make pretend blow-kisses and peekaboo gestures with the hands and show him  He also likes when I fan the hair towards his face Maybe when he's older he will flip the flaps but right now he just likes the mirror at the end and the front cover  If I flip the book through he just takes the book and shakes it around \", \"One of baby's first and favorite books, and it is washable! I gave 1 less star than perfect because I'd like to see some diversity in the people - not just your typical white family ;)\", 'I like how the book has a hook to attach it to your stroller or car seat - it wont get lost   Great way to go over family members ', 'Beautiful little book   A great little short story saying I Love You    Keeps the attention of the baby and then the baby can actually turn the pages and hold on to it when you are finished interacting with it ', \"This book is so worth the money  It says 9+ months on the box but I can't wait for my baby to be born to try to use it before  It's so cute and very interactive! There are flaps to open on every page \", 'we just got this book for our one-year-old and she loves it   It\\'s so nice that she can\\'t bite chunks out of it like she can a board book or rip it like a paper one   She can chew on it, pull on it, and carry it all over the house!  She loves the little flaps that open and is learning simple words like \"daddy,\" \"mommy,\" \"puppy,\" etc   We love it ', \"The book is colorful and is perfect for 6months and older  The only thing I didn't like was the strong smell of the dyes and/or material  I dunked the pages in detergent  Then let the book dry overnight \", 'The book is cute, and we are huge fans of Lamaze products, however, this one leaves out some family members (no little brother) and can possibly cause hurt feelings  That said, our baby loves to play with the hands, hair and flaps!', \"What a great book for babies!  I'd been looking for books which couldn't be damaged by my 10-month old's drool   so cloth or plastic books were my options   This book adds another level to your usual cloth book--a fun flap or moving part on every page   This interactive book is perfect for my baby!\", \"My son loved this book as an infant   It was perfect because he would chew on his board books and destroy them, but this one we didn't have that issue   I love the Lamaze series, they are a lot of fun not only for the child but for the parent I liked that this book was not only teaching my son about Peek a Boo, but we used it to learn names for family members like grandparents, sister, cat, dog etc   And of course with it being a lift the flap book, that was additional fun for my son as well   He's nearly two now and he doesn't look at it as much, but he still does enjoy reading it and playing with it now and again   I'd say out of all the Lamaze books, this one and Discovery Farm are his favorites \", 'Our baby loves this book & has loved it for a while now     He enjoys when I read it to him, and enjoys playing with it on his own ', '', \"My son likes brushing elmo's teeth  Almost too nice of a book to let the kids play with haha :)\", 'This was a birthday present for my 2 year old grandchildren   They love this book and will sit and go through it page by page themselves    The pictures are imaginative and appeal to young children   Would buy it again!', \"This bear is absolutely adorable and I would give it a 5 star rating if it actually giggled or growled like it was suppose to!  I just got it in the mail the other day and was super excited when I saw how cute it was!  If it's something as simple as a dead battery I could handle it BUT I can't even find a place where the batteries would to!  Such a disappointment    it's going back and I have no gift to take down to my new Granddaughter, Kenzie, now!\", 'My baby absolutely loves Elmo and so this book seemed perfect for her   I\\'m happy to say I was right:  this book is nice and soft and beautifully illustrated so my little one takes it everywhere and \"reads\" it all of the time  While Elmo is the main character of because he hides on each page, other Sesame Street characters are also featured which is fun, too  Another great, interactive, Elmo centric book that I would recommend for the Sesame Street/Elmo lovers is \"Twinkle, Twinkle Elmo\" (which is also available on Amazon for a great price) ', \"I bought two for recent baby showers!  The book is soft and interactive, great for any baby, and the bright colors are beautiful   Lastly, who doesn't love Elmo!\", 'We wanted to get another book like the Big Birds Friends softplay book, and we only found the two Elmo books  This one is fun, but the Big Bird book has more variety and is more creative ', \"This is a cute little peek-a-boo story book   It's soft   It's safe   And it is easy for baby to handle \", 'My 3 month old son loves this book  We read it over and over and he smiles and laughs every time we find Elmo and say &#34;peekaboo Elmo!&#34;  We have a few different soft books and this is the most colorful and fun to read  And baby adores it, so 5 stars for sure ', 'Very cute interactive book! My son loves this book! The bright colorful illustrations make this great for babies & toddlers ', 'Bought for granddauchildren and they play with them all the time   Love reading to them   Soft, so if they fall on them, they are safe  When they use the Elmo book, the kiss Elmo   Got when they were 9 mos, now they are two and we are still having fun with them   They love to see how high they can stack the blocks before it falls over   I buy as a baby present ', \"I have teething babies and these were great for entertaining the, and letting them chew and droll all over the, without worrying about ruining them  They were great for setting them off to their side to encourage rolling over and crawling  Great Christmas gift for the younger baby and didn't break the bank \", 'This book is boring  Nothing to stimulate my granddaughter  It is a waste of money  I would not recommend it', 'It is so hard to find cloth books with ACTUAL images on them! So many have unrealistic portrayals of what animals/objects look like, but this one is fantastic  EXACTLY what we were looking for!!When we teach our 1 year old what a \"lion\" is, we want to show him a REAL lion    not a drawing that looks nothing like a real lion ', 'for the young child, very cute   so happy they can &#34; read&#34; something there is little or no chance of them destroying  many happy reading memories', 'not bad but not as interesting to my 1-year old as I thought  Mot interactive [texture, etc] but cute anyway', \"A friend bought me this calendar when our daughter was born   Love it!  It's so fun and will be a great momento \", 'Quick and Easy to keep up with all the first milestones of a little one, especially for a busy, first-time Mom ', \"I searched high and low for a first year calendar and settled on this one based on the reviews   I am so happy that I did   Perfect for jotting down quick memories throughout the month and remembering dates of baby's &#34;firsts&#34;   Will be fun to look back on   Also has spots for personalization and pictures \", 'This is a very good gift for a new mother   You would want to give it to the parents as soon as baby is born so that they can start from the very beginning to chart the &#34;firsts&#34;   I had one of these calendars for each of my five children   They enjoy looking up their &#34;firsts&#34; especially as they are now parents themselves ', '', 'Absolutely love it and all of the Scripture in it   I purchased the Baby Boy version for my grandson when he was born and my daughter-in-law was thrilled to receive the same book again ', 'Bought as a gift for my daughter in law  She loved it  Simple but a place to put important memories down  I loved the verses at bottom of pages ', \"I didn't realize this was a religious product, so I almost returned it   (Not that I have anything against that, but some of the pages ask for favorite scripture, prayers for the baby, etc )  Wasn't sure that fir with out lifestyle, but the book has all the right ages for memories, so we are keeping it \", 'OMG     we loved this baby book! Perfect for the memories you want to remember when your little one gets bigger and starts asking questions  It even had a place for foot and hand prints for when your baby is born which is the main reason why we liked this one  Also it has pockets for keepsakes and little places to put first locks of hair    etc! So cute and is a great baby shower gift!', 'Beautiful book, I love it to record cherished times in my great granddaughters life with the beautiful pastel pink color ', \"Really happy with this purchase  I was looking for an english baby book (I'm French and the daddy is Flammish) and this is the perfect one  Lot of info to fill in : family, firsts   and mini pockets to preserve hair, maternity bracelet   Really happy!\", 'I was pleasantly surprised upon receiving the memory book entitled,  \"My Kindergarten Year\"  It is the perfect way to record one\\'s Kindergarten experience through photographs and detailed descriptions of this very important time in your child\\'s life  The questions are fun for your child to answer and record while serving its purpose for the parent I\\'d recommend this book to everyone with a Kindergartener ', \"I'm so glad I stumbled upon these gem  My son has already started answering questions and I think it will be a great memory to look back years later to see how he answered the questions \", \"The book is just a few pages long with a few words to each page   Just short enough to keep the attention of my 6 month old son   We have the Elephant as well so when he's older it will be neat to see the realization of the association between the stuffed toy and the book character\", 'This is well made a very pretty,   It gives a nice light and will be used for years   I recommend it highly   It also makes a great gift ', 'Try this out for a spring project !Easy ,fun and affordable wall decals    Fine quality and brightens up any room   5+ **********', 'The reason:Small sizeHard to apply on the wall because most part of flower only in one pieceYou will know how waste money it is when second day morning you see all the flowers fell on the floor in a roll ', 'Would not purchase again or recommend  The decals were thick almost plastic like and were coming off the wall as I was applying them! The would NOT stick! Literally stayed stuck for about 5 minutes then started peeling off ', \"I could not get these Winnie the Pooh themed wall decor stickers in New Zealand and these were a very cost effective option that I was very impressed with   They were easy to stick on and look fantastic on the wall - they don't &#34;look&#34; like stickers at all   Very professional and very seamless on the paintwork \", 'Very satisfied about the product, grat design, it came as ir said on page   I highly reccomend the product, and I follow buying more ', 'very nice Divine Mercy Pendant of Jesus now on chain around my neck   Love It!  Divine Mercy represents Jesuswho offers us an ocean of divine mercy   Pray to God for our country  You need HIM in your lives!', \"I love these wipes   They are so simple and soft and they are a great price for reusable wipes   They actually get my baby clean and dry during diaper changes   And I know that I'll find a million other uses for them after our diaper days are done   I'm ordering more of them right now!\", 'It is nice and looks great on my wall  It was just a bit smaller than what I thought, but that was my fault and not taking the measurements ', \"We bought the pins as my 6 year old Autistic son was able to open or break open normal safety pins we needed to use for his night time clothes   These new pins are significantly more sturdy and he hasn't learned how to open them and only once has he broken one open   I seem to recall that their shipping price was more than a bit on the high side of reasonable though given the size of the package   \", 'These were  good quality--worked fine--heavy duty--able to be used in any way needed and filled my need as no others', 'A great safety pin that has lots of uses   Easy to find with bright colors and a great bargain for a dozen ', 'While the diaper pins are attractive, the metal in the pins I received are flimsy and did not hold up to the thick fabric I used them on  Fortunately there was no baby involved, so no little on was stuck ', 'These diaper pins went to Honduras to hold the cloth diapers we also sent with the missionaries  It is difficult to find diaper pins in our &#34;disposable&#34; age  In Honduras, they do not have &#34;Pampers&#34;  They appreciated the kits we sent ', \"It has been many years since we needed diaper pins, but I do like to pin my socks together through the wash and have never lost one yet  I was using brass dressmaker pins but they tended to open up during the wash cycle  My wife suggested diaper pins and we tried them  Thery're working perfectly and staying together through the washing  Matter of fact they can get a little tricky to open, but of course that was the idea  Recommended to keep your socks &#34;friended up&#34; \", \"As another reviewer noted, these are great for matching socks before washing   Now once the socks come out of the washer, I hang them to dry with the pins still on   The socks stay on the line to dry without clothespins, they just hang with one sock on each side of the line   After they are dried, I just open the pin and leave it by the hamper on a shelf   As I put dirty socks into the hamper, I grab a pin and use it   Has saved a lot of time and I don't have the problem of lost socks or mismatched socks on my feet   Great idea and am glad I read about this here on the reviews   Wish I had done this my whole life \", 'The steel part is not strong at all, unlike the old diaper pins, which I still have   Very hard to work it through a thicker fabric   Would not recommend ', 'I really thought I was getting a dozen pins  turns out I should have counted the pins in the picture  as there are only 10  I am sad  and I think that they are overpriced  I only use them to mark yarn when I crochet so I will be going back to regular safety pins ', \"Like = sharp ends that pierce through my diapers easier   Dislike = the sides bend which is a pain   That said, I am pushing them through older velcro tabs because the velcro on my diapers doesn't work anymore \", 'These are the right color, so I am happy, but the steel on the needle bends easily, and is not as strong as I expected  I am pinning material for a dog bed with these, not diapers ', 'Diaper pins are hard to find locally!  This is a useful item to have - no matter the purpose   ', \"I am pleased with the design I just wish the actual picture was bigger an putting it together doesn't make sense the numbers aligned with the branches don't make any sense compared to the picture they give you as an instruction -- you have to sort of free hand  I had to start it half way up my wall so it made a difference an could actually be seen -- as far as it hold up I put it up about 2 weeks ago an it had not peeled off at all \", 'These do not stick to the wall  They start to peel as soon as you stick them to the wall ', \"Was so excited to get this product for my baby girls bedroom!  When I got it the back is NOT STICKY at all!  Every time I walked into the bedroom I was picking up pieces off of the floor!  Very very frustrating!  Ended up having to super glue it to the wall   very disappointing   I wouldn't waste the time or money on it \", 'I ordered this Rosary for a friend because it looked lovely in the photo and it is blessed by Pope Francis   I was not disappointed as it is just beautiful, made with crystal, and knotted in between the Our Fathers   I am giving this to my friend along with a copy of the novena of Our Lady Untier (or Undoer) of Knots, for whom Pope Francis has a strong devotion   I definitely recommend this Rosary and would buy it again in a heart beat ', 'An excellent value and quality for the price   Just right for wearing around the neck orattaching to a Brown Scapular or some such  And the Blessing makes the Item all the more Precious ', \"I was so excited to get this nativity   I have been watching it for months and I finally had an excuse to spend $25 00   It is beautiful and I am very happy with the look of the item   I am not so happy about the music box   The song is WAY too fast and it had to play it through once to even recognize the song   I don't know if there is a way to slow down a music box; if there is I wish someone would tell me   I still love the nativity but I am not as excited as I would be if the music had been right Buyer beware    beautiful nativity; not so great music\", \"  I am pleased with product  I love the bangles however they are a bit small  Had to slid them on with lotion  I like a snug fitting bangle but whew these were tough to get on!! If my hand was a hair bigger they wouldn't have fit  They are on to stay  I have small hands also  I got the size for large kid small adult and they fit wrist but tough over the hand  Overall satisfied with product and fast shipping!\", 'This was for my 2 yr  old great granddaughter and she has a lot of fun playing with the set and pretend cooking ', 'I like those bibs  they are very useful  easy to wash and dry  the price is awesome  My friends also like them very much ', 'This bibs provided very good protections for messy eaters, my grandson is a 20 months old beautiful boy who loves to eat his marinara pasta with his fingers  My daughter loved this bibs, pasta elbows or curls fall in the front pocket when missing the mouth  Easy to wash too ', \"This is such a cute ornament, I collect nativity ornaments and this is perfect for my collection! Can't wait to add it to my nativity tree!\", ... ]"
      ]
     },
     "execution_count": 76,
     "metadata": {},
     "output_type": "execute_result"
    }
   ],
   "source": [
    "selected_words = ['awesome', 'great', 'fantastic', 'amazing', 'love', 'horrible', 'bad', 'terrible', 'awful', \n",
    "                  'wow', 'hate']\n",
    "\n",
    "\n",
    "rows = 183531\n",
    "products['review'].apply(lambda x: x.replace('.', ' '))"
   ]
  },
  {
   "cell_type": "code",
   "execution_count": 77,
   "metadata": {},
   "outputs": [
    {
     "data": {
      "text/html": [
       "<div style=\"max-height:1000px;max-width:1500px;overflow:auto;\"><table frame=\"box\" rules=\"cols\">\n",
       "    <tr>\n",
       "        <th style=\"padding-left: 1em; padding-right: 1em; text-align: center\">name</th>\n",
       "        <th style=\"padding-left: 1em; padding-right: 1em; text-align: center\">review</th>\n",
       "        <th style=\"padding-left: 1em; padding-right: 1em; text-align: center\">rating</th>\n",
       "        <th style=\"padding-left: 1em; padding-right: 1em; text-align: center\">word_count</th>\n",
       "    </tr>\n",
       "    <tr>\n",
       "        <td style=\"padding-left: 1em; padding-right: 1em; text-align: center; vertical-align: top\">Planetwise Flannel Wipes</td>\n",
       "        <td style=\"padding-left: 1em; padding-right: 1em; text-align: center; vertical-align: top\">These flannel wipes are<br>OK, but in my opinion ...</td>\n",
       "        <td style=\"padding-left: 1em; padding-right: 1em; text-align: center; vertical-align: top\">3.0</td>\n",
       "        <td style=\"padding-left: 1em; padding-right: 1em; text-align: center; vertical-align: top\">{&#x27;handles&#x27;: 1.0,<br>&#x27;stripping&#x27;: 1.0, ...</td>\n",
       "    </tr>\n",
       "    <tr>\n",
       "        <td style=\"padding-left: 1em; padding-right: 1em; text-align: center; vertical-align: top\">Planetwise Wipe Pouch</td>\n",
       "        <td style=\"padding-left: 1em; padding-right: 1em; text-align: center; vertical-align: top\">it came early and was not<br>disappointed. i love ...</td>\n",
       "        <td style=\"padding-left: 1em; padding-right: 1em; text-align: center; vertical-align: top\">5.0</td>\n",
       "        <td style=\"padding-left: 1em; padding-right: 1em; text-align: center; vertical-align: top\">{&#x27;recommend&#x27;: 1.0,<br>&#x27;highly&#x27;: 1.0, ...</td>\n",
       "    </tr>\n",
       "    <tr>\n",
       "        <td style=\"padding-left: 1em; padding-right: 1em; text-align: center; vertical-align: top\">Annas Dream Full Quilt<br>with 2 Shams ...</td>\n",
       "        <td style=\"padding-left: 1em; padding-right: 1em; text-align: center; vertical-align: top\">Very soft and comfortable<br>and warmer than it ...</td>\n",
       "        <td style=\"padding-left: 1em; padding-right: 1em; text-align: center; vertical-align: top\">5.0</td>\n",
       "        <td style=\"padding-left: 1em; padding-right: 1em; text-align: center; vertical-align: top\">{&#x27;quilt&#x27;: 1.0, &#x27;of&#x27;: 1.0,<br>&#x27;the&#x27;: 1.0, &#x27;than&#x27;: 1.0, ...</td>\n",
       "    </tr>\n",
       "    <tr>\n",
       "        <td style=\"padding-left: 1em; padding-right: 1em; text-align: center; vertical-align: top\">Stop Pacifier Sucking<br>without tears with ...</td>\n",
       "        <td style=\"padding-left: 1em; padding-right: 1em; text-align: center; vertical-align: top\">This is a product well<br>worth the purchase.  I ...</td>\n",
       "        <td style=\"padding-left: 1em; padding-right: 1em; text-align: center; vertical-align: top\">5.0</td>\n",
       "        <td style=\"padding-left: 1em; padding-right: 1em; text-align: center; vertical-align: top\">{&#x27;tool&#x27;: 1.0, &#x27;clever&#x27;:<br>1.0, &#x27;approach&#x27;: 2.0, ...</td>\n",
       "    </tr>\n",
       "    <tr>\n",
       "        <td style=\"padding-left: 1em; padding-right: 1em; text-align: center; vertical-align: top\">Stop Pacifier Sucking<br>without tears with ...</td>\n",
       "        <td style=\"padding-left: 1em; padding-right: 1em; text-align: center; vertical-align: top\">All of my kids have cried<br>non-stop when I tried to ...</td>\n",
       "        <td style=\"padding-left: 1em; padding-right: 1em; text-align: center; vertical-align: top\">5.0</td>\n",
       "        <td style=\"padding-left: 1em; padding-right: 1em; text-align: center; vertical-align: top\">{&#x27;rock&#x27;: 1.0, &#x27;many&#x27;:<br>1.0, &#x27;headaches&#x27;: 1.0, ...</td>\n",
       "    </tr>\n",
       "    <tr>\n",
       "        <td style=\"padding-left: 1em; padding-right: 1em; text-align: center; vertical-align: top\">Stop Pacifier Sucking<br>without tears with ...</td>\n",
       "        <td style=\"padding-left: 1em; padding-right: 1em; text-align: center; vertical-align: top\">When the Binky Fairy came<br>to our house, we didn&#x27;t ...</td>\n",
       "        <td style=\"padding-left: 1em; padding-right: 1em; text-align: center; vertical-align: top\">5.0</td>\n",
       "        <td style=\"padding-left: 1em; padding-right: 1em; text-align: center; vertical-align: top\">{&#x27;thumb&#x27;: 1.0, &#x27;or&#x27;: 1.0,<br>&#x27;break&#x27;: 1.0, &#x27;trying&#x27;: ...</td>\n",
       "    </tr>\n",
       "    <tr>\n",
       "        <td style=\"padding-left: 1em; padding-right: 1em; text-align: center; vertical-align: top\">A Tale of Baby&#x27;s Days<br>with Peter Rabbit ...</td>\n",
       "        <td style=\"padding-left: 1em; padding-right: 1em; text-align: center; vertical-align: top\">Lovely book, it&#x27;s bound<br>tightly so you may no ...</td>\n",
       "        <td style=\"padding-left: 1em; padding-right: 1em; text-align: center; vertical-align: top\">4.0</td>\n",
       "        <td style=\"padding-left: 1em; padding-right: 1em; text-align: center; vertical-align: top\">{&#x27;for&#x27;: 1.0, &#x27;barnes&#x27;:<br>1.0, &#x27;at&#x27;: 1.0, &#x27;is&#x27;: ...</td>\n",
       "    </tr>\n",
       "    <tr>\n",
       "        <td style=\"padding-left: 1em; padding-right: 1em; text-align: center; vertical-align: top\">Baby Tracker&amp;reg; - Daily<br>Childcare Journal, ...</td>\n",
       "        <td style=\"padding-left: 1em; padding-right: 1em; text-align: center; vertical-align: top\">Perfect for new parents.<br>We were able to keep ...</td>\n",
       "        <td style=\"padding-left: 1em; padding-right: 1em; text-align: center; vertical-align: top\">5.0</td>\n",
       "        <td style=\"padding-left: 1em; padding-right: 1em; text-align: center; vertical-align: top\">{&#x27;right&#x27;: 1.0, &#x27;because&#x27;:<br>1.0, &#x27;questions&#x27;: 1.0, ...</td>\n",
       "    </tr>\n",
       "    <tr>\n",
       "        <td style=\"padding-left: 1em; padding-right: 1em; text-align: center; vertical-align: top\">Baby Tracker&amp;reg; - Daily<br>Childcare Journal, ...</td>\n",
       "        <td style=\"padding-left: 1em; padding-right: 1em; text-align: center; vertical-align: top\">A friend of mine pinned<br>this product on Pinte ...</td>\n",
       "        <td style=\"padding-left: 1em; padding-right: 1em; text-align: center; vertical-align: top\">5.0</td>\n",
       "        <td style=\"padding-left: 1em; padding-right: 1em; text-align: center; vertical-align: top\">{&#x27;like&#x27;: 1.0, &#x27;and&#x27;: 1.0,<br>&#x27;changes&#x27;: 1.0, &#x27;the&#x27;: ...</td>\n",
       "    </tr>\n",
       "    <tr>\n",
       "        <td style=\"padding-left: 1em; padding-right: 1em; text-align: center; vertical-align: top\">Baby Tracker&amp;reg; - Daily<br>Childcare Journal, ...</td>\n",
       "        <td style=\"padding-left: 1em; padding-right: 1em; text-align: center; vertical-align: top\">This has been an easy way<br>for my nanny to record ...</td>\n",
       "        <td style=\"padding-left: 1em; padding-right: 1em; text-align: center; vertical-align: top\">4.0</td>\n",
       "        <td style=\"padding-left: 1em; padding-right: 1em; text-align: center; vertical-align: top\">{&#x27;in&#x27;: 1.0, &#x27;pages&#x27;: 1.0,<br>&#x27;out&#x27;: 1.0, &#x27;run&#x27;: 1.0, ...</td>\n",
       "    </tr>\n",
       "</table>\n",
       "[183531 rows x 4 columns]<br/>Note: Only the head of the SFrame is printed.<br/>You can use print_rows(num_rows=m, num_columns=n) to print more rows and columns.\n",
       "</div>"
      ],
      "text/plain": [
       "Columns:\n",
       "\tname\tstr\n",
       "\treview\tstr\n",
       "\trating\tfloat\n",
       "\tword_count\tdict\n",
       "\n",
       "Rows: 183531\n",
       "\n",
       "Data:\n",
       "+-------------------------------+-------------------------------+--------+\n",
       "|              name             |             review            | rating |\n",
       "+-------------------------------+-------------------------------+--------+\n",
       "|    Planetwise Flannel Wipes   | These flannel wipes are OK... |  3.0   |\n",
       "|     Planetwise Wipe Pouch     | it came early and was not ... |  5.0   |\n",
       "| Annas Dream Full Quilt wit... | Very soft and comfortable ... |  5.0   |\n",
       "| Stop Pacifier Sucking with... | This is a product well wor... |  5.0   |\n",
       "| Stop Pacifier Sucking with... | All of my kids have cried ... |  5.0   |\n",
       "| Stop Pacifier Sucking with... | When the Binky Fairy came ... |  5.0   |\n",
       "| A Tale of Baby's Days with... | Lovely book, it's bound ti... |  4.0   |\n",
       "| Baby Tracker&reg; - Daily ... | Perfect for new parents. W... |  5.0   |\n",
       "| Baby Tracker&reg; - Daily ... | A friend of mine pinned th... |  5.0   |\n",
       "| Baby Tracker&reg; - Daily ... | This has been an easy way ... |  4.0   |\n",
       "+-------------------------------+-------------------------------+--------+\n",
       "+-------------------------------+\n",
       "|           word_count          |\n",
       "+-------------------------------+\n",
       "| {'handles': 1.0, 'strippin... |\n",
       "| {'recommend': 1.0, 'highly... |\n",
       "| {'quilt': 1.0, 'of': 1.0, ... |\n",
       "| {'tool': 1.0, 'clever': 1.... |\n",
       "| {'rock': 1.0, 'many': 1.0,... |\n",
       "| {'thumb': 1.0, 'or': 1.0, ... |\n",
       "| {'for': 1.0, 'barnes': 1.0... |\n",
       "| {'right': 1.0, 'because': ... |\n",
       "| {'like': 1.0, 'and': 1.0, ... |\n",
       "| {'in': 1.0, 'pages': 1.0, ... |\n",
       "+-------------------------------+\n",
       "[183531 rows x 4 columns]\n",
       "Note: Only the head of the SFrame is printed.\n",
       "You can use print_rows(num_rows=m, num_columns=n) to print more rows and columns."
      ]
     },
     "execution_count": 77,
     "metadata": {},
     "output_type": "execute_result"
    }
   ],
   "source": [
    "products['word_count'] = turicreate.text_analytics.count_words(products['review'])\n",
    "products"
   ]
  },
  {
   "cell_type": "code",
   "execution_count": 78,
   "metadata": {},
   "outputs": [
    {
     "data": {
      "text/html": [
       "<div style=\"max-height:1000px;max-width:1500px;overflow:auto;\"><table frame=\"box\" rules=\"cols\">\n",
       "    <tr>\n",
       "        <th style=\"padding-left: 1em; padding-right: 1em; text-align: center\">name</th>\n",
       "        <th style=\"padding-left: 1em; padding-right: 1em; text-align: center\">review</th>\n",
       "        <th style=\"padding-left: 1em; padding-right: 1em; text-align: center\">rating</th>\n",
       "        <th style=\"padding-left: 1em; padding-right: 1em; text-align: center\">word_count</th>\n",
       "        <th style=\"padding-left: 1em; padding-right: 1em; text-align: center\">awesome</th>\n",
       "        <th style=\"padding-left: 1em; padding-right: 1em; text-align: center\">great</th>\n",
       "    </tr>\n",
       "    <tr>\n",
       "        <td style=\"padding-left: 1em; padding-right: 1em; text-align: center; vertical-align: top\">Planetwise Flannel Wipes</td>\n",
       "        <td style=\"padding-left: 1em; padding-right: 1em; text-align: center; vertical-align: top\">These flannel wipes are<br>OK, but in my opinion ...</td>\n",
       "        <td style=\"padding-left: 1em; padding-right: 1em; text-align: center; vertical-align: top\">3.0</td>\n",
       "        <td style=\"padding-left: 1em; padding-right: 1em; text-align: center; vertical-align: top\">{&#x27;handles&#x27;: 1.0,<br>&#x27;stripping&#x27;: 1.0, ...</td>\n",
       "        <td style=\"padding-left: 1em; padding-right: 1em; text-align: center; vertical-align: top\">0.0</td>\n",
       "        <td style=\"padding-left: 1em; padding-right: 1em; text-align: center; vertical-align: top\">0.0</td>\n",
       "    </tr>\n",
       "    <tr>\n",
       "        <td style=\"padding-left: 1em; padding-right: 1em; text-align: center; vertical-align: top\">Planetwise Wipe Pouch</td>\n",
       "        <td style=\"padding-left: 1em; padding-right: 1em; text-align: center; vertical-align: top\">it came early and was not<br>disappointed. i love ...</td>\n",
       "        <td style=\"padding-left: 1em; padding-right: 1em; text-align: center; vertical-align: top\">5.0</td>\n",
       "        <td style=\"padding-left: 1em; padding-right: 1em; text-align: center; vertical-align: top\">{&#x27;recommend&#x27;: 1.0,<br>&#x27;highly&#x27;: 1.0, ...</td>\n",
       "        <td style=\"padding-left: 1em; padding-right: 1em; text-align: center; vertical-align: top\">0.0</td>\n",
       "        <td style=\"padding-left: 1em; padding-right: 1em; text-align: center; vertical-align: top\">0.0</td>\n",
       "    </tr>\n",
       "    <tr>\n",
       "        <td style=\"padding-left: 1em; padding-right: 1em; text-align: center; vertical-align: top\">Annas Dream Full Quilt<br>with 2 Shams ...</td>\n",
       "        <td style=\"padding-left: 1em; padding-right: 1em; text-align: center; vertical-align: top\">Very soft and comfortable<br>and warmer than it ...</td>\n",
       "        <td style=\"padding-left: 1em; padding-right: 1em; text-align: center; vertical-align: top\">5.0</td>\n",
       "        <td style=\"padding-left: 1em; padding-right: 1em; text-align: center; vertical-align: top\">{&#x27;quilt&#x27;: 1.0, &#x27;of&#x27;: 1.0,<br>&#x27;the&#x27;: 1.0, &#x27;than&#x27;: 1.0, ...</td>\n",
       "        <td style=\"padding-left: 1em; padding-right: 1em; text-align: center; vertical-align: top\">0.0</td>\n",
       "        <td style=\"padding-left: 1em; padding-right: 1em; text-align: center; vertical-align: top\">0.0</td>\n",
       "    </tr>\n",
       "    <tr>\n",
       "        <td style=\"padding-left: 1em; padding-right: 1em; text-align: center; vertical-align: top\">Stop Pacifier Sucking<br>without tears with ...</td>\n",
       "        <td style=\"padding-left: 1em; padding-right: 1em; text-align: center; vertical-align: top\">This is a product well<br>worth the purchase.  I ...</td>\n",
       "        <td style=\"padding-left: 1em; padding-right: 1em; text-align: center; vertical-align: top\">5.0</td>\n",
       "        <td style=\"padding-left: 1em; padding-right: 1em; text-align: center; vertical-align: top\">{&#x27;tool&#x27;: 1.0, &#x27;clever&#x27;:<br>1.0, &#x27;approach&#x27;: 2.0, ...</td>\n",
       "        <td style=\"padding-left: 1em; padding-right: 1em; text-align: center; vertical-align: top\">0.0</td>\n",
       "        <td style=\"padding-left: 1em; padding-right: 1em; text-align: center; vertical-align: top\">0.0</td>\n",
       "    </tr>\n",
       "    <tr>\n",
       "        <td style=\"padding-left: 1em; padding-right: 1em; text-align: center; vertical-align: top\">Stop Pacifier Sucking<br>without tears with ...</td>\n",
       "        <td style=\"padding-left: 1em; padding-right: 1em; text-align: center; vertical-align: top\">All of my kids have cried<br>non-stop when I tried to ...</td>\n",
       "        <td style=\"padding-left: 1em; padding-right: 1em; text-align: center; vertical-align: top\">5.0</td>\n",
       "        <td style=\"padding-left: 1em; padding-right: 1em; text-align: center; vertical-align: top\">{&#x27;rock&#x27;: 1.0, &#x27;many&#x27;:<br>1.0, &#x27;headaches&#x27;: 1.0, ...</td>\n",
       "        <td style=\"padding-left: 1em; padding-right: 1em; text-align: center; vertical-align: top\">0.0</td>\n",
       "        <td style=\"padding-left: 1em; padding-right: 1em; text-align: center; vertical-align: top\">1.0</td>\n",
       "    </tr>\n",
       "    <tr>\n",
       "        <td style=\"padding-left: 1em; padding-right: 1em; text-align: center; vertical-align: top\">Stop Pacifier Sucking<br>without tears with ...</td>\n",
       "        <td style=\"padding-left: 1em; padding-right: 1em; text-align: center; vertical-align: top\">When the Binky Fairy came<br>to our house, we didn&#x27;t ...</td>\n",
       "        <td style=\"padding-left: 1em; padding-right: 1em; text-align: center; vertical-align: top\">5.0</td>\n",
       "        <td style=\"padding-left: 1em; padding-right: 1em; text-align: center; vertical-align: top\">{&#x27;thumb&#x27;: 1.0, &#x27;or&#x27;: 1.0,<br>&#x27;break&#x27;: 1.0, &#x27;trying&#x27;: ...</td>\n",
       "        <td style=\"padding-left: 1em; padding-right: 1em; text-align: center; vertical-align: top\">0.0</td>\n",
       "        <td style=\"padding-left: 1em; padding-right: 1em; text-align: center; vertical-align: top\">1.0</td>\n",
       "    </tr>\n",
       "    <tr>\n",
       "        <td style=\"padding-left: 1em; padding-right: 1em; text-align: center; vertical-align: top\">A Tale of Baby&#x27;s Days<br>with Peter Rabbit ...</td>\n",
       "        <td style=\"padding-left: 1em; padding-right: 1em; text-align: center; vertical-align: top\">Lovely book, it&#x27;s bound<br>tightly so you may no ...</td>\n",
       "        <td style=\"padding-left: 1em; padding-right: 1em; text-align: center; vertical-align: top\">4.0</td>\n",
       "        <td style=\"padding-left: 1em; padding-right: 1em; text-align: center; vertical-align: top\">{&#x27;for&#x27;: 1.0, &#x27;barnes&#x27;:<br>1.0, &#x27;at&#x27;: 1.0, &#x27;is&#x27;: ...</td>\n",
       "        <td style=\"padding-left: 1em; padding-right: 1em; text-align: center; vertical-align: top\">0.0</td>\n",
       "        <td style=\"padding-left: 1em; padding-right: 1em; text-align: center; vertical-align: top\">0.0</td>\n",
       "    </tr>\n",
       "    <tr>\n",
       "        <td style=\"padding-left: 1em; padding-right: 1em; text-align: center; vertical-align: top\">Baby Tracker&amp;reg; - Daily<br>Childcare Journal, ...</td>\n",
       "        <td style=\"padding-left: 1em; padding-right: 1em; text-align: center; vertical-align: top\">Perfect for new parents.<br>We were able to keep ...</td>\n",
       "        <td style=\"padding-left: 1em; padding-right: 1em; text-align: center; vertical-align: top\">5.0</td>\n",
       "        <td style=\"padding-left: 1em; padding-right: 1em; text-align: center; vertical-align: top\">{&#x27;right&#x27;: 1.0, &#x27;because&#x27;:<br>1.0, &#x27;questions&#x27;: 1.0, ...</td>\n",
       "        <td style=\"padding-left: 1em; padding-right: 1em; text-align: center; vertical-align: top\">0.0</td>\n",
       "        <td style=\"padding-left: 1em; padding-right: 1em; text-align: center; vertical-align: top\">0.0</td>\n",
       "    </tr>\n",
       "    <tr>\n",
       "        <td style=\"padding-left: 1em; padding-right: 1em; text-align: center; vertical-align: top\">Baby Tracker&amp;reg; - Daily<br>Childcare Journal, ...</td>\n",
       "        <td style=\"padding-left: 1em; padding-right: 1em; text-align: center; vertical-align: top\">A friend of mine pinned<br>this product on Pinte ...</td>\n",
       "        <td style=\"padding-left: 1em; padding-right: 1em; text-align: center; vertical-align: top\">5.0</td>\n",
       "        <td style=\"padding-left: 1em; padding-right: 1em; text-align: center; vertical-align: top\">{&#x27;like&#x27;: 1.0, &#x27;and&#x27;: 1.0,<br>&#x27;changes&#x27;: 1.0, &#x27;the&#x27;: ...</td>\n",
       "        <td style=\"padding-left: 1em; padding-right: 1em; text-align: center; vertical-align: top\">0.0</td>\n",
       "        <td style=\"padding-left: 1em; padding-right: 1em; text-align: center; vertical-align: top\">0.0</td>\n",
       "    </tr>\n",
       "    <tr>\n",
       "        <td style=\"padding-left: 1em; padding-right: 1em; text-align: center; vertical-align: top\">Baby Tracker&amp;reg; - Daily<br>Childcare Journal, ...</td>\n",
       "        <td style=\"padding-left: 1em; padding-right: 1em; text-align: center; vertical-align: top\">This has been an easy way<br>for my nanny to record ...</td>\n",
       "        <td style=\"padding-left: 1em; padding-right: 1em; text-align: center; vertical-align: top\">4.0</td>\n",
       "        <td style=\"padding-left: 1em; padding-right: 1em; text-align: center; vertical-align: top\">{&#x27;in&#x27;: 1.0, &#x27;pages&#x27;: 1.0,<br>&#x27;out&#x27;: 1.0, &#x27;run&#x27;: 1.0, ...</td>\n",
       "        <td style=\"padding-left: 1em; padding-right: 1em; text-align: center; vertical-align: top\">0.0</td>\n",
       "        <td style=\"padding-left: 1em; padding-right: 1em; text-align: center; vertical-align: top\">0.0</td>\n",
       "    </tr>\n",
       "</table>\n",
       "<table frame=\"box\" rules=\"cols\">\n",
       "    <tr>\n",
       "        <th style=\"padding-left: 1em; padding-right: 1em; text-align: center\">fantastic</th>\n",
       "        <th style=\"padding-left: 1em; padding-right: 1em; text-align: center\">amazing</th>\n",
       "        <th style=\"padding-left: 1em; padding-right: 1em; text-align: center\">love</th>\n",
       "        <th style=\"padding-left: 1em; padding-right: 1em; text-align: center\">horrible</th>\n",
       "        <th style=\"padding-left: 1em; padding-right: 1em; text-align: center\">bad</th>\n",
       "        <th style=\"padding-left: 1em; padding-right: 1em; text-align: center\">terrible</th>\n",
       "        <th style=\"padding-left: 1em; padding-right: 1em; text-align: center\">awful</th>\n",
       "        <th style=\"padding-left: 1em; padding-right: 1em; text-align: center\">wow</th>\n",
       "        <th style=\"padding-left: 1em; padding-right: 1em; text-align: center\">hate</th>\n",
       "    </tr>\n",
       "    <tr>\n",
       "        <td style=\"padding-left: 1em; padding-right: 1em; text-align: center; vertical-align: top\">0.0</td>\n",
       "        <td style=\"padding-left: 1em; padding-right: 1em; text-align: center; vertical-align: top\">0.0</td>\n",
       "        <td style=\"padding-left: 1em; padding-right: 1em; text-align: center; vertical-align: top\">0.0</td>\n",
       "        <td style=\"padding-left: 1em; padding-right: 1em; text-align: center; vertical-align: top\">0</td>\n",
       "        <td style=\"padding-left: 1em; padding-right: 1em; text-align: center; vertical-align: top\">0.0</td>\n",
       "        <td style=\"padding-left: 1em; padding-right: 1em; text-align: center; vertical-align: top\">0</td>\n",
       "        <td style=\"padding-left: 1em; padding-right: 1em; text-align: center; vertical-align: top\">0</td>\n",
       "        <td style=\"padding-left: 1em; padding-right: 1em; text-align: center; vertical-align: top\">0</td>\n",
       "        <td style=\"padding-left: 1em; padding-right: 1em; text-align: center; vertical-align: top\">0</td>\n",
       "    </tr>\n",
       "    <tr>\n",
       "        <td style=\"padding-left: 1em; padding-right: 1em; text-align: center; vertical-align: top\">0.0</td>\n",
       "        <td style=\"padding-left: 1em; padding-right: 1em; text-align: center; vertical-align: top\">0.0</td>\n",
       "        <td style=\"padding-left: 1em; padding-right: 1em; text-align: center; vertical-align: top\">1.0</td>\n",
       "        <td style=\"padding-left: 1em; padding-right: 1em; text-align: center; vertical-align: top\">0</td>\n",
       "        <td style=\"padding-left: 1em; padding-right: 1em; text-align: center; vertical-align: top\">0.0</td>\n",
       "        <td style=\"padding-left: 1em; padding-right: 1em; text-align: center; vertical-align: top\">0</td>\n",
       "        <td style=\"padding-left: 1em; padding-right: 1em; text-align: center; vertical-align: top\">0</td>\n",
       "        <td style=\"padding-left: 1em; padding-right: 1em; text-align: center; vertical-align: top\">0</td>\n",
       "        <td style=\"padding-left: 1em; padding-right: 1em; text-align: center; vertical-align: top\">0</td>\n",
       "    </tr>\n",
       "    <tr>\n",
       "        <td style=\"padding-left: 1em; padding-right: 1em; text-align: center; vertical-align: top\">0.0</td>\n",
       "        <td style=\"padding-left: 1em; padding-right: 1em; text-align: center; vertical-align: top\">0.0</td>\n",
       "        <td style=\"padding-left: 1em; padding-right: 1em; text-align: center; vertical-align: top\">0.0</td>\n",
       "        <td style=\"padding-left: 1em; padding-right: 1em; text-align: center; vertical-align: top\">0</td>\n",
       "        <td style=\"padding-left: 1em; padding-right: 1em; text-align: center; vertical-align: top\">0.0</td>\n",
       "        <td style=\"padding-left: 1em; padding-right: 1em; text-align: center; vertical-align: top\">0</td>\n",
       "        <td style=\"padding-left: 1em; padding-right: 1em; text-align: center; vertical-align: top\">0</td>\n",
       "        <td style=\"padding-left: 1em; padding-right: 1em; text-align: center; vertical-align: top\">0</td>\n",
       "        <td style=\"padding-left: 1em; padding-right: 1em; text-align: center; vertical-align: top\">0</td>\n",
       "    </tr>\n",
       "    <tr>\n",
       "        <td style=\"padding-left: 1em; padding-right: 1em; text-align: center; vertical-align: top\">0.0</td>\n",
       "        <td style=\"padding-left: 1em; padding-right: 1em; text-align: center; vertical-align: top\">0.0</td>\n",
       "        <td style=\"padding-left: 1em; padding-right: 1em; text-align: center; vertical-align: top\">2.0</td>\n",
       "        <td style=\"padding-left: 1em; padding-right: 1em; text-align: center; vertical-align: top\">0</td>\n",
       "        <td style=\"padding-left: 1em; padding-right: 1em; text-align: center; vertical-align: top\">0.0</td>\n",
       "        <td style=\"padding-left: 1em; padding-right: 1em; text-align: center; vertical-align: top\">0</td>\n",
       "        <td style=\"padding-left: 1em; padding-right: 1em; text-align: center; vertical-align: top\">0</td>\n",
       "        <td style=\"padding-left: 1em; padding-right: 1em; text-align: center; vertical-align: top\">0</td>\n",
       "        <td style=\"padding-left: 1em; padding-right: 1em; text-align: center; vertical-align: top\">0</td>\n",
       "    </tr>\n",
       "    <tr>\n",
       "        <td style=\"padding-left: 1em; padding-right: 1em; text-align: center; vertical-align: top\">0.0</td>\n",
       "        <td style=\"padding-left: 1em; padding-right: 1em; text-align: center; vertical-align: top\">0.0</td>\n",
       "        <td style=\"padding-left: 1em; padding-right: 1em; text-align: center; vertical-align: top\">1.0</td>\n",
       "        <td style=\"padding-left: 1em; padding-right: 1em; text-align: center; vertical-align: top\">0</td>\n",
       "        <td style=\"padding-left: 1em; padding-right: 1em; text-align: center; vertical-align: top\">0.0</td>\n",
       "        <td style=\"padding-left: 1em; padding-right: 1em; text-align: center; vertical-align: top\">0</td>\n",
       "        <td style=\"padding-left: 1em; padding-right: 1em; text-align: center; vertical-align: top\">0</td>\n",
       "        <td style=\"padding-left: 1em; padding-right: 1em; text-align: center; vertical-align: top\">0</td>\n",
       "        <td style=\"padding-left: 1em; padding-right: 1em; text-align: center; vertical-align: top\">0</td>\n",
       "    </tr>\n",
       "    <tr>\n",
       "        <td style=\"padding-left: 1em; padding-right: 1em; text-align: center; vertical-align: top\">0.0</td>\n",
       "        <td style=\"padding-left: 1em; padding-right: 1em; text-align: center; vertical-align: top\">0.0</td>\n",
       "        <td style=\"padding-left: 1em; padding-right: 1em; text-align: center; vertical-align: top\">0.0</td>\n",
       "        <td style=\"padding-left: 1em; padding-right: 1em; text-align: center; vertical-align: top\">0</td>\n",
       "        <td style=\"padding-left: 1em; padding-right: 1em; text-align: center; vertical-align: top\">0.0</td>\n",
       "        <td style=\"padding-left: 1em; padding-right: 1em; text-align: center; vertical-align: top\">0</td>\n",
       "        <td style=\"padding-left: 1em; padding-right: 1em; text-align: center; vertical-align: top\">0</td>\n",
       "        <td style=\"padding-left: 1em; padding-right: 1em; text-align: center; vertical-align: top\">0</td>\n",
       "        <td style=\"padding-left: 1em; padding-right: 1em; text-align: center; vertical-align: top\">0</td>\n",
       "    </tr>\n",
       "    <tr>\n",
       "        <td style=\"padding-left: 1em; padding-right: 1em; text-align: center; vertical-align: top\">0.0</td>\n",
       "        <td style=\"padding-left: 1em; padding-right: 1em; text-align: center; vertical-align: top\">0.0</td>\n",
       "        <td style=\"padding-left: 1em; padding-right: 1em; text-align: center; vertical-align: top\">0.0</td>\n",
       "        <td style=\"padding-left: 1em; padding-right: 1em; text-align: center; vertical-align: top\">0</td>\n",
       "        <td style=\"padding-left: 1em; padding-right: 1em; text-align: center; vertical-align: top\">0.0</td>\n",
       "        <td style=\"padding-left: 1em; padding-right: 1em; text-align: center; vertical-align: top\">0</td>\n",
       "        <td style=\"padding-left: 1em; padding-right: 1em; text-align: center; vertical-align: top\">0</td>\n",
       "        <td style=\"padding-left: 1em; padding-right: 1em; text-align: center; vertical-align: top\">0</td>\n",
       "        <td style=\"padding-left: 1em; padding-right: 1em; text-align: center; vertical-align: top\">0</td>\n",
       "    </tr>\n",
       "    <tr>\n",
       "        <td style=\"padding-left: 1em; padding-right: 1em; text-align: center; vertical-align: top\">0.0</td>\n",
       "        <td style=\"padding-left: 1em; padding-right: 1em; text-align: center; vertical-align: top\">0.0</td>\n",
       "        <td style=\"padding-left: 1em; padding-right: 1em; text-align: center; vertical-align: top\">0.0</td>\n",
       "        <td style=\"padding-left: 1em; padding-right: 1em; text-align: center; vertical-align: top\">0</td>\n",
       "        <td style=\"padding-left: 1em; padding-right: 1em; text-align: center; vertical-align: top\">0.0</td>\n",
       "        <td style=\"padding-left: 1em; padding-right: 1em; text-align: center; vertical-align: top\">0</td>\n",
       "        <td style=\"padding-left: 1em; padding-right: 1em; text-align: center; vertical-align: top\">0</td>\n",
       "        <td style=\"padding-left: 1em; padding-right: 1em; text-align: center; vertical-align: top\">0</td>\n",
       "        <td style=\"padding-left: 1em; padding-right: 1em; text-align: center; vertical-align: top\">0</td>\n",
       "    </tr>\n",
       "    <tr>\n",
       "        <td style=\"padding-left: 1em; padding-right: 1em; text-align: center; vertical-align: top\">1.0</td>\n",
       "        <td style=\"padding-left: 1em; padding-right: 1em; text-align: center; vertical-align: top\">0.0</td>\n",
       "        <td style=\"padding-left: 1em; padding-right: 1em; text-align: center; vertical-align: top\">0.0</td>\n",
       "        <td style=\"padding-left: 1em; padding-right: 1em; text-align: center; vertical-align: top\">0</td>\n",
       "        <td style=\"padding-left: 1em; padding-right: 1em; text-align: center; vertical-align: top\">0.0</td>\n",
       "        <td style=\"padding-left: 1em; padding-right: 1em; text-align: center; vertical-align: top\">0</td>\n",
       "        <td style=\"padding-left: 1em; padding-right: 1em; text-align: center; vertical-align: top\">0</td>\n",
       "        <td style=\"padding-left: 1em; padding-right: 1em; text-align: center; vertical-align: top\">0</td>\n",
       "        <td style=\"padding-left: 1em; padding-right: 1em; text-align: center; vertical-align: top\">0</td>\n",
       "    </tr>\n",
       "    <tr>\n",
       "        <td style=\"padding-left: 1em; padding-right: 1em; text-align: center; vertical-align: top\">0.0</td>\n",
       "        <td style=\"padding-left: 1em; padding-right: 1em; text-align: center; vertical-align: top\">0.0</td>\n",
       "        <td style=\"padding-left: 1em; padding-right: 1em; text-align: center; vertical-align: top\">0.0</td>\n",
       "        <td style=\"padding-left: 1em; padding-right: 1em; text-align: center; vertical-align: top\">0</td>\n",
       "        <td style=\"padding-left: 1em; padding-right: 1em; text-align: center; vertical-align: top\">0.0</td>\n",
       "        <td style=\"padding-left: 1em; padding-right: 1em; text-align: center; vertical-align: top\">0</td>\n",
       "        <td style=\"padding-left: 1em; padding-right: 1em; text-align: center; vertical-align: top\">0</td>\n",
       "        <td style=\"padding-left: 1em; padding-right: 1em; text-align: center; vertical-align: top\">0</td>\n",
       "        <td style=\"padding-left: 1em; padding-right: 1em; text-align: center; vertical-align: top\">0</td>\n",
       "    </tr>\n",
       "</table>\n",
       "[183531 rows x 15 columns]<br/>Note: Only the head of the SFrame is printed.<br/>You can use print_rows(num_rows=m, num_columns=n) to print more rows and columns.\n",
       "</div>"
      ],
      "text/plain": [
       "Columns:\n",
       "\tname\tstr\n",
       "\treview\tstr\n",
       "\trating\tfloat\n",
       "\tword_count\tdict\n",
       "\tawesome\tfloat\n",
       "\tgreat\tfloat\n",
       "\tfantastic\tfloat\n",
       "\tamazing\tfloat\n",
       "\tlove\tfloat\n",
       "\thorrible\tint\n",
       "\tbad\tfloat\n",
       "\tterrible\tint\n",
       "\tawful\tint\n",
       "\twow\tint\n",
       "\thate\tint\n",
       "\n",
       "Rows: 183531\n",
       "\n",
       "Data:\n",
       "+-------------------------------+-------------------------------+--------+\n",
       "|              name             |             review            | rating |\n",
       "+-------------------------------+-------------------------------+--------+\n",
       "|    Planetwise Flannel Wipes   | These flannel wipes are OK... |  3.0   |\n",
       "|     Planetwise Wipe Pouch     | it came early and was not ... |  5.0   |\n",
       "| Annas Dream Full Quilt wit... | Very soft and comfortable ... |  5.0   |\n",
       "| Stop Pacifier Sucking with... | This is a product well wor... |  5.0   |\n",
       "| Stop Pacifier Sucking with... | All of my kids have cried ... |  5.0   |\n",
       "| Stop Pacifier Sucking with... | When the Binky Fairy came ... |  5.0   |\n",
       "| A Tale of Baby's Days with... | Lovely book, it's bound ti... |  4.0   |\n",
       "| Baby Tracker&reg; - Daily ... | Perfect for new parents. W... |  5.0   |\n",
       "| Baby Tracker&reg; - Daily ... | A friend of mine pinned th... |  5.0   |\n",
       "| Baby Tracker&reg; - Daily ... | This has been an easy way ... |  4.0   |\n",
       "+-------------------------------+-------------------------------+--------+\n",
       "+-------------------------------+---------+-------+-----------+---------+------+\n",
       "|           word_count          | awesome | great | fantastic | amazing | love |\n",
       "+-------------------------------+---------+-------+-----------+---------+------+\n",
       "| {'handles': 1.0, 'strippin... |   0.0   |  0.0  |    0.0    |   0.0   | 0.0  |\n",
       "| {'recommend': 1.0, 'highly... |   0.0   |  0.0  |    0.0    |   0.0   | 1.0  |\n",
       "| {'quilt': 1.0, 'of': 1.0, ... |   0.0   |  0.0  |    0.0    |   0.0   | 0.0  |\n",
       "| {'tool': 1.0, 'clever': 1.... |   0.0   |  0.0  |    0.0    |   0.0   | 2.0  |\n",
       "| {'rock': 1.0, 'many': 1.0,... |   0.0   |  1.0  |    0.0    |   0.0   | 1.0  |\n",
       "| {'thumb': 1.0, 'or': 1.0, ... |   0.0   |  1.0  |    0.0    |   0.0   | 0.0  |\n",
       "| {'for': 1.0, 'barnes': 1.0... |   0.0   |  0.0  |    0.0    |   0.0   | 0.0  |\n",
       "| {'right': 1.0, 'because': ... |   0.0   |  0.0  |    0.0    |   0.0   | 0.0  |\n",
       "| {'like': 1.0, 'and': 1.0, ... |   0.0   |  0.0  |    1.0    |   0.0   | 0.0  |\n",
       "| {'in': 1.0, 'pages': 1.0, ... |   0.0   |  0.0  |    0.0    |   0.0   | 0.0  |\n",
       "+-------------------------------+---------+-------+-----------+---------+------+\n",
       "+----------+-----+----------+-------+-----+------+\n",
       "| horrible | bad | terrible | awful | wow | hate |\n",
       "+----------+-----+----------+-------+-----+------+\n",
       "|    0     | 0.0 |    0     |   0   |  0  |  0   |\n",
       "|    0     | 0.0 |    0     |   0   |  0  |  0   |\n",
       "|    0     | 0.0 |    0     |   0   |  0  |  0   |\n",
       "|    0     | 0.0 |    0     |   0   |  0  |  0   |\n",
       "|    0     | 0.0 |    0     |   0   |  0  |  0   |\n",
       "|    0     | 0.0 |    0     |   0   |  0  |  0   |\n",
       "|    0     | 0.0 |    0     |   0   |  0  |  0   |\n",
       "|    0     | 0.0 |    0     |   0   |  0  |  0   |\n",
       "|    0     | 0.0 |    0     |   0   |  0  |  0   |\n",
       "|    0     | 0.0 |    0     |   0   |  0  |  0   |\n",
       "+----------+-----+----------+-------+-----+------+\n",
       "[183531 rows x 15 columns]\n",
       "Note: Only the head of the SFrame is printed.\n",
       "You can use print_rows(num_rows=m, num_columns=n) to print more rows and columns."
      ]
     },
     "execution_count": 78,
     "metadata": {},
     "output_type": "execute_result"
    }
   ],
   "source": [
    "selected_words = ['awesome', 'great', 'fantastic', 'amazing', 'love', 'horrible', 'bad', 'terrible', 'awful', \n",
    "                  'wow', 'hate']\n",
    "count = {}\n",
    "for word in selected_words:\n",
    "    products[word] = products['word_count'].apply(lambda x : x[word] if (word in x) else 0)\n",
    "\n",
    "products"
   ]
  },
  {
   "cell_type": "code",
   "execution_count": 81,
   "metadata": {},
   "outputs": [],
   "source": [
    "i_features = selected_words\n",
    "products = products[products['rating']!= 3]\n",
    "products['sentiment'] = products['rating'] >= 4"
   ]
  },
  {
   "cell_type": "code",
   "execution_count": 82,
   "metadata": {},
   "outputs": [
    {
     "data": {
      "text/html": [
       "<pre>Logistic regression:</pre>"
      ],
      "text/plain": [
       "Logistic regression:"
      ]
     },
     "metadata": {},
     "output_type": "display_data"
    },
    {
     "data": {
      "text/html": [
       "<pre>--------------------------------------------------------</pre>"
      ],
      "text/plain": [
       "--------------------------------------------------------"
      ]
     },
     "metadata": {},
     "output_type": "display_data"
    },
    {
     "data": {
      "text/html": [
       "<pre>Number of examples          : 133448</pre>"
      ],
      "text/plain": [
       "Number of examples          : 133448"
      ]
     },
     "metadata": {},
     "output_type": "display_data"
    },
    {
     "data": {
      "text/html": [
       "<pre>Number of classes           : 2</pre>"
      ],
      "text/plain": [
       "Number of classes           : 2"
      ]
     },
     "metadata": {},
     "output_type": "display_data"
    },
    {
     "data": {
      "text/html": [
       "<pre>Number of feature columns   : 11</pre>"
      ],
      "text/plain": [
       "Number of feature columns   : 11"
      ]
     },
     "metadata": {},
     "output_type": "display_data"
    },
    {
     "data": {
      "text/html": [
       "<pre>Number of unpacked features : 11</pre>"
      ],
      "text/plain": [
       "Number of unpacked features : 11"
      ]
     },
     "metadata": {},
     "output_type": "display_data"
    },
    {
     "data": {
      "text/html": [
       "<pre>Number of coefficients      : 12</pre>"
      ],
      "text/plain": [
       "Number of coefficients      : 12"
      ]
     },
     "metadata": {},
     "output_type": "display_data"
    },
    {
     "data": {
      "text/html": [
       "<pre>Starting Newton Method</pre>"
      ],
      "text/plain": [
       "Starting Newton Method"
      ]
     },
     "metadata": {},
     "output_type": "display_data"
    },
    {
     "data": {
      "text/html": [
       "<pre>--------------------------------------------------------</pre>"
      ],
      "text/plain": [
       "--------------------------------------------------------"
      ]
     },
     "metadata": {},
     "output_type": "display_data"
    },
    {
     "data": {
      "text/html": [
       "<pre>+-----------+----------+--------------+-------------------+---------------------+</pre>"
      ],
      "text/plain": [
       "+-----------+----------+--------------+-------------------+---------------------+"
      ]
     },
     "metadata": {},
     "output_type": "display_data"
    },
    {
     "data": {
      "text/html": [
       "<pre>| Iteration | Passes   | Elapsed Time | Training Accuracy | Validation Accuracy |</pre>"
      ],
      "text/plain": [
       "| Iteration | Passes   | Elapsed Time | Training Accuracy | Validation Accuracy |"
      ]
     },
     "metadata": {},
     "output_type": "display_data"
    },
    {
     "data": {
      "text/html": [
       "<pre>+-----------+----------+--------------+-------------------+---------------------+</pre>"
      ],
      "text/plain": [
       "+-----------+----------+--------------+-------------------+---------------------+"
      ]
     },
     "metadata": {},
     "output_type": "display_data"
    },
    {
     "data": {
      "text/html": [
       "<pre>| 1         | 2        | 1.407539     | 0.847401          | 0.845874            |</pre>"
      ],
      "text/plain": [
       "| 1         | 2        | 1.407539     | 0.847401          | 0.845874            |"
      ]
     },
     "metadata": {},
     "output_type": "display_data"
    },
    {
     "data": {
      "text/html": [
       "<pre>| 2         | 3        | 1.610629     | 0.847514          | 0.846085            |</pre>"
      ],
      "text/plain": [
       "| 2         | 3        | 1.610629     | 0.847514          | 0.846085            |"
      ]
     },
     "metadata": {},
     "output_type": "display_data"
    },
    {
     "data": {
      "text/html": [
       "<pre>| 3         | 4        | 1.895605     | 0.847626          | 0.846115            |</pre>"
      ],
      "text/plain": [
       "| 3         | 4        | 1.895605     | 0.847626          | 0.846115            |"
      ]
     },
     "metadata": {},
     "output_type": "display_data"
    },
    {
     "data": {
      "text/html": [
       "<pre>| 4         | 5        | 2.098307     | 0.847708          | 0.846385            |</pre>"
      ],
      "text/plain": [
       "| 4         | 5        | 2.098307     | 0.847708          | 0.846385            |"
      ]
     },
     "metadata": {},
     "output_type": "display_data"
    },
    {
     "data": {
      "text/html": [
       "<pre>| 5         | 6        | 2.351914     | 0.847708          | 0.846385            |</pre>"
      ],
      "text/plain": [
       "| 5         | 6        | 2.351914     | 0.847708          | 0.846385            |"
      ]
     },
     "metadata": {},
     "output_type": "display_data"
    },
    {
     "data": {
      "text/html": [
       "<pre>| 6         | 7        | 2.668756     | 0.847708          | 0.846385            |</pre>"
      ],
      "text/plain": [
       "| 6         | 7        | 2.668756     | 0.847708          | 0.846385            |"
      ]
     },
     "metadata": {},
     "output_type": "display_data"
    },
    {
     "data": {
      "text/html": [
       "<pre>+-----------+----------+--------------+-------------------+---------------------+</pre>"
      ],
      "text/plain": [
       "+-----------+----------+--------------+-------------------+---------------------+"
      ]
     },
     "metadata": {},
     "output_type": "display_data"
    },
    {
     "data": {
      "text/html": [
       "<pre>SUCCESS: Optimal solution found.</pre>"
      ],
      "text/plain": [
       "SUCCESS: Optimal solution found."
      ]
     },
     "metadata": {},
     "output_type": "display_data"
    },
    {
     "data": {
      "text/html": [
       "<pre></pre>"
      ],
      "text/plain": []
     },
     "metadata": {},
     "output_type": "display_data"
    }
   ],
   "source": [
    "train_data,test_data = products.random_split(.8,seed=0)\n",
    "sentiment_model = turicreate.logistic_classifier.create(train_data,target='sentiment', features=i_features, \n",
    "                                                        validation_set=test_data)"
   ]
  },
  {
   "cell_type": "code",
   "execution_count": 85,
   "metadata": {},
   "outputs": [
    {
     "data": {
      "text/html": [
       "<div style=\"max-height:1000px;max-width:1500px;overflow:auto;\"><table frame=\"box\" rules=\"cols\">\n",
       "    <tr>\n",
       "        <th style=\"padding-left: 1em; padding-right: 1em; text-align: center\">name</th>\n",
       "        <th style=\"padding-left: 1em; padding-right: 1em; text-align: center\">index</th>\n",
       "        <th style=\"padding-left: 1em; padding-right: 1em; text-align: center\">class</th>\n",
       "        <th style=\"padding-left: 1em; padding-right: 1em; text-align: center\">value</th>\n",
       "        <th style=\"padding-left: 1em; padding-right: 1em; text-align: center\">stderr</th>\n",
       "    </tr>\n",
       "    <tr>\n",
       "        <td style=\"padding-left: 1em; padding-right: 1em; text-align: center; vertical-align: top\">(intercept)</td>\n",
       "        <td style=\"padding-left: 1em; padding-right: 1em; text-align: center; vertical-align: top\">None</td>\n",
       "        <td style=\"padding-left: 1em; padding-right: 1em; text-align: center; vertical-align: top\">1</td>\n",
       "        <td style=\"padding-left: 1em; padding-right: 1em; text-align: center; vertical-align: top\">1.3365913848878148</td>\n",
       "        <td style=\"padding-left: 1em; padding-right: 1em; text-align: center; vertical-align: top\">0.008929969787657532</td>\n",
       "    </tr>\n",
       "    <tr>\n",
       "        <td style=\"padding-left: 1em; padding-right: 1em; text-align: center; vertical-align: top\">awesome</td>\n",
       "        <td style=\"padding-left: 1em; padding-right: 1em; text-align: center; vertical-align: top\">None</td>\n",
       "        <td style=\"padding-left: 1em; padding-right: 1em; text-align: center; vertical-align: top\">1</td>\n",
       "        <td style=\"padding-left: 1em; padding-right: 1em; text-align: center; vertical-align: top\">1.1335346660341103</td>\n",
       "        <td style=\"padding-left: 1em; padding-right: 1em; text-align: center; vertical-align: top\">0.08399643983187567</td>\n",
       "    </tr>\n",
       "    <tr>\n",
       "        <td style=\"padding-left: 1em; padding-right: 1em; text-align: center; vertical-align: top\">great</td>\n",
       "        <td style=\"padding-left: 1em; padding-right: 1em; text-align: center; vertical-align: top\">None</td>\n",
       "        <td style=\"padding-left: 1em; padding-right: 1em; text-align: center; vertical-align: top\">1</td>\n",
       "        <td style=\"padding-left: 1em; padding-right: 1em; text-align: center; vertical-align: top\">0.8630655001195999</td>\n",
       "        <td style=\"padding-left: 1em; padding-right: 1em; text-align: center; vertical-align: top\">0.018955052444380473</td>\n",
       "    </tr>\n",
       "    <tr>\n",
       "        <td style=\"padding-left: 1em; padding-right: 1em; text-align: center; vertical-align: top\">fantastic</td>\n",
       "        <td style=\"padding-left: 1em; padding-right: 1em; text-align: center; vertical-align: top\">None</td>\n",
       "        <td style=\"padding-left: 1em; padding-right: 1em; text-align: center; vertical-align: top\">1</td>\n",
       "        <td style=\"padding-left: 1em; padding-right: 1em; text-align: center; vertical-align: top\">0.8858047568813963</td>\n",
       "        <td style=\"padding-left: 1em; padding-right: 1em; text-align: center; vertical-align: top\">0.11167591293399713</td>\n",
       "    </tr>\n",
       "    <tr>\n",
       "        <td style=\"padding-left: 1em; padding-right: 1em; text-align: center; vertical-align: top\">amazing</td>\n",
       "        <td style=\"padding-left: 1em; padding-right: 1em; text-align: center; vertical-align: top\">None</td>\n",
       "        <td style=\"padding-left: 1em; padding-right: 1em; text-align: center; vertical-align: top\">1</td>\n",
       "        <td style=\"padding-left: 1em; padding-right: 1em; text-align: center; vertical-align: top\">1.1000933113659914</td>\n",
       "        <td style=\"padding-left: 1em; padding-right: 1em; text-align: center; vertical-align: top\">0.09954776260465965</td>\n",
       "    </tr>\n",
       "    <tr>\n",
       "        <td style=\"padding-left: 1em; padding-right: 1em; text-align: center; vertical-align: top\">love</td>\n",
       "        <td style=\"padding-left: 1em; padding-right: 1em; text-align: center; vertical-align: top\">None</td>\n",
       "        <td style=\"padding-left: 1em; padding-right: 1em; text-align: center; vertical-align: top\">1</td>\n",
       "        <td style=\"padding-left: 1em; padding-right: 1em; text-align: center; vertical-align: top\">1.3592688669224757</td>\n",
       "        <td style=\"padding-left: 1em; padding-right: 1em; text-align: center; vertical-align: top\">0.028068300152099997</td>\n",
       "    </tr>\n",
       "    <tr>\n",
       "        <td style=\"padding-left: 1em; padding-right: 1em; text-align: center; vertical-align: top\">horrible</td>\n",
       "        <td style=\"padding-left: 1em; padding-right: 1em; text-align: center; vertical-align: top\">None</td>\n",
       "        <td style=\"padding-left: 1em; padding-right: 1em; text-align: center; vertical-align: top\">1</td>\n",
       "        <td style=\"padding-left: 1em; padding-right: 1em; text-align: center; vertical-align: top\">-2.251335236759124</td>\n",
       "        <td style=\"padding-left: 1em; padding-right: 1em; text-align: center; vertical-align: top\">0.08020249388788399</td>\n",
       "    </tr>\n",
       "    <tr>\n",
       "        <td style=\"padding-left: 1em; padding-right: 1em; text-align: center; vertical-align: top\">bad</td>\n",
       "        <td style=\"padding-left: 1em; padding-right: 1em; text-align: center; vertical-align: top\">None</td>\n",
       "        <td style=\"padding-left: 1em; padding-right: 1em; text-align: center; vertical-align: top\">1</td>\n",
       "        <td style=\"padding-left: 1em; padding-right: 1em; text-align: center; vertical-align: top\">-0.9914778800650894</td>\n",
       "        <td style=\"padding-left: 1em; padding-right: 1em; text-align: center; vertical-align: top\">0.03848428664699065</td>\n",
       "    </tr>\n",
       "    <tr>\n",
       "        <td style=\"padding-left: 1em; padding-right: 1em; text-align: center; vertical-align: top\">terrible</td>\n",
       "        <td style=\"padding-left: 1em; padding-right: 1em; text-align: center; vertical-align: top\">None</td>\n",
       "        <td style=\"padding-left: 1em; padding-right: 1em; text-align: center; vertical-align: top\">1</td>\n",
       "        <td style=\"padding-left: 1em; padding-right: 1em; text-align: center; vertical-align: top\">-2.2236614360851554</td>\n",
       "        <td style=\"padding-left: 1em; padding-right: 1em; text-align: center; vertical-align: top\">0.07731736203785729</td>\n",
       "    </tr>\n",
       "    <tr>\n",
       "        <td style=\"padding-left: 1em; padding-right: 1em; text-align: center; vertical-align: top\">awful</td>\n",
       "        <td style=\"padding-left: 1em; padding-right: 1em; text-align: center; vertical-align: top\">None</td>\n",
       "        <td style=\"padding-left: 1em; padding-right: 1em; text-align: center; vertical-align: top\">1</td>\n",
       "        <td style=\"padding-left: 1em; padding-right: 1em; text-align: center; vertical-align: top\">-2.05290820403138</td>\n",
       "        <td style=\"padding-left: 1em; padding-right: 1em; text-align: center; vertical-align: top\">0.1009973543525922</td>\n",
       "    </tr>\n",
       "</table>\n",
       "[12 rows x 5 columns]<br/>Note: Only the head of the SFrame is printed.<br/>You can use print_rows(num_rows=m, num_columns=n) to print more rows and columns.\n",
       "</div>"
      ],
      "text/plain": [
       "Columns:\n",
       "\tname\tstr\n",
       "\tindex\tstr\n",
       "\tclass\tint\n",
       "\tvalue\tfloat\n",
       "\tstderr\tfloat\n",
       "\n",
       "Rows: 12\n",
       "\n",
       "Data:\n",
       "+-------------+-------+-------+---------------------+----------------------+\n",
       "|     name    | index | class |        value        |        stderr        |\n",
       "+-------------+-------+-------+---------------------+----------------------+\n",
       "| (intercept) |  None |   1   |  1.3365913848878148 | 0.008929969787657532 |\n",
       "|   awesome   |  None |   1   |  1.1335346660341103 | 0.08399643983187567  |\n",
       "|    great    |  None |   1   |  0.8630655001195999 | 0.018955052444380473 |\n",
       "|  fantastic  |  None |   1   |  0.8858047568813963 | 0.11167591293399713  |\n",
       "|   amazing   |  None |   1   |  1.1000933113659914 | 0.09954776260465965  |\n",
       "|     love    |  None |   1   |  1.3592688669224757 | 0.028068300152099997 |\n",
       "|   horrible  |  None |   1   |  -2.251335236759124 | 0.08020249388788399  |\n",
       "|     bad     |  None |   1   | -0.9914778800650894 | 0.03848428664699065  |\n",
       "|   terrible  |  None |   1   | -2.2236614360851554 | 0.07731736203785729  |\n",
       "|    awful    |  None |   1   |  -2.05290820403138  |  0.1009973543525922  |\n",
       "+-------------+-------+-------+---------------------+----------------------+\n",
       "[12 rows x 5 columns]\n",
       "Note: Only the head of the SFrame is printed.\n",
       "You can use print_rows(num_rows=m, num_columns=n) to print more rows and columns."
      ]
     },
     "execution_count": 85,
     "metadata": {},
     "output_type": "execute_result"
    }
   ],
   "source": [
    "sentiment_model.coefficients"
   ]
  },
  {
   "cell_type": "code",
   "execution_count": 86,
   "metadata": {},
   "outputs": [
    {
     "data": {
      "text/plain": [
       "<bound method Model.summary of Class                          : LogisticClassifier\n",
       "\n",
       "Schema\n",
       "------\n",
       "Number of coefficients         : 12\n",
       "Number of examples             : 133448\n",
       "Number of classes              : 2\n",
       "Number of feature columns      : 11\n",
       "Number of unpacked features    : 11\n",
       "\n",
       "Hyperparameters\n",
       "---------------\n",
       "L1 penalty                     : 0.0\n",
       "L2 penalty                     : 0.01\n",
       "\n",
       "Training Summary\n",
       "----------------\n",
       "Solver                         : newton\n",
       "Solver iterations              : 6\n",
       "Solver status                  : SUCCESS: Optimal solution found.\n",
       "Training time (sec)            : 2.7257\n",
       "\n",
       "Settings\n",
       "--------\n",
       "Log-likelihood                 : 52926.808\n",
       "\n",
       "Highest Positive Coefficients\n",
       "-----------------------------\n",
       "love                           : 1.3593\n",
       "(intercept)                    : 1.3366\n",
       "awesome                        : 1.1335\n",
       "amazing                        : 1.1001\n",
       "fantastic                      : 0.8858\n",
       "\n",
       "Lowest Negative Coefficients\n",
       "----------------------------\n",
       "horrible                       : -2.2513\n",
       "terrible                       : -2.2237\n",
       "awful                          : -2.0529\n",
       "hate                           : -1.3484\n",
       "bad                            : -0.9915\n",
       ">"
      ]
     },
     "execution_count": 86,
     "metadata": {},
     "output_type": "execute_result"
    }
   ],
   "source": [
    "sentiment_model.summary"
   ]
  },
  {
   "cell_type": "code",
   "execution_count": 87,
   "metadata": {},
   "outputs": [
    {
     "data": {
      "text/plain": [
       "{'accuracy': 0.8463848186404036,\n",
       " 'auc': 0.6936022046674926,\n",
       " 'confusion_matrix': Columns:\n",
       " \ttarget_label\tint\n",
       " \tpredicted_label\tint\n",
       " \tcount\tint\n",
       " \n",
       " Rows: 4\n",
       " \n",
       " Data:\n",
       " +--------------+-----------------+-------+\n",
       " | target_label | predicted_label | count |\n",
       " +--------------+-----------------+-------+\n",
       " |      1       |        0        |  159  |\n",
       " |      0       |        0        |  371  |\n",
       " |      0       |        1        |  4957 |\n",
       " |      1       |        1        | 27817 |\n",
       " +--------------+-----------------+-------+\n",
       " [4 rows x 3 columns],\n",
       " 'f1_score': 0.9157860082304526,\n",
       " 'log_loss': 0.3962265467087835,\n",
       " 'precision': 0.8487520595594068,\n",
       " 'recall': 0.9943165570488991,\n",
       " 'roc_curve': Columns:\n",
       " \tthreshold\tfloat\n",
       " \tfpr\tfloat\n",
       " \ttpr\tfloat\n",
       " \tp\tint\n",
       " \tn\tint\n",
       " \n",
       " Rows: 100001\n",
       " \n",
       " Data:\n",
       " +-----------+--------------------+-----+-------+------+\n",
       " | threshold |        fpr         | tpr |   p   |  n   |\n",
       " +-----------+--------------------+-----+-------+------+\n",
       " |    0.0    |        1.0         | 1.0 | 27976 | 5328 |\n",
       " |   1e-05   |        1.0         | 1.0 | 27976 | 5328 |\n",
       " |   2e-05   |        1.0         | 1.0 | 27976 | 5328 |\n",
       " |   3e-05   | 0.9998123123123123 | 1.0 | 27976 | 5328 |\n",
       " |   4e-05   | 0.9998123123123123 | 1.0 | 27976 | 5328 |\n",
       " |   5e-05   | 0.9998123123123123 | 1.0 | 27976 | 5328 |\n",
       " |   6e-05   | 0.9998123123123123 | 1.0 | 27976 | 5328 |\n",
       " |   7e-05   | 0.9998123123123123 | 1.0 | 27976 | 5328 |\n",
       " |   8e-05   | 0.9998123123123123 | 1.0 | 27976 | 5328 |\n",
       " |   9e-05   | 0.9998123123123123 | 1.0 | 27976 | 5328 |\n",
       " +-----------+--------------------+-----+-------+------+\n",
       " [100001 rows x 5 columns]\n",
       " Note: Only the head of the SFrame is printed.\n",
       " You can use print_rows(num_rows=m, num_columns=n) to print more rows and columns.}"
      ]
     },
     "execution_count": 87,
     "metadata": {},
     "output_type": "execute_result"
    }
   ],
   "source": [
    "sentiment_model.evaluate(test_data)"
   ]
  },
  {
   "cell_type": "code",
   "execution_count": 88,
   "metadata": {},
   "outputs": [],
   "source": [
    "products['predicted_sentiment'] = sentiment_model.predict(products, output_type = 'probability')"
   ]
  },
  {
   "cell_type": "code",
   "execution_count": 89,
   "metadata": {},
   "outputs": [
    {
     "data": {
      "text/html": [
       "<div style=\"max-height:1000px;max-width:1500px;overflow:auto;\"><table frame=\"box\" rules=\"cols\">\n",
       "    <tr>\n",
       "        <th style=\"padding-left: 1em; padding-right: 1em; text-align: center\">name</th>\n",
       "        <th style=\"padding-left: 1em; padding-right: 1em; text-align: center\">review</th>\n",
       "        <th style=\"padding-left: 1em; padding-right: 1em; text-align: center\">rating</th>\n",
       "        <th style=\"padding-left: 1em; padding-right: 1em; text-align: center\">word_count</th>\n",
       "        <th style=\"padding-left: 1em; padding-right: 1em; text-align: center\">awesome</th>\n",
       "        <th style=\"padding-left: 1em; padding-right: 1em; text-align: center\">great</th>\n",
       "        <th style=\"padding-left: 1em; padding-right: 1em; text-align: center\">fantastic</th>\n",
       "    </tr>\n",
       "    <tr>\n",
       "        <td style=\"padding-left: 1em; padding-right: 1em; text-align: center; vertical-align: top\">Baby Trend Diaper Champ</td>\n",
       "        <td style=\"padding-left: 1em; padding-right: 1em; text-align: center; vertical-align: top\">I LOVE LOVE LOVE this<br>product! It is SO much ...</td>\n",
       "        <td style=\"padding-left: 1em; padding-right: 1em; text-align: center; vertical-align: top\">4.0</td>\n",
       "        <td style=\"padding-left: 1em; padding-right: 1em; text-align: center; vertical-align: top\">{&#x27;sorry&#x27;: 1.0, &#x27;be&#x27;: 1.0,<br>&#x27;will&#x27;: 1.0, ...</td>\n",
       "        <td style=\"padding-left: 1em; padding-right: 1em; text-align: center; vertical-align: top\">0.0</td>\n",
       "        <td style=\"padding-left: 1em; padding-right: 1em; text-align: center; vertical-align: top\">1.0</td>\n",
       "        <td style=\"padding-left: 1em; padding-right: 1em; text-align: center; vertical-align: top\">0.0</td>\n",
       "    </tr>\n",
       "    <tr>\n",
       "        <td style=\"padding-left: 1em; padding-right: 1em; text-align: center; vertical-align: top\">Baby Trend Diaper Champ</td>\n",
       "        <td style=\"padding-left: 1em; padding-right: 1em; text-align: center; vertical-align: top\">I received my Diaper<br>Champ at my baby shower ...</td>\n",
       "        <td style=\"padding-left: 1em; padding-right: 1em; text-align: center; vertical-align: top\">5.0</td>\n",
       "        <td style=\"padding-left: 1em; padding-right: 1em; text-align: center; vertical-align: top\">{&#x27;second&#x27;: 2.0, &#x27;have&#x27;:<br>1.0, &#x27;are&#x27;: 1.0, &#x27;pull&#x27;: ...</td>\n",
       "        <td style=\"padding-left: 1em; padding-right: 1em; text-align: center; vertical-align: top\">0.0</td>\n",
       "        <td style=\"padding-left: 1em; padding-right: 1em; text-align: center; vertical-align: top\">0.0</td>\n",
       "        <td style=\"padding-left: 1em; padding-right: 1em; text-align: center; vertical-align: top\">0.0</td>\n",
       "    </tr>\n",
       "    <tr>\n",
       "        <td style=\"padding-left: 1em; padding-right: 1em; text-align: center; vertical-align: top\">Baby Trend Diaper Champ</td>\n",
       "        <td style=\"padding-left: 1em; padding-right: 1em; text-align: center; vertical-align: top\">Love it, love it, love<br>it!  This lives up to ...</td>\n",
       "        <td style=\"padding-left: 1em; padding-right: 1em; text-align: center; vertical-align: top\">5.0</td>\n",
       "        <td style=\"padding-left: 1em; padding-right: 1em; text-align: center; vertical-align: top\">{&#x27;parents&#x27;: 1.0, &#x27;new&#x27;:<br>1.0, &#x27;recommended&#x27;: 1.0, ...</td>\n",
       "        <td style=\"padding-left: 1em; padding-right: 1em; text-align: center; vertical-align: top\">0.0</td>\n",
       "        <td style=\"padding-left: 1em; padding-right: 1em; text-align: center; vertical-align: top\">0.0</td>\n",
       "        <td style=\"padding-left: 1em; padding-right: 1em; text-align: center; vertical-align: top\">0.0</td>\n",
       "    </tr>\n",
       "    <tr>\n",
       "        <td style=\"padding-left: 1em; padding-right: 1em; text-align: center; vertical-align: top\">Baby Trend Diaper Champ</td>\n",
       "        <td style=\"padding-left: 1em; padding-right: 1em; text-align: center; vertical-align: top\">Let me just say, I LOVE<br>THIS PRODUCT!!  I used ...</td>\n",
       "        <td style=\"padding-left: 1em; padding-right: 1em; text-align: center; vertical-align: top\">5.0</td>\n",
       "        <td style=\"padding-left: 1em; padding-right: 1em; text-align: center; vertical-align: top\">{&#x27;friends&#x27;: 1.0, &#x27;feces&#x27;:<br>1.0, &#x27;tank&#x27;: 1.0, ...</td>\n",
       "        <td style=\"padding-left: 1em; padding-right: 1em; text-align: center; vertical-align: top\">0.0</td>\n",
       "        <td style=\"padding-left: 1em; padding-right: 1em; text-align: center; vertical-align: top\">1.0</td>\n",
       "        <td style=\"padding-left: 1em; padding-right: 1em; text-align: center; vertical-align: top\">1.0</td>\n",
       "    </tr>\n",
       "    <tr>\n",
       "        <td style=\"padding-left: 1em; padding-right: 1em; text-align: center; vertical-align: top\">Baby Trend Diaper Champ</td>\n",
       "        <td style=\"padding-left: 1em; padding-right: 1em; text-align: center; vertical-align: top\">I have been using this<br>diaper pail for 41/2 ...</td>\n",
       "        <td style=\"padding-left: 1em; padding-right: 1em; text-align: center; vertical-align: top\">5.0</td>\n",
       "        <td style=\"padding-left: 1em; padding-right: 1em; text-align: center; vertical-align: top\">{&#x27;recommend&#x27;: 1.0,<br>&#x27;would&#x27;: 1.0, &#x27;with&#x27;: ...</td>\n",
       "        <td style=\"padding-left: 1em; padding-right: 1em; text-align: center; vertical-align: top\">0.0</td>\n",
       "        <td style=\"padding-left: 1em; padding-right: 1em; text-align: center; vertical-align: top\">2.0</td>\n",
       "        <td style=\"padding-left: 1em; padding-right: 1em; text-align: center; vertical-align: top\">0.0</td>\n",
       "    </tr>\n",
       "    <tr>\n",
       "        <td style=\"padding-left: 1em; padding-right: 1em; text-align: center; vertical-align: top\">Baby Trend Diaper Champ</td>\n",
       "        <td style=\"padding-left: 1em; padding-right: 1em; text-align: center; vertical-align: top\">Works great - no smells.<br>LOVE that it uses reg ...</td>\n",
       "        <td style=\"padding-left: 1em; padding-right: 1em; text-align: center; vertical-align: top\">5.0</td>\n",
       "        <td style=\"padding-left: 1em; padding-right: 1em; text-align: center; vertical-align: top\">{&#x27;plastic&#x27;: 1.0, &#x27;in&#x27;:<br>1.0, &#x27;each&#x27;: 1.0, ...</td>\n",
       "        <td style=\"padding-left: 1em; padding-right: 1em; text-align: center; vertical-align: top\">0.0</td>\n",
       "        <td style=\"padding-left: 1em; padding-right: 1em; text-align: center; vertical-align: top\">2.0</td>\n",
       "        <td style=\"padding-left: 1em; padding-right: 1em; text-align: center; vertical-align: top\">0.0</td>\n",
       "    </tr>\n",
       "    <tr>\n",
       "        <td style=\"padding-left: 1em; padding-right: 1em; text-align: center; vertical-align: top\">Baby Trend Diaper Champ</td>\n",
       "        <td style=\"padding-left: 1em; padding-right: 1em; text-align: center; vertical-align: top\">I love this diaper pale<br>and wouldn&#x27;t dream of ...</td>\n",
       "        <td style=\"padding-left: 1em; padding-right: 1em; text-align: center; vertical-align: top\">5.0</td>\n",
       "        <td style=\"padding-left: 1em; padding-right: 1em; text-align: center; vertical-align: top\">{&#x27;easy&#x27;: 1.0, &#x27;how&#x27;: 1.0,<br>&#x27;like&#x27;: 1.0, &#x27;on&#x27;: 1.0, ...</td>\n",
       "        <td style=\"padding-left: 1em; padding-right: 1em; text-align: center; vertical-align: top\">0.0</td>\n",
       "        <td style=\"padding-left: 1em; padding-right: 1em; text-align: center; vertical-align: top\">2.0</td>\n",
       "        <td style=\"padding-left: 1em; padding-right: 1em; text-align: center; vertical-align: top\">0.0</td>\n",
       "    </tr>\n",
       "    <tr>\n",
       "        <td style=\"padding-left: 1em; padding-right: 1em; text-align: center; vertical-align: top\">Baby Trend Diaper Champ</td>\n",
       "        <td style=\"padding-left: 1em; padding-right: 1em; text-align: center; vertical-align: top\">I love this diaper pail.<br>It keeps the diapers  ...</td>\n",
       "        <td style=\"padding-left: 1em; padding-right: 1em; text-align: center; vertical-align: top\">4.0</td>\n",
       "        <td style=\"padding-left: 1em; padding-right: 1em; text-align: center; vertical-align: top\">{&#x27;wish&#x27;: 1.0, &#x27;is&#x27;: 1.0,<br>&#x27;stars&#x27;: 1.0, &#x27;gave&#x27;: ...</td>\n",
       "        <td style=\"padding-left: 1em; padding-right: 1em; text-align: center; vertical-align: top\">0.0</td>\n",
       "        <td style=\"padding-left: 1em; padding-right: 1em; text-align: center; vertical-align: top\">0.0</td>\n",
       "        <td style=\"padding-left: 1em; padding-right: 1em; text-align: center; vertical-align: top\">0.0</td>\n",
       "    </tr>\n",
       "    <tr>\n",
       "        <td style=\"padding-left: 1em; padding-right: 1em; text-align: center; vertical-align: top\">Baby Trend Diaper Champ</td>\n",
       "        <td style=\"padding-left: 1em; padding-right: 1em; text-align: center; vertical-align: top\">I have a two-year-old son<br>and I love the Diaper ...</td>\n",
       "        <td style=\"padding-left: 1em; padding-right: 1em; text-align: center; vertical-align: top\">5.0</td>\n",
       "        <td style=\"padding-left: 1em; padding-right: 1em; text-align: center; vertical-align: top\">{&#x27;close&#x27;: 1.0, &#x27;sticky&#x27;:<br>1.0, &#x27;tightly&#x27;: 1.0, ...</td>\n",
       "        <td style=\"padding-left: 1em; padding-right: 1em; text-align: center; vertical-align: top\">0.0</td>\n",
       "        <td style=\"padding-left: 1em; padding-right: 1em; text-align: center; vertical-align: top\">0.0</td>\n",
       "        <td style=\"padding-left: 1em; padding-right: 1em; text-align: center; vertical-align: top\">0.0</td>\n",
       "    </tr>\n",
       "    <tr>\n",
       "        <td style=\"padding-left: 1em; padding-right: 1em; text-align: center; vertical-align: top\">Baby Trend Diaper Champ</td>\n",
       "        <td style=\"padding-left: 1em; padding-right: 1em; text-align: center; vertical-align: top\">I love this diaper pail!<br>It&#x27;s so easy to use a ...</td>\n",
       "        <td style=\"padding-left: 1em; padding-right: 1em; text-align: center; vertical-align: top\">5.0</td>\n",
       "        <td style=\"padding-left: 1em; padding-right: 1em; text-align: center; vertical-align: top\">{&#x27;some&#x27;: 1.0, &#x27;save&#x27;:<br>1.0, &#x27;refills&#x27;: 1.0, ...</td>\n",
       "        <td style=\"padding-left: 1em; padding-right: 1em; text-align: center; vertical-align: top\">0.0</td>\n",
       "        <td style=\"padding-left: 1em; padding-right: 1em; text-align: center; vertical-align: top\">0.0</td>\n",
       "        <td style=\"padding-left: 1em; padding-right: 1em; text-align: center; vertical-align: top\">0.0</td>\n",
       "    </tr>\n",
       "</table>\n",
       "<table frame=\"box\" rules=\"cols\">\n",
       "    <tr>\n",
       "        <th style=\"padding-left: 1em; padding-right: 1em; text-align: center\">amazing</th>\n",
       "        <th style=\"padding-left: 1em; padding-right: 1em; text-align: center\">love</th>\n",
       "        <th style=\"padding-left: 1em; padding-right: 1em; text-align: center\">horrible</th>\n",
       "        <th style=\"padding-left: 1em; padding-right: 1em; text-align: center\">bad</th>\n",
       "        <th style=\"padding-left: 1em; padding-right: 1em; text-align: center\">terrible</th>\n",
       "        <th style=\"padding-left: 1em; padding-right: 1em; text-align: center\">awful</th>\n",
       "        <th style=\"padding-left: 1em; padding-right: 1em; text-align: center\">wow</th>\n",
       "        <th style=\"padding-left: 1em; padding-right: 1em; text-align: center\">hate</th>\n",
       "        <th style=\"padding-left: 1em; padding-right: 1em; text-align: center\">sentiment</th>\n",
       "        <th style=\"padding-left: 1em; padding-right: 1em; text-align: center\">predicted_sentiment</th>\n",
       "    </tr>\n",
       "    <tr>\n",
       "        <td style=\"padding-left: 1em; padding-right: 1em; text-align: center; vertical-align: top\">0.0</td>\n",
       "        <td style=\"padding-left: 1em; padding-right: 1em; text-align: center; vertical-align: top\">3.0</td>\n",
       "        <td style=\"padding-left: 1em; padding-right: 1em; text-align: center; vertical-align: top\">0</td>\n",
       "        <td style=\"padding-left: 1em; padding-right: 1em; text-align: center; vertical-align: top\">0.0</td>\n",
       "        <td style=\"padding-left: 1em; padding-right: 1em; text-align: center; vertical-align: top\">0</td>\n",
       "        <td style=\"padding-left: 1em; padding-right: 1em; text-align: center; vertical-align: top\">0</td>\n",
       "        <td style=\"padding-left: 1em; padding-right: 1em; text-align: center; vertical-align: top\">0</td>\n",
       "        <td style=\"padding-left: 1em; padding-right: 1em; text-align: center; vertical-align: top\">0</td>\n",
       "        <td style=\"padding-left: 1em; padding-right: 1em; text-align: center; vertical-align: top\">1</td>\n",
       "        <td style=\"padding-left: 1em; padding-right: 1em; text-align: center; vertical-align: top\">0.998125362333512</td>\n",
       "    </tr>\n",
       "    <tr>\n",
       "        <td style=\"padding-left: 1em; padding-right: 1em; text-align: center; vertical-align: top\">0.0</td>\n",
       "        <td style=\"padding-left: 1em; padding-right: 1em; text-align: center; vertical-align: top\">3.0</td>\n",
       "        <td style=\"padding-left: 1em; padding-right: 1em; text-align: center; vertical-align: top\">0</td>\n",
       "        <td style=\"padding-left: 1em; padding-right: 1em; text-align: center; vertical-align: top\">0.0</td>\n",
       "        <td style=\"padding-left: 1em; padding-right: 1em; text-align: center; vertical-align: top\">0</td>\n",
       "        <td style=\"padding-left: 1em; padding-right: 1em; text-align: center; vertical-align: top\">0</td>\n",
       "        <td style=\"padding-left: 1em; padding-right: 1em; text-align: center; vertical-align: top\">0</td>\n",
       "        <td style=\"padding-left: 1em; padding-right: 1em; text-align: center; vertical-align: top\">0</td>\n",
       "        <td style=\"padding-left: 1em; padding-right: 1em; text-align: center; vertical-align: top\">1</td>\n",
       "        <td style=\"padding-left: 1em; padding-right: 1em; text-align: center; vertical-align: top\">0.9955677154227355</td>\n",
       "    </tr>\n",
       "    <tr>\n",
       "        <td style=\"padding-left: 1em; padding-right: 1em; text-align: center; vertical-align: top\">0.0</td>\n",
       "        <td style=\"padding-left: 1em; padding-right: 1em; text-align: center; vertical-align: top\">3.0</td>\n",
       "        <td style=\"padding-left: 1em; padding-right: 1em; text-align: center; vertical-align: top\">0</td>\n",
       "        <td style=\"padding-left: 1em; padding-right: 1em; text-align: center; vertical-align: top\">0.0</td>\n",
       "        <td style=\"padding-left: 1em; padding-right: 1em; text-align: center; vertical-align: top\">0</td>\n",
       "        <td style=\"padding-left: 1em; padding-right: 1em; text-align: center; vertical-align: top\">0</td>\n",
       "        <td style=\"padding-left: 1em; padding-right: 1em; text-align: center; vertical-align: top\">0</td>\n",
       "        <td style=\"padding-left: 1em; padding-right: 1em; text-align: center; vertical-align: top\">0</td>\n",
       "        <td style=\"padding-left: 1em; padding-right: 1em; text-align: center; vertical-align: top\">1</td>\n",
       "        <td style=\"padding-left: 1em; padding-right: 1em; text-align: center; vertical-align: top\">0.9955677154227355</td>\n",
       "    </tr>\n",
       "    <tr>\n",
       "        <td style=\"padding-left: 1em; padding-right: 1em; text-align: center; vertical-align: top\">0.0</td>\n",
       "        <td style=\"padding-left: 1em; padding-right: 1em; text-align: center; vertical-align: top\">1.0</td>\n",
       "        <td style=\"padding-left: 1em; padding-right: 1em; text-align: center; vertical-align: top\">0</td>\n",
       "        <td style=\"padding-left: 1em; padding-right: 1em; text-align: center; vertical-align: top\">0.0</td>\n",
       "        <td style=\"padding-left: 1em; padding-right: 1em; text-align: center; vertical-align: top\">0</td>\n",
       "        <td style=\"padding-left: 1em; padding-right: 1em; text-align: center; vertical-align: top\">0</td>\n",
       "        <td style=\"padding-left: 1em; padding-right: 1em; text-align: center; vertical-align: top\">0</td>\n",
       "        <td style=\"padding-left: 1em; padding-right: 1em; text-align: center; vertical-align: top\">0</td>\n",
       "        <td style=\"padding-left: 1em; padding-right: 1em; text-align: center; vertical-align: top\">1</td>\n",
       "        <td style=\"padding-left: 1em; padding-right: 1em; text-align: center; vertical-align: top\">0.9883959649944535</td>\n",
       "    </tr>\n",
       "    <tr>\n",
       "        <td style=\"padding-left: 1em; padding-right: 1em; text-align: center; vertical-align: top\">0.0</td>\n",
       "        <td style=\"padding-left: 1em; padding-right: 1em; text-align: center; vertical-align: top\">1.0</td>\n",
       "        <td style=\"padding-left: 1em; padding-right: 1em; text-align: center; vertical-align: top\">0</td>\n",
       "        <td style=\"padding-left: 1em; padding-right: 1em; text-align: center; vertical-align: top\">0.0</td>\n",
       "        <td style=\"padding-left: 1em; padding-right: 1em; text-align: center; vertical-align: top\">0</td>\n",
       "        <td style=\"padding-left: 1em; padding-right: 1em; text-align: center; vertical-align: top\">0</td>\n",
       "        <td style=\"padding-left: 1em; padding-right: 1em; text-align: center; vertical-align: top\">0</td>\n",
       "        <td style=\"padding-left: 1em; padding-right: 1em; text-align: center; vertical-align: top\">0</td>\n",
       "        <td style=\"padding-left: 1em; padding-right: 1em; text-align: center; vertical-align: top\">1</td>\n",
       "        <td style=\"padding-left: 1em; padding-right: 1em; text-align: center; vertical-align: top\">0.9881322423088134</td>\n",
       "    </tr>\n",
       "    <tr>\n",
       "        <td style=\"padding-left: 1em; padding-right: 1em; text-align: center; vertical-align: top\">0.0</td>\n",
       "        <td style=\"padding-left: 1em; padding-right: 1em; text-align: center; vertical-align: top\">1.0</td>\n",
       "        <td style=\"padding-left: 1em; padding-right: 1em; text-align: center; vertical-align: top\">0</td>\n",
       "        <td style=\"padding-left: 1em; padding-right: 1em; text-align: center; vertical-align: top\">0.0</td>\n",
       "        <td style=\"padding-left: 1em; padding-right: 1em; text-align: center; vertical-align: top\">0</td>\n",
       "        <td style=\"padding-left: 1em; padding-right: 1em; text-align: center; vertical-align: top\">0</td>\n",
       "        <td style=\"padding-left: 1em; padding-right: 1em; text-align: center; vertical-align: top\">0</td>\n",
       "        <td style=\"padding-left: 1em; padding-right: 1em; text-align: center; vertical-align: top\">0</td>\n",
       "        <td style=\"padding-left: 1em; padding-right: 1em; text-align: center; vertical-align: top\">1</td>\n",
       "        <td style=\"padding-left: 1em; padding-right: 1em; text-align: center; vertical-align: top\">0.9881322423088134</td>\n",
       "    </tr>\n",
       "    <tr>\n",
       "        <td style=\"padding-left: 1em; padding-right: 1em; text-align: center; vertical-align: top\">0.0</td>\n",
       "        <td style=\"padding-left: 1em; padding-right: 1em; text-align: center; vertical-align: top\">1.0</td>\n",
       "        <td style=\"padding-left: 1em; padding-right: 1em; text-align: center; vertical-align: top\">0</td>\n",
       "        <td style=\"padding-left: 1em; padding-right: 1em; text-align: center; vertical-align: top\">0.0</td>\n",
       "        <td style=\"padding-left: 1em; padding-right: 1em; text-align: center; vertical-align: top\">0</td>\n",
       "        <td style=\"padding-left: 1em; padding-right: 1em; text-align: center; vertical-align: top\">0</td>\n",
       "        <td style=\"padding-left: 1em; padding-right: 1em; text-align: center; vertical-align: top\">0</td>\n",
       "        <td style=\"padding-left: 1em; padding-right: 1em; text-align: center; vertical-align: top\">0</td>\n",
       "        <td style=\"padding-left: 1em; padding-right: 1em; text-align: center; vertical-align: top\">1</td>\n",
       "        <td style=\"padding-left: 1em; padding-right: 1em; text-align: center; vertical-align: top\">0.9881322423088134</td>\n",
       "    </tr>\n",
       "    <tr>\n",
       "        <td style=\"padding-left: 1em; padding-right: 1em; text-align: center; vertical-align: top\">0.0</td>\n",
       "        <td style=\"padding-left: 1em; padding-right: 1em; text-align: center; vertical-align: top\">2.0</td>\n",
       "        <td style=\"padding-left: 1em; padding-right: 1em; text-align: center; vertical-align: top\">0</td>\n",
       "        <td style=\"padding-left: 1em; padding-right: 1em; text-align: center; vertical-align: top\">0.0</td>\n",
       "        <td style=\"padding-left: 1em; padding-right: 1em; text-align: center; vertical-align: top\">0</td>\n",
       "        <td style=\"padding-left: 1em; padding-right: 1em; text-align: center; vertical-align: top\">0</td>\n",
       "        <td style=\"padding-left: 1em; padding-right: 1em; text-align: center; vertical-align: top\">0</td>\n",
       "        <td style=\"padding-left: 1em; padding-right: 1em; text-align: center; vertical-align: top\">0</td>\n",
       "        <td style=\"padding-left: 1em; padding-right: 1em; text-align: center; vertical-align: top\">1</td>\n",
       "        <td style=\"padding-left: 1em; padding-right: 1em; text-align: center; vertical-align: top\">0.9829620803909049</td>\n",
       "    </tr>\n",
       "    <tr>\n",
       "        <td style=\"padding-left: 1em; padding-right: 1em; text-align: center; vertical-align: top\">0.0</td>\n",
       "        <td style=\"padding-left: 1em; padding-right: 1em; text-align: center; vertical-align: top\">2.0</td>\n",
       "        <td style=\"padding-left: 1em; padding-right: 1em; text-align: center; vertical-align: top\">0</td>\n",
       "        <td style=\"padding-left: 1em; padding-right: 1em; text-align: center; vertical-align: top\">0.0</td>\n",
       "        <td style=\"padding-left: 1em; padding-right: 1em; text-align: center; vertical-align: top\">0</td>\n",
       "        <td style=\"padding-left: 1em; padding-right: 1em; text-align: center; vertical-align: top\">0</td>\n",
       "        <td style=\"padding-left: 1em; padding-right: 1em; text-align: center; vertical-align: top\">0</td>\n",
       "        <td style=\"padding-left: 1em; padding-right: 1em; text-align: center; vertical-align: top\">0</td>\n",
       "        <td style=\"padding-left: 1em; padding-right: 1em; text-align: center; vertical-align: top\">1</td>\n",
       "        <td style=\"padding-left: 1em; padding-right: 1em; text-align: center; vertical-align: top\">0.9829620803909049</td>\n",
       "    </tr>\n",
       "    <tr>\n",
       "        <td style=\"padding-left: 1em; padding-right: 1em; text-align: center; vertical-align: top\">0.0</td>\n",
       "        <td style=\"padding-left: 1em; padding-right: 1em; text-align: center; vertical-align: top\">2.0</td>\n",
       "        <td style=\"padding-left: 1em; padding-right: 1em; text-align: center; vertical-align: top\">0</td>\n",
       "        <td style=\"padding-left: 1em; padding-right: 1em; text-align: center; vertical-align: top\">0.0</td>\n",
       "        <td style=\"padding-left: 1em; padding-right: 1em; text-align: center; vertical-align: top\">0</td>\n",
       "        <td style=\"padding-left: 1em; padding-right: 1em; text-align: center; vertical-align: top\">0</td>\n",
       "        <td style=\"padding-left: 1em; padding-right: 1em; text-align: center; vertical-align: top\">0</td>\n",
       "        <td style=\"padding-left: 1em; padding-right: 1em; text-align: center; vertical-align: top\">0</td>\n",
       "        <td style=\"padding-left: 1em; padding-right: 1em; text-align: center; vertical-align: top\">1</td>\n",
       "        <td style=\"padding-left: 1em; padding-right: 1em; text-align: center; vertical-align: top\">0.9829620803909049</td>\n",
       "    </tr>\n",
       "</table>\n",
       "[298 rows x 17 columns]<br/>Note: Only the head of the SFrame is printed.<br/>You can use print_rows(num_rows=m, num_columns=n) to print more rows and columns.\n",
       "</div>"
      ],
      "text/plain": [
       "Columns:\n",
       "\tname\tstr\n",
       "\treview\tstr\n",
       "\trating\tfloat\n",
       "\tword_count\tdict\n",
       "\tawesome\tfloat\n",
       "\tgreat\tfloat\n",
       "\tfantastic\tfloat\n",
       "\tamazing\tfloat\n",
       "\tlove\tfloat\n",
       "\thorrible\tint\n",
       "\tbad\tfloat\n",
       "\tterrible\tint\n",
       "\tawful\tint\n",
       "\twow\tint\n",
       "\thate\tint\n",
       "\tsentiment\tint\n",
       "\tpredicted_sentiment\tfloat\n",
       "\n",
       "Rows: 298\n",
       "\n",
       "Data:\n",
       "+-------------------------+-------------------------------+--------+\n",
       "|           name          |             review            | rating |\n",
       "+-------------------------+-------------------------------+--------+\n",
       "| Baby Trend Diaper Champ | I LOVE LOVE LOVE this prod... |  4.0   |\n",
       "| Baby Trend Diaper Champ | I received my Diaper Champ... |  5.0   |\n",
       "| Baby Trend Diaper Champ | Love it, love it, love it!... |  5.0   |\n",
       "| Baby Trend Diaper Champ | Let me just say, I LOVE TH... |  5.0   |\n",
       "| Baby Trend Diaper Champ | I have been using this dia... |  5.0   |\n",
       "| Baby Trend Diaper Champ | Works great - no smells.  ... |  5.0   |\n",
       "| Baby Trend Diaper Champ | I love this diaper pale an... |  5.0   |\n",
       "| Baby Trend Diaper Champ | I love this diaper pail. I... |  4.0   |\n",
       "| Baby Trend Diaper Champ | I have a two-year-old son ... |  5.0   |\n",
       "| Baby Trend Diaper Champ | I love this diaper pail!  ... |  5.0   |\n",
       "+-------------------------+-------------------------------+--------+\n",
       "+-------------------------------+---------+-------+-----------+---------+------+\n",
       "|           word_count          | awesome | great | fantastic | amazing | love |\n",
       "+-------------------------------+---------+-------+-----------+---------+------+\n",
       "| {'sorry': 1.0, 'be': 1.0, ... |   0.0   |  1.0  |    0.0    |   0.0   | 3.0  |\n",
       "| {'second': 2.0, 'have': 1.... |   0.0   |  0.0  |    0.0    |   0.0   | 3.0  |\n",
       "| {'parents': 1.0, 'new': 1.... |   0.0   |  0.0  |    0.0    |   0.0   | 3.0  |\n",
       "| {'friends': 1.0, 'feces': ... |   0.0   |  1.0  |    1.0    |   0.0   | 1.0  |\n",
       "| {'recommend': 1.0, 'would'... |   0.0   |  2.0  |    0.0    |   0.0   | 1.0  |\n",
       "| {'plastic': 1.0, 'in': 1.0... |   0.0   |  2.0  |    0.0    |   0.0   | 1.0  |\n",
       "| {'easy': 1.0, 'how': 1.0, ... |   0.0   |  2.0  |    0.0    |   0.0   | 1.0  |\n",
       "| {'wish': 1.0, 'is': 1.0, '... |   0.0   |  0.0  |    0.0    |   0.0   | 2.0  |\n",
       "| {'close': 1.0, 'sticky': 1... |   0.0   |  0.0  |    0.0    |   0.0   | 2.0  |\n",
       "| {'some': 1.0, 'save': 1.0,... |   0.0   |  0.0  |    0.0    |   0.0   | 2.0  |\n",
       "+-------------------------------+---------+-------+-----------+---------+------+\n",
       "+----------+-----+----------+-------+-----+------+-----------+\n",
       "| horrible | bad | terrible | awful | wow | hate | sentiment |\n",
       "+----------+-----+----------+-------+-----+------+-----------+\n",
       "|    0     | 0.0 |    0     |   0   |  0  |  0   |     1     |\n",
       "|    0     | 0.0 |    0     |   0   |  0  |  0   |     1     |\n",
       "|    0     | 0.0 |    0     |   0   |  0  |  0   |     1     |\n",
       "|    0     | 0.0 |    0     |   0   |  0  |  0   |     1     |\n",
       "|    0     | 0.0 |    0     |   0   |  0  |  0   |     1     |\n",
       "|    0     | 0.0 |    0     |   0   |  0  |  0   |     1     |\n",
       "|    0     | 0.0 |    0     |   0   |  0  |  0   |     1     |\n",
       "|    0     | 0.0 |    0     |   0   |  0  |  0   |     1     |\n",
       "|    0     | 0.0 |    0     |   0   |  0  |  0   |     1     |\n",
       "|    0     | 0.0 |    0     |   0   |  0  |  0   |     1     |\n",
       "+----------+-----+----------+-------+-----+------+-----------+\n",
       "+---------------------+\n",
       "| predicted_sentiment |\n",
       "+---------------------+\n",
       "|  0.998125362333512  |\n",
       "|  0.9955677154227355 |\n",
       "|  0.9955677154227355 |\n",
       "|  0.9883959649944535 |\n",
       "|  0.9881322423088134 |\n",
       "|  0.9881322423088134 |\n",
       "|  0.9881322423088134 |\n",
       "|  0.9829620803909049 |\n",
       "|  0.9829620803909049 |\n",
       "|  0.9829620803909049 |\n",
       "+---------------------+\n",
       "[298 rows x 17 columns]\n",
       "Note: Only the head of the SFrame is printed.\n",
       "You can use print_rows(num_rows=m, num_columns=n) to print more rows and columns."
      ]
     },
     "execution_count": 89,
     "metadata": {},
     "output_type": "execute_result"
    }
   ],
   "source": [
    "diaper_reviews = products[products['name']== 'Baby Trend Diaper Champ']\n",
    "diaper_reviews = diaper_reviews.sort('predicted_sentiment', ascending=False)\n",
    "diaper_reviews"
   ]
  },
  {
   "cell_type": "markdown",
   "metadata": {},
   "source": [
    "## Assignment 4\n",
    "### Week 4"
   ]
  },
  {
   "cell_type": "code",
   "execution_count": 3,
   "metadata": {},
   "outputs": [
    {
     "data": {
      "text/html": [
       "<div style=\"max-height:1000px;max-width:1500px;overflow:auto;\"><table frame=\"box\" rules=\"cols\">\n",
       "    <tr>\n",
       "        <th style=\"padding-left: 1em; padding-right: 1em; text-align: center\">URI</th>\n",
       "        <th style=\"padding-left: 1em; padding-right: 1em; text-align: center\">name</th>\n",
       "        <th style=\"padding-left: 1em; padding-right: 1em; text-align: center\">text</th>\n",
       "    </tr>\n",
       "    <tr>\n",
       "        <td style=\"padding-left: 1em; padding-right: 1em; text-align: center; vertical-align: top\">&lt;http://dbpedia.org/resou<br>rce/Digby_Morrell&gt; ...</td>\n",
       "        <td style=\"padding-left: 1em; padding-right: 1em; text-align: center; vertical-align: top\">Digby Morrell</td>\n",
       "        <td style=\"padding-left: 1em; padding-right: 1em; text-align: center; vertical-align: top\">digby morrell born 10<br>october 1979 is a former ...</td>\n",
       "    </tr>\n",
       "    <tr>\n",
       "        <td style=\"padding-left: 1em; padding-right: 1em; text-align: center; vertical-align: top\">&lt;http://dbpedia.org/resou<br>rce/Alfred_J._Lewy&gt; ...</td>\n",
       "        <td style=\"padding-left: 1em; padding-right: 1em; text-align: center; vertical-align: top\">Alfred J. Lewy</td>\n",
       "        <td style=\"padding-left: 1em; padding-right: 1em; text-align: center; vertical-align: top\">alfred j lewy aka sandy<br>lewy graduated from ...</td>\n",
       "    </tr>\n",
       "    <tr>\n",
       "        <td style=\"padding-left: 1em; padding-right: 1em; text-align: center; vertical-align: top\">&lt;http://dbpedia.org/resou<br>rce/Harpdog_Brown&gt; ...</td>\n",
       "        <td style=\"padding-left: 1em; padding-right: 1em; text-align: center; vertical-align: top\">Harpdog Brown</td>\n",
       "        <td style=\"padding-left: 1em; padding-right: 1em; text-align: center; vertical-align: top\">harpdog brown is a singer<br>and harmonica player who ...</td>\n",
       "    </tr>\n",
       "    <tr>\n",
       "        <td style=\"padding-left: 1em; padding-right: 1em; text-align: center; vertical-align: top\">&lt;http://dbpedia.org/resou<br>rce/Franz_Rottensteiner&gt; ...</td>\n",
       "        <td style=\"padding-left: 1em; padding-right: 1em; text-align: center; vertical-align: top\">Franz Rottensteiner</td>\n",
       "        <td style=\"padding-left: 1em; padding-right: 1em; text-align: center; vertical-align: top\">franz rottensteiner born<br>in waidmannsfeld lower ...</td>\n",
       "    </tr>\n",
       "    <tr>\n",
       "        <td style=\"padding-left: 1em; padding-right: 1em; text-align: center; vertical-align: top\">&lt;http://dbpedia.org/resou<br>rce/G-Enka&gt; ...</td>\n",
       "        <td style=\"padding-left: 1em; padding-right: 1em; text-align: center; vertical-align: top\">G-Enka</td>\n",
       "        <td style=\"padding-left: 1em; padding-right: 1em; text-align: center; vertical-align: top\">henry krvits born 30<br>december 1974 in tallinn ...</td>\n",
       "    </tr>\n",
       "    <tr>\n",
       "        <td style=\"padding-left: 1em; padding-right: 1em; text-align: center; vertical-align: top\">&lt;http://dbpedia.org/resou<br>rce/Sam_Henderson&gt; ...</td>\n",
       "        <td style=\"padding-left: 1em; padding-right: 1em; text-align: center; vertical-align: top\">Sam Henderson</td>\n",
       "        <td style=\"padding-left: 1em; padding-right: 1em; text-align: center; vertical-align: top\">sam henderson born<br>october 18 1969 is an ...</td>\n",
       "    </tr>\n",
       "    <tr>\n",
       "        <td style=\"padding-left: 1em; padding-right: 1em; text-align: center; vertical-align: top\">&lt;http://dbpedia.org/resou<br>rce/Aaron_LaCrate&gt; ...</td>\n",
       "        <td style=\"padding-left: 1em; padding-right: 1em; text-align: center; vertical-align: top\">Aaron LaCrate</td>\n",
       "        <td style=\"padding-left: 1em; padding-right: 1em; text-align: center; vertical-align: top\">aaron lacrate is an<br>american music producer ...</td>\n",
       "    </tr>\n",
       "    <tr>\n",
       "        <td style=\"padding-left: 1em; padding-right: 1em; text-align: center; vertical-align: top\">&lt;http://dbpedia.org/resou<br>rce/Trevor_Ferguson&gt; ...</td>\n",
       "        <td style=\"padding-left: 1em; padding-right: 1em; text-align: center; vertical-align: top\">Trevor Ferguson</td>\n",
       "        <td style=\"padding-left: 1em; padding-right: 1em; text-align: center; vertical-align: top\">trevor ferguson aka john<br>farrow born 11 november ...</td>\n",
       "    </tr>\n",
       "    <tr>\n",
       "        <td style=\"padding-left: 1em; padding-right: 1em; text-align: center; vertical-align: top\">&lt;http://dbpedia.org/resou<br>rce/Grant_Nelson&gt; ...</td>\n",
       "        <td style=\"padding-left: 1em; padding-right: 1em; text-align: center; vertical-align: top\">Grant Nelson</td>\n",
       "        <td style=\"padding-left: 1em; padding-right: 1em; text-align: center; vertical-align: top\">grant nelson born 27<br>april 1971 in london  ...</td>\n",
       "    </tr>\n",
       "    <tr>\n",
       "        <td style=\"padding-left: 1em; padding-right: 1em; text-align: center; vertical-align: top\">&lt;http://dbpedia.org/resou<br>rce/Cathy_Caruth&gt; ...</td>\n",
       "        <td style=\"padding-left: 1em; padding-right: 1em; text-align: center; vertical-align: top\">Cathy Caruth</td>\n",
       "        <td style=\"padding-left: 1em; padding-right: 1em; text-align: center; vertical-align: top\">cathy caruth born 1955 is<br>frank h t rhodes ...</td>\n",
       "    </tr>\n",
       "</table>\n",
       "[59071 rows x 3 columns]<br/>Note: Only the head of the SFrame is printed.<br/>You can use print_rows(num_rows=m, num_columns=n) to print more rows and columns.\n",
       "</div>"
      ],
      "text/plain": [
       "Columns:\n",
       "\tURI\tstr\n",
       "\tname\tstr\n",
       "\ttext\tstr\n",
       "\n",
       "Rows: 59071\n",
       "\n",
       "Data:\n",
       "+-------------------------------+---------------------+\n",
       "|              URI              |         name        |\n",
       "+-------------------------------+---------------------+\n",
       "| <http://dbpedia.org/resour... |    Digby Morrell    |\n",
       "| <http://dbpedia.org/resour... |    Alfred J. Lewy   |\n",
       "| <http://dbpedia.org/resour... |    Harpdog Brown    |\n",
       "| <http://dbpedia.org/resour... | Franz Rottensteiner |\n",
       "| <http://dbpedia.org/resour... |        G-Enka       |\n",
       "| <http://dbpedia.org/resour... |    Sam Henderson    |\n",
       "| <http://dbpedia.org/resour... |    Aaron LaCrate    |\n",
       "| <http://dbpedia.org/resour... |   Trevor Ferguson   |\n",
       "| <http://dbpedia.org/resour... |     Grant Nelson    |\n",
       "| <http://dbpedia.org/resour... |     Cathy Caruth    |\n",
       "+-------------------------------+---------------------+\n",
       "+-------------------------------+\n",
       "|              text             |\n",
       "+-------------------------------+\n",
       "| digby morrell born 10 octo... |\n",
       "| alfred j lewy aka sandy le... |\n",
       "| harpdog brown is a singer ... |\n",
       "| franz rottensteiner born i... |\n",
       "| henry krvits born 30 decem... |\n",
       "| sam henderson born october... |\n",
       "| aaron lacrate is an americ... |\n",
       "| trevor ferguson aka john f... |\n",
       "| grant nelson born 27 april... |\n",
       "| cathy caruth born 1955 is ... |\n",
       "+-------------------------------+\n",
       "[59071 rows x 3 columns]\n",
       "Note: Only the head of the SFrame is printed.\n",
       "You can use print_rows(num_rows=m, num_columns=n) to print more rows and columns."
      ]
     },
     "execution_count": 3,
     "metadata": {},
     "output_type": "execute_result"
    }
   ],
   "source": [
    "import turicreate\n",
    "\n",
    "import zipfile\n",
    "local_zip = 'people_wiki.sframe.zip'\n",
    "zip_ref = zipfile.ZipFile(local_zip, 'r')\n",
    "zip_ref.extractall()\n",
    "zip_ref.close()\n",
    "\n",
    "people = turicreate.SFrame('people_wiki.sframe')\n",
    "\n",
    "people"
   ]
  },
  {
   "cell_type": "code",
   "execution_count": 6,
   "metadata": {},
   "outputs": [],
   "source": [
    "people['text'].apply(lambda x: x.replace('.', ' '))\n",
    "people['word_count'] = turicreate.text_analytics.count_words(people['text'])"
   ]
  },
  {
   "cell_type": "code",
   "execution_count": 10,
   "metadata": {},
   "outputs": [
    {
     "data": {
      "text/html": [
       "<div style=\"max-height:1000px;max-width:1500px;overflow:auto;\"><table frame=\"box\" rules=\"cols\">\n",
       "    <tr>\n",
       "        <th style=\"padding-left: 1em; padding-right: 1em; text-align: center\">URI</th>\n",
       "        <th style=\"padding-left: 1em; padding-right: 1em; text-align: center\">name</th>\n",
       "        <th style=\"padding-left: 1em; padding-right: 1em; text-align: center\">text</th>\n",
       "        <th style=\"padding-left: 1em; padding-right: 1em; text-align: center\">word</th>\n",
       "        <th style=\"padding-left: 1em; padding-right: 1em; text-align: center\">count</th>\n",
       "    </tr>\n",
       "    <tr>\n",
       "        <td style=\"padding-left: 1em; padding-right: 1em; text-align: center; vertical-align: top\">&lt;http://dbpedia.org/resou<br>rce/Elton_John&gt; ...</td>\n",
       "        <td style=\"padding-left: 1em; padding-right: 1em; text-align: center; vertical-align: top\">Elton John</td>\n",
       "        <td style=\"padding-left: 1em; padding-right: 1em; text-align: center; vertical-align: top\">sir elton hercules john<br>cbe born reginald ken ...</td>\n",
       "        <td style=\"padding-left: 1em; padding-right: 1em; text-align: center; vertical-align: top\">the</td>\n",
       "        <td style=\"padding-left: 1em; padding-right: 1em; text-align: center; vertical-align: top\">27.0</td>\n",
       "    </tr>\n",
       "    <tr>\n",
       "        <td style=\"padding-left: 1em; padding-right: 1em; text-align: center; vertical-align: top\">&lt;http://dbpedia.org/resou<br>rce/Elton_John&gt; ...</td>\n",
       "        <td style=\"padding-left: 1em; padding-right: 1em; text-align: center; vertical-align: top\">Elton John</td>\n",
       "        <td style=\"padding-left: 1em; padding-right: 1em; text-align: center; vertical-align: top\">sir elton hercules john<br>cbe born reginald ken ...</td>\n",
       "        <td style=\"padding-left: 1em; padding-right: 1em; text-align: center; vertical-align: top\">in</td>\n",
       "        <td style=\"padding-left: 1em; padding-right: 1em; text-align: center; vertical-align: top\">18.0</td>\n",
       "    </tr>\n",
       "    <tr>\n",
       "        <td style=\"padding-left: 1em; padding-right: 1em; text-align: center; vertical-align: top\">&lt;http://dbpedia.org/resou<br>rce/Elton_John&gt; ...</td>\n",
       "        <td style=\"padding-left: 1em; padding-right: 1em; text-align: center; vertical-align: top\">Elton John</td>\n",
       "        <td style=\"padding-left: 1em; padding-right: 1em; text-align: center; vertical-align: top\">sir elton hercules john<br>cbe born reginald ken ...</td>\n",
       "        <td style=\"padding-left: 1em; padding-right: 1em; text-align: center; vertical-align: top\">and</td>\n",
       "        <td style=\"padding-left: 1em; padding-right: 1em; text-align: center; vertical-align: top\">15.0</td>\n",
       "    </tr>\n",
       "    <tr>\n",
       "        <td style=\"padding-left: 1em; padding-right: 1em; text-align: center; vertical-align: top\">&lt;http://dbpedia.org/resou<br>rce/Elton_John&gt; ...</td>\n",
       "        <td style=\"padding-left: 1em; padding-right: 1em; text-align: center; vertical-align: top\">Elton John</td>\n",
       "        <td style=\"padding-left: 1em; padding-right: 1em; text-align: center; vertical-align: top\">sir elton hercules john<br>cbe born reginald ken ...</td>\n",
       "        <td style=\"padding-left: 1em; padding-right: 1em; text-align: center; vertical-align: top\">of</td>\n",
       "        <td style=\"padding-left: 1em; padding-right: 1em; text-align: center; vertical-align: top\">13.0</td>\n",
       "    </tr>\n",
       "    <tr>\n",
       "        <td style=\"padding-left: 1em; padding-right: 1em; text-align: center; vertical-align: top\">&lt;http://dbpedia.org/resou<br>rce/Elton_John&gt; ...</td>\n",
       "        <td style=\"padding-left: 1em; padding-right: 1em; text-align: center; vertical-align: top\">Elton John</td>\n",
       "        <td style=\"padding-left: 1em; padding-right: 1em; text-align: center; vertical-align: top\">sir elton hercules john<br>cbe born reginald ken ...</td>\n",
       "        <td style=\"padding-left: 1em; padding-right: 1em; text-align: center; vertical-align: top\">a</td>\n",
       "        <td style=\"padding-left: 1em; padding-right: 1em; text-align: center; vertical-align: top\">10.0</td>\n",
       "    </tr>\n",
       "    <tr>\n",
       "        <td style=\"padding-left: 1em; padding-right: 1em; text-align: center; vertical-align: top\">&lt;http://dbpedia.org/resou<br>rce/Elton_John&gt; ...</td>\n",
       "        <td style=\"padding-left: 1em; padding-right: 1em; text-align: center; vertical-align: top\">Elton John</td>\n",
       "        <td style=\"padding-left: 1em; padding-right: 1em; text-align: center; vertical-align: top\">sir elton hercules john<br>cbe born reginald ken ...</td>\n",
       "        <td style=\"padding-left: 1em; padding-right: 1em; text-align: center; vertical-align: top\">has</td>\n",
       "        <td style=\"padding-left: 1em; padding-right: 1em; text-align: center; vertical-align: top\">9.0</td>\n",
       "    </tr>\n",
       "    <tr>\n",
       "        <td style=\"padding-left: 1em; padding-right: 1em; text-align: center; vertical-align: top\">&lt;http://dbpedia.org/resou<br>rce/Elton_John&gt; ...</td>\n",
       "        <td style=\"padding-left: 1em; padding-right: 1em; text-align: center; vertical-align: top\">Elton John</td>\n",
       "        <td style=\"padding-left: 1em; padding-right: 1em; text-align: center; vertical-align: top\">sir elton hercules john<br>cbe born reginald ken ...</td>\n",
       "        <td style=\"padding-left: 1em; padding-right: 1em; text-align: center; vertical-align: top\">he</td>\n",
       "        <td style=\"padding-left: 1em; padding-right: 1em; text-align: center; vertical-align: top\">7.0</td>\n",
       "    </tr>\n",
       "    <tr>\n",
       "        <td style=\"padding-left: 1em; padding-right: 1em; text-align: center; vertical-align: top\">&lt;http://dbpedia.org/resou<br>rce/Elton_John&gt; ...</td>\n",
       "        <td style=\"padding-left: 1em; padding-right: 1em; text-align: center; vertical-align: top\">Elton John</td>\n",
       "        <td style=\"padding-left: 1em; padding-right: 1em; text-align: center; vertical-align: top\">sir elton hercules john<br>cbe born reginald ken ...</td>\n",
       "        <td style=\"padding-left: 1em; padding-right: 1em; text-align: center; vertical-align: top\">john</td>\n",
       "        <td style=\"padding-left: 1em; padding-right: 1em; text-align: center; vertical-align: top\">7.0</td>\n",
       "    </tr>\n",
       "    <tr>\n",
       "        <td style=\"padding-left: 1em; padding-right: 1em; text-align: center; vertical-align: top\">&lt;http://dbpedia.org/resou<br>rce/Elton_John&gt; ...</td>\n",
       "        <td style=\"padding-left: 1em; padding-right: 1em; text-align: center; vertical-align: top\">Elton John</td>\n",
       "        <td style=\"padding-left: 1em; padding-right: 1em; text-align: center; vertical-align: top\">sir elton hercules john<br>cbe born reginald ken ...</td>\n",
       "        <td style=\"padding-left: 1em; padding-right: 1em; text-align: center; vertical-align: top\">on</td>\n",
       "        <td style=\"padding-left: 1em; padding-right: 1em; text-align: center; vertical-align: top\">6.0</td>\n",
       "    </tr>\n",
       "    <tr>\n",
       "        <td style=\"padding-left: 1em; padding-right: 1em; text-align: center; vertical-align: top\">&lt;http://dbpedia.org/resou<br>rce/Elton_John&gt; ...</td>\n",
       "        <td style=\"padding-left: 1em; padding-right: 1em; text-align: center; vertical-align: top\">Elton John</td>\n",
       "        <td style=\"padding-left: 1em; padding-right: 1em; text-align: center; vertical-align: top\">sir elton hercules john<br>cbe born reginald ken ...</td>\n",
       "        <td style=\"padding-left: 1em; padding-right: 1em; text-align: center; vertical-align: top\">since</td>\n",
       "        <td style=\"padding-left: 1em; padding-right: 1em; text-align: center; vertical-align: top\">5.0</td>\n",
       "    </tr>\n",
       "</table>\n",
       "[255 rows x 5 columns]<br/>Note: Only the head of the SFrame is printed.<br/>You can use print_rows(num_rows=m, num_columns=n) to print more rows and columns.\n",
       "</div>"
      ],
      "text/plain": [
       "Columns:\n",
       "\tURI\tstr\n",
       "\tname\tstr\n",
       "\ttext\tstr\n",
       "\tword\tstr\n",
       "\tcount\tfloat\n",
       "\n",
       "Rows: 255\n",
       "\n",
       "Data:\n",
       "+-------------------------------+------------+-------------------------------+\n",
       "|              URI              |    name    |              text             |\n",
       "+-------------------------------+------------+-------------------------------+\n",
       "| <http://dbpedia.org/resour... | Elton John | sir elton hercules john cb... |\n",
       "| <http://dbpedia.org/resour... | Elton John | sir elton hercules john cb... |\n",
       "| <http://dbpedia.org/resour... | Elton John | sir elton hercules john cb... |\n",
       "| <http://dbpedia.org/resour... | Elton John | sir elton hercules john cb... |\n",
       "| <http://dbpedia.org/resour... | Elton John | sir elton hercules john cb... |\n",
       "| <http://dbpedia.org/resour... | Elton John | sir elton hercules john cb... |\n",
       "| <http://dbpedia.org/resour... | Elton John | sir elton hercules john cb... |\n",
       "| <http://dbpedia.org/resour... | Elton John | sir elton hercules john cb... |\n",
       "| <http://dbpedia.org/resour... | Elton John | sir elton hercules john cb... |\n",
       "| <http://dbpedia.org/resour... | Elton John | sir elton hercules john cb... |\n",
       "+-------------------------------+------------+-------------------------------+\n",
       "+-------+-------+\n",
       "|  word | count |\n",
       "+-------+-------+\n",
       "|  the  |  27.0 |\n",
       "|   in  |  18.0 |\n",
       "|  and  |  15.0 |\n",
       "|   of  |  13.0 |\n",
       "|   a   |  10.0 |\n",
       "|  has  |  9.0  |\n",
       "|   he  |  7.0  |\n",
       "|  john |  7.0  |\n",
       "|   on  |  6.0  |\n",
       "| since |  5.0  |\n",
       "+-------+-------+\n",
       "[255 rows x 5 columns]\n",
       "Note: Only the head of the SFrame is printed.\n",
       "You can use print_rows(num_rows=m, num_columns=n) to print more rows and columns."
      ]
     },
     "execution_count": 10,
     "metadata": {},
     "output_type": "execute_result"
    }
   ],
   "source": [
    "john = people[people['name'] == 'Elton John']\n",
    "john.stack('word_count',new_column_name=['word','count']).sort('count',ascending=False)"
   ]
  },
  {
   "cell_type": "code",
   "execution_count": 13,
   "metadata": {},
   "outputs": [],
   "source": [
    "people['tfidf'] = turicreate.text_analytics.tf_idf(people['text'])"
   ]
  },
  {
   "cell_type": "code",
   "execution_count": 15,
   "metadata": {},
   "outputs": [
    {
     "data": {
      "text/html": [
       "<div style=\"max-height:1000px;max-width:1500px;overflow:auto;\"><table frame=\"box\" rules=\"cols\">\n",
       "    <tr>\n",
       "        <th style=\"padding-left: 1em; padding-right: 1em; text-align: center\">word</th>\n",
       "        <th style=\"padding-left: 1em; padding-right: 1em; text-align: center\">tfidf</th>\n",
       "    </tr>\n",
       "    <tr>\n",
       "        <td style=\"padding-left: 1em; padding-right: 1em; text-align: center; vertical-align: top\">furnish</td>\n",
       "        <td style=\"padding-left: 1em; padding-right: 1em; text-align: center; vertical-align: top\">18.38947183999428</td>\n",
       "    </tr>\n",
       "    <tr>\n",
       "        <td style=\"padding-left: 1em; padding-right: 1em; text-align: center; vertical-align: top\">elton</td>\n",
       "        <td style=\"padding-left: 1em; padding-right: 1em; text-align: center; vertical-align: top\">17.482320270031995</td>\n",
       "    </tr>\n",
       "    <tr>\n",
       "        <td style=\"padding-left: 1em; padding-right: 1em; text-align: center; vertical-align: top\">billboard</td>\n",
       "        <td style=\"padding-left: 1em; padding-right: 1em; text-align: center; vertical-align: top\">17.30368095754203</td>\n",
       "    </tr>\n",
       "    <tr>\n",
       "        <td style=\"padding-left: 1em; padding-right: 1em; text-align: center; vertical-align: top\">john</td>\n",
       "        <td style=\"padding-left: 1em; padding-right: 1em; text-align: center; vertical-align: top\">13.93931279239831</td>\n",
       "    </tr>\n",
       "    <tr>\n",
       "        <td style=\"padding-left: 1em; padding-right: 1em; text-align: center; vertical-align: top\">songwriters</td>\n",
       "        <td style=\"padding-left: 1em; padding-right: 1em; text-align: center; vertical-align: top\">11.250406447031539</td>\n",
       "    </tr>\n",
       "    <tr>\n",
       "        <td style=\"padding-left: 1em; padding-right: 1em; text-align: center; vertical-align: top\">overallelton</td>\n",
       "        <td style=\"padding-left: 1em; padding-right: 1em; text-align: center; vertical-align: top\">10.986495389225194</td>\n",
       "    </tr>\n",
       "    <tr>\n",
       "        <td style=\"padding-left: 1em; padding-right: 1em; text-align: center; vertical-align: top\">tonightcandle</td>\n",
       "        <td style=\"padding-left: 1em; padding-right: 1em; text-align: center; vertical-align: top\">10.986495389225194</td>\n",
       "    </tr>\n",
       "    <tr>\n",
       "        <td style=\"padding-left: 1em; padding-right: 1em; text-align: center; vertical-align: top\">19702000</td>\n",
       "        <td style=\"padding-left: 1em; padding-right: 1em; text-align: center; vertical-align: top\">10.293348208665249</td>\n",
       "    </tr>\n",
       "    <tr>\n",
       "        <td style=\"padding-left: 1em; padding-right: 1em; text-align: center; vertical-align: top\">fivedecade</td>\n",
       "        <td style=\"padding-left: 1em; padding-right: 1em; text-align: center; vertical-align: top\">10.293348208665249</td>\n",
       "    </tr>\n",
       "    <tr>\n",
       "        <td style=\"padding-left: 1em; padding-right: 1em; text-align: center; vertical-align: top\">aids</td>\n",
       "        <td style=\"padding-left: 1em; padding-right: 1em; text-align: center; vertical-align: top\">10.262846934045534</td>\n",
       "    </tr>\n",
       "</table>\n",
       "[255 rows x 2 columns]<br/>Note: Only the head of the SFrame is printed.<br/>You can use print_rows(num_rows=m, num_columns=n) to print more rows and columns.\n",
       "</div>"
      ],
      "text/plain": [
       "Columns:\n",
       "\tword\tstr\n",
       "\ttfidf\tfloat\n",
       "\n",
       "Rows: 255\n",
       "\n",
       "Data:\n",
       "+---------------+--------------------+\n",
       "|      word     |       tfidf        |\n",
       "+---------------+--------------------+\n",
       "|    furnish    | 18.38947183999428  |\n",
       "|     elton     | 17.482320270031995 |\n",
       "|   billboard   | 17.30368095754203  |\n",
       "|      john     | 13.93931279239831  |\n",
       "|  songwriters  | 11.250406447031539 |\n",
       "|  overallelton | 10.986495389225194 |\n",
       "| tonightcandle | 10.986495389225194 |\n",
       "|    19702000   | 10.293348208665249 |\n",
       "|   fivedecade  | 10.293348208665249 |\n",
       "|      aids     | 10.262846934045534 |\n",
       "+---------------+--------------------+\n",
       "[255 rows x 2 columns]\n",
       "Note: Only the head of the SFrame is printed.\n",
       "You can use print_rows(num_rows=m, num_columns=n) to print more rows and columns."
      ]
     },
     "execution_count": 15,
     "metadata": {},
     "output_type": "execute_result"
    }
   ],
   "source": [
    "john = people[people['name'] == 'Elton John']\n",
    "victoria = people[people['name'] == 'Victoria Beckham']\n",
    "paul = people[people['name'] == 'Paul McCartney']\n",
    "\n",
    "john[['tfidf']].stack('tfidf',new_column_name=['word','tfidf']).sort('tfidf',ascending=False)\n",
    "#victoria[['tfidf']].stack('tfidf',new_column_name=['word','tfidf']).sort('tfidf',ascending=False)\n",
    "#paul[['tfidf']].stack('tfidf',new_column_name=['word','tfidf']).sort('tfidf',ascending=False)"
   ]
  },
  {
   "cell_type": "code",
   "execution_count": 16,
   "metadata": {},
   "outputs": [
    {
     "data": {
      "text/plain": [
       "0.9567006376655429"
      ]
     },
     "execution_count": 16,
     "metadata": {},
     "output_type": "execute_result"
    }
   ],
   "source": [
    "turicreate.distances.cosine(john['tfidf'][0],victoria['tfidf'][0])"
   ]
  },
  {
   "cell_type": "code",
   "execution_count": 17,
   "metadata": {},
   "outputs": [
    {
     "data": {
      "text/plain": [
       "0.8250310029221779"
      ]
     },
     "execution_count": 17,
     "metadata": {},
     "output_type": "execute_result"
    }
   ],
   "source": [
    "turicreate.distances.cosine(john['tfidf'][0],paul['tfidf'][0])"
   ]
  },
  {
   "cell_type": "code",
   "execution_count": 20,
   "metadata": {},
   "outputs": [
    {
     "data": {
      "text/html": [
       "<pre>Starting brute force nearest neighbors model training.</pre>"
      ],
      "text/plain": [
       "Starting brute force nearest neighbors model training."
      ]
     },
     "metadata": {},
     "output_type": "display_data"
    },
    {
     "data": {
      "text/html": [
       "<pre>Validating distance components.</pre>"
      ],
      "text/plain": [
       "Validating distance components."
      ]
     },
     "metadata": {},
     "output_type": "display_data"
    },
    {
     "data": {
      "text/html": [
       "<pre>Initializing model data.</pre>"
      ],
      "text/plain": [
       "Initializing model data."
      ]
     },
     "metadata": {},
     "output_type": "display_data"
    },
    {
     "data": {
      "text/html": [
       "<pre>Initializing distances.</pre>"
      ],
      "text/plain": [
       "Initializing distances."
      ]
     },
     "metadata": {},
     "output_type": "display_data"
    },
    {
     "data": {
      "text/html": [
       "<pre>Done.</pre>"
      ],
      "text/plain": [
       "Done."
      ]
     },
     "metadata": {},
     "output_type": "display_data"
    }
   ],
   "source": [
    "word_count_model = turicreate.nearest_neighbors.create(people,features=['word_count'],label='name', \n",
    "                                                       distance='cosine')"
   ]
  },
  {
   "cell_type": "code",
   "execution_count": 21,
   "metadata": {},
   "outputs": [
    {
     "data": {
      "text/html": [
       "<pre>Starting brute force nearest neighbors model training.</pre>"
      ],
      "text/plain": [
       "Starting brute force nearest neighbors model training."
      ]
     },
     "metadata": {},
     "output_type": "display_data"
    },
    {
     "data": {
      "text/html": [
       "<pre>Validating distance components.</pre>"
      ],
      "text/plain": [
       "Validating distance components."
      ]
     },
     "metadata": {},
     "output_type": "display_data"
    },
    {
     "data": {
      "text/html": [
       "<pre>Initializing model data.</pre>"
      ],
      "text/plain": [
       "Initializing model data."
      ]
     },
     "metadata": {},
     "output_type": "display_data"
    },
    {
     "data": {
      "text/html": [
       "<pre>Initializing distances.</pre>"
      ],
      "text/plain": [
       "Initializing distances."
      ]
     },
     "metadata": {},
     "output_type": "display_data"
    },
    {
     "data": {
      "text/html": [
       "<pre>Done.</pre>"
      ],
      "text/plain": [
       "Done."
      ]
     },
     "metadata": {},
     "output_type": "display_data"
    }
   ],
   "source": [
    "tfidf_model = turicreate.nearest_neighbors.create(people,features=['tfidf'],label='name', distance = 'cosine')"
   ]
  },
  {
   "cell_type": "code",
   "execution_count": 22,
   "metadata": {},
   "outputs": [
    {
     "data": {
      "text/html": [
       "<pre>Starting pairwise querying.</pre>"
      ],
      "text/plain": [
       "Starting pairwise querying."
      ]
     },
     "metadata": {},
     "output_type": "display_data"
    },
    {
     "data": {
      "text/html": [
       "<pre>+--------------+---------+-------------+--------------+</pre>"
      ],
      "text/plain": [
       "+--------------+---------+-------------+--------------+"
      ]
     },
     "metadata": {},
     "output_type": "display_data"
    },
    {
     "data": {
      "text/html": [
       "<pre>| Query points | # Pairs | % Complete. | Elapsed Time |</pre>"
      ],
      "text/plain": [
       "| Query points | # Pairs | % Complete. | Elapsed Time |"
      ]
     },
     "metadata": {},
     "output_type": "display_data"
    },
    {
     "data": {
      "text/html": [
       "<pre>+--------------+---------+-------------+--------------+</pre>"
      ],
      "text/plain": [
       "+--------------+---------+-------------+--------------+"
      ]
     },
     "metadata": {},
     "output_type": "display_data"
    },
    {
     "data": {
      "text/html": [
       "<pre>| 0            | 1       | 0.00169288  | 97.682ms     |</pre>"
      ],
      "text/plain": [
       "| 0            | 1       | 0.00169288  | 97.682ms     |"
      ]
     },
     "metadata": {},
     "output_type": "display_data"
    },
    {
     "data": {
      "text/html": [
       "<pre>| Done         |         | 100         | 595.37ms     |</pre>"
      ],
      "text/plain": [
       "| Done         |         | 100         | 595.37ms     |"
      ]
     },
     "metadata": {},
     "output_type": "display_data"
    },
    {
     "data": {
      "text/html": [
       "<pre>+--------------+---------+-------------+--------------+</pre>"
      ],
      "text/plain": [
       "+--------------+---------+-------------+--------------+"
      ]
     },
     "metadata": {},
     "output_type": "display_data"
    },
    {
     "data": {
      "text/html": [
       "<div style=\"max-height:1000px;max-width:1500px;overflow:auto;\"><table frame=\"box\" rules=\"cols\">\n",
       "    <tr>\n",
       "        <th style=\"padding-left: 1em; padding-right: 1em; text-align: center\">query_label</th>\n",
       "        <th style=\"padding-left: 1em; padding-right: 1em; text-align: center\">reference_label</th>\n",
       "        <th style=\"padding-left: 1em; padding-right: 1em; text-align: center\">distance</th>\n",
       "        <th style=\"padding-left: 1em; padding-right: 1em; text-align: center\">rank</th>\n",
       "    </tr>\n",
       "    <tr>\n",
       "        <td style=\"padding-left: 1em; padding-right: 1em; text-align: center; vertical-align: top\">0</td>\n",
       "        <td style=\"padding-left: 1em; padding-right: 1em; text-align: center; vertical-align: top\">Elton John</td>\n",
       "        <td style=\"padding-left: 1em; padding-right: 1em; text-align: center; vertical-align: top\">2.220446049250313e-16</td>\n",
       "        <td style=\"padding-left: 1em; padding-right: 1em; text-align: center; vertical-align: top\">1</td>\n",
       "    </tr>\n",
       "    <tr>\n",
       "        <td style=\"padding-left: 1em; padding-right: 1em; text-align: center; vertical-align: top\">0</td>\n",
       "        <td style=\"padding-left: 1em; padding-right: 1em; text-align: center; vertical-align: top\">Cliff Richard</td>\n",
       "        <td style=\"padding-left: 1em; padding-right: 1em; text-align: center; vertical-align: top\">0.16142415258967036</td>\n",
       "        <td style=\"padding-left: 1em; padding-right: 1em; text-align: center; vertical-align: top\">2</td>\n",
       "    </tr>\n",
       "    <tr>\n",
       "        <td style=\"padding-left: 1em; padding-right: 1em; text-align: center; vertical-align: top\">0</td>\n",
       "        <td style=\"padding-left: 1em; padding-right: 1em; text-align: center; vertical-align: top\">Sandro Petrone</td>\n",
       "        <td style=\"padding-left: 1em; padding-right: 1em; text-align: center; vertical-align: top\">0.16822542751041114</td>\n",
       "        <td style=\"padding-left: 1em; padding-right: 1em; text-align: center; vertical-align: top\">3</td>\n",
       "    </tr>\n",
       "    <tr>\n",
       "        <td style=\"padding-left: 1em; padding-right: 1em; text-align: center; vertical-align: top\">0</td>\n",
       "        <td style=\"padding-left: 1em; padding-right: 1em; text-align: center; vertical-align: top\">Rod Stewart</td>\n",
       "        <td style=\"padding-left: 1em; padding-right: 1em; text-align: center; vertical-align: top\">0.16832716558706107</td>\n",
       "        <td style=\"padding-left: 1em; padding-right: 1em; text-align: center; vertical-align: top\">4</td>\n",
       "    </tr>\n",
       "    <tr>\n",
       "        <td style=\"padding-left: 1em; padding-right: 1em; text-align: center; vertical-align: top\">0</td>\n",
       "        <td style=\"padding-left: 1em; padding-right: 1em; text-align: center; vertical-align: top\">Malachi O&#x27;Doherty</td>\n",
       "        <td style=\"padding-left: 1em; padding-right: 1em; text-align: center; vertical-align: top\">0.177315545978884</td>\n",
       "        <td style=\"padding-left: 1em; padding-right: 1em; text-align: center; vertical-align: top\">5</td>\n",
       "    </tr>\n",
       "</table>\n",
       "[5 rows x 4 columns]<br/>\n",
       "</div>"
      ],
      "text/plain": [
       "Columns:\n",
       "\tquery_label\tint\n",
       "\treference_label\tstr\n",
       "\tdistance\tfloat\n",
       "\trank\tint\n",
       "\n",
       "Rows: 5\n",
       "\n",
       "Data:\n",
       "+-------------+-------------------+-----------------------+------+\n",
       "| query_label |  reference_label  |        distance       | rank |\n",
       "+-------------+-------------------+-----------------------+------+\n",
       "|      0      |     Elton John    | 2.220446049250313e-16 |  1   |\n",
       "|      0      |   Cliff Richard   |  0.16142415258967036  |  2   |\n",
       "|      0      |   Sandro Petrone  |  0.16822542751041114  |  3   |\n",
       "|      0      |    Rod Stewart    |  0.16832716558706107  |  4   |\n",
       "|      0      | Malachi O'Doherty |   0.177315545978884   |  5   |\n",
       "+-------------+-------------------+-----------------------+------+\n",
       "[5 rows x 4 columns]"
      ]
     },
     "execution_count": 22,
     "metadata": {},
     "output_type": "execute_result"
    }
   ],
   "source": [
    "word_count_model.query(john)"
   ]
  },
  {
   "cell_type": "code",
   "execution_count": 23,
   "metadata": {},
   "outputs": [
    {
     "data": {
      "text/html": [
       "<pre>Starting pairwise querying.</pre>"
      ],
      "text/plain": [
       "Starting pairwise querying."
      ]
     },
     "metadata": {},
     "output_type": "display_data"
    },
    {
     "data": {
      "text/html": [
       "<pre>+--------------+---------+-------------+--------------+</pre>"
      ],
      "text/plain": [
       "+--------------+---------+-------------+--------------+"
      ]
     },
     "metadata": {},
     "output_type": "display_data"
    },
    {
     "data": {
      "text/html": [
       "<pre>| Query points | # Pairs | % Complete. | Elapsed Time |</pre>"
      ],
      "text/plain": [
       "| Query points | # Pairs | % Complete. | Elapsed Time |"
      ]
     },
     "metadata": {},
     "output_type": "display_data"
    },
    {
     "data": {
      "text/html": [
       "<pre>+--------------+---------+-------------+--------------+</pre>"
      ],
      "text/plain": [
       "+--------------+---------+-------------+--------------+"
      ]
     },
     "metadata": {},
     "output_type": "display_data"
    },
    {
     "data": {
      "text/html": [
       "<pre>| 0            | 1       | 0.00169288  | 18.003ms     |</pre>"
      ],
      "text/plain": [
       "| 0            | 1       | 0.00169288  | 18.003ms     |"
      ]
     },
     "metadata": {},
     "output_type": "display_data"
    },
    {
     "data": {
      "text/html": [
       "<pre>| Done         |         | 100         | 727.605ms    |</pre>"
      ],
      "text/plain": [
       "| Done         |         | 100         | 727.605ms    |"
      ]
     },
     "metadata": {},
     "output_type": "display_data"
    },
    {
     "data": {
      "text/html": [
       "<pre>+--------------+---------+-------------+--------------+</pre>"
      ],
      "text/plain": [
       "+--------------+---------+-------------+--------------+"
      ]
     },
     "metadata": {},
     "output_type": "display_data"
    },
    {
     "data": {
      "text/html": [
       "<div style=\"max-height:1000px;max-width:1500px;overflow:auto;\"><table frame=\"box\" rules=\"cols\">\n",
       "    <tr>\n",
       "        <th style=\"padding-left: 1em; padding-right: 1em; text-align: center\">query_label</th>\n",
       "        <th style=\"padding-left: 1em; padding-right: 1em; text-align: center\">reference_label</th>\n",
       "        <th style=\"padding-left: 1em; padding-right: 1em; text-align: center\">distance</th>\n",
       "        <th style=\"padding-left: 1em; padding-right: 1em; text-align: center\">rank</th>\n",
       "    </tr>\n",
       "    <tr>\n",
       "        <td style=\"padding-left: 1em; padding-right: 1em; text-align: center; vertical-align: top\">0</td>\n",
       "        <td style=\"padding-left: 1em; padding-right: 1em; text-align: center; vertical-align: top\">Elton John</td>\n",
       "        <td style=\"padding-left: 1em; padding-right: 1em; text-align: center; vertical-align: top\">-2.220446049250313e-16</td>\n",
       "        <td style=\"padding-left: 1em; padding-right: 1em; text-align: center; vertical-align: top\">1</td>\n",
       "    </tr>\n",
       "    <tr>\n",
       "        <td style=\"padding-left: 1em; padding-right: 1em; text-align: center; vertical-align: top\">0</td>\n",
       "        <td style=\"padding-left: 1em; padding-right: 1em; text-align: center; vertical-align: top\">Rod Stewart</td>\n",
       "        <td style=\"padding-left: 1em; padding-right: 1em; text-align: center; vertical-align: top\">0.7172196678927374</td>\n",
       "        <td style=\"padding-left: 1em; padding-right: 1em; text-align: center; vertical-align: top\">2</td>\n",
       "    </tr>\n",
       "    <tr>\n",
       "        <td style=\"padding-left: 1em; padding-right: 1em; text-align: center; vertical-align: top\">0</td>\n",
       "        <td style=\"padding-left: 1em; padding-right: 1em; text-align: center; vertical-align: top\">George Michael</td>\n",
       "        <td style=\"padding-left: 1em; padding-right: 1em; text-align: center; vertical-align: top\">0.7476009989692848</td>\n",
       "        <td style=\"padding-left: 1em; padding-right: 1em; text-align: center; vertical-align: top\">3</td>\n",
       "    </tr>\n",
       "    <tr>\n",
       "        <td style=\"padding-left: 1em; padding-right: 1em; text-align: center; vertical-align: top\">0</td>\n",
       "        <td style=\"padding-left: 1em; padding-right: 1em; text-align: center; vertical-align: top\">Sting (musician)</td>\n",
       "        <td style=\"padding-left: 1em; padding-right: 1em; text-align: center; vertical-align: top\">0.7476719544306141</td>\n",
       "        <td style=\"padding-left: 1em; padding-right: 1em; text-align: center; vertical-align: top\">4</td>\n",
       "    </tr>\n",
       "    <tr>\n",
       "        <td style=\"padding-left: 1em; padding-right: 1em; text-align: center; vertical-align: top\">0</td>\n",
       "        <td style=\"padding-left: 1em; padding-right: 1em; text-align: center; vertical-align: top\">Phil Collins</td>\n",
       "        <td style=\"padding-left: 1em; padding-right: 1em; text-align: center; vertical-align: top\">0.7511932487904706</td>\n",
       "        <td style=\"padding-left: 1em; padding-right: 1em; text-align: center; vertical-align: top\">5</td>\n",
       "    </tr>\n",
       "</table>\n",
       "[5 rows x 4 columns]<br/>\n",
       "</div>"
      ],
      "text/plain": [
       "Columns:\n",
       "\tquery_label\tint\n",
       "\treference_label\tstr\n",
       "\tdistance\tfloat\n",
       "\trank\tint\n",
       "\n",
       "Rows: 5\n",
       "\n",
       "Data:\n",
       "+-------------+------------------+------------------------+------+\n",
       "| query_label | reference_label  |        distance        | rank |\n",
       "+-------------+------------------+------------------------+------+\n",
       "|      0      |    Elton John    | -2.220446049250313e-16 |  1   |\n",
       "|      0      |   Rod Stewart    |   0.7172196678927374   |  2   |\n",
       "|      0      |  George Michael  |   0.7476009989692848   |  3   |\n",
       "|      0      | Sting (musician) |   0.7476719544306141   |  4   |\n",
       "|      0      |   Phil Collins   |   0.7511932487904706   |  5   |\n",
       "+-------------+------------------+------------------------+------+\n",
       "[5 rows x 4 columns]"
      ]
     },
     "execution_count": 23,
     "metadata": {},
     "output_type": "execute_result"
    }
   ],
   "source": [
    "tfidf_model.query(john)"
   ]
  },
  {
   "cell_type": "code",
   "execution_count": 24,
   "metadata": {},
   "outputs": [
    {
     "data": {
      "text/html": [
       "<pre>Starting pairwise querying.</pre>"
      ],
      "text/plain": [
       "Starting pairwise querying."
      ]
     },
     "metadata": {},
     "output_type": "display_data"
    },
    {
     "data": {
      "text/html": [
       "<pre>+--------------+---------+-------------+--------------+</pre>"
      ],
      "text/plain": [
       "+--------------+---------+-------------+--------------+"
      ]
     },
     "metadata": {},
     "output_type": "display_data"
    },
    {
     "data": {
      "text/html": [
       "<pre>| Query points | # Pairs | % Complete. | Elapsed Time |</pre>"
      ],
      "text/plain": [
       "| Query points | # Pairs | % Complete. | Elapsed Time |"
      ]
     },
     "metadata": {},
     "output_type": "display_data"
    },
    {
     "data": {
      "text/html": [
       "<pre>+--------------+---------+-------------+--------------+</pre>"
      ],
      "text/plain": [
       "+--------------+---------+-------------+--------------+"
      ]
     },
     "metadata": {},
     "output_type": "display_data"
    },
    {
     "data": {
      "text/html": [
       "<pre>| 0            | 1       | 0.00169288  | 10.219ms     |</pre>"
      ],
      "text/plain": [
       "| 0            | 1       | 0.00169288  | 10.219ms     |"
      ]
     },
     "metadata": {},
     "output_type": "display_data"
    },
    {
     "data": {
      "text/html": [
       "<pre>| Done         |         | 100         | 572.765ms    |</pre>"
      ],
      "text/plain": [
       "| Done         |         | 100         | 572.765ms    |"
      ]
     },
     "metadata": {},
     "output_type": "display_data"
    },
    {
     "data": {
      "text/html": [
       "<pre>+--------------+---------+-------------+--------------+</pre>"
      ],
      "text/plain": [
       "+--------------+---------+-------------+--------------+"
      ]
     },
     "metadata": {},
     "output_type": "display_data"
    },
    {
     "data": {
      "text/html": [
       "<div style=\"max-height:1000px;max-width:1500px;overflow:auto;\"><table frame=\"box\" rules=\"cols\">\n",
       "    <tr>\n",
       "        <th style=\"padding-left: 1em; padding-right: 1em; text-align: center\">query_label</th>\n",
       "        <th style=\"padding-left: 1em; padding-right: 1em; text-align: center\">reference_label</th>\n",
       "        <th style=\"padding-left: 1em; padding-right: 1em; text-align: center\">distance</th>\n",
       "        <th style=\"padding-left: 1em; padding-right: 1em; text-align: center\">rank</th>\n",
       "    </tr>\n",
       "    <tr>\n",
       "        <td style=\"padding-left: 1em; padding-right: 1em; text-align: center; vertical-align: top\">0</td>\n",
       "        <td style=\"padding-left: 1em; padding-right: 1em; text-align: center; vertical-align: top\">Victoria Beckham</td>\n",
       "        <td style=\"padding-left: 1em; padding-right: 1em; text-align: center; vertical-align: top\">-2.220446049250313e-16</td>\n",
       "        <td style=\"padding-left: 1em; padding-right: 1em; text-align: center; vertical-align: top\">1</td>\n",
       "    </tr>\n",
       "    <tr>\n",
       "        <td style=\"padding-left: 1em; padding-right: 1em; text-align: center; vertical-align: top\">0</td>\n",
       "        <td style=\"padding-left: 1em; padding-right: 1em; text-align: center; vertical-align: top\">Mary Fitzgerald (artist)</td>\n",
       "        <td style=\"padding-left: 1em; padding-right: 1em; text-align: center; vertical-align: top\">0.20730703611504997</td>\n",
       "        <td style=\"padding-left: 1em; padding-right: 1em; text-align: center; vertical-align: top\">2</td>\n",
       "    </tr>\n",
       "    <tr>\n",
       "        <td style=\"padding-left: 1em; padding-right: 1em; text-align: center; vertical-align: top\">0</td>\n",
       "        <td style=\"padding-left: 1em; padding-right: 1em; text-align: center; vertical-align: top\">Adrienne Corri</td>\n",
       "        <td style=\"padding-left: 1em; padding-right: 1em; text-align: center; vertical-align: top\">0.21450978278754795</td>\n",
       "        <td style=\"padding-left: 1em; padding-right: 1em; text-align: center; vertical-align: top\">3</td>\n",
       "    </tr>\n",
       "    <tr>\n",
       "        <td style=\"padding-left: 1em; padding-right: 1em; text-align: center; vertical-align: top\">0</td>\n",
       "        <td style=\"padding-left: 1em; padding-right: 1em; text-align: center; vertical-align: top\">Beverly Jane Fry</td>\n",
       "        <td style=\"padding-left: 1em; padding-right: 1em; text-align: center; vertical-align: top\">0.21746646874079278</td>\n",
       "        <td style=\"padding-left: 1em; padding-right: 1em; text-align: center; vertical-align: top\">4</td>\n",
       "    </tr>\n",
       "    <tr>\n",
       "        <td style=\"padding-left: 1em; padding-right: 1em; text-align: center; vertical-align: top\">0</td>\n",
       "        <td style=\"padding-left: 1em; padding-right: 1em; text-align: center; vertical-align: top\">Raman Mundair</td>\n",
       "        <td style=\"padding-left: 1em; padding-right: 1em; text-align: center; vertical-align: top\">0.21769547499150488</td>\n",
       "        <td style=\"padding-left: 1em; padding-right: 1em; text-align: center; vertical-align: top\">5</td>\n",
       "    </tr>\n",
       "</table>\n",
       "[5 rows x 4 columns]<br/>\n",
       "</div>"
      ],
      "text/plain": [
       "Columns:\n",
       "\tquery_label\tint\n",
       "\treference_label\tstr\n",
       "\tdistance\tfloat\n",
       "\trank\tint\n",
       "\n",
       "Rows: 5\n",
       "\n",
       "Data:\n",
       "+-------------+--------------------------+------------------------+------+\n",
       "| query_label |     reference_label      |        distance        | rank |\n",
       "+-------------+--------------------------+------------------------+------+\n",
       "|      0      |     Victoria Beckham     | -2.220446049250313e-16 |  1   |\n",
       "|      0      | Mary Fitzgerald (artist) |  0.20730703611504997   |  2   |\n",
       "|      0      |      Adrienne Corri      |  0.21450978278754795   |  3   |\n",
       "|      0      |     Beverly Jane Fry     |  0.21746646874079278   |  4   |\n",
       "|      0      |      Raman Mundair       |  0.21769547499150488   |  5   |\n",
       "+-------------+--------------------------+------------------------+------+\n",
       "[5 rows x 4 columns]"
      ]
     },
     "execution_count": 24,
     "metadata": {},
     "output_type": "execute_result"
    }
   ],
   "source": [
    "word_count_model.query(victoria)"
   ]
  },
  {
   "cell_type": "code",
   "execution_count": 25,
   "metadata": {},
   "outputs": [
    {
     "data": {
      "text/html": [
       "<pre>Starting pairwise querying.</pre>"
      ],
      "text/plain": [
       "Starting pairwise querying."
      ]
     },
     "metadata": {},
     "output_type": "display_data"
    },
    {
     "data": {
      "text/html": [
       "<pre>+--------------+---------+-------------+--------------+</pre>"
      ],
      "text/plain": [
       "+--------------+---------+-------------+--------------+"
      ]
     },
     "metadata": {},
     "output_type": "display_data"
    },
    {
     "data": {
      "text/html": [
       "<pre>| Query points | # Pairs | % Complete. | Elapsed Time |</pre>"
      ],
      "text/plain": [
       "| Query points | # Pairs | % Complete. | Elapsed Time |"
      ]
     },
     "metadata": {},
     "output_type": "display_data"
    },
    {
     "data": {
      "text/html": [
       "<pre>+--------------+---------+-------------+--------------+</pre>"
      ],
      "text/plain": [
       "+--------------+---------+-------------+--------------+"
      ]
     },
     "metadata": {},
     "output_type": "display_data"
    },
    {
     "data": {
      "text/html": [
       "<pre>| 0            | 1       | 0.00169288  | 22.038ms     |</pre>"
      ],
      "text/plain": [
       "| 0            | 1       | 0.00169288  | 22.038ms     |"
      ]
     },
     "metadata": {},
     "output_type": "display_data"
    },
    {
     "data": {
      "text/html": [
       "<pre>| Done         |         | 100         | 648.134ms    |</pre>"
      ],
      "text/plain": [
       "| Done         |         | 100         | 648.134ms    |"
      ]
     },
     "metadata": {},
     "output_type": "display_data"
    },
    {
     "data": {
      "text/html": [
       "<pre>+--------------+---------+-------------+--------------+</pre>"
      ],
      "text/plain": [
       "+--------------+---------+-------------+--------------+"
      ]
     },
     "metadata": {},
     "output_type": "display_data"
    },
    {
     "data": {
      "text/html": [
       "<div style=\"max-height:1000px;max-width:1500px;overflow:auto;\"><table frame=\"box\" rules=\"cols\">\n",
       "    <tr>\n",
       "        <th style=\"padding-left: 1em; padding-right: 1em; text-align: center\">query_label</th>\n",
       "        <th style=\"padding-left: 1em; padding-right: 1em; text-align: center\">reference_label</th>\n",
       "        <th style=\"padding-left: 1em; padding-right: 1em; text-align: center\">distance</th>\n",
       "        <th style=\"padding-left: 1em; padding-right: 1em; text-align: center\">rank</th>\n",
       "    </tr>\n",
       "    <tr>\n",
       "        <td style=\"padding-left: 1em; padding-right: 1em; text-align: center; vertical-align: top\">0</td>\n",
       "        <td style=\"padding-left: 1em; padding-right: 1em; text-align: center; vertical-align: top\">Victoria Beckham</td>\n",
       "        <td style=\"padding-left: 1em; padding-right: 1em; text-align: center; vertical-align: top\">1.1102230246251565e-16</td>\n",
       "        <td style=\"padding-left: 1em; padding-right: 1em; text-align: center; vertical-align: top\">1</td>\n",
       "    </tr>\n",
       "    <tr>\n",
       "        <td style=\"padding-left: 1em; padding-right: 1em; text-align: center; vertical-align: top\">0</td>\n",
       "        <td style=\"padding-left: 1em; padding-right: 1em; text-align: center; vertical-align: top\">David Beckham</td>\n",
       "        <td style=\"padding-left: 1em; padding-right: 1em; text-align: center; vertical-align: top\">0.5481696102632145</td>\n",
       "        <td style=\"padding-left: 1em; padding-right: 1em; text-align: center; vertical-align: top\">2</td>\n",
       "    </tr>\n",
       "    <tr>\n",
       "        <td style=\"padding-left: 1em; padding-right: 1em; text-align: center; vertical-align: top\">0</td>\n",
       "        <td style=\"padding-left: 1em; padding-right: 1em; text-align: center; vertical-align: top\">Stephen Dow Beckham</td>\n",
       "        <td style=\"padding-left: 1em; padding-right: 1em; text-align: center; vertical-align: top\">0.7849867068283364</td>\n",
       "        <td style=\"padding-left: 1em; padding-right: 1em; text-align: center; vertical-align: top\">3</td>\n",
       "    </tr>\n",
       "    <tr>\n",
       "        <td style=\"padding-left: 1em; padding-right: 1em; text-align: center; vertical-align: top\">0</td>\n",
       "        <td style=\"padding-left: 1em; padding-right: 1em; text-align: center; vertical-align: top\">Mel B</td>\n",
       "        <td style=\"padding-left: 1em; padding-right: 1em; text-align: center; vertical-align: top\">0.8095855234085036</td>\n",
       "        <td style=\"padding-left: 1em; padding-right: 1em; text-align: center; vertical-align: top\">4</td>\n",
       "    </tr>\n",
       "    <tr>\n",
       "        <td style=\"padding-left: 1em; padding-right: 1em; text-align: center; vertical-align: top\">0</td>\n",
       "        <td style=\"padding-left: 1em; padding-right: 1em; text-align: center; vertical-align: top\">Caroline Rush</td>\n",
       "        <td style=\"padding-left: 1em; padding-right: 1em; text-align: center; vertical-align: top\">0.81982642291868</td>\n",
       "        <td style=\"padding-left: 1em; padding-right: 1em; text-align: center; vertical-align: top\">5</td>\n",
       "    </tr>\n",
       "</table>\n",
       "[5 rows x 4 columns]<br/>\n",
       "</div>"
      ],
      "text/plain": [
       "Columns:\n",
       "\tquery_label\tint\n",
       "\treference_label\tstr\n",
       "\tdistance\tfloat\n",
       "\trank\tint\n",
       "\n",
       "Rows: 5\n",
       "\n",
       "Data:\n",
       "+-------------+---------------------+------------------------+------+\n",
       "| query_label |   reference_label   |        distance        | rank |\n",
       "+-------------+---------------------+------------------------+------+\n",
       "|      0      |   Victoria Beckham  | 1.1102230246251565e-16 |  1   |\n",
       "|      0      |    David Beckham    |   0.5481696102632145   |  2   |\n",
       "|      0      | Stephen Dow Beckham |   0.7849867068283364   |  3   |\n",
       "|      0      |        Mel B        |   0.8095855234085036   |  4   |\n",
       "|      0      |    Caroline Rush    |    0.81982642291868    |  5   |\n",
       "+-------------+---------------------+------------------------+------+\n",
       "[5 rows x 4 columns]"
      ]
     },
     "execution_count": 25,
     "metadata": {},
     "output_type": "execute_result"
    }
   ],
   "source": [
    "tfidf_model.query(victoria)"
   ]
  },
  {
   "cell_type": "markdown",
   "metadata": {},
   "source": [
    "## Assignment 5\n",
    "### Week 5"
   ]
  },
  {
   "cell_type": "code",
   "execution_count": 1,
   "metadata": {},
   "outputs": [],
   "source": [
    "import turicreate\n",
    "\n",
    "import zipfile\n",
    "local_zip = 'song_data.sframe.zip'\n",
    "zip_ref = zipfile.ZipFile(local_zip, 'r')\n",
    "zip_ref.extractall()\n",
    "zip_ref.close()"
   ]
  },
  {
   "cell_type": "code",
   "execution_count": 7,
   "metadata": {},
   "outputs": [],
   "source": [
    "song_data = turicreate.SFrame('song_data.sframe/')\n",
    "kanye = song_data[song_data['artist'] == 'Kanye West']\n",
    "foo = song_data[song_data['artist'] == 'Foo Fighters']\n",
    "taylor = song_data[song_data['artist'] == 'Taylor Swift']\n",
    "gaga = song_data[song_data['artist'] == 'Lady GaGa']"
   ]
  },
  {
   "cell_type": "code",
   "execution_count": 8,
   "metadata": {},
   "outputs": [],
   "source": [
    "user1 = kanye['user_id'].unique()\n",
    "user2 = foo['user_id'].unique()\n",
    "user3 = taylor['user_id'].unique()\n",
    "user4 = gaga['user_id'].unique()"
   ]
  },
  {
   "cell_type": "code",
   "execution_count": 10,
   "metadata": {},
   "outputs": [
    {
     "name": "stdout",
     "output_type": "stream",
     "text": [
      "Kanye :2522\n",
      "Foo Fighters :2055\n",
      "Taylor Swift :3246\n",
      "Lady GaGa :2928\n"
     ]
    }
   ],
   "source": [
    "print('Kanye :' + str(len(user1)))\n",
    "print('Foo Fighters :' + str(len(user2)))\n",
    "print('Taylor Swift :' + str(len(user3)))\n",
    "print('Lady GaGa :' + str(len(user4)))"
   ]
  },
  {
   "cell_type": "code",
   "execution_count": 17,
   "metadata": {},
   "outputs": [],
   "source": [
    "answer = song_data.groupby(key_column_names='artist', \n",
    "                           operations={'total_count': turicreate.aggregate.SUM('listen_count')})"
   ]
  },
  {
   "cell_type": "code",
   "execution_count": 19,
   "metadata": {},
   "outputs": [
    {
     "data": {
      "text/html": [
       "<div style=\"max-height:1000px;max-width:1500px;overflow:auto;\"><table frame=\"box\" rules=\"cols\">\n",
       "    <tr>\n",
       "        <th style=\"padding-left: 1em; padding-right: 1em; text-align: center\">artist</th>\n",
       "        <th style=\"padding-left: 1em; padding-right: 1em; text-align: center\">total_count</th>\n",
       "    </tr>\n",
       "    <tr>\n",
       "        <td style=\"padding-left: 1em; padding-right: 1em; text-align: center; vertical-align: top\">William Tabbert</td>\n",
       "        <td style=\"padding-left: 1em; padding-right: 1em; text-align: center; vertical-align: top\">14</td>\n",
       "    </tr>\n",
       "    <tr>\n",
       "        <td style=\"padding-left: 1em; padding-right: 1em; text-align: center; vertical-align: top\">Reel Feelings</td>\n",
       "        <td style=\"padding-left: 1em; padding-right: 1em; text-align: center; vertical-align: top\">24</td>\n",
       "    </tr>\n",
       "    <tr>\n",
       "        <td style=\"padding-left: 1em; padding-right: 1em; text-align: center; vertical-align: top\">Beyoncé feat. Bun B and<br>Slim Thug ...</td>\n",
       "        <td style=\"padding-left: 1em; padding-right: 1em; text-align: center; vertical-align: top\">26</td>\n",
       "    </tr>\n",
       "    <tr>\n",
       "        <td style=\"padding-left: 1em; padding-right: 1em; text-align: center; vertical-align: top\">Diplo</td>\n",
       "        <td style=\"padding-left: 1em; padding-right: 1em; text-align: center; vertical-align: top\">30</td>\n",
       "    </tr>\n",
       "    <tr>\n",
       "        <td style=\"padding-left: 1em; padding-right: 1em; text-align: center; vertical-align: top\">Boggle Karaoke</td>\n",
       "        <td style=\"padding-left: 1em; padding-right: 1em; text-align: center; vertical-align: top\">30</td>\n",
       "    </tr>\n",
       "    <tr>\n",
       "        <td style=\"padding-left: 1em; padding-right: 1em; text-align: center; vertical-align: top\">harvey summers</td>\n",
       "        <td style=\"padding-left: 1em; padding-right: 1em; text-align: center; vertical-align: top\">31</td>\n",
       "    </tr>\n",
       "    <tr>\n",
       "        <td style=\"padding-left: 1em; padding-right: 1em; text-align: center; vertical-align: top\">Nâdiya</td>\n",
       "        <td style=\"padding-left: 1em; padding-right: 1em; text-align: center; vertical-align: top\">36</td>\n",
       "    </tr>\n",
       "    <tr>\n",
       "        <td style=\"padding-left: 1em; padding-right: 1em; text-align: center; vertical-align: top\">Jody Bernal</td>\n",
       "        <td style=\"padding-left: 1em; padding-right: 1em; text-align: center; vertical-align: top\">38</td>\n",
       "    </tr>\n",
       "    <tr>\n",
       "        <td style=\"padding-left: 1em; padding-right: 1em; text-align: center; vertical-align: top\">Aneta Langerova</td>\n",
       "        <td style=\"padding-left: 1em; padding-right: 1em; text-align: center; vertical-align: top\">38</td>\n",
       "    </tr>\n",
       "    <tr>\n",
       "        <td style=\"padding-left: 1em; padding-right: 1em; text-align: center; vertical-align: top\">Kanye West / Talib Kweli<br>/ Q-Tip / Common / ...</td>\n",
       "        <td style=\"padding-left: 1em; padding-right: 1em; text-align: center; vertical-align: top\">38</td>\n",
       "    </tr>\n",
       "</table>\n",
       "[3375 rows x 2 columns]<br/>Note: Only the head of the SFrame is printed.<br/>You can use print_rows(num_rows=m, num_columns=n) to print more rows and columns.\n",
       "</div>"
      ],
      "text/plain": [
       "Columns:\n",
       "\tartist\tstr\n",
       "\ttotal_count\tint\n",
       "\n",
       "Rows: 3375\n",
       "\n",
       "Data:\n",
       "+-------------------------------+-------------+\n",
       "|             artist            | total_count |\n",
       "+-------------------------------+-------------+\n",
       "|        William Tabbert        |      14     |\n",
       "|         Reel Feelings         |      24     |\n",
       "| Beyoncé feat. Bun B and Sl... |      26     |\n",
       "|             Diplo             |      30     |\n",
       "|         Boggle Karaoke        |      30     |\n",
       "|         harvey summers        |      31     |\n",
       "|             Nâdiya            |      36     |\n",
       "|          Jody Bernal          |      38     |\n",
       "|        Aneta Langerova        |      38     |\n",
       "| Kanye West / Talib Kweli /... |      38     |\n",
       "+-------------------------------+-------------+\n",
       "[3375 rows x 2 columns]\n",
       "Note: Only the head of the SFrame is printed.\n",
       "You can use print_rows(num_rows=m, num_columns=n) to print more rows and columns."
      ]
     },
     "execution_count": 19,
     "metadata": {},
     "output_type": "execute_result"
    }
   ],
   "source": [
    "answer.sort(key_column_names = 'total_count', ascending = True)"
   ]
  },
  {
   "cell_type": "markdown",
   "metadata": {},
   "source": [
    "## Assigment 6\n",
    "### Week 6"
   ]
  },
  {
   "cell_type": "code",
   "execution_count": 1,
   "metadata": {},
   "outputs": [],
   "source": [
    "import turicreate\n",
    "\n",
    "import zipfile\n",
    "local_zip = 'image_train_data.zip'\n",
    "zip_ref = zipfile.ZipFile(local_zip, 'r')\n",
    "zip_ref.extractall()\n",
    "zip_ref.close()\n",
    "\n",
    "import zipfile\n",
    "local_zip = 'image_test_data.zip'\n",
    "zip_ref = zipfile.ZipFile(local_zip, 'r')\n",
    "zip_ref.extractall()\n",
    "zip_ref.close()"
   ]
  },
  {
   "cell_type": "code",
   "execution_count": 2,
   "metadata": {},
   "outputs": [],
   "source": [
    "image_train = turicreate.SFrame('image_train_data/')\n",
    "image_test = turicreate.SFrame('image_test_data/')"
   ]
  },
  {
   "cell_type": "code",
   "execution_count": 6,
   "metadata": {},
   "outputs": [],
   "source": [
    "cat = image_train[image_train['label'] == 'cat']\n",
    "dog = image_train[image_train['label'] == 'dog']\n",
    "automobile = image_train[image_train['label'] == 'automobile']\n",
    "bird = image_train[image_train['label'] == 'bird']"
   ]
  },
  {
   "cell_type": "code",
   "execution_count": 29,
   "metadata": {},
   "outputs": [
    {
     "data": {
      "text/html": [
       "<div style=\"max-height:1000px;max-width:1500px;overflow:auto;\"><table frame=\"box\" rules=\"cols\">\n",
       "    <tr>\n",
       "        <th style=\"padding-left: 1em; padding-right: 1em; text-align: center\">id</th>\n",
       "        <th style=\"padding-left: 1em; padding-right: 1em; text-align: center\">image</th>\n",
       "        <th style=\"padding-left: 1em; padding-right: 1em; text-align: center\">label</th>\n",
       "        <th style=\"padding-left: 1em; padding-right: 1em; text-align: center\">deep_features</th>\n",
       "        <th style=\"padding-left: 1em; padding-right: 1em; text-align: center\">image_array</th>\n",
       "    </tr>\n",
       "    <tr>\n",
       "        <td style=\"padding-left: 1em; padding-right: 1em; text-align: center; vertical-align: top\">0</td>\n",
       "        <td style=\"padding-left: 1em; padding-right: 1em; text-align: center; vertical-align: top\">Height: 32 Width: 32</td>\n",
       "        <td style=\"padding-left: 1em; padding-right: 1em; text-align: center; vertical-align: top\">cat</td>\n",
       "        <td style=\"padding-left: 1em; padding-right: 1em; text-align: center; vertical-align: top\">[1.1346900463104248, 0.0,<br>0.0, 0.0, ...</td>\n",
       "        <td style=\"padding-left: 1em; padding-right: 1em; text-align: center; vertical-align: top\">[158.0, 112.0, 49.0,<br>159.0, 111.0, 47.0, ...</td>\n",
       "    </tr>\n",
       "    <tr>\n",
       "        <td style=\"padding-left: 1em; padding-right: 1em; text-align: center; vertical-align: top\">6</td>\n",
       "        <td style=\"padding-left: 1em; padding-right: 1em; text-align: center; vertical-align: top\">Height: 32 Width: 32</td>\n",
       "        <td style=\"padding-left: 1em; padding-right: 1em; text-align: center; vertical-align: top\">automobile</td>\n",
       "        <td style=\"padding-left: 1em; padding-right: 1em; text-align: center; vertical-align: top\">[0.2313588261604309, 0.0,<br>0.0, 0.0, 0.0, ...</td>\n",
       "        <td style=\"padding-left: 1em; padding-right: 1em; text-align: center; vertical-align: top\">[160.0, 37.0, 13.0,<br>185.0, 49.0, 11.0, 20 ...</td>\n",
       "    </tr>\n",
       "    <tr>\n",
       "        <td style=\"padding-left: 1em; padding-right: 1em; text-align: center; vertical-align: top\">8</td>\n",
       "        <td style=\"padding-left: 1em; padding-right: 1em; text-align: center; vertical-align: top\">Height: 32 Width: 32</td>\n",
       "        <td style=\"padding-left: 1em; padding-right: 1em; text-align: center; vertical-align: top\">cat</td>\n",
       "        <td style=\"padding-left: 1em; padding-right: 1em; text-align: center; vertical-align: top\">[0.0, 0.0,<br>0.034419238567352295, ...</td>\n",
       "        <td style=\"padding-left: 1em; padding-right: 1em; text-align: center; vertical-align: top\">[23.0, 19.0, 23.0, 19.0,<br>21.0, 28.0, 21.0, 16.0, ...</td>\n",
       "    </tr>\n",
       "    <tr>\n",
       "        <td style=\"padding-left: 1em; padding-right: 1em; text-align: center; vertical-align: top\">9</td>\n",
       "        <td style=\"padding-left: 1em; padding-right: 1em; text-align: center; vertical-align: top\">Height: 32 Width: 32</td>\n",
       "        <td style=\"padding-left: 1em; padding-right: 1em; text-align: center; vertical-align: top\">automobile</td>\n",
       "        <td style=\"padding-left: 1em; padding-right: 1em; text-align: center; vertical-align: top\">[0.0, 0.0, 0.0, 0.0, 0.0,<br>0.0, 11.6065092086792, ...</td>\n",
       "        <td style=\"padding-left: 1em; padding-right: 1em; text-align: center; vertical-align: top\">[217.0, 215.0, 209.0,<br>210.0, 208.0, 202.0, ...</td>\n",
       "    </tr>\n",
       "    <tr>\n",
       "        <td style=\"padding-left: 1em; padding-right: 1em; text-align: center; vertical-align: top\">12</td>\n",
       "        <td style=\"padding-left: 1em; padding-right: 1em; text-align: center; vertical-align: top\">Height: 32 Width: 32</td>\n",
       "        <td style=\"padding-left: 1em; padding-right: 1em; text-align: center; vertical-align: top\">dog</td>\n",
       "        <td style=\"padding-left: 1em; padding-right: 1em; text-align: center; vertical-align: top\">[0.3223174810409546, 0.0,<br>1.2493335008621216, 0.0, ...</td>\n",
       "        <td style=\"padding-left: 1em; padding-right: 1em; text-align: center; vertical-align: top\">[91.0, 64.0, 30.0, 82.0,<br>58.0, 30.0, 87.0, 73.0, ...</td>\n",
       "    </tr>\n",
       "    <tr>\n",
       "        <td style=\"padding-left: 1em; padding-right: 1em; text-align: center; vertical-align: top\">16</td>\n",
       "        <td style=\"padding-left: 1em; padding-right: 1em; text-align: center; vertical-align: top\">Height: 32 Width: 32</td>\n",
       "        <td style=\"padding-left: 1em; padding-right: 1em; text-align: center; vertical-align: top\">dog</td>\n",
       "        <td style=\"padding-left: 1em; padding-right: 1em; text-align: center; vertical-align: top\">[0.0, 0.0,<br>0.34735703468322754,  ...</td>\n",
       "        <td style=\"padding-left: 1em; padding-right: 1em; text-align: center; vertical-align: top\">[95.0, 76.0, 78.0, 92.0,<br>77.0, 78.0, 89.0, 77.0, ...</td>\n",
       "    </tr>\n",
       "    <tr>\n",
       "        <td style=\"padding-left: 1em; padding-right: 1em; text-align: center; vertical-align: top\">24</td>\n",
       "        <td style=\"padding-left: 1em; padding-right: 1em; text-align: center; vertical-align: top\">Height: 32 Width: 32</td>\n",
       "        <td style=\"padding-left: 1em; padding-right: 1em; text-align: center; vertical-align: top\">dog</td>\n",
       "        <td style=\"padding-left: 1em; padding-right: 1em; text-align: center; vertical-align: top\">[1.3155765533447266, 0.0,<br>0.0, 0.0, 0.0, 0.0, ...</td>\n",
       "        <td style=\"padding-left: 1em; padding-right: 1em; text-align: center; vertical-align: top\">[136.0, 134.0, 118.0,<br>142.0, 141.0, 126.0, ...</td>\n",
       "    </tr>\n",
       "    <tr>\n",
       "        <td style=\"padding-left: 1em; padding-right: 1em; text-align: center; vertical-align: top\">25</td>\n",
       "        <td style=\"padding-left: 1em; padding-right: 1em; text-align: center; vertical-align: top\">Height: 32 Width: 32</td>\n",
       "        <td style=\"padding-left: 1em; padding-right: 1em; text-align: center; vertical-align: top\">bird</td>\n",
       "        <td style=\"padding-left: 1em; padding-right: 1em; text-align: center; vertical-align: top\">[0.0,<br>0.31728875637054443,  ...</td>\n",
       "        <td style=\"padding-left: 1em; padding-right: 1em; text-align: center; vertical-align: top\">[100.0, 103.0, 74.0,<br>68.0, 91.0, 65.0, 116.0, ...</td>\n",
       "    </tr>\n",
       "    <tr>\n",
       "        <td style=\"padding-left: 1em; padding-right: 1em; text-align: center; vertical-align: top\">31</td>\n",
       "        <td style=\"padding-left: 1em; padding-right: 1em; text-align: center; vertical-align: top\">Height: 32 Width: 32</td>\n",
       "        <td style=\"padding-left: 1em; padding-right: 1em; text-align: center; vertical-align: top\">dog</td>\n",
       "        <td style=\"padding-left: 1em; padding-right: 1em; text-align: center; vertical-align: top\">[0.0, 0.0, 0.0, 0.0, 0.0,<br>0.0, 9.260188102722168, ...</td>\n",
       "        <td style=\"padding-left: 1em; padding-right: 1em; text-align: center; vertical-align: top\">[127.0, 130.0, 81.0,<br>130.0, 133.0, 88.0, ...</td>\n",
       "    </tr>\n",
       "    <tr>\n",
       "        <td style=\"padding-left: 1em; padding-right: 1em; text-align: center; vertical-align: top\">33</td>\n",
       "        <td style=\"padding-left: 1em; padding-right: 1em; text-align: center; vertical-align: top\">Height: 32 Width: 32</td>\n",
       "        <td style=\"padding-left: 1em; padding-right: 1em; text-align: center; vertical-align: top\">dog</td>\n",
       "        <td style=\"padding-left: 1em; padding-right: 1em; text-align: center; vertical-align: top\">[0.1307867169380188,<br>0.7276672124862671, 0.0, ...</td>\n",
       "        <td style=\"padding-left: 1em; padding-right: 1em; text-align: center; vertical-align: top\">[118.0, 113.0, 81.0,<br>122.0, 117.0, 83.0, ...</td>\n",
       "    </tr>\n",
       "</table>\n",
       "[4000 rows x 5 columns]<br/>Note: Only the head of the SFrame is printed.<br/>You can use print_rows(num_rows=m, num_columns=n) to print more rows and columns.\n",
       "</div>"
      ],
      "text/plain": [
       "Columns:\n",
       "\tid\tint\n",
       "\timage\tImage\n",
       "\tlabel\tstr\n",
       "\tdeep_features\tarray\n",
       "\timage_array\tarray\n",
       "\n",
       "Rows: 4000\n",
       "\n",
       "Data:\n",
       "+----+----------------------+------------+-------------------------------+\n",
       "| id |        image         |   label    |         deep_features         |\n",
       "+----+----------------------+------------+-------------------------------+\n",
       "| 0  | Height: 32 Width: 32 |    cat     | [1.1346900463104248, 0.0, ... |\n",
       "| 6  | Height: 32 Width: 32 | automobile | [0.2313588261604309, 0.0, ... |\n",
       "| 8  | Height: 32 Width: 32 |    cat     | [0.0, 0.0, 0.0344192385673... |\n",
       "| 9  | Height: 32 Width: 32 | automobile | [0.0, 0.0, 0.0, 0.0, 0.0, ... |\n",
       "| 12 | Height: 32 Width: 32 |    dog     | [0.3223174810409546, 0.0, ... |\n",
       "| 16 | Height: 32 Width: 32 |    dog     | [0.0, 0.0, 0.3473570346832... |\n",
       "| 24 | Height: 32 Width: 32 |    dog     | [1.3155765533447266, 0.0, ... |\n",
       "| 25 | Height: 32 Width: 32 |    bird    | [0.0, 0.31728875637054443,... |\n",
       "| 31 | Height: 32 Width: 32 |    dog     | [0.0, 0.0, 0.0, 0.0, 0.0, ... |\n",
       "| 33 | Height: 32 Width: 32 |    dog     | [0.1307867169380188, 0.727... |\n",
       "+----+----------------------+------------+-------------------------------+\n",
       "+-------------------------------+\n",
       "|          image_array          |\n",
       "+-------------------------------+\n",
       "| [158.0, 112.0, 49.0, 159.0... |\n",
       "| [160.0, 37.0, 13.0, 185.0,... |\n",
       "| [23.0, 19.0, 23.0, 19.0, 2... |\n",
       "| [217.0, 215.0, 209.0, 210.... |\n",
       "| [91.0, 64.0, 30.0, 82.0, 5... |\n",
       "| [95.0, 76.0, 78.0, 92.0, 7... |\n",
       "| [136.0, 134.0, 118.0, 142.... |\n",
       "| [100.0, 103.0, 74.0, 68.0,... |\n",
       "| [127.0, 130.0, 81.0, 130.0... |\n",
       "| [118.0, 113.0, 81.0, 122.0... |\n",
       "+-------------------------------+\n",
       "[4000 rows x 5 columns]\n",
       "Note: Only the head of the SFrame is printed.\n",
       "You can use print_rows(num_rows=m, num_columns=n) to print more rows and columns."
      ]
     },
     "execution_count": 29,
     "metadata": {},
     "output_type": "execute_result"
    }
   ],
   "source": [
    "image_test"
   ]
  },
  {
   "cell_type": "code",
   "execution_count": 5,
   "metadata": {},
   "outputs": [
    {
     "data": {
      "text/plain": [
       "\n",
       "+------------------+-------+----------+\n",
       "|       item       | value | is exact |\n",
       "+------------------+-------+----------+\n",
       "|      Length      |  2005 |   Yes    |\n",
       "| # Missing Values |   0   |   Yes    |\n",
       "| # unique values  |   4   |    No    |\n",
       "+------------------+-------+----------+\n",
       "\n",
       "Most frequent items:\n",
       "+------------+-------+\n",
       "|   value    | count |\n",
       "+------------+-------+\n",
       "|    cat     |  509  |\n",
       "|    dog     |  509  |\n",
       "| automobile |  509  |\n",
       "|    bird    |  478  |\n",
       "+------------+-------+\n"
      ]
     },
     "execution_count": 5,
     "metadata": {},
     "output_type": "execute_result"
    }
   ],
   "source": [
    "sketch = turicreate.Sketch(image_train['label'])\n",
    "sketch"
   ]
  },
  {
   "cell_type": "code",
   "execution_count": 39,
   "metadata": {},
   "outputs": [
    {
     "data": {
      "text/html": [
       "<pre>Starting brute force nearest neighbors model training.</pre>"
      ],
      "text/plain": [
       "Starting brute force nearest neighbors model training."
      ]
     },
     "metadata": {},
     "output_type": "display_data"
    },
    {
     "data": {
      "text/html": [
       "<pre>Validating distance components.</pre>"
      ],
      "text/plain": [
       "Validating distance components."
      ]
     },
     "metadata": {},
     "output_type": "display_data"
    },
    {
     "data": {
      "text/html": [
       "<pre>Initializing model data.</pre>"
      ],
      "text/plain": [
       "Initializing model data."
      ]
     },
     "metadata": {},
     "output_type": "display_data"
    },
    {
     "data": {
      "text/html": [
       "<pre>Initializing distances.</pre>"
      ],
      "text/plain": [
       "Initializing distances."
      ]
     },
     "metadata": {},
     "output_type": "display_data"
    },
    {
     "data": {
      "text/html": [
       "<pre>Done.</pre>"
      ],
      "text/plain": [
       "Done."
      ]
     },
     "metadata": {},
     "output_type": "display_data"
    },
    {
     "data": {
      "text/html": [
       "<pre>Starting brute force nearest neighbors model training.</pre>"
      ],
      "text/plain": [
       "Starting brute force nearest neighbors model training."
      ]
     },
     "metadata": {},
     "output_type": "display_data"
    },
    {
     "data": {
      "text/html": [
       "<pre>Validating distance components.</pre>"
      ],
      "text/plain": [
       "Validating distance components."
      ]
     },
     "metadata": {},
     "output_type": "display_data"
    },
    {
     "data": {
      "text/html": [
       "<pre>Initializing model data.</pre>"
      ],
      "text/plain": [
       "Initializing model data."
      ]
     },
     "metadata": {},
     "output_type": "display_data"
    },
    {
     "data": {
      "text/html": [
       "<pre>Initializing distances.</pre>"
      ],
      "text/plain": [
       "Initializing distances."
      ]
     },
     "metadata": {},
     "output_type": "display_data"
    },
    {
     "data": {
      "text/html": [
       "<pre>Done.</pre>"
      ],
      "text/plain": [
       "Done."
      ]
     },
     "metadata": {},
     "output_type": "display_data"
    },
    {
     "data": {
      "text/html": [
       "<pre>Starting brute force nearest neighbors model training.</pre>"
      ],
      "text/plain": [
       "Starting brute force nearest neighbors model training."
      ]
     },
     "metadata": {},
     "output_type": "display_data"
    },
    {
     "data": {
      "text/html": [
       "<pre>Validating distance components.</pre>"
      ],
      "text/plain": [
       "Validating distance components."
      ]
     },
     "metadata": {},
     "output_type": "display_data"
    },
    {
     "data": {
      "text/html": [
       "<pre>Initializing model data.</pre>"
      ],
      "text/plain": [
       "Initializing model data."
      ]
     },
     "metadata": {},
     "output_type": "display_data"
    },
    {
     "data": {
      "text/html": [
       "<pre>Initializing distances.</pre>"
      ],
      "text/plain": [
       "Initializing distances."
      ]
     },
     "metadata": {},
     "output_type": "display_data"
    },
    {
     "data": {
      "text/html": [
       "<pre>Done.</pre>"
      ],
      "text/plain": [
       "Done."
      ]
     },
     "metadata": {},
     "output_type": "display_data"
    },
    {
     "data": {
      "text/html": [
       "<pre>Starting brute force nearest neighbors model training.</pre>"
      ],
      "text/plain": [
       "Starting brute force nearest neighbors model training."
      ]
     },
     "metadata": {},
     "output_type": "display_data"
    },
    {
     "data": {
      "text/html": [
       "<pre>Validating distance components.</pre>"
      ],
      "text/plain": [
       "Validating distance components."
      ]
     },
     "metadata": {},
     "output_type": "display_data"
    },
    {
     "data": {
      "text/html": [
       "<pre>Initializing model data.</pre>"
      ],
      "text/plain": [
       "Initializing model data."
      ]
     },
     "metadata": {},
     "output_type": "display_data"
    },
    {
     "data": {
      "text/html": [
       "<pre>Initializing distances.</pre>"
      ],
      "text/plain": [
       "Initializing distances."
      ]
     },
     "metadata": {},
     "output_type": "display_data"
    },
    {
     "data": {
      "text/html": [
       "<pre>Done.</pre>"
      ],
      "text/plain": [
       "Done."
      ]
     },
     "metadata": {},
     "output_type": "display_data"
    }
   ],
   "source": [
    "#knn models\n",
    "\n",
    "dog_knn_model = turicreate.nearest_neighbors.create(dog,\n",
    "                                               features = ['deep_features'],\n",
    "                                               label = 'id')\n",
    "\n",
    "cat_knn_model = turicreate.nearest_neighbors.create(cat,\n",
    "                                               features = ['deep_features'],\n",
    "                                               label = 'id')\n",
    "\n",
    "automobile_knn_model = turicreate.nearest_neighbors.create(automobile,\n",
    "                                               features = ['deep_features'],\n",
    "                                               label = 'id')\n",
    "\n",
    "bird_knn_model = turicreate.nearest_neighbors.create(bird,\n",
    "                                               features = ['deep_features'],\n",
    "                                               label = 'id')"
   ]
  },
  {
   "cell_type": "code",
   "execution_count": 45,
   "metadata": {},
   "outputs": [
    {
     "data": {
      "text/html": [
       "<html lang=\"en\">                                                     <head>                                                               <style>                                                              .sframe {                                                            font-size: 12px;                                                   font-family: HelveticaNeue;                                        border: 1px solid silver;                                        }                                                                  .sframe thead th {                                                   background: #F7F7F7;                                               font-family: HelveticaNeue-Medium;                                 font-size: 14px;                                                   line-height: 16.8px;                                               padding-top: 16px;                                                 padding-bottom: 16px;                                              padding-left: 10px;                                                padding-right: 38px;                                               border-top: 1px solid #E9E9E9;                                     border-bottom: 1px solid #E9E9E9;                                  white-space: nowrap;                                               overflow: hidden;                                                  text-overflow:ellipsis;                                            text-align:center;                                                 font-weight:normal;                                              }                                                                  .sframe tbody th {                                                   background: #FFFFFF;                                               text-align:left;                                                   font-weight:normal;                                                border-right: 1px solid #E9E9E9;                                 }                                                                  .sframe td {                                                         background: #FFFFFF;                                               padding-left: 10px;                                                padding-right: 38px;                                               padding-top: 14px;                                                 padding-bottom: 14px;                                              border-bottom: 1px solid #E9E9E9;                                  max-height: 0px;                                                   transition: max-height 5s ease-out;                                vertical-align: middle;                                            font-family: HelveticaNeue;                                        font-size: 12px;                                                   line-height: 16.8px;                                               background: #FFFFFF;                                             }                                                                  .sframe tr {                                                         padding-left: 10px;                                                padding-right: 38px;                                               padding-top: 14px;                                                 padding-bottom: 14px;                                              border-bottom: 1px solid #E9E9E9;                                  max-height: 0px;                                                   transition: max-height 5s ease-out;                                vertical-align: middle;                                            font-family: HelveticaNeue;                                        font-size: 12px;                                                   line-height: 16.8px;                                               background: #FFFFFF;                                             }                                                                  .sframe tr:hover {                                                   background: silver;                                              },                                                               </style>                                                         </head>                                                            <body>                                                               <h1>  </h1>                                             <table border=\"1\" class=\"dataframe sframe\">\n",
       "  <thead>\n",
       "    <tr style=\"text-align: right;\">\n",
       "      <th></th>\n",
       "      <th>SArray</th>\n",
       "    </tr>\n",
       "  </thead>\n",
       "  <tbody>\n",
       "    <tr>\n",
       "      <th>0</th>\n",
       "      <td><img src=\"data:image/png;base64,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\"/></td>\n",
       "    </tr>\n",
       "  </tbody>\n",
       "</table>                          </body>                                                          </html>"
      ],
      "text/plain": [
       "<IPython.core.display.HTML object>"
      ]
     },
     "metadata": {},
     "output_type": "display_data"
    }
   ],
   "source": [
    "test1 =  image_test[0:1]\n",
    "test1['image'].explore()"
   ]
  },
  {
   "cell_type": "code",
   "execution_count": 46,
   "metadata": {},
   "outputs": [],
   "source": [
    "def get_images_from_ids(query_result):\n",
    "    return image_train.filter_by(query_result['reference_label'],'id')"
   ]
  },
  {
   "cell_type": "code",
   "execution_count": 50,
   "metadata": {},
   "outputs": [
    {
     "data": {
      "text/html": [
       "<pre>Starting pairwise querying.</pre>"
      ],
      "text/plain": [
       "Starting pairwise querying."
      ]
     },
     "metadata": {},
     "output_type": "display_data"
    },
    {
     "data": {
      "text/html": [
       "<pre>+--------------+---------+-------------+--------------+</pre>"
      ],
      "text/plain": [
       "+--------------+---------+-------------+--------------+"
      ]
     },
     "metadata": {},
     "output_type": "display_data"
    },
    {
     "data": {
      "text/html": [
       "<pre>| Query points | # Pairs | % Complete. | Elapsed Time |</pre>"
      ],
      "text/plain": [
       "| Query points | # Pairs | % Complete. | Elapsed Time |"
      ]
     },
     "metadata": {},
     "output_type": "display_data"
    },
    {
     "data": {
      "text/html": [
       "<pre>+--------------+---------+-------------+--------------+</pre>"
      ],
      "text/plain": [
       "+--------------+---------+-------------+--------------+"
      ]
     },
     "metadata": {},
     "output_type": "display_data"
    },
    {
     "data": {
      "text/html": [
       "<pre>| 0            | 1       | 0.196464    | 30.971ms     |</pre>"
      ],
      "text/plain": [
       "| 0            | 1       | 0.196464    | 30.971ms     |"
      ]
     },
     "metadata": {},
     "output_type": "display_data"
    },
    {
     "data": {
      "text/html": [
       "<pre>| Done         |         | 100         | 105.189ms    |</pre>"
      ],
      "text/plain": [
       "| Done         |         | 100         | 105.189ms    |"
      ]
     },
     "metadata": {},
     "output_type": "display_data"
    },
    {
     "data": {
      "text/html": [
       "<pre>+--------------+---------+-------------+--------------+</pre>"
      ],
      "text/plain": [
       "+--------------+---------+-------------+--------------+"
      ]
     },
     "metadata": {},
     "output_type": "display_data"
    },
    {
     "data": {
      "text/html": [
       "<div style=\"max-height:1000px;max-width:1500px;overflow:auto;\"><table frame=\"box\" rules=\"cols\">\n",
       "    <tr>\n",
       "        <th style=\"padding-left: 1em; padding-right: 1em; text-align: center\">id</th>\n",
       "        <th style=\"padding-left: 1em; padding-right: 1em; text-align: center\">image</th>\n",
       "        <th style=\"padding-left: 1em; padding-right: 1em; text-align: center\">label</th>\n",
       "        <th style=\"padding-left: 1em; padding-right: 1em; text-align: center\">deep_features</th>\n",
       "        <th style=\"padding-left: 1em; padding-right: 1em; text-align: center\">image_array</th>\n",
       "    </tr>\n",
       "    <tr>\n",
       "        <td style=\"padding-left: 1em; padding-right: 1em; text-align: center; vertical-align: top\">331</td>\n",
       "        <td style=\"padding-left: 1em; padding-right: 1em; text-align: center; vertical-align: top\">Height: 32 Width: 32</td>\n",
       "        <td style=\"padding-left: 1em; padding-right: 1em; text-align: center; vertical-align: top\">cat</td>\n",
       "        <td style=\"padding-left: 1em; padding-right: 1em; text-align: center; vertical-align: top\">[0.0, 0.0,<br>0.5109639167785645, 0.0, ...</td>\n",
       "        <td style=\"padding-left: 1em; padding-right: 1em; text-align: center; vertical-align: top\">[45.0, 65.0, 92.0, 72.0,<br>95.0, 110.0, 106.0, ...</td>\n",
       "    </tr>\n",
       "    <tr>\n",
       "        <td style=\"padding-left: 1em; padding-right: 1em; text-align: center; vertical-align: top\">16289</td>\n",
       "        <td style=\"padding-left: 1em; padding-right: 1em; text-align: center; vertical-align: top\">Height: 32 Width: 32</td>\n",
       "        <td style=\"padding-left: 1em; padding-right: 1em; text-align: center; vertical-align: top\">cat</td>\n",
       "        <td style=\"padding-left: 1em; padding-right: 1em; text-align: center; vertical-align: top\">[0.964287519454956, 0.0,<br>0.0, 0.0, ...</td>\n",
       "        <td style=\"padding-left: 1em; padding-right: 1em; text-align: center; vertical-align: top\">[215.0, 219.0, 231.0,<br>215.0, 219.0, 232.0, ...</td>\n",
       "    </tr>\n",
       "    <tr>\n",
       "        <td style=\"padding-left: 1em; padding-right: 1em; text-align: center; vertical-align: top\">25713</td>\n",
       "        <td style=\"padding-left: 1em; padding-right: 1em; text-align: center; vertical-align: top\">Height: 32 Width: 32</td>\n",
       "        <td style=\"padding-left: 1em; padding-right: 1em; text-align: center; vertical-align: top\">cat</td>\n",
       "        <td style=\"padding-left: 1em; padding-right: 1em; text-align: center; vertical-align: top\">[0.5369712710380554, 0.0,<br>0.0, 0.08944588899612 ...</td>\n",
       "        <td style=\"padding-left: 1em; padding-right: 1em; text-align: center; vertical-align: top\">[228.0, 222.0, 236.0,<br>224.0, 213.0, 222.0, ...</td>\n",
       "    </tr>\n",
       "    <tr>\n",
       "        <td style=\"padding-left: 1em; padding-right: 1em; text-align: center; vertical-align: top\">32139</td>\n",
       "        <td style=\"padding-left: 1em; padding-right: 1em; text-align: center; vertical-align: top\">Height: 32 Width: 32</td>\n",
       "        <td style=\"padding-left: 1em; padding-right: 1em; text-align: center; vertical-align: top\">cat</td>\n",
       "        <td style=\"padding-left: 1em; padding-right: 1em; text-align: center; vertical-align: top\">[1.2940946817398071, 0.0,<br>0.0, 0.5138002634048462, ...</td>\n",
       "        <td style=\"padding-left: 1em; padding-right: 1em; text-align: center; vertical-align: top\">[217.0, 220.0, 205.0,<br>221.0, 227.0, 218.0, ...</td>\n",
       "    </tr>\n",
       "    <tr>\n",
       "        <td style=\"padding-left: 1em; padding-right: 1em; text-align: center; vertical-align: top\">45646</td>\n",
       "        <td style=\"padding-left: 1em; padding-right: 1em; text-align: center; vertical-align: top\">Height: 32 Width: 32</td>\n",
       "        <td style=\"padding-left: 1em; padding-right: 1em; text-align: center; vertical-align: top\">cat</td>\n",
       "        <td style=\"padding-left: 1em; padding-right: 1em; text-align: center; vertical-align: top\">[0.9836775064468384, 0.0,<br>0.0, 0.0, 0.0, ...</td>\n",
       "        <td style=\"padding-left: 1em; padding-right: 1em; text-align: center; vertical-align: top\">[51.0, 42.0, 26.0, 56.0,<br>47.0, 31.0, 59.0, 50.0, ...</td>\n",
       "    </tr>\n",
       "</table>\n",
       "[5 rows x 5 columns]<br/>\n",
       "</div>"
      ],
      "text/plain": [
       "Columns:\n",
       "\tid\tint\n",
       "\timage\tImage\n",
       "\tlabel\tstr\n",
       "\tdeep_features\tarray\n",
       "\timage_array\tarray\n",
       "\n",
       "Rows: 5\n",
       "\n",
       "Data:\n",
       "+-------+----------------------+-------+-------------------------------+\n",
       "|   id  |        image         | label |         deep_features         |\n",
       "+-------+----------------------+-------+-------------------------------+\n",
       "|  331  | Height: 32 Width: 32 |  cat  | [0.0, 0.0, 0.5109639167785... |\n",
       "| 16289 | Height: 32 Width: 32 |  cat  | [0.964287519454956, 0.0, 0... |\n",
       "| 25713 | Height: 32 Width: 32 |  cat  | [0.5369712710380554, 0.0, ... |\n",
       "| 32139 | Height: 32 Width: 32 |  cat  | [1.2940946817398071, 0.0, ... |\n",
       "| 45646 | Height: 32 Width: 32 |  cat  | [0.9836775064468384, 0.0, ... |\n",
       "+-------+----------------------+-------+-------------------------------+\n",
       "+-------------------------------+\n",
       "|          image_array          |\n",
       "+-------------------------------+\n",
       "| [45.0, 65.0, 92.0, 72.0, 9... |\n",
       "| [215.0, 219.0, 231.0, 215.... |\n",
       "| [228.0, 222.0, 236.0, 224.... |\n",
       "| [217.0, 220.0, 205.0, 221.... |\n",
       "| [51.0, 42.0, 26.0, 56.0, 4... |\n",
       "+-------------------------------+\n",
       "[5 rows x 5 columns]"
      ]
     },
     "execution_count": 50,
     "metadata": {},
     "output_type": "execute_result"
    }
   ],
   "source": [
    "cat_neighbors = get_images_from_ids(cat_knn_model.query(test1))"
   ]
  },
  {
   "cell_type": "code",
   "execution_count": 48,
   "metadata": {},
   "outputs": [
    {
     "data": {
      "text/html": [
       "<html lang=\"en\">                                                     <head>                                                               <style>                                                              .sframe {                                                            font-size: 12px;                                                   font-family: HelveticaNeue;                                        border: 1px solid silver;                                        }                                                                  .sframe thead th {                                                   background: #F7F7F7;                                               font-family: HelveticaNeue-Medium;                                 font-size: 14px;                                                   line-height: 16.8px;                                               padding-top: 16px;                                                 padding-bottom: 16px;                                              padding-left: 10px;                                                padding-right: 38px;                                               border-top: 1px solid #E9E9E9;                                     border-bottom: 1px solid #E9E9E9;                                  white-space: nowrap;                                               overflow: hidden;                                                  text-overflow:ellipsis;                                            text-align:center;                                                 font-weight:normal;                                              }                                                                  .sframe tbody th {                                                   background: #FFFFFF;                                               text-align:left;                                                   font-weight:normal;                                                border-right: 1px solid #E9E9E9;                                 }                                                                  .sframe td {                                                         background: #FFFFFF;                                               padding-left: 10px;                                                padding-right: 38px;                                               padding-top: 14px;                                                 padding-bottom: 14px;                                              border-bottom: 1px solid #E9E9E9;                                  max-height: 0px;                                                   transition: max-height 5s ease-out;                                vertical-align: middle;                                            font-family: HelveticaNeue;                                        font-size: 12px;                                                   line-height: 16.8px;                                               background: #FFFFFF;                                             }                                                                  .sframe tr {                                                         padding-left: 10px;                                                padding-right: 38px;                                               padding-top: 14px;                                                 padding-bottom: 14px;                                              border-bottom: 1px solid #E9E9E9;                                  max-height: 0px;                                                   transition: max-height 5s ease-out;                                vertical-align: middle;                                            font-family: HelveticaNeue;                                        font-size: 12px;                                                   line-height: 16.8px;                                               background: #FFFFFF;                                             }                                                                  .sframe tr:hover {                                                   background: silver;                                              },                                                               </style>                                                         </head>                                                            <body>                                                               <h1>  </h1>                                             <table border=\"1\" class=\"dataframe sframe\">\n",
       "  <thead>\n",
       "    <tr style=\"text-align: right;\">\n",
       "      <th></th>\n",
       "      <th>SArray</th>\n",
       "    </tr>\n",
       "  </thead>\n",
       "  <tbody>\n",
       "    <tr>\n",
       "      <th>0</th>\n",
       "      <td><img src=\"data:image/png;base64,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\"/></td>\n",
       "    </tr>\n",
       "    <tr>\n",
       "      <th>1</th>\n",
       "      <td><img src=\"data:image/png;base64,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\"/></td>\n",
       "    </tr>\n",
       "    <tr>\n",
       "      <th>2</th>\n",
       "      <td><img src=\"data:image/png;base64,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\"/></td>\n",
       "    </tr>\n",
       "    <tr>\n",
       "      <th>3</th>\n",
       "      <td><img src=\"data:image/png;base64,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\"/></td>\n",
       "    </tr>\n",
       "    <tr>\n",
       "      <th>4</th>\n",
       "      <td><img src=\"data:image/png;base64,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\"/></td>\n",
       "    </tr>\n",
       "  </tbody>\n",
       "</table>                          </body>                                                          </html>"
      ],
      "text/plain": [
       "<IPython.core.display.HTML object>"
      ]
     },
     "metadata": {},
     "output_type": "display_data"
    }
   ],
   "source": [
    "cat_neighbors['image'].explore()"
   ]
  },
  {
   "cell_type": "code",
   "execution_count": 49,
   "metadata": {},
   "outputs": [
    {
     "data": {
      "text/html": [
       "<pre>Starting pairwise querying.</pre>"
      ],
      "text/plain": [
       "Starting pairwise querying."
      ]
     },
     "metadata": {},
     "output_type": "display_data"
    },
    {
     "data": {
      "text/html": [
       "<pre>+--------------+---------+-------------+--------------+</pre>"
      ],
      "text/plain": [
       "+--------------+---------+-------------+--------------+"
      ]
     },
     "metadata": {},
     "output_type": "display_data"
    },
    {
     "data": {
      "text/html": [
       "<pre>| Query points | # Pairs | % Complete. | Elapsed Time |</pre>"
      ],
      "text/plain": [
       "| Query points | # Pairs | % Complete. | Elapsed Time |"
      ]
     },
     "metadata": {},
     "output_type": "display_data"
    },
    {
     "data": {
      "text/html": [
       "<pre>+--------------+---------+-------------+--------------+</pre>"
      ],
      "text/plain": [
       "+--------------+---------+-------------+--------------+"
      ]
     },
     "metadata": {},
     "output_type": "display_data"
    },
    {
     "data": {
      "text/html": [
       "<pre>| 0            | 1       | 0.196464    | 15.406ms     |</pre>"
      ],
      "text/plain": [
       "| 0            | 1       | 0.196464    | 15.406ms     |"
      ]
     },
     "metadata": {},
     "output_type": "display_data"
    },
    {
     "data": {
      "text/html": [
       "<pre>| Done         |         | 100         | 97.668ms     |</pre>"
      ],
      "text/plain": [
       "| Done         |         | 100         | 97.668ms     |"
      ]
     },
     "metadata": {},
     "output_type": "display_data"
    },
    {
     "data": {
      "text/html": [
       "<pre>+--------------+---------+-------------+--------------+</pre>"
      ],
      "text/plain": [
       "+--------------+---------+-------------+--------------+"
      ]
     },
     "metadata": {},
     "output_type": "display_data"
    },
    {
     "data": {
      "text/html": [
       "<html lang=\"en\">                                                     <head>                                                               <style>                                                              .sframe {                                                            font-size: 12px;                                                   font-family: HelveticaNeue;                                        border: 1px solid silver;                                        }                                                                  .sframe thead th {                                                   background: #F7F7F7;                                               font-family: HelveticaNeue-Medium;                                 font-size: 14px;                                                   line-height: 16.8px;                                               padding-top: 16px;                                                 padding-bottom: 16px;                                              padding-left: 10px;                                                padding-right: 38px;                                               border-top: 1px solid #E9E9E9;                                     border-bottom: 1px solid #E9E9E9;                                  white-space: nowrap;                                               overflow: hidden;                                                  text-overflow:ellipsis;                                            text-align:center;                                                 font-weight:normal;                                              }                                                                  .sframe tbody th {                                                   background: #FFFFFF;                                               text-align:left;                                                   font-weight:normal;                                                border-right: 1px solid #E9E9E9;                                 }                                                                  .sframe td {                                                         background: #FFFFFF;                                               padding-left: 10px;                                                padding-right: 38px;                                               padding-top: 14px;                                                 padding-bottom: 14px;                                              border-bottom: 1px solid #E9E9E9;                                  max-height: 0px;                                                   transition: max-height 5s ease-out;                                vertical-align: middle;                                            font-family: HelveticaNeue;                                        font-size: 12px;                                                   line-height: 16.8px;                                               background: #FFFFFF;                                             }                                                                  .sframe tr {                                                         padding-left: 10px;                                                padding-right: 38px;                                               padding-top: 14px;                                                 padding-bottom: 14px;                                              border-bottom: 1px solid #E9E9E9;                                  max-height: 0px;                                                   transition: max-height 5s ease-out;                                vertical-align: middle;                                            font-family: HelveticaNeue;                                        font-size: 12px;                                                   line-height: 16.8px;                                               background: #FFFFFF;                                             }                                                                  .sframe tr:hover {                                                   background: silver;                                              },                                                               </style>                                                         </head>                                                            <body>                                                               <h1>  </h1>                                             <table border=\"1\" class=\"dataframe sframe\">\n",
       "  <thead>\n",
       "    <tr style=\"text-align: right;\">\n",
       "      <th></th>\n",
       "      <th>SArray</th>\n",
       "    </tr>\n",
       "  </thead>\n",
       "  <tbody>\n",
       "    <tr>\n",
       "      <th>0</th>\n",
       "      <td><img src=\"data:image/png;base64,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\"/></td>\n",
       "    </tr>\n",
       "    <tr>\n",
       "      <th>1</th>\n",
       "      <td><img src=\"data:image/png;base64,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\"/></td>\n",
       "    </tr>\n",
       "    <tr>\n",
       "      <th>2</th>\n",
       "      <td><img src=\"data:image/png;base64,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\"/></td>\n",
       "    </tr>\n",
       "    <tr>\n",
       "      <th>3</th>\n",
       "      <td><img src=\"data:image/png;base64,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\"/></td>\n",
       "    </tr>\n",
       "    <tr>\n",
       "      <th>4</th>\n",
       "      <td><img src=\"data:image/png;base64,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\"/></td>\n",
       "    </tr>\n",
       "  </tbody>\n",
       "</table>                          </body>                                                          </html>"
      ],
      "text/plain": [
       "<IPython.core.display.HTML object>"
      ]
     },
     "metadata": {},
     "output_type": "display_data"
    }
   ],
   "source": [
    "dog_neighbors = get_images_from_ids(dog_knn_model.query(test1))\n",
    "dog_neighbors['image'].explore()"
   ]
  },
  {
   "cell_type": "code",
   "execution_count": 60,
   "metadata": {},
   "outputs": [
    {
     "data": {
      "text/html": [
       "<pre>Starting pairwise querying.</pre>"
      ],
      "text/plain": [
       "Starting pairwise querying."
      ]
     },
     "metadata": {},
     "output_type": "display_data"
    },
    {
     "data": {
      "text/html": [
       "<pre>+--------------+---------+-------------+--------------+</pre>"
      ],
      "text/plain": [
       "+--------------+---------+-------------+--------------+"
      ]
     },
     "metadata": {},
     "output_type": "display_data"
    },
    {
     "data": {
      "text/html": [
       "<pre>| Query points | # Pairs | % Complete. | Elapsed Time |</pre>"
      ],
      "text/plain": [
       "| Query points | # Pairs | % Complete. | Elapsed Time |"
      ]
     },
     "metadata": {},
     "output_type": "display_data"
    },
    {
     "data": {
      "text/html": [
       "<pre>+--------------+---------+-------------+--------------+</pre>"
      ],
      "text/plain": [
       "+--------------+---------+-------------+--------------+"
      ]
     },
     "metadata": {},
     "output_type": "display_data"
    },
    {
     "data": {
      "text/html": [
       "<pre>| 0            | 1       | 0.196464    | 13.856ms     |</pre>"
      ],
      "text/plain": [
       "| 0            | 1       | 0.196464    | 13.856ms     |"
      ]
     },
     "metadata": {},
     "output_type": "display_data"
    },
    {
     "data": {
      "text/html": [
       "<pre>| Done         |         | 100         | 100.142ms    |</pre>"
      ],
      "text/plain": [
       "| Done         |         | 100         | 100.142ms    |"
      ]
     },
     "metadata": {},
     "output_type": "display_data"
    },
    {
     "data": {
      "text/html": [
       "<pre>+--------------+---------+-------------+--------------+</pre>"
      ],
      "text/plain": [
       "+--------------+---------+-------------+--------------+"
      ]
     },
     "metadata": {},
     "output_type": "display_data"
    }
   ],
   "source": [
    "answer1 = cat_knn_model.query(test1)"
   ]
  },
  {
   "cell_type": "code",
   "execution_count": 61,
   "metadata": {},
   "outputs": [
    {
     "data": {
      "text/plain": [
       "36.15573070978294"
      ]
     },
     "execution_count": 61,
     "metadata": {},
     "output_type": "execute_result"
    }
   ],
   "source": [
    "dist1 = answer1['distance']\n",
    "dist1.mean()"
   ]
  },
  {
   "cell_type": "code",
   "execution_count": 57,
   "metadata": {},
   "outputs": [
    {
     "data": {
      "text/html": [
       "<pre>Starting pairwise querying.</pre>"
      ],
      "text/plain": [
       "Starting pairwise querying."
      ]
     },
     "metadata": {},
     "output_type": "display_data"
    },
    {
     "data": {
      "text/html": [
       "<pre>+--------------+---------+-------------+--------------+</pre>"
      ],
      "text/plain": [
       "+--------------+---------+-------------+--------------+"
      ]
     },
     "metadata": {},
     "output_type": "display_data"
    },
    {
     "data": {
      "text/html": [
       "<pre>| Query points | # Pairs | % Complete. | Elapsed Time |</pre>"
      ],
      "text/plain": [
       "| Query points | # Pairs | % Complete. | Elapsed Time |"
      ]
     },
     "metadata": {},
     "output_type": "display_data"
    },
    {
     "data": {
      "text/html": [
       "<pre>+--------------+---------+-------------+--------------+</pre>"
      ],
      "text/plain": [
       "+--------------+---------+-------------+--------------+"
      ]
     },
     "metadata": {},
     "output_type": "display_data"
    },
    {
     "data": {
      "text/html": [
       "<pre>| 0            | 1       | 0.196464    | 36.375ms     |</pre>"
      ],
      "text/plain": [
       "| 0            | 1       | 0.196464    | 36.375ms     |"
      ]
     },
     "metadata": {},
     "output_type": "display_data"
    },
    {
     "data": {
      "text/html": [
       "<pre>| Done         |         | 100         | 129.965ms    |</pre>"
      ],
      "text/plain": [
       "| Done         |         | 100         | 129.965ms    |"
      ]
     },
     "metadata": {},
     "output_type": "display_data"
    },
    {
     "data": {
      "text/html": [
       "<pre>+--------------+---------+-------------+--------------+</pre>"
      ],
      "text/plain": [
       "+--------------+---------+-------------+--------------+"
      ]
     },
     "metadata": {},
     "output_type": "display_data"
    }
   ],
   "source": [
    "answer2 = dog_knn_model.query(test1)"
   ]
  },
  {
   "cell_type": "code",
   "execution_count": 59,
   "metadata": {},
   "outputs": [
    {
     "data": {
      "text/plain": [
       "37.77071136184157"
      ]
     },
     "execution_count": 59,
     "metadata": {},
     "output_type": "execute_result"
    }
   ],
   "source": [
    "dist2 = answer['distance']\n",
    "dist2.mean()"
   ]
  },
  {
   "cell_type": "code",
   "execution_count": 63,
   "metadata": {},
   "outputs": [],
   "source": [
    "image_test_cat = image_test[image_test['label'] == 'cat']\n",
    "image_test_dog = image_test[image_test['label'] == 'dog']\n",
    "image_test_bird = image_test[image_test['label'] == 'bird']\n",
    "image_test_automobile = image_test[image_test['label'] == 'automobile']"
   ]
  },
  {
   "cell_type": "code",
   "execution_count": 66,
   "metadata": {},
   "outputs": [
    {
     "data": {
      "text/html": [
       "<pre>Starting blockwise querying.</pre>"
      ],
      "text/plain": [
       "Starting blockwise querying."
      ]
     },
     "metadata": {},
     "output_type": "display_data"
    },
    {
     "data": {
      "text/html": [
       "<pre>max rows per data block: 4348</pre>"
      ],
      "text/plain": [
       "max rows per data block: 4348"
      ]
     },
     "metadata": {},
     "output_type": "display_data"
    },
    {
     "data": {
      "text/html": [
       "<pre>number of reference data blocks: 2</pre>"
      ],
      "text/plain": [
       "number of reference data blocks: 2"
      ]
     },
     "metadata": {},
     "output_type": "display_data"
    },
    {
     "data": {
      "text/html": [
       "<pre>number of query data blocks: 1</pre>"
      ],
      "text/plain": [
       "number of query data blocks: 1"
      ]
     },
     "metadata": {},
     "output_type": "display_data"
    },
    {
     "data": {
      "text/html": [
       "<pre>+--------------+---------+-------------+--------------+</pre>"
      ],
      "text/plain": [
       "+--------------+---------+-------------+--------------+"
      ]
     },
     "metadata": {},
     "output_type": "display_data"
    },
    {
     "data": {
      "text/html": [
       "<pre>| Query points | # Pairs | % Complete. | Elapsed Time |</pre>"
      ],
      "text/plain": [
       "| Query points | # Pairs | % Complete. | Elapsed Time |"
      ]
     },
     "metadata": {},
     "output_type": "display_data"
    },
    {
     "data": {
      "text/html": [
       "<pre>+--------------+---------+-------------+--------------+</pre>"
      ],
      "text/plain": [
       "+--------------+---------+-------------+--------------+"
      ]
     },
     "metadata": {},
     "output_type": "display_data"
    },
    {
     "data": {
      "text/html": [
       "<pre>| 1000         | 255000  | 50.0982     | 843.992ms    |</pre>"
      ],
      "text/plain": [
       "| 1000         | 255000  | 50.0982     | 843.992ms    |"
      ]
     },
     "metadata": {},
     "output_type": "display_data"
    },
    {
     "data": {
      "text/html": [
       "<pre>| Done         | 509000  | 100         | 915.392ms    |</pre>"
      ],
      "text/plain": [
       "| Done         | 509000  | 100         | 915.392ms    |"
      ]
     },
     "metadata": {},
     "output_type": "display_data"
    },
    {
     "data": {
      "text/html": [
       "<pre>+--------------+---------+-------------+--------------+</pre>"
      ],
      "text/plain": [
       "+--------------+---------+-------------+--------------+"
      ]
     },
     "metadata": {},
     "output_type": "display_data"
    },
    {
     "data": {
      "text/html": [
       "<pre>Starting blockwise querying.</pre>"
      ],
      "text/plain": [
       "Starting blockwise querying."
      ]
     },
     "metadata": {},
     "output_type": "display_data"
    },
    {
     "data": {
      "text/html": [
       "<pre>max rows per data block: 4348</pre>"
      ],
      "text/plain": [
       "max rows per data block: 4348"
      ]
     },
     "metadata": {},
     "output_type": "display_data"
    },
    {
     "data": {
      "text/html": [
       "<pre>number of reference data blocks: 2</pre>"
      ],
      "text/plain": [
       "number of reference data blocks: 2"
      ]
     },
     "metadata": {},
     "output_type": "display_data"
    },
    {
     "data": {
      "text/html": [
       "<pre>number of query data blocks: 1</pre>"
      ],
      "text/plain": [
       "number of query data blocks: 1"
      ]
     },
     "metadata": {},
     "output_type": "display_data"
    },
    {
     "data": {
      "text/html": [
       "<pre>+--------------+---------+-------------+--------------+</pre>"
      ],
      "text/plain": [
       "+--------------+---------+-------------+--------------+"
      ]
     },
     "metadata": {},
     "output_type": "display_data"
    },
    {
     "data": {
      "text/html": [
       "<pre>| Query points | # Pairs | % Complete. | Elapsed Time |</pre>"
      ],
      "text/plain": [
       "| Query points | # Pairs | % Complete. | Elapsed Time |"
      ]
     },
     "metadata": {},
     "output_type": "display_data"
    },
    {
     "data": {
      "text/html": [
       "<pre>+--------------+---------+-------------+--------------+</pre>"
      ],
      "text/plain": [
       "+--------------+---------+-------------+--------------+"
      ]
     },
     "metadata": {},
     "output_type": "display_data"
    },
    {
     "data": {
      "text/html": [
       "<pre>| 1000         | 254000  | 49.9018     | 956.181ms    |</pre>"
      ],
      "text/plain": [
       "| 1000         | 254000  | 49.9018     | 956.181ms    |"
      ]
     },
     "metadata": {},
     "output_type": "display_data"
    },
    {
     "data": {
      "text/html": [
       "<pre>| Done         | 509000  | 100         | 1.06s        |</pre>"
      ],
      "text/plain": [
       "| Done         | 509000  | 100         | 1.06s        |"
      ]
     },
     "metadata": {},
     "output_type": "display_data"
    },
    {
     "data": {
      "text/html": [
       "<pre>+--------------+---------+-------------+--------------+</pre>"
      ],
      "text/plain": [
       "+--------------+---------+-------------+--------------+"
      ]
     },
     "metadata": {},
     "output_type": "display_data"
    },
    {
     "data": {
      "text/html": [
       "<pre>Starting blockwise querying.</pre>"
      ],
      "text/plain": [
       "Starting blockwise querying."
      ]
     },
     "metadata": {},
     "output_type": "display_data"
    },
    {
     "data": {
      "text/html": [
       "<pre>max rows per data block: 4348</pre>"
      ],
      "text/plain": [
       "max rows per data block: 4348"
      ]
     },
     "metadata": {},
     "output_type": "display_data"
    },
    {
     "data": {
      "text/html": [
       "<pre>number of reference data blocks: 2</pre>"
      ],
      "text/plain": [
       "number of reference data blocks: 2"
      ]
     },
     "metadata": {},
     "output_type": "display_data"
    },
    {
     "data": {
      "text/html": [
       "<pre>number of query data blocks: 1</pre>"
      ],
      "text/plain": [
       "number of query data blocks: 1"
      ]
     },
     "metadata": {},
     "output_type": "display_data"
    },
    {
     "data": {
      "text/html": [
       "<pre>+--------------+---------+-------------+--------------+</pre>"
      ],
      "text/plain": [
       "+--------------+---------+-------------+--------------+"
      ]
     },
     "metadata": {},
     "output_type": "display_data"
    },
    {
     "data": {
      "text/html": [
       "<pre>| Query points | # Pairs | % Complete. | Elapsed Time |</pre>"
      ],
      "text/plain": [
       "| Query points | # Pairs | % Complete. | Elapsed Time |"
      ]
     },
     "metadata": {},
     "output_type": "display_data"
    },
    {
     "data": {
      "text/html": [
       "<pre>+--------------+---------+-------------+--------------+</pre>"
      ],
      "text/plain": [
       "+--------------+---------+-------------+--------------+"
      ]
     },
     "metadata": {},
     "output_type": "display_data"
    },
    {
     "data": {
      "text/html": [
       "<pre>| 1000         | 239000  | 50          | 814.425ms    |</pre>"
      ],
      "text/plain": [
       "| 1000         | 239000  | 50          | 814.425ms    |"
      ]
     },
     "metadata": {},
     "output_type": "display_data"
    },
    {
     "data": {
      "text/html": [
       "<pre>| Done         | 478000  | 100         | 877.089ms    |</pre>"
      ],
      "text/plain": [
       "| Done         | 478000  | 100         | 877.089ms    |"
      ]
     },
     "metadata": {},
     "output_type": "display_data"
    },
    {
     "data": {
      "text/html": [
       "<pre>+--------------+---------+-------------+--------------+</pre>"
      ],
      "text/plain": [
       "+--------------+---------+-------------+--------------+"
      ]
     },
     "metadata": {},
     "output_type": "display_data"
    },
    {
     "data": {
      "text/html": [
       "<pre>Starting blockwise querying.</pre>"
      ],
      "text/plain": [
       "Starting blockwise querying."
      ]
     },
     "metadata": {},
     "output_type": "display_data"
    },
    {
     "data": {
      "text/html": [
       "<pre>max rows per data block: 4348</pre>"
      ],
      "text/plain": [
       "max rows per data block: 4348"
      ]
     },
     "metadata": {},
     "output_type": "display_data"
    },
    {
     "data": {
      "text/html": [
       "<pre>number of reference data blocks: 2</pre>"
      ],
      "text/plain": [
       "number of reference data blocks: 2"
      ]
     },
     "metadata": {},
     "output_type": "display_data"
    },
    {
     "data": {
      "text/html": [
       "<pre>number of query data blocks: 1</pre>"
      ],
      "text/plain": [
       "number of query data blocks: 1"
      ]
     },
     "metadata": {},
     "output_type": "display_data"
    },
    {
     "data": {
      "text/html": [
       "<pre>+--------------+---------+-------------+--------------+</pre>"
      ],
      "text/plain": [
       "+--------------+---------+-------------+--------------+"
      ]
     },
     "metadata": {},
     "output_type": "display_data"
    },
    {
     "data": {
      "text/html": [
       "<pre>| Query points | # Pairs | % Complete. | Elapsed Time |</pre>"
      ],
      "text/plain": [
       "| Query points | # Pairs | % Complete. | Elapsed Time |"
      ]
     },
     "metadata": {},
     "output_type": "display_data"
    },
    {
     "data": {
      "text/html": [
       "<pre>+--------------+---------+-------------+--------------+</pre>"
      ],
      "text/plain": [
       "+--------------+---------+-------------+--------------+"
      ]
     },
     "metadata": {},
     "output_type": "display_data"
    },
    {
     "data": {
      "text/html": [
       "<pre>| 1000         | 254000  | 49.9018     | 1.00s        |</pre>"
      ],
      "text/plain": [
       "| 1000         | 254000  | 49.9018     | 1.00s        |"
      ]
     },
     "metadata": {},
     "output_type": "display_data"
    },
    {
     "data": {
      "text/html": [
       "<pre>| Done         | 509000  | 100         | 1.01s        |</pre>"
      ],
      "text/plain": [
       "| Done         | 509000  | 100         | 1.01s        |"
      ]
     },
     "metadata": {},
     "output_type": "display_data"
    },
    {
     "data": {
      "text/html": [
       "<pre>+--------------+---------+-------------+--------------+</pre>"
      ],
      "text/plain": [
       "+--------------+---------+-------------+--------------+"
      ]
     },
     "metadata": {},
     "output_type": "display_data"
    }
   ],
   "source": [
    "dog_cat_neighbors = cat_knn_model.query(image_test_dog, k=1)\n",
    "dog_automobile_neighbors = automobile_knn_model.query(image_test_dog, k=1)\n",
    "dog_bird_neighbors = bird_knn_model.query(image_test_dog, k=1)\n",
    "dog_dog_neighbors = dog_knn_model.query(image_test_dog, k=1)"
   ]
  },
  {
   "cell_type": "code",
   "execution_count": null,
   "metadata": {},
   "outputs": [],
   "source": []
  }
 ],
 "metadata": {
  "kernelspec": {
   "display_name": "Python 3",
   "language": "python",
   "name": "python3"
  },
  "language_info": {
   "codemirror_mode": {
    "name": "ipython",
    "version": 3
   },
   "file_extension": ".py",
   "mimetype": "text/x-python",
   "name": "python",
   "nbconvert_exporter": "python",
   "pygments_lexer": "ipython3",
   "version": "3.6.9"
  }
 },
 "nbformat": 4,
 "nbformat_minor": 2
}
